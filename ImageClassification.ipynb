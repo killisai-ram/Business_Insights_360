{
  "nbformat": 4,
  "nbformat_minor": 0,
  "metadata": {
    "colab": {
      "provenance": [],
      "authorship_tag": "ABX9TyPXkOGfBWYBWybaPFpREQ/j",
      "include_colab_link": true
    },
    "kernelspec": {
      "name": "python3",
      "display_name": "Python 3"
    },
    "language_info": {
      "name": "python"
    }
  },
  "cells": [
    {
      "cell_type": "markdown",
      "metadata": {
        "id": "view-in-github",
        "colab_type": "text"
      },
      "source": [
        "<a href=\"https://colab.research.google.com/github/killisai-ram/Business_Insights_360/blob/main/ImageClassification.ipynb\" target=\"_parent\"><img src=\"https://colab.research.google.com/assets/colab-badge.svg\" alt=\"Open In Colab\"/></a>"
      ]
    },
    {
      "cell_type": "code",
      "execution_count": 1,
      "metadata": {
        "id": "BdkYWUq8tbOX"
      },
      "outputs": [],
      "source": [
        "import tensorflow as tf\n",
        "from tensorflow.keras import datasets, layers, models\n",
        "import matplotlib.pyplot as plt\n",
        "import numpy as np"
      ]
    },
    {
      "cell_type": "code",
      "source": [
        "(X_train, y_train), (X_test,y_test) = datasets.cifar10.load_data()\n",
        "X_train.shape"
      ],
      "metadata": {
        "colab": {
          "base_uri": "https://localhost:8080/"
        },
        "id": "j5em5_SXtnbJ",
        "outputId": "b39b4a58-7ab5-45e9-83d6-922c783e2840"
      },
      "execution_count": 2,
      "outputs": [
        {
          "output_type": "stream",
          "name": "stdout",
          "text": [
            "Downloading data from https://www.cs.toronto.edu/~kriz/cifar-10-python.tar.gz\n",
            "\u001b[1m170498071/170498071\u001b[0m \u001b[32m━━━━━━━━━━━━━━━━━━━━\u001b[0m\u001b[37m\u001b[0m \u001b[1m16s\u001b[0m 0us/step\n"
          ]
        },
        {
          "output_type": "execute_result",
          "data": {
            "text/plain": [
              "(50000, 32, 32, 3)"
            ]
          },
          "metadata": {},
          "execution_count": 2
        }
      ]
    },
    {
      "cell_type": "code",
      "source": [
        "X_test.shape"
      ],
      "metadata": {
        "colab": {
          "base_uri": "https://localhost:8080/"
        },
        "id": "rWyBHqvEYAQ8",
        "outputId": "6264ef17-a5c4-4fde-95a8-c475e3570cf3"
      },
      "execution_count": 3,
      "outputs": [
        {
          "output_type": "execute_result",
          "data": {
            "text/plain": [
              "(10000, 32, 32, 3)"
            ]
          },
          "metadata": {},
          "execution_count": 3
        }
      ]
    },
    {
      "cell_type": "code",
      "source": [
        "y_train.shape\n"
      ],
      "metadata": {
        "colab": {
          "base_uri": "https://localhost:8080/"
        },
        "id": "ZdaV4d4AYFaH",
        "outputId": "27a0cf33-cb0c-48ee-c225-daba451b1065"
      },
      "execution_count": 4,
      "outputs": [
        {
          "output_type": "execute_result",
          "data": {
            "text/plain": [
              "(50000, 1)"
            ]
          },
          "metadata": {},
          "execution_count": 4
        }
      ]
    },
    {
      "cell_type": "code",
      "source": [
        "y_train[:5]"
      ],
      "metadata": {
        "colab": {
          "base_uri": "https://localhost:8080/"
        },
        "id": "12-fS291YpFI",
        "outputId": "f7129093-41aa-41d5-ab9c-701aa3febcfd"
      },
      "execution_count": 5,
      "outputs": [
        {
          "output_type": "execute_result",
          "data": {
            "text/plain": [
              "array([[6],\n",
              "       [9],\n",
              "       [9],\n",
              "       [4],\n",
              "       [1]], dtype=uint8)"
            ]
          },
          "metadata": {},
          "execution_count": 5
        }
      ]
    },
    {
      "cell_type": "code",
      "source": [
        "y_train = y_train.reshape(-1,)\n",
        "y_train[:5]"
      ],
      "metadata": {
        "colab": {
          "base_uri": "https://localhost:8080/"
        },
        "id": "uPCFgZAeZtUT",
        "outputId": "9848e7fc-5196-46ac-c83c-a6e9cf7295d0"
      },
      "execution_count": 6,
      "outputs": [
        {
          "output_type": "execute_result",
          "data": {
            "text/plain": [
              "array([6, 9, 9, 4, 1], dtype=uint8)"
            ]
          },
          "metadata": {},
          "execution_count": 6
        }
      ]
    },
    {
      "cell_type": "code",
      "source": [
        "y_train = y_train.reshape(-1,)\n",
        "y_train[:5]"
      ],
      "metadata": {
        "colab": {
          "base_uri": "https://localhost:8080/"
        },
        "id": "ssfE-GcXZtTd",
        "outputId": "d446f92a-a420-4766-f6b2-6cdc8e9c94f3"
      },
      "execution_count": 7,
      "outputs": [
        {
          "output_type": "execute_result",
          "data": {
            "text/plain": [
              "array([6, 9, 9, 4, 1], dtype=uint8)"
            ]
          },
          "metadata": {},
          "execution_count": 7
        }
      ]
    },
    {
      "cell_type": "code",
      "source": [
        "y_test = y_test.reshape(-1,)"
      ],
      "metadata": {
        "id": "pzgiZBSyZxzV"
      },
      "execution_count": 8,
      "outputs": []
    },
    {
      "cell_type": "code",
      "source": [
        "classes = [\"airplane\",\"automobile\",\"bird\",\"cat\",\"deer\",\"dog\",\"frog\",\"horse\",\"ship\",\"truck\"]"
      ],
      "metadata": {
        "id": "4TyyIvc3Z4Yd"
      },
      "execution_count": 9,
      "outputs": []
    },
    {
      "cell_type": "code",
      "source": [
        "def plot_sample(X, y, index):\n",
        "    plt.figure(figsize = (15,2))\n",
        "    plt.imshow(X[index])\n",
        "    plt.xlabel(classes[y[index]])"
      ],
      "metadata": {
        "id": "ljLAVPFyZ9LX"
      },
      "execution_count": 11,
      "outputs": []
    },
    {
      "cell_type": "code",
      "source": [
        "plot_sample(X_train, y_train, 0)"
      ],
      "metadata": {
        "colab": {
          "base_uri": "https://localhost:8080/",
          "height": 237
        },
        "id": "AIOonlWsZ9KM",
        "outputId": "ee17d42f-74e8-4a16-e18b-2a358d3023c5"
      },
      "execution_count": 12,
      "outputs": [
        {
          "output_type": "display_data",
          "data": {
            "text/plain": [
              "<Figure size 1500x200 with 1 Axes>"
            ],
            "image/png": "[encoded data removed]"
          },
          "metadata": {}
        }
      ]
    },
    {
      "cell_type": "code",
      "source": [
        "plot_sample(X_train, y_train, 1)\n",
        "# Normalize the images to a number from 0 to 1. Image has 3 channels (R,G,B) and each value in the channel can range from 0 to 255. Hence to normalize in 0-->1 range, we need to divide it by 255"
      ],
      "metadata": {
        "colab": {
          "base_uri": "https://localhost:8080/",
          "height": 237
        },
        "id": "AwML64OnaQo_",
        "outputId": "194134b5-e2c2-4534-f42a-67a492aa4536"
      },
      "execution_count": 13,
      "outputs": [
        {
          "output_type": "display_data",
          "data": {
            "text/plain": [
              "<Figure size 1500x200 with 1 Axes>"
            ],
            "image/png": "[encoded data removed]"
          },
          "metadata": {}
        }
      ]
    },
    {
      "cell_type": "markdown",
      "source": [
        "**Normalizing the training data**\n"
      ],
      "metadata": {
        "id": "QWEjmAmBUq0w"
      }
    },
    {
      "cell_type": "code",
      "source": [
        "X_train = X_train / 255.0\n",
        "X_test = X_test / 255.0"
      ],
      "metadata": {
        "id": "4H7v-B0uUVCd"
      },
      "execution_count": 14,
      "outputs": []
    },
    {
      "cell_type": "markdown",
      "source": [
        "Build simple artificial neural network for image **classification**"
      ],
      "metadata": {
        "id": "qERPNXdjU0iv"
      }
    },
    {
      "cell_type": "code",
      "source": [
        "ann = models.Sequential([\n",
        "        layers.Flatten(input_shape=(32,32,3)),\n",
        "        layers.Dense(3000, activation='relu'),\n",
        "        layers.Dense(1000, activation='relu'),\n",
        "        layers.Dense(10, activation='softmax')\n",
        "    ])\n",
        "\n",
        "ann.compile(optimizer='SGD',\n",
        "              loss='sparse_categorical_crossentropy',\n",
        "              metrics=['accuracy'])\n",
        "\n",
        "ann.fit(X_train, y_train, epochs=5)"
      ],
      "metadata": {
        "colab": {
          "base_uri": "https://localhost:8080/"
        },
        "id": "iWCW9z05U3qC",
        "outputId": "01991fa6-7b8d-4516-9504-e5cdaafe02be"
      },
      "execution_count": 15,
      "outputs": [
        {
          "output_type": "stream",
          "name": "stderr",
          "text": [
            "/usr/local/lib/python3.11/dist-packages/keras/src/layers/reshaping/flatten.py:37: UserWarning: Do not pass an `input_shape`/`input_dim` argument to a layer. When using Sequential models, prefer using an `Input(shape)` object as the first layer in the model instead.\n",
            "  super().__init__(**kwargs)\n"
          ]
        },
        {
          "output_type": "stream",
          "name": "stdout",
          "text": [
            "Epoch 1/5\n",
            "\u001b[1m1563/1563\u001b[0m \u001b[32m━━━━━━━━━━━━━━━━━━━━\u001b[0m\u001b[37m\u001b[0m \u001b[1m144s\u001b[0m 92ms/step - accuracy: 0.3053 - loss: 1.9348\n",
            "Epoch 2/5\n",
            "\u001b[1m1563/1563\u001b[0m \u001b[32m━━━━━━━━━━━━━━━━━━━━\u001b[0m\u001b[37m\u001b[0m \u001b[1m139s\u001b[0m 89ms/step - accuracy: 0.4195 - loss: 1.6492\n",
            "Epoch 3/5\n",
            "\u001b[1m1563/1563\u001b[0m \u001b[32m━━━━━━━━━━━━━━━━━━━━\u001b[0m\u001b[37m\u001b[0m \u001b[1m143s\u001b[0m 90ms/step - accuracy: 0.4528 - loss: 1.5594\n",
            "Epoch 4/5\n",
            "\u001b[1m1563/1563\u001b[0m \u001b[32m━━━━━━━━━━━━━━━━━━━━\u001b[0m\u001b[37m\u001b[0m \u001b[1m141s\u001b[0m 89ms/step - accuracy: 0.4752 - loss: 1.4855\n",
            "Epoch 5/5\n",
            "\u001b[1m1563/1563\u001b[0m \u001b[32m━━━━━━━━━━━━━━━━━━━━\u001b[0m\u001b[37m\u001b[0m \u001b[1m140s\u001b[0m 88ms/step - accuracy: 0.4914 - loss: 1.4476\n"
          ]
        },
        {
          "output_type": "execute_result",
          "data": {
            "text/plain": [
              "<keras.src.callbacks.history.History at 0x7f0d1ec86890>"
            ]
          },
          "metadata": {},
          "execution_count": 15
        }
      ]
    },
    {
      "cell_type": "markdown",
      "source": [
        "**You can see that at the end of 5 epochs, accuracy is at around 49%**"
      ],
      "metadata": {
        "id": "YBPmov45JvPT"
      }
    },
    {
      "cell_type": "code",
      "source": [
        "from sklearn.metrics import confusion_matrix , classification_report\n",
        "import numpy as np\n",
        "y_pred = ann.predict(X_test)\n",
        "y_pred_classes = [np.argmax(element) for element in y_pred]\n",
        "\n",
        "print(\"Classification Report: \\n\", classification_report(y_test, y_pred_classes))"
      ],
      "metadata": {
        "colab": {
          "base_uri": "https://localhost:8080/"
        },
        "id": "xjHSDOGlJkQy",
        "outputId": "aa324499-b9c4-44f3-ec10-10346525343c"
      },
      "execution_count": 16,
      "outputs": [
        {
          "output_type": "stream",
          "name": "stdout",
          "text": [
            "\u001b[1m313/313\u001b[0m \u001b[32m━━━━━━━━━━━━━━━━━━━━\u001b[0m\u001b[37m\u001b[0m \u001b[1m10s\u001b[0m 32ms/step\n",
            "Classification Report: \n",
            "               precision    recall  f1-score   support\n",
            "\n",
            "           0       0.59      0.51      0.55      1000\n",
            "           1       0.66      0.60      0.63      1000\n",
            "           2       0.36      0.43      0.39      1000\n",
            "           3       0.36      0.33      0.35      1000\n",
            "           4       0.44      0.36      0.39      1000\n",
            "           5       0.45      0.32      0.37      1000\n",
            "           6       0.53      0.56      0.54      1000\n",
            "           7       0.41      0.70      0.52      1000\n",
            "           8       0.60      0.64      0.62      1000\n",
            "           9       0.64      0.49      0.56      1000\n",
            "\n",
            "    accuracy                           0.49     10000\n",
            "   macro avg       0.50      0.49      0.49     10000\n",
            "weighted avg       0.50      0.49      0.49     10000\n",
            "\n"
          ]
        }
      ]
    },
    {
      "cell_type": "markdown",
      "source": [
        "**Now let us build a convolutional neural network to train our images**"
      ],
      "metadata": {
        "id": "wz6QBx__J1cp"
      }
    },
    {
      "cell_type": "code",
      "source": [
        "cnn = models.Sequential([\n",
        "    layers.Conv2D(filters=32, kernel_size=(3, 3), activation='relu', input_shape=(32, 32, 3)),\n",
        "    layers.MaxPooling2D((2, 2)),\n",
        "\n",
        "    layers.Conv2D(filters=64, kernel_size=(3, 3), activation='relu'),\n",
        "    layers.MaxPooling2D((2, 2)),\n",
        "\n",
        "    layers.Flatten(),\n",
        "    layers.Dense(64, activation='relu'),\n",
        "    layers.Dense(10, activation='softmax')\n",
        "])"
      ],
      "metadata": {
        "colab": {
          "base_uri": "https://localhost:8080/"
        },
        "id": "F50evirUJp2c",
        "outputId": "370355c0-da05-459b-ad76-8c8300766120"
      },
      "execution_count": 17,
      "outputs": [
        {
          "output_type": "stream",
          "name": "stderr",
          "text": [
            "/usr/local/lib/python3.11/dist-packages/keras/src/layers/convolutional/base_conv.py:107: UserWarning: Do not pass an `input_shape`/`input_dim` argument to a layer. When using Sequential models, prefer using an `Input(shape)` object as the first layer in the model instead.\n",
            "  super().__init__(activity_regularizer=activity_regularizer, **kwargs)\n"
          ]
        }
      ]
    },
    {
      "cell_type": "code",
      "source": [
        "cnn.compile(optimizer='adam',\n",
        "              loss='sparse_categorical_crossentropy',\n",
        "              metrics=['accuracy'])"
      ],
      "metadata": {
        "id": "VpJZNVDKKGdw"
      },
      "execution_count": 18,
      "outputs": []
    },
    {
      "cell_type": "code",
      "source": [
        "cnn.fit(X_train, y_train, epochs=10)"
      ],
      "metadata": {
        "colab": {
          "base_uri": "https://localhost:8080/"
        },
        "id": "g8hlaI-WKKZ0",
        "outputId": "554994fb-c489-49de-a4f3-bd728eb1557a"
      },
      "execution_count": 19,
      "outputs": [
        {
          "output_type": "stream",
          "name": "stdout",
          "text": [
            "Epoch 1/10\n",
            "\u001b[1m1563/1563\u001b[0m \u001b[32m━━━━━━━━━━━━━━━━━━━━\u001b[0m\u001b[37m\u001b[0m \u001b[1m70s\u001b[0m 44ms/step - accuracy: 0.3676 - loss: 1.7199\n",
            "Epoch 2/10\n",
            "\u001b[1m1563/1563\u001b[0m \u001b[32m━━━━━━━━━━━━━━━━━━━━\u001b[0m\u001b[37m\u001b[0m \u001b[1m68s\u001b[0m 44ms/step - accuracy: 0.5893 - loss: 1.1689\n",
            "Epoch 3/10\n",
            "\u001b[1m1563/1563\u001b[0m \u001b[32m━━━━━━━━━━━━━━━━━━━━\u001b[0m\u001b[37m\u001b[0m \u001b[1m77s\u001b[0m 41ms/step - accuracy: 0.6426 - loss: 1.0177\n",
            "Epoch 4/10\n",
            "\u001b[1m1563/1563\u001b[0m \u001b[32m━━━━━━━━━━━━━━━━━━━━\u001b[0m\u001b[37m\u001b[0m \u001b[1m84s\u001b[0m 42ms/step - accuracy: 0.6747 - loss: 0.9302\n",
            "Epoch 5/10\n",
            "\u001b[1m1563/1563\u001b[0m \u001b[32m━━━━━━━━━━━━━━━━━━━━\u001b[0m\u001b[37m\u001b[0m \u001b[1m84s\u001b[0m 43ms/step - accuracy: 0.7014 - loss: 0.8624\n",
            "Epoch 6/10\n",
            "\u001b[1m1563/1563\u001b[0m \u001b[32m━━━━━━━━━━━━━━━━━━━━\u001b[0m\u001b[37m\u001b[0m \u001b[1m64s\u001b[0m 41ms/step - accuracy: 0.7190 - loss: 0.8115\n",
            "Epoch 7/10\n",
            "\u001b[1m1563/1563\u001b[0m \u001b[32m━━━━━━━━━━━━━━━━━━━━\u001b[0m\u001b[37m\u001b[0m \u001b[1m66s\u001b[0m 42ms/step - accuracy: 0.7364 - loss: 0.7580\n",
            "Epoch 8/10\n",
            "\u001b[1m1563/1563\u001b[0m \u001b[32m━━━━━━━━━━━━━━━━━━━━\u001b[0m\u001b[37m\u001b[0m \u001b[1m69s\u001b[0m 44ms/step - accuracy: 0.7528 - loss: 0.7116\n",
            "Epoch 9/10\n",
            "\u001b[1m1563/1563\u001b[0m \u001b[32m━━━━━━━━━━━━━━━━━━━━\u001b[0m\u001b[37m\u001b[0m \u001b[1m76s\u001b[0m 41ms/step - accuracy: 0.7653 - loss: 0.6740\n",
            "Epoch 10/10\n",
            "\u001b[1m1563/1563\u001b[0m \u001b[32m━━━━━━━━━━━━━━━━━━━━\u001b[0m\u001b[37m\u001b[0m \u001b[1m83s\u001b[0m 41ms/step - accuracy: 0.7790 - loss: 0.6352\n"
          ]
        },
        {
          "output_type": "execute_result",
          "data": {
            "text/plain": [
              "<keras.src.callbacks.history.History at 0x7f0cba24fe50>"
            ]
          },
          "metadata": {},
          "execution_count": 19
        }
      ]
    },
    {
      "cell_type": "markdown",
      "source": [
        "**With CNN, at the end 5 epochs, accuracy was at around 70% which is a significant improvement over ANN. CNN's are best for image classification and gives superb accuracy. Also computation is much less compared to simple ANN as maxpooling reduces the image dimensions while still preserving the features**"
      ],
      "metadata": {
        "id": "jAfnHGBpQaOh"
      }
    },
    {
      "cell_type": "code",
      "source": [
        "cnn.evaluate(X_test,y_test)"
      ],
      "metadata": {
        "colab": {
          "base_uri": "https://localhost:8080/"
        },
        "id": "H1_pqZV4KPb2",
        "outputId": "e5353672-54db-4132-aad3-fd139743b2f8"
      },
      "execution_count": 20,
      "outputs": [
        {
          "output_type": "stream",
          "name": "stdout",
          "text": [
            "\u001b[1m313/313\u001b[0m \u001b[32m━━━━━━━━━━━━━━━━━━━━\u001b[0m\u001b[37m\u001b[0m \u001b[1m4s\u001b[0m 12ms/step - accuracy: 0.7072 - loss: 0.8898\n"
          ]
        },
        {
          "output_type": "execute_result",
          "data": {
            "text/plain": [
              "[0.9026732444763184, 0.7044000029563904]"
            ]
          },
          "metadata": {},
          "execution_count": 20
        }
      ]
    },
    {
      "cell_type": "code",
      "source": [
        "y_pred = cnn.predict(X_test)\n",
        "y_pred[:5]"
      ],
      "metadata": {
        "colab": {
          "base_uri": "https://localhost:8080/"
        },
        "id": "9Q3PUMwPQo3B",
        "outputId": "c0978bed-b5c5-4185-aa69-057ec670b8c7"
      },
      "execution_count": 21,
      "outputs": [
        {
          "output_type": "stream",
          "name": "stdout",
          "text": [
            "\u001b[1m313/313\u001b[0m \u001b[32m━━━━━━━━━━━━━━━━━━━━\u001b[0m\u001b[37m\u001b[0m \u001b[1m6s\u001b[0m 18ms/step\n"
          ]
        },
        {
          "output_type": "execute_result",
          "data": {
            "text/plain": [
              "array([[1.28969485e-02, 6.67621789e-04, 4.83158268e-02, 3.47467780e-01,\n",
              "        1.80655830e-02, 2.13695467e-01, 1.95277780e-02, 1.79473107e-04,\n",
              "        3.38679045e-01, 5.04425261e-04],\n",
              "       [2.29703672e-02, 7.96842854e-03, 1.29857972e-05, 2.36233541e-06,\n",
              "        4.59707046e-08, 1.00035970e-06, 1.18493254e-07, 7.22798674e-08,\n",
              "        9.68086123e-01, 9.58565157e-04],\n",
              "       [7.63499290e-02, 1.00054584e-01, 4.54903406e-04, 1.32183731e-03,\n",
              "        6.63024330e-05, 4.67464706e-04, 3.29211936e-04, 1.70953746e-04,\n",
              "        8.07114959e-01, 1.36698717e-02],\n",
              "       [7.55919576e-01, 8.75795335e-02, 3.61966272e-03, 4.97110188e-04,\n",
              "        8.23692317e-05, 3.16937367e-04, 3.19249702e-05, 4.78965449e-05,\n",
              "        1.29702523e-01, 2.22025290e-02],\n",
              "       [3.96626274e-06, 6.30770319e-06, 6.76573580e-03, 3.02773081e-02,\n",
              "        1.80266127e-01, 1.50665676e-03, 7.81139910e-01, 8.11578229e-06,\n",
              "        2.56020758e-05, 2.30937076e-07]], dtype=float32)"
            ]
          },
          "metadata": {},
          "execution_count": 21
        }
      ]
    },
    {
      "cell_type": "code",
      "source": [
        "y_classes = [np.argmax(element) for element in y_pred]\n",
        "y_classes[:5]"
      ],
      "metadata": {
        "colab": {
          "base_uri": "https://localhost:8080/"
        },
        "id": "DRr-Yg2KQ77V",
        "outputId": "e3e1c006-5548-4969-8fc2-91a56b1170a8"
      },
      "execution_count": 22,
      "outputs": [
        {
          "output_type": "execute_result",
          "data": {
            "text/plain": [
              "[3, 8, 8, 0, 6]"
            ]
          },
          "metadata": {},
          "execution_count": 22
        }
      ]
    },
    {
      "cell_type": "code",
      "source": [
        "y_test[:5]"
      ],
      "metadata": {
        "colab": {
          "base_uri": "https://localhost:8080/"
        },
        "id": "oVXGtL8cQ76V",
        "outputId": "f0e85b18-8a0a-4588-bca9-414fa3a20603"
      },
      "execution_count": 23,
      "outputs": [
        {
          "output_type": "execute_result",
          "data": {
            "text/plain": [
              "array([3, 8, 8, 0, 6], dtype=uint8)"
            ]
          },
          "metadata": {},
          "execution_count": 23
        }
      ]
    },
    {
      "cell_type": "code",
      "source": [
        "plot_sample(X_test, y_test,3)"
      ],
      "metadata": {
        "colab": {
          "base_uri": "https://localhost:8080/",
          "height": 237
        },
        "id": "k5Q-TtJfRD1T",
        "outputId": "f5c3929f-7cae-48bd-c5b4-07cd723b893e"
      },
      "execution_count": 24,
      "outputs": [
        {
          "output_type": "display_data",
          "data": {
            "text/plain": [
              "<Figure size 1500x200 with 1 Axes>"
            ],
            "image/png": "[encoded data removed]"
          },
          "metadata": {}
        }
      ]
    },
    {
      "cell_type": "code",
      "source": [
        "classes[y_classes[3]]"
      ],
      "metadata": {
        "colab": {
          "base_uri": "https://localhost:8080/",
          "height": 36
        },
        "id": "BDc31wzyRDz-",
        "outputId": "71befcab-6f21-4603-ed4c-876bd5a52851"
      },
      "execution_count": 25,
      "outputs": [
        {
          "output_type": "execute_result",
          "data": {
            "text/plain": [
              "'airplane'"
            ],
            "application/vnd.google.colaboratory.intrinsic+json": {
              "type": "string"
            }
          },
          "metadata": {},
          "execution_count": 25
        }
      ]
    },
    {
      "cell_type": "code",
      "source": [
        "classes[y_classes[3]]"
      ],
      "metadata": {
        "colab": {
          "base_uri": "https://localhost:8080/",
          "height": 36
        },
        "id": "TFIAhxHqRDy4",
        "outputId": "b3b9bc45-5b92-4a8b-ce8f-b2faf992b260"
      },
      "execution_count": 26,
      "outputs": [
        {
          "output_type": "execute_result",
          "data": {
            "text/plain": [
              "'airplane'"
            ],
            "application/vnd.google.colaboratory.intrinsic+json": {
              "type": "string"
            }
          },
          "metadata": {},
          "execution_count": 26
        }
      ]
    },
    {
      "cell_type": "code",
      "source": [
        "classes[y_classes[5]]"
      ],
      "metadata": {
        "colab": {
          "base_uri": "https://localhost:8080/",
          "height": 36
        },
        "id": "rXjMFI0TRRZE",
        "outputId": "4c315c50-bf8d-4a53-8f4e-7cf965039f56"
      },
      "execution_count": 27,
      "outputs": [
        {
          "output_type": "execute_result",
          "data": {
            "text/plain": [
              "'frog'"
            ],
            "application/vnd.google.colaboratory.intrinsic+json": {
              "type": "string"
            }
          },
          "metadata": {},
          "execution_count": 27
        }
      ]
    },
    {
      "cell_type": "code",
      "source": [
        "plot_sample(X_test, y_test,5)"
      ],
      "metadata": {
        "colab": {
          "base_uri": "https://localhost:8080/",
          "height": 237
        },
        "id": "dF-2SSvqR4iw",
        "outputId": "6084acfa-ac2e-4093-f14a-49d63d2856ea"
      },
      "execution_count": 28,
      "outputs": [
        {
          "output_type": "display_data",
          "data": {
            "text/plain": [
              "<Figure size 1500x200 with 1 Axes>"
            ],
            "image/png": "[encoded data removed]"
          },
          "metadata": {}
        }
      ]
    },
    {
      "cell_type": "code",
      "source": [
        "plot_sample(X_test, y_test,9)"
      ],
      "metadata": {
        "colab": {
          "base_uri": "https://localhost:8080/",
          "height": 237
        },
        "id": "iljxPjJiR8R7",
        "outputId": "0a293291-9527-4cb4-bbe2-90f0ca125de6"
      },
      "execution_count": 29,
      "outputs": [
        {
          "output_type": "display_data",
          "data": {
            "text/plain": [
              "<Figure size 1500x200 with 1 Axes>"
            ],
            "image/png": "[encoded data removed]"
          },
          "metadata": {}
        }
      ]
    },
    {
      "cell_type": "markdown",
      "source": [
        "**Handwritten digits classification using CNN**"
      ],
      "metadata": {
        "id": "CJ3Thxl-SJpH"
      }
    },
    {
      "cell_type": "markdown",
      "source": [
        "we will classify handwritten digits using a simple neural network which has only input and output layers. We will than add a hidden layer and see how the performance of the model improves"
      ],
      "metadata": {
        "id": "sHqntbBlSTDM"
      }
    },
    {
      "cell_type": "code",
      "source": [
        "import tensorflow as tf\n",
        "from tensorflow import keras\n",
        "import matplotlib.pyplot as plt\n",
        "%matplotlib inline\n",
        "import numpy as np"
      ],
      "metadata": {
        "id": "7eY5hdypSCGy"
      },
      "execution_count": 30,
      "outputs": []
    },
    {
      "cell_type": "code",
      "source": [
        "(X_train, y_train) , (X_test, y_test) = keras.datasets.mnist.load_data()"
      ],
      "metadata": {
        "colab": {
          "base_uri": "https://localhost:8080/"
        },
        "id": "REGnOigvSaEb",
        "outputId": "5b181819-6aad-431c-d28b-892d949769a1"
      },
      "execution_count": 31,
      "outputs": [
        {
          "output_type": "stream",
          "name": "stdout",
          "text": [
            "Downloading data from https://storage.googleapis.com/tensorflow/tf-keras-datasets/mnist.npz\n",
            "\u001b[1m11490434/11490434\u001b[0m \u001b[32m━━━━━━━━━━━━━━━━━━━━\u001b[0m\u001b[37m\u001b[0m \u001b[1m0s\u001b[0m 0us/step\n"
          ]
        }
      ]
    },
    {
      "cell_type": "code",
      "source": [
        "len(X_train)"
      ],
      "metadata": {
        "colab": {
          "base_uri": "https://localhost:8080/"
        },
        "id": "efsdfIGsSeS0",
        "outputId": "3d3e9918-1476-478b-aefe-f9fcc241107c"
      },
      "execution_count": 32,
      "outputs": [
        {
          "output_type": "execute_result",
          "data": {
            "text/plain": [
              "60000"
            ]
          },
          "metadata": {},
          "execution_count": 32
        }
      ]
    },
    {
      "cell_type": "code",
      "source": [
        "len(X_test)"
      ],
      "metadata": {
        "colab": {
          "base_uri": "https://localhost:8080/"
        },
        "id": "LjJg2-niSkiS",
        "outputId": "8ec93677-84e0-4038-d7f3-13a4934b9d9f"
      },
      "execution_count": 33,
      "outputs": [
        {
          "output_type": "execute_result",
          "data": {
            "text/plain": [
              "10000"
            ]
          },
          "metadata": {},
          "execution_count": 33
        }
      ]
    },
    {
      "cell_type": "code",
      "source": [
        "X_train[0].shape"
      ],
      "metadata": {
        "colab": {
          "base_uri": "https://localhost:8080/"
        },
        "id": "kt4u_CxWSoTQ",
        "outputId": "6475bf49-7304-40c8-9b34-29b5861e6f9d"
      },
      "execution_count": 34,
      "outputs": [
        {
          "output_type": "execute_result",
          "data": {
            "text/plain": [
              "(28, 28)"
            ]
          },
          "metadata": {},
          "execution_count": 34
        }
      ]
    },
    {
      "cell_type": "code",
      "source": [
        "X_train[0]"
      ],
      "metadata": {
        "colab": {
          "base_uri": "https://localhost:8080/",
          "height": 67
        },
        "id": "emzEouC2SrtF",
        "outputId": "a1ad124c-1b04-4562-8064-a621c75b70c3"
      },
      "execution_count": 35,
      "outputs": [
        {
          "output_type": "execute_result",
          "data": {
            "text/plain": [
              "array([[  0,   0,   0,   0,   0,   0,   0,   0,   0,   0,   0,   0,   0,\n",
              "          0,   0,   0,   0,   0,   0,   0,   0,   0,   0,   0,   0,   0,\n",
              "          0,   0],\n",
              "       [  0,   0,   0,   0,   0,   0,   0,   0,   0,   0,   0,   0,   0,\n",
              "          0,   0,   0,   0,   0,   0,   0,   0,   0,   0,   0,   0,   0,\n",
              "          0,   0],\n",
              "       [  0,   0,   0,   0,   0,   0,   0,   0,   0,   0,   0,   0,   0,\n",
              "          0,   0,   0,   0,   0,   0,   0,   0,   0,   0,   0,   0,   0,\n",
              "          0,   0],\n",
              "       [  0,   0,   0,   0,   0,   0,   0,   0,   0,   0,   0,   0,   0,\n",
              "          0,   0,   0,   0,   0,   0,   0,   0,   0,   0,   0,   0,   0,\n",
              "          0,   0],\n",
              "       [  0,   0,   0,   0,   0,   0,   0,   0,   0,   0,   0,   0,   0,\n",
              "          0,   0,   0,   0,   0,   0,   0,   0,   0,   0,   0,   0,   0,\n",
              "          0,   0],\n",
              "       [  0,   0,   0,   0,   0,   0,   0,   0,   0,   0,   0,   0,   3,\n",
              "         18,  18,  18, 126, 136, 175,  26, 166, 255, 247, 127,   0,   0,\n",
              "          0,   0],\n",
              "       [  0,   0,   0,   0,   0,   0,   0,   0,  30,  36,  94, 154, 170,\n",
              "        253, 253, 253, 253, 253, 225, 172, 253, 242, 195,  64,   0,   0,\n",
              "          0,   0],\n",
              "       [  0,   0,   0,   0,   0,   0,   0,  49, 238, 253, 253, 253, 253,\n",
              "        253, 253, 253, 253, 251,  93,  82,  82,  56,  39,   0,   0,   0,\n",
              "          0,   0],\n",
              "       [  0,   0,   0,   0,   0,   0,   0,  18, 219, 253, 253, 253, 253,\n",
              "        253, 198, 182, 247, 241,   0,   0,   0,   0,   0,   0,   0,   0,\n",
              "          0,   0],\n",
              "       [  0,   0,   0,   0,   0,   0,   0,   0,  80, 156, 107, 253, 253,\n",
              "        205,  11,   0,  43, 154,   0,   0,   0,   0,   0,   0,   0,   0,\n",
              "          0,   0],\n",
              "       [  0,   0,   0,   0,   0,   0,   0,   0,   0,  14,   1, 154, 253,\n",
              "         90,   0,   0,   0,   0,   0,   0,   0,   0,   0,   0,   0,   0,\n",
              "          0,   0],\n",
              "       [  0,   0,   0,   0,   0,   0,   0,   0,   0,   0,   0, 139, 253,\n",
              "        190,   2,   0,   0,   0,   0,   0,   0,   0,   0,   0,   0,   0,\n",
              "          0,   0],\n",
              "       [  0,   0,   0,   0,   0,   0,   0,   0,   0,   0,   0,  11, 190,\n",
              "        253,  70,   0,   0,   0,   0,   0,   0,   0,   0,   0,   0,   0,\n",
              "          0,   0],\n",
              "       [  0,   0,   0,   0,   0,   0,   0,   0,   0,   0,   0,   0,  35,\n",
              "        241, 225, 160, 108,   1,   0,   0,   0,   0,   0,   0,   0,   0,\n",
              "          0,   0],\n",
              "       [  0,   0,   0,   0,   0,   0,   0,   0,   0,   0,   0,   0,   0,\n",
              "         81, 240, 253, 253, 119,  25,   0,   0,   0,   0,   0,   0,   0,\n",
              "          0,   0],\n",
              "       [  0,   0,   0,   0,   0,   0,   0,   0,   0,   0,   0,   0,   0,\n",
              "          0,  45, 186, 253, 253, 150,  27,   0,   0,   0,   0,   0,   0,\n",
              "          0,   0],\n",
              "       [  0,   0,   0,   0,   0,   0,   0,   0,   0,   0,   0,   0,   0,\n",
              "          0,   0,  16,  93, 252, 253, 187,   0,   0,   0,   0,   0,   0,\n",
              "          0,   0],\n",
              "       [  0,   0,   0,   0,   0,   0,   0,   0,   0,   0,   0,   0,   0,\n",
              "          0,   0,   0,   0, 249, 253, 249,  64,   0,   0,   0,   0,   0,\n",
              "          0,   0],\n",
              "       [  0,   0,   0,   0,   0,   0,   0,   0,   0,   0,   0,   0,   0,\n",
              "          0,  46, 130, 183, 253, 253, 207,   2,   0,   0,   0,   0,   0,\n",
              "          0,   0],\n",
              "       [  0,   0,   0,   0,   0,   0,   0,   0,   0,   0,   0,   0,  39,\n",
              "        148, 229, 253, 253, 253, 250, 182,   0,   0,   0,   0,   0,   0,\n",
              "          0,   0],\n",
              "       [  0,   0,   0,   0,   0,   0,   0,   0,   0,   0,  24, 114, 221,\n",
              "        253, 253, 253, 253, 201,  78,   0,   0,   0,   0,   0,   0,   0,\n",
              "          0,   0],\n",
              "       [  0,   0,   0,   0,   0,   0,   0,   0,  23,  66, 213, 253, 253,\n",
              "        253, 253, 198,  81,   2,   0,   0,   0,   0,   0,   0,   0,   0,\n",
              "          0,   0],\n",
              "       [  0,   0,   0,   0,   0,   0,  18, 171, 219, 253, 253, 253, 253,\n",
              "        195,  80,   9,   0,   0,   0,   0,   0,   0,   0,   0,   0,   0,\n",
              "          0,   0],\n",
              "       [  0,   0,   0,   0,  55, 172, 226, 253, 253, 253, 253, 244, 133,\n",
              "         11,   0,   0,   0,   0,   0,   0,   0,   0,   0,   0,   0,   0,\n",
              "          0,   0],\n",
              "       [  0,   0,   0,   0, 136, 253, 253, 253, 212, 135, 132,  16,   0,\n",
              "          0,   0,   0,   0,   0,   0,   0,   0,   0,   0,   0,   0,   0,\n",
              "          0,   0],\n",
              "       [  0,   0,   0,   0,   0,   0,   0,   0,   0,   0,   0,   0,   0,\n",
              "          0,   0,   0,   0,   0,   0,   0,   0,   0,   0,   0,   0,   0,\n",
              "          0,   0],\n",
              "       [  0,   0,   0,   0,   0,   0,   0,   0,   0,   0,   0,   0,   0,\n",
              "          0,   0,   0,   0,   0,   0,   0,   0,   0,   0,   0,   0,   0,\n",
              "          0,   0],\n",
              "       [  0,   0,   0,   0,   0,   0,   0,   0,   0,   0,   0,   0,   0,\n",
              "          0,   0,   0,   0,   0,   0,   0,   0,   0,   0,   0,   0,   0,\n",
              "          0,   0]], dtype=uint8)"
            ],
            "text/html": [
              "<style>\n",
              "      .ndarray_repr .ndarray_raw_data {\n",
              "        display: none;\n",
              "      }\n",
              "      .ndarray_repr.show_array .ndarray_raw_data {\n",
              "        display: block;\n",
              "      }\n",
              "      .ndarray_repr.show_array .ndarray_image_preview {\n",
              "        display: none;\n",
              "      }\n",
              "      </style>\n",
              "      <div id=\"id-c92585ac-5aba-4659-9e9e-d54df6b84e09\" class=\"ndarray_repr\"><pre>ndarray (28, 28) <button style=\"padding: 0 2px;\">show data</button></pre><img src=\"data:image/png;base64,iVBORw0KGgoAAAANSUhEUgAAABwAAAAcCAAAAABXZoBIAAABAElEQVR4nGNgGMyAWUhIqK5jvdSy/9/rGRgYGFhgEnJsVjYCwQwMDAxPJgV+vniQgYGBgREqZ7iXH8r6l/SV4dn7m8gmCt3++/fv37/Htn3/iMW+gDnZf/+e5WbQnoXNNXyMs/5GoQoxwVmf/n9kSGFiwAW49/11wynJoPzx4YIcRlyygR/+/i2XxCWru+vv32nSuGQFYv/83Y3b4p9/fzpAmSyoMnohpiwM1w5h06Q+5enfv39/bcMiJVF09+/fv39P+mFKiTtd/fv3799jgZiBJLT69t+/f/8eDuDEkDJf8+jv379/v7Ryo4qzMDAwMAQGMjBc3/y35wM2V1IfAABFF16Aa0wAOwAAAABJRU5ErkJggg==\" class=\"ndarray_image_preview\" /><pre class=\"ndarray_raw_data\">array([[  0,   0,   0,   0,   0,   0,   0,   0,   0,   0,   0,   0,   0,\n",
              "          0,   0,   0,   0,   0,   0,   0,   0,   0,   0,   0,   0,   0,\n",
              "          0,   0],\n",
              "       [  0,   0,   0,   0,   0,   0,   0,   0,   0,   0,   0,   0,   0,\n",
              "          0,   0,   0,   0,   0,   0,   0,   0,   0,   0,   0,   0,   0,\n",
              "          0,   0],\n",
              "       [  0,   0,   0,   0,   0,   0,   0,   0,   0,   0,   0,   0,   0,\n",
              "          0,   0,   0,   0,   0,   0,   0,   0,   0,   0,   0,   0,   0,\n",
              "          0,   0],\n",
              "       [  0,   0,   0,   0,   0,   0,   0,   0,   0,   0,   0,   0,   0,\n",
              "          0,   0,   0,   0,   0,   0,   0,   0,   0,   0,   0,   0,   0,\n",
              "          0,   0],\n",
              "       [  0,   0,   0,   0,   0,   0,   0,   0,   0,   0,   0,   0,   0,\n",
              "          0,   0,   0,   0,   0,   0,   0,   0,   0,   0,   0,   0,   0,\n",
              "          0,   0],\n",
              "       [  0,   0,   0,   0,   0,   0,   0,   0,   0,   0,   0,   0,   3,\n",
              "         18,  18,  18, 126, 136, 175,  26, 166, 255, 247, 127,   0,   0,\n",
              "          0,   0],\n",
              "       [  0,   0,   0,   0,   0,   0,   0,   0,  30,  36,  94, 154, 170,\n",
              "        253, 253, 253, 253, 253, 225, 172, 253, 242, 195,  64,   0,   0,\n",
              "          0,   0],\n",
              "       [  0,   0,   0,   0,   0,   0,   0,  49, 238, 253, 253, 253, 253,\n",
              "        253, 253, 253, 253, 251,  93,  82,  82,  56,  39,   0,   0,   0,\n",
              "          0,   0],\n",
              "       [  0,   0,   0,   0,   0,   0,   0,  18, 219, 253, 253, 253, 253,\n",
              "        253, 198, 182, 247, 241,   0,   0,   0,   0,   0,   0,   0,   0,\n",
              "          0,   0],\n",
              "       [  0,   0,   0,   0,   0,   0,   0,   0,  80, 156, 107, 253, 253,\n",
              "        205,  11,   0,  43, 154,   0,   0,   0,   0,   0,   0,   0,   0,\n",
              "          0,   0],\n",
              "       [  0,   0,   0,   0,   0,   0,   0,   0,   0,  14,   1, 154, 253,\n",
              "         90,   0,   0,   0,   0,   0,   0,   0,   0,   0,   0,   0,   0,\n",
              "          0,   0],\n",
              "       [  0,   0,   0,   0,   0,   0,   0,   0,   0,   0,   0, 139, 253,\n",
              "        190,   2,   0,   0,   0,   0,   0,   0,   0,   0,   0,   0,   0,\n",
              "          0,   0],\n",
              "       [  0,   0,   0,   0,   0,   0,   0,   0,   0,   0,   0,  11, 190,\n",
              "        253,  70,   0,   0,   0,   0,   0,   0,   0,   0,   0,   0,   0,\n",
              "          0,   0],\n",
              "       [  0,   0,   0,   0,   0,   0,   0,   0,   0,   0,   0,   0,  35,\n",
              "        241, 225, 160, 108,   1,   0,   0,   0,   0,   0,   0,   0,   0,\n",
              "          0,   0],\n",
              "       [  0,   0,   0,   0,   0,   0,   0,   0,   0,   0,   0,   0,   0,\n",
              "         81, 240, 253, 253, 119,  25,   0,   0,   0,   0,   0,   0,   0,\n",
              "          0,   0],\n",
              "       [  0,   0,   0,   0,   0,   0,   0,   0,   0,   0,   0,   0,   0,\n",
              "          0,  45, 186, 253, 253, 150,  27,   0,   0,   0,   0,   0,   0,\n",
              "          0,   0],\n",
              "       [  0,   0,   0,   0,   0,   0,   0,   0,   0,   0,   0,   0,   0,\n",
              "          0,   0,  16,  93, 252, 253, 187,   0,   0,   0,   0,   0,   0,\n",
              "          0,   0],\n",
              "       [  0,   0,   0,   0,   0,   0,   0,   0,   0,   0,   0,   0,   0,\n",
              "          0,   0,   0,   0, 249, 253, 249,  64,   0,   0,   0,   0,   0,\n",
              "          0,   0],\n",
              "       [  0,   0,   0,   0,   0,   0,   0,   0,   0,   0,   0,   0,   0,\n",
              "          0,  46, 130, 183, 253, 253, 207,   2,   0,   0,   0,   0,   0,\n",
              "          0,   0],\n",
              "       [  0,   0,   0,   0,   0,   0,   0,   0,   0,   0,   0,   0,  39,\n",
              "        148, 229, 253, 253, 253, 250, 182,   0,   0,   0,   0,   0,   0,\n",
              "          0,   0],\n",
              "       [  0,   0,   0,   0,   0,   0,   0,   0,   0,   0,  24, 114, 221,\n",
              "        253, 253, 253, 253, 201,  78,   0,   0,   0,   0,   0,   0,   0,\n",
              "          0,   0],\n",
              "       [  0,   0,   0,   0,   0,   0,   0,   0,  23,  66, 213, 253, 253,\n",
              "        253, 253, 198,  81,   2,   0,   0,   0,   0,   0,   0,   0,   0,\n",
              "          0,   0],\n",
              "       [  0,   0,   0,   0,   0,   0,  18, 171, 219, 253, 253, 253, 253,\n",
              "        195,  80,   9,   0,   0,   0,   0,   0,   0,   0,   0,   0,   0,\n",
              "          0,   0],\n",
              "       [  0,   0,   0,   0,  55, 172, 226, 253, 253, 253, 253, 244, 133,\n",
              "         11,   0,   0,   0,   0,   0,   0,   0,   0,   0,   0,   0,   0,\n",
              "          0,   0],\n",
              "       [  0,   0,   0,   0, 136, 253, 253, 253, 212, 135, 132,  16,   0,\n",
              "          0,   0,   0,   0,   0,   0,   0,   0,   0,   0,   0,   0,   0,\n",
              "          0,   0],\n",
              "       [  0,   0,   0,   0,   0,   0,   0,   0,   0,   0,   0,   0,   0,\n",
              "          0,   0,   0,   0,   0,   0,   0,   0,   0,   0,   0,   0,   0,\n",
              "          0,   0],\n",
              "       [  0,   0,   0,   0,   0,   0,   0,   0,   0,   0,   0,   0,   0,\n",
              "          0,   0,   0,   0,   0,   0,   0,   0,   0,   0,   0,   0,   0,\n",
              "          0,   0],\n",
              "       [  0,   0,   0,   0,   0,   0,   0,   0,   0,   0,   0,   0,   0,\n",
              "          0,   0,   0,   0,   0,   0,   0,   0,   0,   0,   0,   0,   0,\n",
              "          0,   0]], dtype=uint8)</pre></div><script>\n",
              "      (() => {\n",
              "      const titles = ['show data', 'hide data'];\n",
              "      let index = 0\n",
              "      document.querySelector('#id-c92585ac-5aba-4659-9e9e-d54df6b84e09 button').onclick = (e) => {\n",
              "        document.querySelector('#id-c92585ac-5aba-4659-9e9e-d54df6b84e09').classList.toggle('show_array');\n",
              "        index = (++index) % 2;\n",
              "        document.querySelector('#id-c92585ac-5aba-4659-9e9e-d54df6b84e09 button').textContent = titles[index];\n",
              "        e.preventDefault();\n",
              "        e.stopPropagation();\n",
              "      }\n",
              "      })();\n",
              "    </script>"
            ]
          },
          "metadata": {},
          "execution_count": 35
        }
      ]
    },
    {
      "cell_type": "code",
      "source": [
        "plt.matshow(X_train[0])"
      ],
      "metadata": {
        "colab": {
          "base_uri": "https://localhost:8080/",
          "height": 455
        },
        "id": "z6-gHsiJSwN8",
        "outputId": "970cad5a-e35b-408b-bae2-e11bc5ed193a"
      },
      "execution_count": 36,
      "outputs": [
        {
          "output_type": "execute_result",
          "data": {
            "text/plain": [
              "<matplotlib.image.AxesImage at 0x7f0d18fdae10>"
            ]
          },
          "metadata": {},
          "execution_count": 36
        },
        {
          "output_type": "display_data",
          "data": {
            "text/plain": [
              "<Figure size 480x480 with 1 Axes>"
            ],
            "image/png": "[encoded data removed]"
          },
          "metadata": {}
        }
      ]
    },
    {
      "cell_type": "code",
      "source": [
        "y_train[0]"
      ],
      "metadata": {
        "colab": {
          "base_uri": "https://localhost:8080/"
        },
        "id": "sKDaJl5XSwMi",
        "outputId": "fecc7788-9864-4e4a-e164-b5ac1237bac2"
      },
      "execution_count": 37,
      "outputs": [
        {
          "output_type": "execute_result",
          "data": {
            "text/plain": [
              "5"
            ]
          },
          "metadata": {},
          "execution_count": 37
        }
      ]
    },
    {
      "cell_type": "code",
      "source": [
        "X_train = X_train / 255\n",
        "X_test = X_test / 255"
      ],
      "metadata": {
        "id": "hAJ5xqzJS5sL"
      },
      "execution_count": 38,
      "outputs": []
    },
    {
      "cell_type": "code",
      "source": [
        "X_train[0]"
      ],
      "metadata": {
        "colab": {
          "base_uri": "https://localhost:8080/"
        },
        "id": "XnyYQDddS7XM",
        "outputId": "f705d87c-a77e-4122-bea3-714e0d8ee419"
      },
      "execution_count": 39,
      "outputs": [
        {
          "output_type": "execute_result",
          "data": {
            "text/plain": [
              "array([[0.        , 0.        , 0.        , 0.        , 0.        ,\n",
              "        0.        , 0.        , 0.        , 0.        , 0.        ,\n",
              "        0.        , 0.        , 0.        , 0.        , 0.        ,\n",
              "        0.        , 0.        , 0.        , 0.        , 0.        ,\n",
              "        0.        , 0.        , 0.        , 0.        , 0.        ,\n",
              "        0.        , 0.        , 0.        ],\n",
              "       [0.        , 0.        , 0.        , 0.        , 0.        ,\n",
              "        0.        , 0.        , 0.        , 0.        , 0.        ,\n",
              "        0.        , 0.        , 0.        , 0.        , 0.        ,\n",
              "        0.        , 0.        , 0.        , 0.        , 0.        ,\n",
              "        0.        , 0.        , 0.        , 0.        , 0.        ,\n",
              "        0.        , 0.        , 0.        ],\n",
              "       [0.        , 0.        , 0.        , 0.        , 0.        ,\n",
              "        0.        , 0.        , 0.        , 0.        , 0.        ,\n",
              "        0.        , 0.        , 0.        , 0.        , 0.        ,\n",
              "        0.        , 0.        , 0.        , 0.        , 0.        ,\n",
              "        0.        , 0.        , 0.        , 0.        , 0.        ,\n",
              "        0.        , 0.        , 0.        ],\n",
              "       [0.        , 0.        , 0.        , 0.        , 0.        ,\n",
              "        0.        , 0.        , 0.        , 0.        , 0.        ,\n",
              "        0.        , 0.        , 0.        , 0.        , 0.        ,\n",
              "        0.        , 0.        , 0.        , 0.        , 0.        ,\n",
              "        0.        , 0.        , 0.        , 0.        , 0.        ,\n",
              "        0.        , 0.        , 0.        ],\n",
              "       [0.        , 0.        , 0.        , 0.        , 0.        ,\n",
              "        0.        , 0.        , 0.        , 0.        , 0.        ,\n",
              "        0.        , 0.        , 0.        , 0.        , 0.        ,\n",
              "        0.        , 0.        , 0.        , 0.        , 0.        ,\n",
              "        0.        , 0.        , 0.        , 0.        , 0.        ,\n",
              "        0.        , 0.        , 0.        ],\n",
              "       [0.        , 0.        , 0.        , 0.        , 0.        ,\n",
              "        0.        , 0.        , 0.        , 0.        , 0.        ,\n",
              "        0.        , 0.        , 0.01176471, 0.07058824, 0.07058824,\n",
              "        0.07058824, 0.49411765, 0.53333333, 0.68627451, 0.10196078,\n",
              "        0.65098039, 1.        , 0.96862745, 0.49803922, 0.        ,\n",
              "        0.        , 0.        , 0.        ],\n",
              "       [0.        , 0.        , 0.        , 0.        , 0.        ,\n",
              "        0.        , 0.        , 0.        , 0.11764706, 0.14117647,\n",
              "        0.36862745, 0.60392157, 0.66666667, 0.99215686, 0.99215686,\n",
              "        0.99215686, 0.99215686, 0.99215686, 0.88235294, 0.6745098 ,\n",
              "        0.99215686, 0.94901961, 0.76470588, 0.25098039, 0.        ,\n",
              "        0.        , 0.        , 0.        ],\n",
              "       [0.        , 0.        , 0.        , 0.        , 0.        ,\n",
              "        0.        , 0.        , 0.19215686, 0.93333333, 0.99215686,\n",
              "        0.99215686, 0.99215686, 0.99215686, 0.99215686, 0.99215686,\n",
              "        0.99215686, 0.99215686, 0.98431373, 0.36470588, 0.32156863,\n",
              "        0.32156863, 0.21960784, 0.15294118, 0.        , 0.        ,\n",
              "        0.        , 0.        , 0.        ],\n",
              "       [0.        , 0.        , 0.        , 0.        , 0.        ,\n",
              "        0.        , 0.        , 0.07058824, 0.85882353, 0.99215686,\n",
              "        0.99215686, 0.99215686, 0.99215686, 0.99215686, 0.77647059,\n",
              "        0.71372549, 0.96862745, 0.94509804, 0.        , 0.        ,\n",
              "        0.        , 0.        , 0.        , 0.        , 0.        ,\n",
              "        0.        , 0.        , 0.        ],\n",
              "       [0.        , 0.        , 0.        , 0.        , 0.        ,\n",
              "        0.        , 0.        , 0.        , 0.31372549, 0.61176471,\n",
              "        0.41960784, 0.99215686, 0.99215686, 0.80392157, 0.04313725,\n",
              "        0.        , 0.16862745, 0.60392157, 0.        , 0.        ,\n",
              "        0.        , 0.        , 0.        , 0.        , 0.        ,\n",
              "        0.        , 0.        , 0.        ],\n",
              "       [0.        , 0.        , 0.        , 0.        , 0.        ,\n",
              "        0.        , 0.        , 0.        , 0.        , 0.05490196,\n",
              "        0.00392157, 0.60392157, 0.99215686, 0.35294118, 0.        ,\n",
              "        0.        , 0.        , 0.        , 0.        , 0.        ,\n",
              "        0.        , 0.        , 0.        , 0.        , 0.        ,\n",
              "        0.        , 0.        , 0.        ],\n",
              "       [0.        , 0.        , 0.        , 0.        , 0.        ,\n",
              "        0.        , 0.        , 0.        , 0.        , 0.        ,\n",
              "        0.        , 0.54509804, 0.99215686, 0.74509804, 0.00784314,\n",
              "        0.        , 0.        , 0.        , 0.        , 0.        ,\n",
              "        0.        , 0.        , 0.        , 0.        , 0.        ,\n",
              "        0.        , 0.        , 0.        ],\n",
              "       [0.        , 0.        , 0.        , 0.        , 0.        ,\n",
              "        0.        , 0.        , 0.        , 0.        , 0.        ,\n",
              "        0.        , 0.04313725, 0.74509804, 0.99215686, 0.2745098 ,\n",
              "        0.        , 0.        , 0.        , 0.        , 0.        ,\n",
              "        0.        , 0.        , 0.        , 0.        , 0.        ,\n",
              "        0.        , 0.        , 0.        ],\n",
              "       [0.        , 0.        , 0.        , 0.        , 0.        ,\n",
              "        0.        , 0.        , 0.        , 0.        , 0.        ,\n",
              "        0.        , 0.        , 0.1372549 , 0.94509804, 0.88235294,\n",
              "        0.62745098, 0.42352941, 0.00392157, 0.        , 0.        ,\n",
              "        0.        , 0.        , 0.        , 0.        , 0.        ,\n",
              "        0.        , 0.        , 0.        ],\n",
              "       [0.        , 0.        , 0.        , 0.        , 0.        ,\n",
              "        0.        , 0.        , 0.        , 0.        , 0.        ,\n",
              "        0.        , 0.        , 0.        , 0.31764706, 0.94117647,\n",
              "        0.99215686, 0.99215686, 0.46666667, 0.09803922, 0.        ,\n",
              "        0.        , 0.        , 0.        , 0.        , 0.        ,\n",
              "        0.        , 0.        , 0.        ],\n",
              "       [0.        , 0.        , 0.        , 0.        , 0.        ,\n",
              "        0.        , 0.        , 0.        , 0.        , 0.        ,\n",
              "        0.        , 0.        , 0.        , 0.        , 0.17647059,\n",
              "        0.72941176, 0.99215686, 0.99215686, 0.58823529, 0.10588235,\n",
              "        0.        , 0.        , 0.        , 0.        , 0.        ,\n",
              "        0.        , 0.        , 0.        ],\n",
              "       [0.        , 0.        , 0.        , 0.        , 0.        ,\n",
              "        0.        , 0.        , 0.        , 0.        , 0.        ,\n",
              "        0.        , 0.        , 0.        , 0.        , 0.        ,\n",
              "        0.0627451 , 0.36470588, 0.98823529, 0.99215686, 0.73333333,\n",
              "        0.        , 0.        , 0.        , 0.        , 0.        ,\n",
              "        0.        , 0.        , 0.        ],\n",
              "       [0.        , 0.        , 0.        , 0.        , 0.        ,\n",
              "        0.        , 0.        , 0.        , 0.        , 0.        ,\n",
              "        0.        , 0.        , 0.        , 0.        , 0.        ,\n",
              "        0.        , 0.        , 0.97647059, 0.99215686, 0.97647059,\n",
              "        0.25098039, 0.        , 0.        , 0.        , 0.        ,\n",
              "        0.        , 0.        , 0.        ],\n",
              "       [0.        , 0.        , 0.        , 0.        , 0.        ,\n",
              "        0.        , 0.        , 0.        , 0.        , 0.        ,\n",
              "        0.        , 0.        , 0.        , 0.        , 0.18039216,\n",
              "        0.50980392, 0.71764706, 0.99215686, 0.99215686, 0.81176471,\n",
              "        0.00784314, 0.        , 0.        , 0.        , 0.        ,\n",
              "        0.        , 0.        , 0.        ],\n",
              "       [0.        , 0.        , 0.        , 0.        , 0.        ,\n",
              "        0.        , 0.        , 0.        , 0.        , 0.        ,\n",
              "        0.        , 0.        , 0.15294118, 0.58039216, 0.89803922,\n",
              "        0.99215686, 0.99215686, 0.99215686, 0.98039216, 0.71372549,\n",
              "        0.        , 0.        , 0.        , 0.        , 0.        ,\n",
              "        0.        , 0.        , 0.        ],\n",
              "       [0.        , 0.        , 0.        , 0.        , 0.        ,\n",
              "        0.        , 0.        , 0.        , 0.        , 0.        ,\n",
              "        0.09411765, 0.44705882, 0.86666667, 0.99215686, 0.99215686,\n",
              "        0.99215686, 0.99215686, 0.78823529, 0.30588235, 0.        ,\n",
              "        0.        , 0.        , 0.        , 0.        , 0.        ,\n",
              "        0.        , 0.        , 0.        ],\n",
              "       [0.        , 0.        , 0.        , 0.        , 0.        ,\n",
              "        0.        , 0.        , 0.        , 0.09019608, 0.25882353,\n",
              "        0.83529412, 0.99215686, 0.99215686, 0.99215686, 0.99215686,\n",
              "        0.77647059, 0.31764706, 0.00784314, 0.        , 0.        ,\n",
              "        0.        , 0.        , 0.        , 0.        , 0.        ,\n",
              "        0.        , 0.        , 0.        ],\n",
              "       [0.        , 0.        , 0.        , 0.        , 0.        ,\n",
              "        0.        , 0.07058824, 0.67058824, 0.85882353, 0.99215686,\n",
              "        0.99215686, 0.99215686, 0.99215686, 0.76470588, 0.31372549,\n",
              "        0.03529412, 0.        , 0.        , 0.        , 0.        ,\n",
              "        0.        , 0.        , 0.        , 0.        , 0.        ,\n",
              "        0.        , 0.        , 0.        ],\n",
              "       [0.        , 0.        , 0.        , 0.        , 0.21568627,\n",
              "        0.6745098 , 0.88627451, 0.99215686, 0.99215686, 0.99215686,\n",
              "        0.99215686, 0.95686275, 0.52156863, 0.04313725, 0.        ,\n",
              "        0.        , 0.        , 0.        , 0.        , 0.        ,\n",
              "        0.        , 0.        , 0.        , 0.        , 0.        ,\n",
              "        0.        , 0.        , 0.        ],\n",
              "       [0.        , 0.        , 0.        , 0.        , 0.53333333,\n",
              "        0.99215686, 0.99215686, 0.99215686, 0.83137255, 0.52941176,\n",
              "        0.51764706, 0.0627451 , 0.        , 0.        , 0.        ,\n",
              "        0.        , 0.        , 0.        , 0.        , 0.        ,\n",
              "        0.        , 0.        , 0.        , 0.        , 0.        ,\n",
              "        0.        , 0.        , 0.        ],\n",
              "       [0.        , 0.        , 0.        , 0.        , 0.        ,\n",
              "        0.        , 0.        , 0.        , 0.        , 0.        ,\n",
              "        0.        , 0.        , 0.        , 0.        , 0.        ,\n",
              "        0.        , 0.        , 0.        , 0.        , 0.        ,\n",
              "        0.        , 0.        , 0.        , 0.        , 0.        ,\n",
              "        0.        , 0.        , 0.        ],\n",
              "       [0.        , 0.        , 0.        , 0.        , 0.        ,\n",
              "        0.        , 0.        , 0.        , 0.        , 0.        ,\n",
              "        0.        , 0.        , 0.        , 0.        , 0.        ,\n",
              "        0.        , 0.        , 0.        , 0.        , 0.        ,\n",
              "        0.        , 0.        , 0.        , 0.        , 0.        ,\n",
              "        0.        , 0.        , 0.        ],\n",
              "       [0.        , 0.        , 0.        , 0.        , 0.        ,\n",
              "        0.        , 0.        , 0.        , 0.        , 0.        ,\n",
              "        0.        , 0.        , 0.        , 0.        , 0.        ,\n",
              "        0.        , 0.        , 0.        , 0.        , 0.        ,\n",
              "        0.        , 0.        , 0.        , 0.        , 0.        ,\n",
              "        0.        , 0.        , 0.        ]])"
            ]
          },
          "metadata": {},
          "execution_count": 39
        }
      ]
    },
    {
      "cell_type": "code",
      "source": [
        "X_train_flattened = X_train.reshape(len(X_train), 28*28)\n",
        "X_test_flattened = X_test.reshape(len(X_test), 28*28)"
      ],
      "metadata": {
        "id": "OYGNnbWfS_Dj"
      },
      "execution_count": 40,
      "outputs": []
    },
    {
      "cell_type": "code",
      "source": [
        "X_train_flattened.shape"
      ],
      "metadata": {
        "colab": {
          "base_uri": "https://localhost:8080/"
        },
        "id": "SZJQxKBeTEs-",
        "outputId": "b3714bce-457e-4b7b-ff63-731276ea0206"
      },
      "execution_count": 41,
      "outputs": [
        {
          "output_type": "execute_result",
          "data": {
            "text/plain": [
              "(60000, 784)"
            ]
          },
          "metadata": {},
          "execution_count": 41
        }
      ]
    },
    {
      "cell_type": "code",
      "source": [
        "X_train_flattened[0]"
      ],
      "metadata": {
        "colab": {
          "base_uri": "https://localhost:8080/"
        },
        "id": "8ylA2PueTIFj",
        "outputId": "320d5ddf-71e8-44b7-dd49-fee40926dcbd"
      },
      "execution_count": 42,
      "outputs": [
        {
          "output_type": "execute_result",
          "data": {
            "text/plain": [
              "array([0.        , 0.        , 0.        , 0.        , 0.        ,\n",
              "       0.        , 0.        , 0.        , 0.        , 0.        ,\n",
              "       0.        , 0.        , 0.        , 0.        , 0.        ,\n",
              "       0.        , 0.        , 0.        , 0.        , 0.        ,\n",
              "       0.        , 0.        , 0.        , 0.        , 0.        ,\n",
              "       0.        , 0.        , 0.        , 0.        , 0.        ,\n",
              "       0.        , 0.        , 0.        , 0.        , 0.        ,\n",
              "       0.        , 0.        , 0.        , 0.        , 0.        ,\n",
              "       0.        , 0.        , 0.        , 0.        , 0.        ,\n",
              "       0.        , 0.        , 0.        , 0.        , 0.        ,\n",
              "       0.        , 0.        , 0.        , 0.        , 0.        ,\n",
              "       0.        , 0.        , 0.        , 0.        , 0.        ,\n",
              "       0.        , 0.        , 0.        , 0.        , 0.        ,\n",
              "       0.        , 0.        , 0.        , 0.        , 0.        ,\n",
              "       0.        , 0.        , 0.        , 0.        , 0.        ,\n",
              "       0.        , 0.        , 0.        , 0.        , 0.        ,\n",
              "       0.        , 0.        , 0.        , 0.        , 0.        ,\n",
              "       0.        , 0.        , 0.        , 0.        , 0.        ,\n",
              "       0.        , 0.        , 0.        , 0.        , 0.        ,\n",
              "       0.        , 0.        , 0.        , 0.        , 0.        ,\n",
              "       0.        , 0.        , 0.        , 0.        , 0.        ,\n",
              "       0.        , 0.        , 0.        , 0.        , 0.        ,\n",
              "       0.        , 0.        , 0.        , 0.        , 0.        ,\n",
              "       0.        , 0.        , 0.        , 0.        , 0.        ,\n",
              "       0.        , 0.        , 0.        , 0.        , 0.        ,\n",
              "       0.        , 0.        , 0.        , 0.        , 0.        ,\n",
              "       0.        , 0.        , 0.        , 0.        , 0.        ,\n",
              "       0.        , 0.        , 0.        , 0.        , 0.        ,\n",
              "       0.        , 0.        , 0.        , 0.        , 0.        ,\n",
              "       0.        , 0.        , 0.        , 0.        , 0.        ,\n",
              "       0.        , 0.        , 0.01176471, 0.07058824, 0.07058824,\n",
              "       0.07058824, 0.49411765, 0.53333333, 0.68627451, 0.10196078,\n",
              "       0.65098039, 1.        , 0.96862745, 0.49803922, 0.        ,\n",
              "       0.        , 0.        , 0.        , 0.        , 0.        ,\n",
              "       0.        , 0.        , 0.        , 0.        , 0.        ,\n",
              "       0.        , 0.11764706, 0.14117647, 0.36862745, 0.60392157,\n",
              "       0.66666667, 0.99215686, 0.99215686, 0.99215686, 0.99215686,\n",
              "       0.99215686, 0.88235294, 0.6745098 , 0.99215686, 0.94901961,\n",
              "       0.76470588, 0.25098039, 0.        , 0.        , 0.        ,\n",
              "       0.        , 0.        , 0.        , 0.        , 0.        ,\n",
              "       0.        , 0.        , 0.        , 0.19215686, 0.93333333,\n",
              "       0.99215686, 0.99215686, 0.99215686, 0.99215686, 0.99215686,\n",
              "       0.99215686, 0.99215686, 0.99215686, 0.98431373, 0.36470588,\n",
              "       0.32156863, 0.32156863, 0.21960784, 0.15294118, 0.        ,\n",
              "       0.        , 0.        , 0.        , 0.        , 0.        ,\n",
              "       0.        , 0.        , 0.        , 0.        , 0.        ,\n",
              "       0.        , 0.07058824, 0.85882353, 0.99215686, 0.99215686,\n",
              "       0.99215686, 0.99215686, 0.99215686, 0.77647059, 0.71372549,\n",
              "       0.96862745, 0.94509804, 0.        , 0.        , 0.        ,\n",
              "       0.        , 0.        , 0.        , 0.        , 0.        ,\n",
              "       0.        , 0.        , 0.        , 0.        , 0.        ,\n",
              "       0.        , 0.        , 0.        , 0.        , 0.        ,\n",
              "       0.31372549, 0.61176471, 0.41960784, 0.99215686, 0.99215686,\n",
              "       0.80392157, 0.04313725, 0.        , 0.16862745, 0.60392157,\n",
              "       0.        , 0.        , 0.        , 0.        , 0.        ,\n",
              "       0.        , 0.        , 0.        , 0.        , 0.        ,\n",
              "       0.        , 0.        , 0.        , 0.        , 0.        ,\n",
              "       0.        , 0.        , 0.        , 0.        , 0.05490196,\n",
              "       0.00392157, 0.60392157, 0.99215686, 0.35294118, 0.        ,\n",
              "       0.        , 0.        , 0.        , 0.        , 0.        ,\n",
              "       0.        , 0.        , 0.        , 0.        , 0.        ,\n",
              "       0.        , 0.        , 0.        , 0.        , 0.        ,\n",
              "       0.        , 0.        , 0.        , 0.        , 0.        ,\n",
              "       0.        , 0.        , 0.        , 0.        , 0.54509804,\n",
              "       0.99215686, 0.74509804, 0.00784314, 0.        , 0.        ,\n",
              "       0.        , 0.        , 0.        , 0.        , 0.        ,\n",
              "       0.        , 0.        , 0.        , 0.        , 0.        ,\n",
              "       0.        , 0.        , 0.        , 0.        , 0.        ,\n",
              "       0.        , 0.        , 0.        , 0.        , 0.        ,\n",
              "       0.        , 0.        , 0.04313725, 0.74509804, 0.99215686,\n",
              "       0.2745098 , 0.        , 0.        , 0.        , 0.        ,\n",
              "       0.        , 0.        , 0.        , 0.        , 0.        ,\n",
              "       0.        , 0.        , 0.        , 0.        , 0.        ,\n",
              "       0.        , 0.        , 0.        , 0.        , 0.        ,\n",
              "       0.        , 0.        , 0.        , 0.        , 0.        ,\n",
              "       0.        , 0.1372549 , 0.94509804, 0.88235294, 0.62745098,\n",
              "       0.42352941, 0.00392157, 0.        , 0.        , 0.        ,\n",
              "       0.        , 0.        , 0.        , 0.        , 0.        ,\n",
              "       0.        , 0.        , 0.        , 0.        , 0.        ,\n",
              "       0.        , 0.        , 0.        , 0.        , 0.        ,\n",
              "       0.        , 0.        , 0.        , 0.        , 0.        ,\n",
              "       0.31764706, 0.94117647, 0.99215686, 0.99215686, 0.46666667,\n",
              "       0.09803922, 0.        , 0.        , 0.        , 0.        ,\n",
              "       0.        , 0.        , 0.        , 0.        , 0.        ,\n",
              "       0.        , 0.        , 0.        , 0.        , 0.        ,\n",
              "       0.        , 0.        , 0.        , 0.        , 0.        ,\n",
              "       0.        , 0.        , 0.        , 0.        , 0.17647059,\n",
              "       0.72941176, 0.99215686, 0.99215686, 0.58823529, 0.10588235,\n",
              "       0.        , 0.        , 0.        , 0.        , 0.        ,\n",
              "       0.        , 0.        , 0.        , 0.        , 0.        ,\n",
              "       0.        , 0.        , 0.        , 0.        , 0.        ,\n",
              "       0.        , 0.        , 0.        , 0.        , 0.        ,\n",
              "       0.        , 0.        , 0.        , 0.0627451 , 0.36470588,\n",
              "       0.98823529, 0.99215686, 0.73333333, 0.        , 0.        ,\n",
              "       0.        , 0.        , 0.        , 0.        , 0.        ,\n",
              "       0.        , 0.        , 0.        , 0.        , 0.        ,\n",
              "       0.        , 0.        , 0.        , 0.        , 0.        ,\n",
              "       0.        , 0.        , 0.        , 0.        , 0.        ,\n",
              "       0.        , 0.        , 0.        , 0.97647059, 0.99215686,\n",
              "       0.97647059, 0.25098039, 0.        , 0.        , 0.        ,\n",
              "       0.        , 0.        , 0.        , 0.        , 0.        ,\n",
              "       0.        , 0.        , 0.        , 0.        , 0.        ,\n",
              "       0.        , 0.        , 0.        , 0.        , 0.        ,\n",
              "       0.        , 0.        , 0.        , 0.18039216, 0.50980392,\n",
              "       0.71764706, 0.99215686, 0.99215686, 0.81176471, 0.00784314,\n",
              "       0.        , 0.        , 0.        , 0.        , 0.        ,\n",
              "       0.        , 0.        , 0.        , 0.        , 0.        ,\n",
              "       0.        , 0.        , 0.        , 0.        , 0.        ,\n",
              "       0.        , 0.        , 0.        , 0.        , 0.15294118,\n",
              "       0.58039216, 0.89803922, 0.99215686, 0.99215686, 0.99215686,\n",
              "       0.98039216, 0.71372549, 0.        , 0.        , 0.        ,\n",
              "       0.        , 0.        , 0.        , 0.        , 0.        ,\n",
              "       0.        , 0.        , 0.        , 0.        , 0.        ,\n",
              "       0.        , 0.        , 0.        , 0.        , 0.        ,\n",
              "       0.09411765, 0.44705882, 0.86666667, 0.99215686, 0.99215686,\n",
              "       0.99215686, 0.99215686, 0.78823529, 0.30588235, 0.        ,\n",
              "       0.        , 0.        , 0.        , 0.        , 0.        ,\n",
              "       0.        , 0.        , 0.        , 0.        , 0.        ,\n",
              "       0.        , 0.        , 0.        , 0.        , 0.        ,\n",
              "       0.        , 0.09019608, 0.25882353, 0.83529412, 0.99215686,\n",
              "       0.99215686, 0.99215686, 0.99215686, 0.77647059, 0.31764706,\n",
              "       0.00784314, 0.        , 0.        , 0.        , 0.        ,\n",
              "       0.        , 0.        , 0.        , 0.        , 0.        ,\n",
              "       0.        , 0.        , 0.        , 0.        , 0.        ,\n",
              "       0.        , 0.        , 0.07058824, 0.67058824, 0.85882353,\n",
              "       0.99215686, 0.99215686, 0.99215686, 0.99215686, 0.76470588,\n",
              "       0.31372549, 0.03529412, 0.        , 0.        , 0.        ,\n",
              "       0.        , 0.        , 0.        , 0.        , 0.        ,\n",
              "       0.        , 0.        , 0.        , 0.        , 0.        ,\n",
              "       0.        , 0.        , 0.        , 0.21568627, 0.6745098 ,\n",
              "       0.88627451, 0.99215686, 0.99215686, 0.99215686, 0.99215686,\n",
              "       0.95686275, 0.52156863, 0.04313725, 0.        , 0.        ,\n",
              "       0.        , 0.        , 0.        , 0.        , 0.        ,\n",
              "       0.        , 0.        , 0.        , 0.        , 0.        ,\n",
              "       0.        , 0.        , 0.        , 0.        , 0.        ,\n",
              "       0.        , 0.53333333, 0.99215686, 0.99215686, 0.99215686,\n",
              "       0.83137255, 0.52941176, 0.51764706, 0.0627451 , 0.        ,\n",
              "       0.        , 0.        , 0.        , 0.        , 0.        ,\n",
              "       0.        , 0.        , 0.        , 0.        , 0.        ,\n",
              "       0.        , 0.        , 0.        , 0.        , 0.        ,\n",
              "       0.        , 0.        , 0.        , 0.        , 0.        ,\n",
              "       0.        , 0.        , 0.        , 0.        , 0.        ,\n",
              "       0.        , 0.        , 0.        , 0.        , 0.        ,\n",
              "       0.        , 0.        , 0.        , 0.        , 0.        ,\n",
              "       0.        , 0.        , 0.        , 0.        , 0.        ,\n",
              "       0.        , 0.        , 0.        , 0.        , 0.        ,\n",
              "       0.        , 0.        , 0.        , 0.        , 0.        ,\n",
              "       0.        , 0.        , 0.        , 0.        , 0.        ,\n",
              "       0.        , 0.        , 0.        , 0.        , 0.        ,\n",
              "       0.        , 0.        , 0.        , 0.        , 0.        ,\n",
              "       0.        , 0.        , 0.        , 0.        , 0.        ,\n",
              "       0.        , 0.        , 0.        , 0.        , 0.        ,\n",
              "       0.        , 0.        , 0.        , 0.        , 0.        ,\n",
              "       0.        , 0.        , 0.        , 0.        , 0.        ,\n",
              "       0.        , 0.        , 0.        , 0.        , 0.        ,\n",
              "       0.        , 0.        , 0.        , 0.        , 0.        ,\n",
              "       0.        , 0.        , 0.        , 0.        ])"
            ]
          },
          "metadata": {},
          "execution_count": 42
        }
      ]
    },
    {
      "cell_type": "markdown",
      "source": [
        "**Very simple neural network with no hidden layers![digits_nn.jpg](data:image/jpeg;base64,/9j/4AAQSkZJRgABAQEAeAB4AAD/4RDcRXhpZgAATU0AKgAAAAgABAE7AAIAAAAGAAAISodpAAQAAAABAAAIUJydAAEAAAAMAAAQyOocAAcAAAgMAAAAPgAAAAAc6gAAAAgAAAAAAAAAAAAAAAAAAAAAAAAAAAAAAAAAAAAAAAAAAAAAAAAAAAAAAAAAAAAAAAAAAAAAAAAAAAAAAAAAAAAAAAAAAAAAAAAAAAAAAAAAAAAAAAAAAAAAAAAAAAAAAAAAAAAAAAAAAAAAAAAAAAAAAAAAAAAAAAAAAAAAAAAAAAAAAAAAAAAAAAAAAAAAAAAAAAAAAAAAAAAAAAAAAAAAAAAAAAAAAAAAAAAAAAAAAAAAAAAAAAAAAAAAAAAAAAAAAAAAAAAAAAAAAAAAAAAAAAAAAAAAAAAAAAAAAAAAAAAAAAAAAAAAAAAAAAAAAAAAAAAAAAAAAAAAAAAAAAAAAAAAAAAAAAAAAAAAAAAAAAAAAAAAAAAAAAAAAAAAAAAAAAAAAAAAAAAAAAAAAAAAAAAAAAAAAAAAAAAAAAAAAAAAAAAAAAAAAAAAAAAAAAAAAAAAAAAAAAAAAAAAAAAAAAAAAAAAAAAAAAAAAAAAAAAAAAAAAAAAAAAAAAAAAAAAAAAAAAAAAAAAAAAAAAAAAAAAAAAAAAAAAAAAAAAAAAAAAAAAAAAAAAAAAAAAAAAAAAAAAAAAAAAAAAAAAAAAAAAAAAAAAAAAAAAAAAAAAAAAAAAAAAAAAAAAAAAAAAAAAAAAAAAAAAAAAAAAAAAAAAAAAAAAAAAAAAAAAAAAAAAAAAAAAAAAAAAAAAAAAAAAAAAAAAAAAAAAAAAAAAAAAAAAAAAAAAAAAAAAAAAAAAAAAAAAAAAAAAAAAAAAAAAAAAAAAAAAAAAAAAAAAAAAAAAAAAAAAAAAAAAAAAAAAAAAAAAAAAAAAAAAAAAAAAAAAAAAAAAAAAAAAAAAAAAAAAAAAAAAAAAAAAAAAAAAAAAAAAAAAAAAAAAAAAAAAAAAAAAAAAAAAAAAAAAAAAAAAAAAAAAAAAAAAAAAAAAAAAAAAAAAAAAAAAAAAAAAAAAAAAAAAAAAAAAAAAAAAAAAAAAAAAAAAAAAAAAAAAAAAAAAAAAAAAAAAAAAAAAAAAAAAAAAAAAAAAAAAAAAAAAAAAAAAAAAAAAAAAAAAAAAAAAAAAAAAAAAAAAAAAAAAAAAAAAAAAAAAAAAAAAAAAAAAAAAAAAAAAAAAAAAAAAAAAAAAAAAAAAAAAAAAAAAAAAAAAAAAAAAAAAAAAAAAAAAAAAAAAAAAAAAAAAAAAAAAAAAAAAAAAAAAAAAAAAAAAAAAAAAAAAAAAAAAAAAAAAAAAAAAAAAAAAAAAAAAAAAAAAAAAAAAAAAAAAAAAAAAAAAAAAAAAAAAAAAAAAAAAAAAAAAAAAAAAAAAAAAAAAAAAAAAAAAAAAAAAAAAAAAAAAAAAAAAAAAAAAAAAAAAAAAAAAAAAAAAAAAAAAAAAAAAAAAAAAAAAAAAAAAAAAAAAAAAAAAAAAAAAAAAAAAAAAAAAAAAAAAAAAAAAAAAAAAAAAAAAAAAAAAAAAAAAAAAAAAAAAAAAAAAAAAAAAAAAAAAAAAAAAAAAAAAAAAAAAAAAAAAAAAAAAAAAAAAAAAAAAAAAAAAAAAAAAAAAAAAAAAAAAAAAAAAAAAAAAAAAAAAAAAAAAAAAAAAAAAAAAAAAAAAAAAAAAAAAAAAAAAAAAAAAAAAAAAAAAAAAAAAAAAAAAAAAAAAAAAAAAAAAAAAAAAAAAAAAAAAAAAAAAAAAAAAAAAAAAAAAAAAAAAAAAAAAAAAAAAAAAAAAAAAAAAAAAAAAAAAAAAAAAAAAAAAAAAAAAAAAAAAAAAAAAAAAAAAAAAAAAAAAAAAAAAAAAAAAAAAAAAAAAAAAAAAAAAAAAAAAAAAAAAAAAAAAAAAAAAAAAAAAAAAAAAAAAAAAAAAAAAAAAAAAAAAAAAAAAAAAAAAAAAAAAAAAAAAAAAAAAAAAAAAAAAAAAAAAAAAAAAAAAAAAAAAAAAAAAAAAAAAAAAAAAAAAAAAAAAAAAAAAAAAAAAAAAAAAAAAAAAAAAAAAAAAAAAAAAAAAAAAAAAAAAAAAAAAAAAAAAAAAAAAAAAAAAAAAAAAAAAAAAAAAAAAAAAAAAAAAAAAAAAAAAAAAAAAAAAAAAAAAAAAAAAAAAAAAAAAAAAAAAAAAAAAAAAAAAAAAAAAAAAAAAAAAAAAAAAAAAAAAAAAAAAAAAAAAAAAAAAAAAAAAAAAAAAAAAAAAAAAAAAAAAAAAAAAAAAAAAAAAAAAAAAAAAAAAAAAAAAAAAAAAAAAAAAAAAAAAAAAAAAAAAAAAAAAAAAAAAAAAAAAAAAAAAAAAAAAAAAAAAAAAAAAAAAAAAAAAAAAAAAAAAAAAAAAAAAAAAAAAAAAAAAAAAAAAAAAAAAAAAAAAAAAAAAAAAAAAAAAAAAAAAAAAAAAAAAAAAAAAAAAAAAAAAAAAAAAAAAAAAAAAAAAAAAAAAAAAAAAAAAAAAAAAAAAAAAAAAAAAAAAAAAAAAAAAAAAAAAAAAAAAAAAAAAAAAAAAAAAAAAAAAAAAAAAAAAAAAAAAAAAAAAAAAAAAAAAAAAAAAAAAAAAAAAAAAAAAAAAAAAAAAAAAAAAAAAAAAAAAAAAAAAAAAAAAAAAAAAAAAAAAAAAAAAAAAAAAAAAAAAAAAAAAAAAAAAAAAAAAAAAAAAAAAAAAAAAAAAAAAAAAAAAAAAAAAAAAAAAAAAAAAAAAAAAAAAAAAAAAAAAAAAAAAAAAAAAAAAAAAAAAAAAAAAAAAAAAAAAAAAAAAAAAAAAAAAAAAAAFZpcmFsAAAFkAMAAgAAABQAABCekAQAAgAAABQAABCykpEAAgAAAAM1NAAAkpIAAgAAAAM1NAAA6hwABwAACAwAAAiSAAAAABzqAAAACAAAAAAAAAAAAAAAAAAAAAAAAAAAAAAAAAAAAAAAAAAAAAAAAAAAAAAAAAAAAAAAAAAAAAAAAAAAAAAAAAAAAAAAAAAAAAAAAAAAAAAAAAAAAAAAAAAAAAAAAAAAAAAAAAAAAAAAAAAAAAAAAAAAAAAAAAAAAAAAAAAAAAAAAAAAAAAAAAAAAAAAAAAAAAAAAAAAAAAAAAAAAAAAAAAAAAAAAAAAAAAAAAAAAAAAAAAAAAAAAAAAAAAAAAAAAAAAAAAAAAAAAAAAAAAAAAAAAAAAAAAAAAAAAAAAAAAAAAAAAAAAAAAAAAAAAAAAAAAAAAAAAAAAAAAAAAAAAAAAAAAAAAAAAAAAAAAAAAAAAAAAAAAAAAAAAAAAAAAAAAAAAAAAAAAAAAAAAAAAAAAAAAAAAAAAAAAAAAAAAAAAAAAAAAAAAAAAAAAAAAAAAAAAAAAAAAAAAAAAAAAAAAAAAAAAAAAAAAAAAAAAAAAAAAAAAAAAAAAAAAAAAAAAAAAAAAAAAAAAAAAAAAAAAAAAAAAAAAAAAAAAAAAAAAAAAAAAAAAAAAAAAAAAAAAAAAAAAAAAAAAAAAAAAAAAAAAAAAAAAAAAAAAAAAAAAAAAAAAAAAAAAAAAAAAAAAAAAAAAAAAAAAAAAAAAAAAAAAAAAAAAAAAAAAAAAAAAAAAAAAAAAAAAAAAAAAAAAAAAAAAAAAAAAAAAAAAAAAAAAAAAAAAAAAAAAAAAAAAAAAAAAAAAAAAAAAAAAAAAAAAAAAAAAAAAAAAAAAAAAAAAAAAAAAAAAAAAAAAAAAAAAAAAAAAAAAAAAAAAAAAAAAAAAAAAAAAAAAAAAAAAAAAAAAAAAAAAAAAAAAAAAAAAAAAAAAAAAAAAAAAAAAAAAAAAAAAAAAAAAAAAAAAAAAAAAAAAAAAAAAAAAAAAAAAAAAAAAAAAAAAAAAAAAAAAAAAAAAAAAAAAAAAAAAAAAAAAAAAAAAAAAAAAAAAAAAAAAAAAAAAAAAAAAAAAAAAAAAAAAAAAAAAAAAAAAAAAAAAAAAAAAAAAAAAAAAAAAAAAAAAAAAAAAAAAAAAAAAAAAAAAAAAAAAAAAAAAAAAAAAAAAAAAAAAAAAAAAAAAAAAAAAAAAAAAAAAAAAAAAAAAAAAAAAAAAAAAAAAAAAAAAAAAAAAAAAAAAAAAAAAAAAAAAAAAAAAAAAAAAAAAAAAAAAAAAAAAAAAAAAAAAAAAAAAAAAAAAAAAAAAAAAAAAAAAAAAAAAAAAAAAAAAAAAAAAAAAAAAAAAAAAAAAAAAAAAAAAAAAAAAAAAAAAAAAAAAAAAAAAAAAAAAAAAAAAAAAAAAAAAAAAAAAAAAAAAAAAAAAAAAAAAAAAAAAAAAAAAAAAAAAAAAAAAAAAAAAAAAAAAAAAAAAAAAAAAAAAAAAAAAAAAAAAAAAAAAAAAAAAAAAAAAAAAAAAAAAAAAAAAAAAAAAAAAAAAAAAAAAAAAAAAAAAAAAAAAAAAAAAAAAAAAAAAAAAAAAAAAAAAAAAAAAAAAAAAAAAAAAAAAAAAAAAAAAAAAAAAAAAAAAAAAAAAAAAAAAAAAAAAAAAAAAAAAAAAAAAAAAAAAAAAAAAAAAAAAAAAAAAAAAAAAAAAAAAAAAAAAAAAAAAAAAAAAAAAAAAAAAAAAAAAAAAAAAAAAAAAAAAAAAAAAAAAAAAAAAAAAAAAAAAAAAAAAAAAAAAAAAAAAAAAAAAAAAAAAAAAAAAAAAAAAAAAAAAAAAAAAAAAAAAAAAAAAAAAAAAAAAAAAAAAAAAAAAAAAAAAAAAAAAAAAAAAAAAAAAAAAAAAAAAAAAAAAAAAAAAAAAAAAAAAAAAAAAAAAAAAAAAAAAAAAAAAAAAAAAAAAAAAAAAAAAAAAAAAAAAAAAAAAAAAAAAAAAAAAAAAAAAAAAAAAAAAAAAAAAAAAAAAAAAAAAAAAAAAAAAAAAAAAAAAAAAAAAAAAAAAAAAAAAAAAAAAAAAAAAAAAAAAAAAAAAAAAAAAAAAAAAAAAAAAAAAAAAAAAAAAAAAAAAAAAAAAAAAAAAAAAAAAAAAAAAAAAAAAAAAAAAAAAAAAAAAAAAAAAAAAAAAAAAAAAAAAAAAAAAAAAAAAAAAAAAAAAAAAAAAAAAAAAAAAAAAAAAAAAAAAAAAAAAAAAAAAAAAAAAAAAAAAAAAAAAAAAAAAAAAAAAAAAAAAAAAAAAAAAAAAAAAAAAAAAAAAAAAAAAAAAAAAAAAAAAAAAAAAAAAAAAAAAAAAAAAAAAAAAAAAAAAAAAAAAAAAAAAAAAAAAAAAAAAAAAAAAAAAAAAAAAAAAAAAAAAAAAAAAAAAAAAAAAAAAAAAAAAAAAAAAAAAAAAAAAAAAAAAAAAAAAAAAAAAAAAAAAAAAAAAAAAAAAAAAAAAAAAAAAAAAAAAAAAAAAAAAAAAAAAAAAAAAAAAAAAAAAAAAAAAAAAAAAAAAAAAAAAAAAAAAAAAAAAAAAAAAAAAAAAAAAAAAAAAAAAAAAAAAAAAAAAAAAAAAAAAAAAAAAAAAAAAAAAAAAAAAAAAAAAAAAAAAAAAAAAAAAAAAAAAAAAAAAAAAAAAAAAAAAAAAAAAAAAAAAAAAAAAAAAAAAAAAAAAAAAAAAAAAAAAAAAAAAAAAAAAAAAAAAAAAAAAAAAAAAAAAAAAAAAAAAAAAAAAAAAAAAAAAAAAAAAAAAAAAAAAAAAAAAAAAAAAAAAAAAAAAAAAAAAAAAMjAyMDowNzoxNSAxODo0NTo0MAAyMDIwOjA3OjE1IDE4OjQ1OjQwAAAAVgBpAHIAYQBsAAAA/+ELGGh0dHA6Ly9ucy5hZG9iZS5jb20veGFwLzEuMC8APD94cGFja2V0IGJlZ2luPSfvu78nIGlkPSdXNU0wTXBDZWhpSHpyZVN6TlRjemtjOWQnPz4NCjx4OnhtcG1ldGEgeG1sbnM6eD0iYWRvYmU6bnM6bWV0YS8iPjxyZGY6UkRGIHhtbG5zOnJkZj0iaHR0cDovL3d3dy53My5vcmcvMTk5OS8wMi8yMi1yZGYtc3ludGF4LW5zIyI+PHJkZjpEZXNjcmlwdGlvbiByZGY6YWJvdXQ9InV1aWQ6ZmFmNWJkZDUtYmEzZC0xMWRhLWFkMzEtZDMzZDc1MTgyZjFiIiB4bWxuczpkYz0iaHR0cDovL3B1cmwub3JnL2RjL2VsZW1lbnRzLzEuMS8iLz48cmRmOkRlc2NyaXB0aW9uIHJkZjphYm91dD0idXVpZDpmYWY1YmRkNS1iYTNkLTExZGEtYWQzMS1kMzNkNzUxODJmMWIiIHhtbG5zOnhtcD0iaHR0cDovL25zLmFkb2JlLmNvbS94YXAvMS4wLyI+PHhtcDpDcmVhdGVEYXRlPjIwMjAtMDctMTVUMTg6NDU6NDAuNTM5PC94bXA6Q3JlYXRlRGF0ZT48L3JkZjpEZXNjcmlwdGlvbj48cmRmOkRlc2NyaXB0aW9uIHJkZjphYm91dD0idXVpZDpmYWY1YmRkNS1iYTNkLTExZGEtYWQzMS1kMzNkNzUxODJmMWIiIHhtbG5zOmRjPSJodHRwOi8vcHVybC5vcmcvZGMvZWxlbWVudHMvMS4xLyI+PGRjOmNyZWF0b3I+PHJkZjpTZXEgeG1sbnM6cmRmPSJodHRwOi8vd3d3LnczLm9yZy8xOTk5LzAyLzIyLXJkZi1zeW50YXgtbnMjIj48cmRmOmxpPlZpcmFsPC9yZGY6bGk+PC9yZGY6U2VxPg0KCQkJPC9kYzpjcmVhdG9yPjwvcmRmOkRlc2NyaXB0aW9uPjwvcmRmOlJERj48L3g6eG1wbWV0YT4NCiAgICAgICAgICAgICAgICAgICAgICAgICAgICAgICAgICAgICAgICAgICAgICAgICAgICAgICAgICAgICAgICAgICAgICAgICAgICAgICAgICAgICAgICAgICAgICAgICAgICAKICAgICAgICAgICAgICAgICAgICAgICAgICAgICAgICAgICAgICAgICAgICAgICAgICAgICAgICAgICAgICAgICAgICAgICAgICAgICAgICAgICAgICAgICAgICAgICAgICAgIAogICAgICAgICAgICAgICAgICAgICAgICAgICAgICAgICAgICAgICAgICAgICAgICAgICAgICAgICAgICAgICAgICAgICAgICAgICAgICAgICAgICAgICAgICAgICAgICAgICAgCiAgICAgICAgICAgICAgICAgICAgICAgICAgICAgICAgICAgICAgICAgICAgICAgICAgICAgICAgICAgICAgICAgICAgICAgICAgICAgICAgICAgICAgICAgICAgICAgICAgICAKICAgICAgICAgICAgICAgICAgICAgICAgICAgICAgICAgICAgICAgICAgICAgICAgICAgICAgICAgICAgICAgICAgICAgICAgICAgICAgICAgICAgICAgICAgICAgICAgICAgIAogICAgICAgICAgICAgICAgICAgICAgICAgICAgICAgICAgICAgICAgICAgICAgICAgICAgICAgICAgICAgICAgICAgICAgICAgICAgICAgICAgICAgICAgICAgICAgICAgICAgCiAgICAgICAgICAgICAgICAgICAgICAgICAgICAgICAgICAgICAgICAgICAgICAgICAgICAgICAgICAgICAgICAgICAgICAgICAgICAgICAgICAgICAgICAgICAgICAgICAgICAKICAgICAgICAgICAgICAgICAgICAgICAgICAgICAgICAgICAgICAgICAgICAgICAgICAgICAgICAgICAgICAgICAgICAgICAgICAgICAgICAgICAgICAgICAgICAgICAgICAgIAogICAgICAgICAgICAgICAgICAgICAgICAgICAgICAgICAgICAgICAgICAgICAgICAgICAgICAgICAgICAgICAgICAgICAgICAgICAgICAgICAgICAgICAgICAgICAgICAgICAgCiAgICAgICAgICAgICAgICAgICAgICAgICAgICAgICAgICAgICAgICAgICAgICAgICAgICAgICAgICAgICAgICAgICAgICAgICAgICAgICAgICAgICAgICAgICAgICAgICAgICAKICAgICAgICAgICAgICAgICAgICAgICAgICAgICAgICAgICAgICAgICAgICAgICAgICAgICAgICAgICAgICAgICAgICAgICAgICAgICAgICAgICAgICAgICAgICAgICAgICAgIAogICAgICAgICAgICAgICAgICAgICAgICAgICAgICAgICAgICAgICAgICAgICAgICAgICAgICAgICAgICAgICAgICAgICAgICAgICAgICAgICAgICAgICAgICAgICAgICAgICAgCiAgICAgICAgICAgICAgICAgICAgICAgICAgICAgICAgICAgICAgICAgICAgICAgICAgICAgICAgICAgICAgICAgICAgICAgICAgICAgICAgICAgICAgICAgICAgICAgICAgICAKICAgICAgICAgICAgICAgICAgICAgICAgICAgICAgICAgICAgICAgICAgICAgICAgICAgICAgICAgICAgICAgICAgICAgICAgICAgICAgICAgICAgICAgICAgICAgICAgICAgIAogICAgICAgICAgICAgICAgICAgICAgICAgICAgICAgICAgICAgICAgICAgICAgICAgICAgICAgICAgICAgICAgICAgICAgICAgICAgICAgICAgICAgICAgICAgICAgICAgICAgCiAgICAgICAgICAgICAgICAgICAgICAgICAgICAgICAgICAgICAgICAgICAgICAgICAgICAgICAgICAgICAgICAgICAgICAgICAgICAgICAgICAgICAgICAgICAgICAgICAgICAKICAgICAgICAgICAgICAgICAgICAgICAgICAgICAgICAgICAgICAgICAgICAgICAgICAgICAgICAgICAgICAgICAgICAgICAgICAgICAgICAgICAgICAgICAgICAgICAgICAgIAogICAgICAgICAgICAgICAgICAgICAgICAgICAgICAgICAgICAgICAgICAgICAgICAgICAgICAgICAgICAgICAgICAgICAgICAgICAgICAgICAgICAgICAgICAgICAgICAgICAgCiAgICAgICAgICAgICAgICAgICAgICAgICAgICAgICAgICAgICAgICAgICAgICAgICAgICAgICAgICAgICAgICAgICAgICAgICAgICAgICAgICAgICAgICAgICAgICAgICAgICAKICAgICAgICAgICAgICAgICAgICAgICAgICAgICAgICAgICAgICAgICAgICAgICAgICAgICAgICAgICAgICAgICAgICAgICAgICAgICAgICAgICAgICAgICAgICAgICAgICAgIAogICAgICAgICAgICAgICAgICAgICAgICAgICAgPD94cGFja2V0IGVuZD0ndyc/Pv/bAEMABwUFBgUEBwYFBggHBwgKEQsKCQkKFQ8QDBEYFRoZGBUYFxseJyEbHSUdFxgiLiIlKCkrLCsaIC8zLyoyJyorKv/bAEMBBwgICgkKFAsLFCocGBwqKioqKioqKioqKioqKioqKioqKioqKioqKioqKioqKioqKioqKioqKioqKioqKioqKv/AABEIArkFGQMBIgACEQEDEQH/xAAfAAABBQEBAQEBAQAAAAAAAAAAAQIDBAUGBwgJCgv/xAC1EAACAQMDAgQDBQUEBAAAAX0BAgMABBEFEiExQQYTUWEHInEUMoGRoQgjQrHBFVLR8CQzYnKCCQoWFxgZGiUmJygpKjQ1Njc4OTpDREVGR0hJSlNUVVZXWFlaY2RlZmdoaWpzdHV2d3h5eoOEhYaHiImKkpOUlZaXmJmaoqOkpaanqKmqsrO0tba3uLm6wsPExcbHyMnK0tPU1dbX2Nna4eLj5OXm5+jp6vHy8/T19vf4+fr/xAAfAQADAQEBAQEBAQEBAAAAAAAAAQIDBAUGBwgJCgv/xAC1EQACAQIEBAMEBwUEBAABAncAAQIDEQQFITEGEkFRB2FxEyIygQgUQpGhscEJIzNS8BVictEKFiQ04SXxFxgZGiYnKCkqNTY3ODk6Q0RFRkdISUpTVFVWV1hZWmNkZWZnaGlqc3R1dnd4eXqCg4SFhoeIiYqSk5SVlpeYmZqio6Slpqeoqaqys7S1tre4ubrCw8TFxsfIycrS09TV1tfY2dri4+Tl5ufo6ery8/T19vf4+fr/2gAMAwEAAhEDEQA/APpGiiigAooooAKKKKACiiigAoqvf6hZ6XZvd6ndw2dtHjfNPIERc+pPArH/AOE/8H/9DVov/gwi/wDiqAOgorn/APhP/B//AENWi/8Agwi/+Ko/4T/wf/0NWi/+DCL/AOKoA6Ciuf8A+E/8H/8AQ1aL/wCDCL/4qj/hP/B//Q1aL/4MIv8A4qgDoKK5/wD4T/wf/wBDVov/AIMIv/iqP+E/8H/9DVov/gwi/wDiqAOgorn/APhP/B//AENWi/8Agwi/+Ko/4T/wf/0NWi/+DCL/AOKoA6Ciuf8A+E/8H/8AQ1aL/wCDCL/4qj/hP/B//Q1aL/4MIv8A4qgDoKK5/wD4T/wf/wBDVov/AIMIv/iqP+E/8H/9DVov/gwi/wDiqAOgorn/APhP/B//AENWi/8Agwi/+Ko/4T/wf/0NWi/+DCL/AOKoA6Ciuf8A+E/8H/8AQ1aL/wCDCL/4qj/hP/B//Q1aL/4MIv8A4qgDoKK5/wD4T/wf/wBDVov/AIMIv/iqP+E/8H/9DVov/gwi/wDiqAOgorn/APhP/B//AENWi/8Agwi/+KqS38b+Fbu4S3tfEukzzSNtSOO+jZmPoADzQBuUUUUAFFFFABRRRQAUUUUAFFFFABRRRQAUUUUAFFFFABRRRQAUUUUAFFFFABRRRQAUUUUAFFFFABRRRQAUUUUAFFFFABRRRQAUUUUAFFFFABRRRQAUUUUAFFFFABRRRQAUUUUAFFFFABRRRQAUUUUAFFFFABRRRQAUUUUAFFFFABRRRQAUUUUAFFFFABRRRQAUUUUAFFFFABRRRQAUUUUAFFFFABRRRQAUUUUAFFFFABRRRQAUUUUAFFFFABRRRQAUUUUAFFFFABRRRQAUUUUAFFFFABRRRQAUUUUAFFFFABRRRQAUUUUAFFFFABRRRQAUUUUAFFFFABRRRQAUUUUAFFFFABRRRQAUUUUAFFFFABRRRQAUUUUAFFFFAHm/x+/5Irrf0j/9GLXxJX258ff+SK639I//AEYtfEdABRRRQAUUUUAFFFFABRRRQAUUUUAFFFFABRRRQAUUUUAFFFFABXVfDL/kp2g/9fifzrla6r4Y/wDJTtB/6/E/nQB980UUUAFFFFABRRRQAUUUUAFFFFABRRRQAUUUUAFFFFABRRRQAUUUUAFFFFABRRRQAUUUUAFFFFABRRRQAUUUUAFFFFABRRRQAUUUUAFFFFABRRRQAUUUUAFFFFABRRRQAUUUUAFFFFABRRRQAUUUUAFFFFABRRRQAUUUUAFFFFABRRRQAUUUUAFFFFABRRRQAUUUUAFFFFABRRRQAUUUUAFFFFABRRRQAUUUUAFFFFABRRRQAUUUUAFFFFABRRRQAUUUUAFFFFABRRRQAUUUUAFFFFABRRRQAUUUUAFFFFABRRRQAUUUUAFFFFABRRRQAUUUUAFFFFABRRRQAUUUUAFFFFABRRRQAUUUUAFFFFABRRRQAUUUUAFFFFAHnHx9/wCSK639I/8A0YtfEdfbnx9/5Irrf0j/APRi18R0AFFFFABRRUkUDTSIi4y7BRn3oAW2tZ7y4WC1iaWVvuogyTWlH4T1+bPlaRdvjriI8V6Z8O/hN4gtvHGnzvLZ7QHPEpzyh9q+g9H8GapYSTGaWE7wANrntn2oA+NP+EM8Rjrot7/35NVG0DVUBLafcADrmM190v4dvyjASR8gj7xrhrv4V+IJ4ZESa1yxOMyH/CgD5KbSr9PvWkw+qGq0kbROUkUqw6gjpX1Fd/BTxPOF2z2PB7yn/CvONf8AgN4rXVLyYz6ftUlz++bOAM/3aAPIqK1r7w5eafbPPO0ZVDg7WzWTQAUUUUAFFFFABRRRQAV1Xwx/5KdoP/X4n865Wuq+GP8AyU7Qf+vxP50AffNFFFABRRRQAUUUUAFFFFABRRRQAUUUUAFFFFABRRRQAUUUUAFFFFABRRRQAUUUUAFFFFABRRRQAUUUUAFFFFABRRRQAUUUUAFFFFABRRRQAUUUUAFFFFABRRRQAUUUUAFFFFABRRRQAUUUUAFFFFABRRRQAUUUUAFFFFABRRRQAUUUUAFFFFABRRRQAUUUUAFFFFABRRRQAUUUUAFFFFABRRRQAUUUUAFFFFABRRRQAUUUUAFFFFABRRRQAUUUUAFFFFABRRRQAUUUUAFFFFABRRRQAUUUUAFFFFABRRRQAUUUUAFFFFABRRRQAUUUUAFFFFABRRRQAUUUUAFFFFABRRRQAUUUUAFFFFABRRRQAUUUUAFFFFABRRRQB5x8ff8Akiut/SP/ANGLXxHX258ff+SK639I/wD0YtfEdABRRRQAV6r4Q8E6NqWkadeXUchmkYFiJSB19K8qr374fatpVv4T0qO5vbaORcbldsEc0AfRGl+FNL024gu7WOQSxr8pMhI5GK3K5HxL4u0KDwxO/wDbVrFtCfP5uMfMK8o1vx1pTxw/Z/EkBOTnZcH2oA+haK+WLjxrbES7fEK/dOMXB9K8s/4SjVfOb/idXeNx/wCXhvX60AffWM1mXuh2V2s7TKxMqsGwxHUYr5i+EXjOG1vNSOu+IfKVo18v7TcHk57Zr6S0HXNNvdFtZoNRgnSRfldXyG5oA8Y+JXw58O6Z4Fv7y2jlWVHTBaYkcn61876xY21nHEbbqxOfmzX33rVlFd6TJEbZJgxHyFAc186ftB+HZk03RBp+lFGMsm7yogM8e1AHz1RUlxBLbTvFPG0cinDKwwRUdABRRRQAUUUUAFdV8Mf+SnaD/wBfifzrla6r4Y/8lO0H/r8T+dAH3zRRRQAUUUUAFFFFABRRRQAUUUUAFFFFABRRRQAUUUUAFFFFABRRRQAUUUUAFFFFABRRRQAUUUUAFFFFABRRRQAUUUUAFFFFABRRRQAUUUUAFFFFABRRRQAUUUUAFFFFABRRRQAUUUUAFFFFABRRRQAUUUUAFFFFABRRRQAUUUUAFFFFABRRRQAUUUUAFFFFABRRRQAUUUUAFFFFABRRRQAUUUUAFFFFABRRRQAUUUUAFFFFABRRRQAUUUUAFFFFABRRRQAUUUUAFFFFABRRRQAUUUUAFFFFABRRRQAUUUUAFFFFABRRRQAUUUUAFFFFABRRRQAUUUUAFFFFABRRRQAUUUUAFFFFABRRRQAUUUUAFFFFABRRRQAUUUUAecfH3/kiut/SP/0YtfEdfbnx9/5Irrf0j/8ARi18R0AFFFFABW5p+r2ttbwpKrEoRnA96w6KAPQ/E3jfSdW8N3FjapMJpAm3cmBwwP8ASvPSR2pKKACiiigAr6F+HfjzSNP8LaJp08dwZk2RkrHkZL+v4189Vs6Prt7a3llFCUCxzJtyuejA0AfoNFIHjQjPKg1xfxJ8M3/iSDT1094lMMjM3mPt6jFZPg3xpq+reILSyvHgMLxkkJHg8D1zXpMsKTY3546YNAHwb480K7sPHerWk5jMkEwVirZGdin+tcnXsvxS023PxQ8QsQ2ftA7/APTNK8aoAKKKKACiiigArqvhj/yU7Qf+vxP51ytdV8Mf+SnaD/1+J/OgD75ooooAKKKKACiiigAooooAKKKKACiiigAooooAKKKKACiiigAoqOW5gg/180cX++4H86qPr2jx/wCs1WxX/euUH9apRk9kJtLcv0VmL4k0NnCLrWnlmOAoukyT6da06HGUd0CaewUUUVIwopHdY0Z3YKqjJYnAA9azR4l0I9Na07/wLT/GqUZS2Qm0tzToqimuaTJ/q9Ts2/3bhD/WrUVxDOMwTRyD/YYH+VDi1ugumSUUUVIwooooAKKKKACiiigAooooAKKKKACiiigAooooAKKKKACiiigAooooAKKKKACiiigAooooAKKKKACiiigAooooAKKKKACiiigAooooAKKKKACiiigAooooAKKKKACiiigAooooAKKKKACiiigAooooAKKKKACiiigAooooAKKKKACiiigAooooAKKKKACiiuc1PUrzVtTk0PQJfJaID7dfgZ+zA9ETsZCP++Rye1VGLkxN2LWp+JrWwu/sFpDNqOpEZFnagMyj1c9EHuxH41VFn4o1T5rzUINGiP8AyxskEsoHvI4xn6LWrpOj2Wi2f2fT4dik7ncnc8rd2ZjyxPqavVXMl8KFZvc57/hDLGTm+vtVvT3M1/IB+SkAfgKqWPg3R5JbwBbyMx3BRGS+mBUbVP8Af9zXWVQ0z/Xah/19H/0BapVJ2eonGN1oZh8NX9p82keI9QiI6R3hW5jP/fQ3f+PUxtf1XRf+Rm04NbDrqGnhpI1Hq8Z+ZB7jcPeuloqee/xK4+XsRW11Be2sdxZzRzwyDckkbBlYexFS1zN9o9zoVzJq3hiLKsd93panCXA7sg6LJ9OG6H1rc0zUrXV9NhvrCTzIJhlTjBHqCOxB4IpSjpdbAn0ZaoooqCgooooAKKKKACiiigAooooAKKKKACiiigAooooAKKKKACiiigAooooAKKKKACiiigAooooAKKKKACiiigDzj4+/8kV1v6R/+jFr4jr7c+Pv/JFdb+kf/oxa+I6ACiiigAooooAKKKKACiiigAp8BIuIyODvH86ZTojiZD/tCgD3j4M3VxJ8UtLSSeV18uT5WckfdFfVFfJPwVvUPxW0sbW/1cn/AKCK+sYZ1mJ2gjHrQB4D4+0W5uPGuszJYmRWlyH2A5+Ra+YMV91a/pks1/fSq6gNkgH/AHa+GWQhM0AR0UUUAFFFFABXVfDH/kp2g/8AX4n865Wuq+GP/JTtB/6/E/nQB980UUUAFFFFABRRRQAUUUUAFFFFABRRRQAUUUUAFFFFABWV4k50dU3MFku7WN9rEEq1xGrDI9QSPxrVrK8Rf8guH/r/ALP/ANKY60p/GvUmfwslh0DR4OYdKs0PdhAuT+OKtpa28f8Aq4Il/wB1AKloqXKT3Y7JbCAAdABS0VFd3UNjZzXd04jggjaSRz0VVGSfyFSMloryRPH3xF1LwnL410fQdEGgLG9zFp9zLL9umt1zlww+RSQMgYPHrxn0rw9rdr4l8N6frVhuFvfW6ToG6qGGcH3HT8KANGkKKeqg/hS0UAQvZWsn+stoW/3owaqS+H9HnOZdKsmbs32dcj6HGRWjRVKUlsxWTMjQkEFxq1rGW8m3vAkSM5bYpgiYgZ7bmY49616ytI/5Cmu/9f6/+k0FatVU+L7vyFHYKKKKzKCiiigAooooAKKq6hqNvplr592xClgiIilnkY9FVRyxPoKzFtNS1w79TeXTbE8pZwSbZnH/AE1kU8f7qH6selUo31Ym+hbvfEGn2Nx9meVp7rGfs1tG00oHqVUEqPc4FV/7T1m6/wCPDQ/IU9JNQuVj/EKm8/gcVo2OnWemW/kafbRW0eclY0AyfU+p9zVmneK2QrMxvK8Tvz9r0mD2+yyy4/HzF/lR5PidP+X/AEmb2+xSx5/HzWrZoo5mHKYv2/XrX/j70aG6T+9YXQLf98yBR/48altvEmnzXKW1w0tjcvwkN7EYS59FJ4f/AICTWrUV1aW99bvb3sEdxC4w0cqBlb6g0Xi90Fn3JaKwm0m90fEnh+YyQj7+n3UpZCP+mbnJQ+3K+w61oaZqsGqRyeWkkE8JCzW067ZIiemR6HsRkHsTScdLod+jLtFFFSMKKKKACiiigAooooAKKKKACiiigAooooAKKKKACiiigAooooAKKKKACiiigAooooAKKKKACiiigAooooAKKKKACiiigAooooAKKKKACiiigAooooAKKKKACiiigAooooAKKKKACiq9/f2ul6fNfajOltawLvlmkOFRfUnsPen2t3b31rHc2U8VxbyjdHLC4dXHqCODQBneJNUl0nRXltFEl5M629rGf4pXOF/AdT7A1NoekRaJpMVnGxkcZeaZvvTSHlnPuTWbqg+2eOtEtW5S1hnvWHq2FjU/hvauirR6RS7krVtkdxcwWdu9xdzRwQxjLySuFVR6kngVlHxj4ZHXxFpI/wC36L/4qrWuaRba/oN9pN+u63vYHhkHswxn6jrXjvwIsNLk0zWPCHiTRtNm1jw7ePEzzWkbPJEzHDZIyed34FazKPZrDVdO1VHbS7+1vVjIDm3mWQKT67ScVHpn+u1D/r6P/oC1geAPAdv4Fi1pLZoSNT1OW8RYU2LFG2NkeP8AZGfbmt/TP9dqH/X0f/QFq47MT3RforiviL8SLTwHaWsMVpJqetai/l2Gmwn55W6ZPouSPr/Lz3xh4q+L3hvQ7TXdbvNB0WzubuO3kghgMzWgfOHcnIOMc4JqBnu9cyF/4R7xkoj+XT9bY5XtFdAZyPTeoP4r71W8Gad44tLuebxl4h0/VbWSIfZ0s7XytrZzuJxyMVe8cIR4TuLuPiWweO8jb0Mbhv5Aj8a0p78vcmW1zoaKRGDxq69GGRS1mUFFFFABRVe/1C10uza7v5lggQgNI3QZIA/UipYZoriFZYJEljcZV0YEMPYinZ2uK6vYfRRXlHxi8W39lc2Xh3R7h7eS6TzJ5I2wxViVVMjkA4OfwrWjSdaagjSEHOVker0V4p4+8FweBdB07WvDVzc217DMsVxMsrEykgneecDkYx05r03wVr7eJvB9hqcu0TSIVmC9N6kqfpkjP41dSio01Ui7rYcoWjzJ6G9RRRXMZhRRXn3xf1LUItF0XQ9IuprKbxDq8GnSXUL7XhhbJcqexwuPoTQB6DRXi3jHwdpfwruvDvibwRFPp7jVoLPUYluJJEu4JSVbeGYgtnGD6nPYV7TQAUV4v8Ufhv4W8PfD7V/Enn38eu2i+fb6vLfyNcGYsNq5LYwScYAHXjmn+Mb/AFTVbP4Y+HvEF1cWdv4hVTrTxSGFpJEhRvJLDBAd2YYBB44oA9lorx2TRNM+F/xg8KWvhMmx03xCtxa32m+e7oWRA0cqqxODu4J/xNexUAFFFFABRRRQAUUUUAFFFFABRRRQAUUUUAecfH3/AJIrrf0j/wDRi18R19ufH3/kiut/SP8A9GLXxHQAUUUUAFKASRwaSvXPBvgnXNQ0PTry28P3NzbyEMJlttysM9c4oA81tbKOS4RXRiD7H0rR/si1/wCeT/ka+1tM8O2cdzCZdGtVAXkm1Tjj6Vt/2JpX/QMs/wDwHT/CgD4LfSrYBsRPwPQ1gMpBPBxn0r9DZ9D00wyhdKsyShxi2Trj6V8++IPAOtTaXdLa+GZ2kYnaI7Tk89uKAPnOnxDMyD/aH867vxD8OfF0UcJPhjUUyx5+ysM/pXPW3hbXINWt4p9Iu0cTIGVoTkfMKAPUvgraRD4raWdp/wBXJ/6CK+sI4UiJ2DGa8k8CeGdR0/xVZXNzpEtvGkbZkaDaBkeuK9eyB1oA8R8a+MdZsfFWrWdtcKsMT7VUqOBsB/rXyaZGIwa9u+KEzD4m+IAJGA+0DgN/0zSvD6ACiiigAooooAK6r4Y/8lO0H/r8T+dcrXVfDH/kp2g/9fifzoA++aKKKACiiigAooooAKKKKACiiigAooooAKKKKACiiigArK8Rf8guH/r/ALP/ANKY61ayvEX/ACC4f+v+z/8ASmOtKfxr1Jn8LNWiiisygrnviDE8/wAMvFEMKl5JNHu1VR1JMLACuhpGVXUq4DKwwQRkEUAcJ4Rv7NP2ftKvHK/ZYPDyebk4HyQYfke6mnfBS3ktvgv4aSZdrG1MgH+yzswP5EVTPwR8OhZLSHU9eg0WWUyvocWoFbIknJXZjdtJ7bq9DggitbeOC2jSKGJAkcaLhUUDAAHYAUAPooooAKKKKAMrSP8AkKa7/wBf6/8ApNBWrWVpH/IU13/r/X/0mgrVrSpv8l+RMdgooorMoKKKKACq2o6hb6Xp8t5dsRHGOijLMScBQO5JIAHcmrNYbD+1/FRVubTSMEjs9y65Gf8AcQg/WQHtVRV3qJsl03T55roarrIU3pUiGAHKWiHqq+rH+Ju/QcVr0UUm7sErBRRRSGFFFFABRRRQAVm6ppb3Mkd7p8i2+owDEUpGVdepjcd0P5g8jmtKimm07oTVyjpOqJqlo0nlmGeJzFcQMctDIOqn16gg9wQe9Xqw9RH9la9a6onEF2y2d2O2ScRP9dx2fRx6CtynJLdAvMKKKKkYUUUUAFFFFABRRRQAUUUUAFFFFABRRRQAUUUUAFFFFABRRUE17a23/Hxcwxf9dJAv86AJ6KyJ/Fvhy1/4+df0uH/rpexr/M1nz/EzwNb583xfoeR1C6hEx/INQB09FcPP8aPh3b58zxXYnH/PPc//AKCDVCT4/fDZTtj8QNO392KxuG/9koA9Horzb/he3hSQZtLTXbv08jSpTn8wKP8Ahc0MnFn4D8cXJ/2NFIH4ktQB6TRXmx+Kmuzf8efww8UP6efGkP8AMmj/AIT74gzH/Q/hPdnPQ3GswRfzFAHpNFebDxP8WJ/9X8PdNtR6T60j/wDoIo+3fGef/VaP4PtewE9zO/4/LQB6TRXmxtPjTOP3mpeDLXP/ADwguXx/31R/wjfxanH73x7pNqf+mGjq+P8Avo0Aek0V5t/wgnxFm/4+/ixPjuINDt4/1zQfhd4in4vfih4kYd/s/lw/yFAHpNFebf8ACm1l5vPiB44uD6HWNq/kEo/4UX4ZkObzUvEN56+fq0hz+WKAPSGZUGWIUepNUptc0m2z9o1Ozix18y4Rf5muFX4A/Djdun0KW4b1mv7hv/Z6vQ/BT4dQY2eFLM4/56M7/wDoTGgDbm8e+D7cHz/FeiR4/v6jCP8A2as6f4teALf/AFni7ST/ANc7kP8A+g5qaD4X+BLfHl+D9EOP79jG/wDMGtGHwd4Zt/8Aj38OaTFj+5YxL/JaAOYn+Ovw2tz+88UwH/rnBM//AKChqt/wvzwFJ/x53t9eH0g02c/zQV6DDp1lbY+z2dvFjp5cSr/IVYoA82/4Xdosn/Hl4c8V3vvb6O5/mRR/wt27m/48/ht42f0M2mCLP5tXpNFAHm3/AAsnxfP/AMeXws1p/T7RdQw/zzQPGfxPnH7j4VpCD0afxBB/ILmvSa5rxD8RPCPhUH+3vEFlayD/AJY+Zvl/74XLfpQBzf8Abfxfn/1XhLw/a57z6kz4/wC+RQG+NdwPueB7Qd8m6dh/Smn4u3msrjwL4H13XN2dlzcRiztm9xI/X8hSLpvxc8RZOo61o3hO3b/lnp9ubucD0LOdoPutABPYfFxYWlvvFfhbT4lGWeOydgv4ua4fWfG+s6dP9mf40Wt5dtwtpofhyK7dz6Ag7c/U1Jr+j/D7StWW01/UNf8AiR4kP+r00XTXBVsf3UwqD2Ykj0Nb2lfDvxP4hhZNUFl4D0KTg6N4dRFuJl54mnA/MLkEdQDQB4x4s8X+OPELS+GU1LXtWe7G1rGa1himbBBIa3iDMvryRWL8Gda1+w+J+hadomo3NtBeX8S3dujny5YwwLhk6E7AecZHtX0hrr6T8MdNtPCvw00a2XxLrRMVpGo3Mo/iuJnOSVXk/Mee3ANafhH4PeHvDNxpWqyxtd+ILIyyT6mzHdcyyqRIWB6j5jjuPXk5AN+5/c/Eiwdulxpk0Se5WSNj+hroa57xej2ttZ65CpZ9JnE0iqMloWBWUfgp3f8AAa34pUmhSWJg8bqGVlOQwPQ1pLWKZK3aMfxV4osfCWitf34eV2YRW1rCMy3MrcLGg7kn8utct4Y0KPwout/EDxvJBa6vqMXnXxj/ANXZQKBtiGPvEADLcliOPeHxt8KdS8Y+LIdbTxrqGlG0TbZw2kIH2fIwxDbgdx7nrjisS9+A2p6vEltrvxJ17U7ISK8lrckukmDnBBcisyj1+1uY7yzhuoCTFNGsiFlKkqRkcHkcHoaq6Z/rtQ/6+j/6AtXkRY0VEGFUYAHYVR0z/Xah/wBfR/8AQFq47MT3R5Pp9oNX/a41abU13f2RpEbWKvyF3BAWH/fx/wA6T9pG+a+8N6N4P05fP1TWtQj8qFeW2LnnH+8V59j6V6D4h8BaX4h1m21nz73TNYtozFHqGnTeVL5Z/gbIIZfYg1HoPw60XQtck1x2u9U1mRdh1DUp/OlVf7q8AKPoBUDOjsLY2em21qW3GGFIy3rgAZ/Ssnxw4TwLrAP/AC0tXiH1f5R+pFb1c34ib+1Nb0vQY/mBlF9d/wCzFGcqD/vPtH4Grp/EmTLY1rvTjfaN9hN1c2hZFBmtZNki4IPDdumPoTWJ/wAIN/1NHiT/AMGH/wBjXU0VUas4K0WJwjLc5b/hBv8AqaPEn/gw/wDsaP8AhBv+po8Sf+DD/wCxrqaKr6xV7i9lDscF4j8AXVxoU8Vhres307FAsF5fbom+YZLDA6DJ+oq94L8ETeF1Mlxqk00jj5oI2xCD9D1PvxXX0VTxVV0/Zt6EqjBS5uoV4D8V1aP4tW7ynCMluyk9l3Y/mDXv1cB8Tvh/P4uitr7SXRNRtVKbZG2iVM5xnsQc4+pq8HUjTq3ls9DsoyUZ6jfjUf8Ai3rf9fcf9al+DUUkfw4t2kziSeVkz6bsfzBrE1/RPHnjmw0/SNW0u30q3gcPcXRukk85gCNwVTkcE8ep616Vo2lW+h6La6ZZjENtGEXPU+pPuTk/jV1JKGHVK93e+g5NRp8nW5dooorgMArzr4yWV+NF0LXtMtZrxvD+tW+oXFvAm6SSBch9o7nBH4ZPavRaKAPGvFXizS/ixdeHvDvgiWbUFGqQX2pTrBIkdrbxEsQ5YD5ycYX1H0r0ay8Y6ff+OtT8KQw3a3+m28dxNI8WIWV8YCtnk8+nr1wcb9FAHz0/xP8AB/jzxst/4t12Gw8N6NPu07SponL3ky9LiUBSAo/hQ/iByD6P4y8Q/DvWvBNjd+L3ivfD+ovm3uGt5WQMMjduUboz1GeO9d9RQB4X4R8M+F9e+KWjat8PtHmg0HREmmuNVmWU/bp3XYkaPKSzBOTnp+le6UUUAFFFFABRRRQAUUUUAFFFFABRRRQAUUUUAecfH3/kiut/SP8A9GLXxHX258ff+SK639I//Ri18R0AFFFFABX2z8GL2OP4R6EhVifKI4HvXxNXvnw/8ba3p/hXSbG2u40t0IUKYlJAJ9SKAPqaop7hbcKXBO70oik3onzKSVB6j0rD8WXs9nFam2bG5mz8ufSgCebxRaQ3TQNFMWVtpIAx/Otj76cdxmvkzxp8S/FeneONTtbO7VYYZ8IPsqnA+uK6T4dfF7xpr/jrTtL1W/jktJm2ugtEXIx6hc0Ae5+IdDuNXjhW3kjUxsSd5I/kK89uvhHrc+vfblvLAR+esm0u+cAg/wB32r1SxuJJmfzDnA44q5QBHHGUVQccACob27S02GQMdxwNtWqr3VrFchfOXO08c4oA+OPit4gto/ip4gUxy5NwOgH/ADzX3ryyvs7xD8F/BOua9ealqWmzS3Vw+6RxdSKCcAdAcdq5Sw+CXgae8SOXS5ypzkfapR/WgD5cor69/wCFA/D3/oET/wDgZL/8VR/woH4e/wDQIn/8DJf/AIqgD5ItbZ7u4WGMgM2cFula1v4UvLndsmgG3rkn/Cvqiy+A/wAP4btXTSpgwzybyX0/3q2ofg74It93l6fIu7rm7f8A+KoA+J7y1eyvZbaUqXiYqSvQ10nwx/5KdoP/AF+J/Ok+Jmn22lfE/wAQWNihjt7e9dI1LE4APqeaX4Y/8lO0H/r8T+dAH3zRRRQAUUUUAFFFFABRRRQAUUUUAFFFFABRRRQAUUUUAFZXiL/kFw/9f9n/AOlMdatZXiL/AJBcP/X/AGf/AKUx1pT+NepM/hZq0UUVmUFFFUdc1WPQ/D2o6tOpaKwtZbl1HUqiFiP0oAvUV4tYeG/Fmv8Aw0HjWbxtrlt4gurNtRtra3uAllGCpeOPyduCCuAScnnPPf0jwD4jfxb4B0bXZkVJry2V5VUYAkHyvj23A0AdDRRRQAUUUUAZWkf8hTXf+v8AX/0mgrVrK0j/AJCmu/8AX+v/AKTQVq1pU3+S/ImOwUUUVmUFFFFABWL4UHmaCt4eXvppbon1DuSv5JtH4VtVjeD+PBejr3SziRvqqgH9QatfC/67k/aNmiiioKGySJDE0krqkaKWZ2OAoHUk9hXFeHfiz4d8TeLj4esotQt7p7f7Tay3dqYo7yL+/EScsMAkEgAgHGcV2k0MdxBJDcRpLFIpR43UMrKRggg9QRXhXxykt7L4l+BJdN1E6dfea1jcS26/PbW85EYcHopwZtufQkfdNAHpdn8R9G1Hx0PC+nwX1zPtlzexwj7KGix5iCQkbmUsoO0HBYA4rrap6TpVnoekW2maXAtvaWsYjijXsB/M9ye5rn4PiX4YvPG1v4V06/F9qU6yMfsw3xxbASQz5xngjAyQeuKAOsooooAKKKKAM7xDZm/8OX9shxI8DeWw/hcDKn8GAP4VZ067F/pdreKMLcQpKPoyg/1ov/8AkG3OJmgPkv8AvUCkx8H5huBGR15BHtXw/wCKr34h+Db2HS9V8R64kLW0ctqVv5hG8LKNu0bscfdI7EEVX2RdT7opruka7pGVV9WOBXwvousXGo7W1TVN6ZAlbVbi9EWT/D5kLtgnGPmAHIJr0zR/BVneWi3o+Flh4ots/NeaT4teUD/gDPknPbtzmpGfR8+u6RbZ+06rZQ46+ZcIv8zWdN4+8H2wJuPFeiR44+bUYh/7NXjkVt8OtLwNc+DPiHTtvWV9Pe4hH/Aw5yevbtWxpviX4AvN5X9n6FaTrw0V/o5jK/UvHj9aAO6n+LfgC3z5ni7Sjj/nncB//Qc1nzfHX4bW5IfxTAcf887eZ/8A0FDV3R5fhje4/sI+FZW7Lai33D8ByO1dXb2FlbqDa2lvECOPLjUfyoA8/wD+F9+BJP8AjzvNQvPTyNMnOfzUf5FA+N2jy82XhrxZeD1g0dyP1Ir0migDzX/hb15MP9D+GvjV/TztNEQP5tS/8LI8YTf8efwr1lv+u95DD/PNek0UAebHxn8UJv8Aj3+FkcP+1Pr8B/QCj+2vjBOf3PhPw9aZ73GpM+P++RXpNFAHm2fjXOeF8D2i98m6dv8ACgaP8YZx++8UeG7U/wDTDT3f/wBCP+cV6TRQB5sPB/xRmH774owQeog0CFv1Y0D4ceNJf+Pz4q6s/r5FhDF/LNek0UAebH4R384/034leM3z97yL9Ys/TCnFH/Ck9Lk/4/PFXi+89fP1ljn8gP8AIr0migDzb/hQngaQ/wCmW2o3nr5+pznP5MKnh+A/w1gOV8MRMfWS5mfP5ua9CooA42D4RfD+3/1fhLSz/wBdIA//AKFmtGD4f+DbbH2fwnoceO66dED+e2uhooAzoPD2i2uPs2kWEOOnl2yL/IVfSNI1xGioPRRinUUAFFFFABRRRQAUUUUAFFFFABRRRQAUUUUAFFFMlmjghaWeRY40GWd2AAHuTQA+iuH1j4yeBdHlMB12K/uui22mqbl2PoNgIz9SKzF8f+OPEJI8IfD65tYT9298QzC1Ueh8oZcj6GgD0uqGra5pWg2hudb1K10+D/npczLGD9MnmuC/4Qn4ieIm3eLPHv8AZluT81l4ct/J/Kd/n/Q1oaZ8FvA+n3QvLrSm1e9/iutWma6dz6kOdv6UAVbj43eGp5Hg8L2mr+KLlTjy9JsHdQfd2AGPcZqJNX+LPiP5tN0DR/C1q3STVbhrmfHqEjwAfZq9Ht7eG0gWG1hjhiQYWONQqr9AKkJwMmgDzIfCPUNacv478c61rSt960tXFlbH2KJ1H4ium0H4beDvDJVtF8O2MEq9J2i8yX/vt8t+tZfiL4taHpOpHR9CiuPE2vHIXTtKXzCh6fvHHyoAeuckelZA8H+OPHp8zx/rP9g6S/P9haLJh3X+7NP1PoQvB7YoA2PEPxZ0LSNSOj6NHceJNcPA07Sk81lP+24+VAO+TkelZY8LeOvHY3+NdW/4RzSX5/sbR5P3zjjiWf8AmF4rt/DvhXQ/CWnCx8OaZb2EHG4RJ8zkd2Y8sfckmtegDF8NeD9A8H2H2Tw5pkFlGfvsi5eT3Zz8zfiar+N/GVj4I8OvqN4rT3DsIrOzj5kupm4VFH16+grU1nWLDw/o11qur3C21naxmSWVuwH8yegHc1554H0fUPG/iRfiJ4utzDGFK+H9MkGfssJ/5bMP+ejDBz2H4YANb4deDb7TJLvxR4tdbjxTrADXLDlbSLgrbx+irxn1I74zXd0UUAIyq6lXAZWGCCMgiuW0+ZvCN8mj3xxpM74066Y8Qk/8sHPb/ZPccdRXVVDeWdvqFnLaXsKTwSrteNxkMKuMraPYlq+qJqK5hbfW/DI22Svrelr92B3AuoB6Kx4kHscN7mr+neKtH1KXyIrtYbocNa3IMUqn02Ng/lQ4PdaoOZdTYqhpn+u1D/r6P/oC1fqhpn+u1D/r6P8A6AtC2Y3ui/RVe8v7TT4DNf3UNtGOryuFH5msNvFFxqpMXhOwe9zx9tuAYrZPfcRl/oo/EUlFvYHJI0tb1uDRLNZJFae4mby7a1j5knfsqj+Z6AcmoPD2kT2Mc99qjLJql8wkuWQ5VAPuxr/sqOPc5PejSPDy2V22o6jcNqGqyLta5kXAjX+5GvRF/U9ya2aptJcsRJNu7CiiisygooooAKKKKACiiigAooooAKKKKACiiigAooooAKKKKACiiigAooooAKKKKACiiigAooooAKKKKACiiigDzj4+/wDJFdb+kf8A6MWviOvtz4+/8kV1v6R/+jFr4joAKKKKACp4LueJ0CzyIqsOjEYqCigD234deMIY/HOnNe6zJ5ID7t8pI/1Zr6M8O+IdG1iW4W3vYroxKpI67c5/wr4T0i9TT9UiuZVLqmcgd8givUvAfxg0rwpcX0l3p1zMLlEVfLI42k/40AfWUmlaVcq0psbWRnBO4xKSa57SfD4tdWjmGmxRbWJ3rGARXCad+0XoT2MGNIvhkeq/410I+N2kED/iXXf6UAejRLsJyMVFNqdnbl/OnVdgJbPbFeX6p+0BomnJGZdKvX3nA24rhNY/aG0K5nu1XSb0eYrKMleMjHrQB7fL8R/CcKlpNat1A6kmoP8AhaXgv/oP2v8A31Xxvf8Aiy0u7eSNbZwWOecVlf2tB/zxP5CgD7d/4Wh4KY4/t20JPvWkvibw8Gyt5bg+wr4RXV7dXB8k8HPQV6Gvxb0oNn+z7j8xQB9Uz+MvDlvjztRt03dM1nzfEzwXGXR9ctFYDkZ6V8sar8TdNv1jEdjOuzrnFcfe65b3N3LKsLAOeAcUAfVet/Evwk2lSiDX4N+RjaTnrXknxA8cWV7Hp40rXHco0nmeXIRjO3Gf1rxua4SSMqqYJ71WoAtapcG61S4naRpTJIWLsclvfNdB8Mf+SnaD/wBfifzrla6r4Y/8lO0H/r8T+dAH3zRRRQAUUUUAFFFFABRRRQAUUUUAFFFFABRRRQAUUUUAFZXiL/kFw/8AX/Z/+lMdatZXiL/kFw/9f9n/AOlMdaU/jXqTP4WatFFFZlBWN4y06bWPAuvabaDM95ptxbxD1Z4mUfqa2aKAPIPDXxN8O6d8BLVrnVbWHUdO0oWL2DyBZ/Pjj8sJ5Z+bJKjt3zXY/CrRrrw/8KvD+m38bRXMVoGljcYZGclypHqN2PwrZfwt4fk1f+1ZNC0xtR3bvtjWcZmz678bs/jWrQAUUUUAFFFFAGVpH/IU13/r/X/0mgrVrK0j/kKa7/1/r/6TQVq1pU3+S/ImOwUUUVmUFFFFABWL4dP2V9R0puGs7t3QHvFKTIp+gLMv/ADW1WJravp15DrtujSCBDFeRoMs8BOdwHcofm+hYdSKuOvukvTU26KbFKk0KSwurxuoZWU5DA9CDTqgow/F8Hia40MJ4KurG11MTxt5l+CYjGGy6kBSeQMcYOCcEHBrjPFHwjm8QfDvUdNfUkm8S39xHfTapMpVXnThVAGSkaqSigZ2g55Oc+n0UAcx4T0fxHBa3E/jjU7bUL66jSJrezRhaxIoI+VW5ZmLEsxAzwMACuR1q1t7H9ojwNa2UEdvbw6VeJHFEoVUUKcAAcAV6rXm2o/DvxZqXjzTPFcvjHTY73TIXhggj0JvJKuCG3A3JY5z/e7CgD0miorRblLOJb6WKa5CgSyQxGNGbuQpZio9ix+tS0AFFFFAGN4qkb+wJbOFsT6gws4sdQZPlLD/AHV3N/wGsj4ifDzT/HvhT+zZNtveWoL6fdbc+RJjGD6oeAy9x7gVpWDf25rZ1Tk2NnuhsiekrniSUe38C/8AAj0Ireq5aLlJWup8gW3gG5FzezaVY3VvrOjsV1fRLSbZd24wP9ItGOfNibr5bZ64B+YMNLS7TT0s11+W1nks0O1/E/hBjaXdkeuLuzHyqc9SoxgcFsivcviH4MvtQmtvFXg50tvFekqfIY8LexdWt5OmVPbPQ+mcjl7PS4PHtp/wnnw1um8NeLo2MOo2cvEcsqn54LmPHXPR8ZxgkZ6QUSeH9X8fx6Ymo+E9e0X4j6PnAWUiyvF/2d33Qcdd/PQ4rRHxa8L3M8emfEHRLzw3dPkLFrdnmBz32S4Kke5wOK5bTdP0nxN4mlhsjc/DT4jW6nz4LYjyb0f3wn3JkPJ456k7gAa6C58ean4ajOlfGbw7DJp0jCMa5ZQefYzA8DzYzkxk+/U5wAKAOhf4cfDfxPaLdweHtDu4JeRcWMaKH990eM9fWsz/AIUT4RtmLaFNrOhEnP8AxLdUlTB/4EWqJfhN4T1BRrfw91e68PS3C5S70K8zBL9UyUYewx0p32j4seEsC4tdM8c2KjmS3YWN5gdypyh+g5PI9KAH/wDCsvFNgf8AiQfFLX4QPu/2nDFfH8SwGaP7M+MenHFpr/hfWVHe/spbdm/79HANWdM+M/ha4vF0/XzeeF9SI5tNcgNv+Ic/IR6HIz6V3sM8VzAk1vKksTjKPGwZWHqCOtAHnP8AwlfxT0//AJCPw7stSUfek03WETA9kkGT9KP+FwS2Qxr/AIA8Xafj70kdgJ4l/wCBq39K9JooA88tvjr8PZpPKuNcaxnH3ob20miZfY5XH6102n+N/Cuq7RpviTSbpmOAsV7GzZ9MZzWvc2dtex+XeW8Vwn92VAw/I1zOofCzwJqe77X4S0nLDBaK1WJj+KYP40AdYCGAIOQeQR3orzdvgR4NgJOiHV9DfqG07U5kKnuRuLU0/DDxNY4/sH4peIYSp+X+0kjvvz3AZoA9KorzU6V8YtOYG08SeGtZA6rqFjJblv8Av1nmg+KfirpvOofD/T9UQfebTNXWMgeoWQZP0oA9KorzY/F65sMDxD8PvFlgO8sNkLmJfqyt/Spbb47fD+WYQXesSadcdTDfWc0RA9yVx+tAHolFYGn+PfCOrbf7N8TaRcM3REvYy34rnI6elbyOsiB42DKwyGByDQAtFFFABRRRQAUUUUAFFFFABRRRQAUVT1LWNN0a2NxrGoWthAOsl1Msa/mxFcNdfG7ww901p4ag1TxPdKcGPR7JpVB93OFx7gmgD0WivM21z4r+InC6P4Z0zwvbN/y86vdfaJSPURx/dPs1K3wp1fXVH/CdePdZ1VOrWliFsYG9mVOWH4igDqtd8feFPDO4a74gsLR16xNODJ/3wMt+lcovxil1s7fAngzXNfB+7cyRC0tm9/Mk/wAK6LQPhl4M8MBDo/h2xilTkTyR+bLn13vlv1rqgMDAoA8yNj8XvEZH2rU9F8IWrfwWcRvLgDPQlvkzjuKlj+CWiX0iz+MdW1rxTMOcajfOIgf9mNMAD2yRXpFFAGbo3hzRfD0Hk6FpNlp0eMEW0Cx7vqQOfqa0qKCcDJoAKCcDJrz/AFz4u6Tb6k2jeEbS48Wa30+yaZ80cXvJN91B78474rOHgTxf45xL8Std+w6e3I0DRHMcZHpNN95/cDjuDQBpa98XdGstQfSPDFtc+KtaH/Lnpa71j95JPuqPzx6Vnf8ACGeNfHZ8z4ga1/Y2lv8A8wPRZNpZeeJZ+rcHkDg+1d9oXhzR/DGnLYeH9Nt9Ptl/ggQDcfVj1Y+5ya0qAMnw94X0TwppwsfDumW9hAOoiXlz6s3Vj7kmtaiigAprukUbSSMqIoLMzHAAHcmnV5X4u1K8+JHimbwB4bnkh0m1wfEWpQnG1f8An2jb+838XoMg9CKAK8KN8aPFv2qYN/wguiXH7iMj5dXuVyN59Yl7ev4kD1wDAwKrabp1ppGmW+n6bbpbWltGI4ooxgIo6CrNABRRRQAUUUUAFVNQ0rT9Vh8rU7K3u07LNGGx+dW6KabWwHPf8IRpEf8Ax5NfWPta30qAfQbsD8KavgqyBbfqWsOHbcytqMmGPvg+1dHRV+0n3J5I9jFtPB+gWc4nj0yGScdJrjMzj/gTkmtrp0ooqHJy3Y0ktgooopDCiiigAooooAKKKKACiiigAooooAKKKKACiiigAooooAKKKKACiiigAooooAKKKKACiiigAooooAKKKKACiiigDzj4+/8AJFdb+kf/AKMWviOvtz4+/wDJFdb+kf8A6MWviOgAooooAKKKKACiiigC3Fql3BGqRS4VegwOK0P+Ev1r/n7/APHBWJRQBp3fiHUr5VFzcbwpyPlArOd2kcu5yx6mm0UAFFFFABRRRQAUUUUAFFFFABXVfDH/AJKdoP8A1+J/OuVrqvhj/wAlO0H/AK/E/nQB980UUUAFFFFABRRRQAUUUUAFFFFABRRRQAUUUUAFFFFABWV4i/5BcP8A1/2f/pTHWrWV4i/5BcP/AF/2f/pTHWlP416kz+FmrRRRWZQUUVj+LtTm0TwTrmq2oBnsdOuLmMHpuSNmH6igB8/ijQLbVl0u51zTYdQYgC0ku41lJPQbCc/pWrXkHhz4ZeHdU+AsAvdLtbnUtU0r7dLqEsStcGeWPzA/mEbsgsO/b6113wl1a61z4S+Hr+/kaW4e0CPIxyXKEpuJ7k7c0AdjRRRQAUUUUAZWkf8AIU13/r/X/wBJoK1aytI/5Cmu/wDX+v8A6TQVq1pU3+S/ImOwUUUVmUFFFFABRRRQBgtFJ4ZlaW0jeXR3JaW3jUs1oT1dFHJT1UdOo4yK2bW6gvbWO5s5kngkG5JI2yrD2NS1j3GhNFdyXuh3A0+6kOZVKb4Zz6umRz/tKQfUmrupb7k6rY2KKxBrl3YfLr2mSwj/AJ+bMNcQt9do3r+K4HqavWGs6bqef7Pv7e5YfeWOUFl+o6j8aTi1qO6LtFFFSMKKq3up2Omx+ZqN5b2qdjNKEz+dZx8RG8+TQdPuL9v+erqYIF+sjDkf7gaqUWxXSNl3SKNpJGVEUFmZjgADuTWE0z+KT5dozx6N/wAtbgZVrz/YQ9RH6t36DjJqRdDn1GRJfEdxHdqhDJZwoVt0PqwJJkP+9x3Citvp0p6R23FqxsUaQxJFCixxooVEUYCgdAB2FOooqCgrzHxxoWo+D/ET/EXwbbtM4QDXtLQ4F9Av/LVR/wA9UHIPcfiG9OooA4vU9D8K/F7wjY6gkjSRuBPYalat5dxav6q3VWBGCp7jkZFc9ZeM9Y8BXkfh34sbLvTbgmGy8TLH+4nBHCXK/wDLNscZPB75wWqDVIJvgz4pl13TYZH8EatMDqdpEuRpc7YAuEX+4xwGA6f98ivULm107xBozQXUVvqGnXsQyrAPHMjDIPoQeCDQB5/efCv+zLptb+FGsf8ACOXkx817Nf3mnXeR/FF0XI6MvQdB3p+n/FaXRr+PSfilpLeGL2Q7Yb8MZLC5P+zL0Q45wx47ntWdJpPiT4PyNc+Go7rxF4LX5pdIZ991pw7tAT99B12nn9Wru9K1bw18RPC/2iye11jS7pdskUiBwD3V0PRh6EUAaGoaXpPiPTRDqdnZ6nZTKGVZo1lRgRwRnI/EVwk/wYstNuJLrwBr+q+ErhzuMVrL51qx65aF+Dz2yB1qGX4a694NuJL34T60LW3ZjJJ4f1MtLZuep8s/eiJ9uvqBWhoPxa0641SPQ/GNjP4U15jtFrqBAimP/TKb7rgk4HTJ4GaAKZ1z4peFCRrfh+x8XWS/8vejy+RcAerQvwx9k/OtPRPjD4O1m7+wz6g+jakMB7DWIjayoT2O75SfYE13NZeueGdE8S2v2fX9KtNQjxgC4hDFfoeo+ooA01YMoZSCCMgg9aWvMz8IZ9AYy/DjxZqnh3BytjM/2yzPt5b8jPTOT+lIfGHxF8KD/ir/AAdHrtmn3tQ8Nyl3x7274Yn1wQBQB6bRXIeHfip4O8Tz/ZdP1mGG+DbGsr0G3nDf3dj4yfpmuvoAKKKKACorm0t7yHyryCKePOdkqBh+RqWigDldR+GHgfVSWvfCmks56vHarGx+rKAT0rBb4D+CYXL6NFqeiuSSW07Upk59eWI//VXpFFAHmv8Awq3xBYDGgfE/xLAB90aiY70D/voClGi/GDTeLPxX4d1rHQ6lpz25b6+SeK9JooA82/4ST4s6ccX3gTSdXA6vpuriEH3AlGfwo/4W3f2XGu/DnxZaY+9JbWa3Ua+5ZWHH4V6TWBr3jvwt4XDDXtfsLJ1GTE8wMn4IMsfyoA5mD47+AHlWG+1WfTJz/wAsr6xmiI/Hbj9a6PT/AIheDtVUHT/FGkTEjOwXsYb8VJyPyrkbv4uW+vwm28G+DNY8Vo+f3rWvkWjfWSQf0rndR+Fvinxtk6noPgvwpC5JLW2nrd3Y+rYCn8DQB7f58Xked5qeVjdv3Dbj1zXGa18YPA2hz/ZptehvLsnC22nqbmRj6YQEA/UiuM079l7wfb2jR6jqGq3sr/eZZViQHHUKF4/Emr2l/An/AIRVnfwN401jRnfk+bDDcA/UbVyPrQBfb4h+M9dOzwb8O75Iz0vNelWzRffy8lmH0NK3g74keIF/4qXx5FpELfftPD1psP4Tv84/Knf2H8X9N5svF+ga0R0GpaY1vu+vkk0h8RfFvTSPtvgfR9YUfeOm6r5P4gSj9KALelfBTwTp9x9qvtOk1y9Jy11rEzXTufcN8v8A47Xc2lla6fbLb2FtDawJ92KGMIq/QDivO/8AhbOp2LY8QfDjxVZrjmS0tlu0X3JUjAqSH47+A/OEOpahd6TM3SLULCaI+/O0gfie9AHo1Fc3p3xF8G6tj+z/ABTpEzH/AJZ/bEV/++SQe/pXQxTRzxLLBIskbcq6MCD+IoAfRRSMyopZyFVRkknAAoAWkZlRSzkKqjJJOABXnmrfF6wk1GTR/AenXHi/V14ZLAgW0J9ZJz8oH0z6cVTT4eeJ/GbrcfE/X2FoeRoOjO0NuB6SSfek69PyNAGhrPxb02PUH0jwdY3PivWVOGt9OGYoT0zJN91Rn61nDwD4s8cnzfiXrptNPfn+wNGcxxkcHbLL95/cDjuCK9C0fQ9L8Paeljodhb2FqnSK3jCjPqcdT7nmr9AGdofh7SPDOmrYaBp1vp9qv/LOBAu4+pPVj7nJrRoooAKKKKACiiuU+IHjaPwZokZtrdr/AFm/f7Ppmnx8vcTHpwOdo4JP+IoAyfiH4vv01C18F+C3D+JtUGTKBldOt/4p39DjO0dz+APSeDfCWn+CfDUGj6WGZUy808nL3Ep+9Ix7kn8uB2rJ+HngmXwxZXOpa5OL/wAS6s3nalennLdo09EUcAf/AFgOzoAKKKKACiiigAoorI1nXk0ySKztYGvtTuB+4tIzgkd3Y9FQd2P4ZNNJt2Qm0tzWZ1RCzsFUDJJOAKwZfGmjiZobB59UmU4KafA0+D7so2j8TUUfheXVGFx4tuvt75ytlHlbWL229XPu2foK6GGGK3hWK3iSKNRhURQoH4Cr9xeYveZgN4j1ZkL2/hTUCgGczTQxn8t5psXifU2hSabwrqPlSKGUwywyEgjPTeK6C4/49Zf9w/yqDSv+QPZf9e6f+ginePLfl/MVnfczIPGejvMsF5LNps7HAj1CFoMn2LDafwNbqsGUMpBBGQQetMnt4bqFobmGOaJhhkkUMp+oNc8/hm40hjP4RuvsnOW0+clrWT2A6xn3Xj2NK0HtoP3kdLRWVouvRasZreWF7LULbAuLOY/MnowPRlPZhwa1ahpp2Y077BRRRSGFFFFABRRRQAUUUUAFFFFABRRRQAUUUUAFFFFABRRRQAUUUUAFFFFABRRRQAUUUUAFFFFABRRRQAUUUUAecfH3/kiut/SP/wBGLXxHX258ff8Akiut/SP/ANGLXxHQAUUUUAFFFFABRRRQAUUUUAFFFFABRRRQAUUUUAFFFFABRRRQAV1Xwx/5KdoP/X4n865Wuq+GP/JTtB/6/E/nQB980UUUAFFFFABRRRQAUUUUAFFFFABRRRQAUUUUAFFFFABWV4i/5BcP/X/Z/wDpTHWrWV4i/wCQXD/1/wBn/wClMdaU/jXqTP4WatFFFZlBWf4g0pdd8M6npDtsW/s5bUt/dDoVz+taFFAHi2l+JfFej/DVPBMngjXJfENtZnTYLiOANZMApRJfPJ2hQMEj2r0vwN4cPhLwLpGhO6ySWNsscjp91n6sR7bia3qKACiiigAooooAytI/5Cmu/wDX+v8A6TQVq1laR/yFNd/6/wBf/SaCtWtKm/yX5Ex2CiiisygooooAKKKKACiiigAqlfaNpup4/tGwtrkjo0sQYr9CeRVx3WNC7sFVRksTgCsh/FekbylrctfODgrYwvcYPoSgIH4mqipfZE7dRP8AhE9JH+qS7hHpBfzxgfgrij/hFNLP+s+3Sj0l1K4kB/BpDR/wkFw/+o8P6tKOx2RR/o8imj+37pf9b4c1aMdziB8f98ymr/ed/wASfd7Fmy0HSdOk8yx062hlPWVYhvP/AALrWhWN/wAJXpUZxfPPp/vfW0kK/wDfbAL+ta0M8VzCstvKksbDKujBgfoRUSUt5FK3QfRRRUjCiiigAooooAiurWC+s5rS8hSe3nQxyxSLuV1IwQR3BFeV6FdT/CHxVB4V1aRn8IapMV0S+kYt9imY5+yyH0JyVJ/Xnb6zWZ4j8O6b4r8P3ei63AJ7O6Ta691PZlPZgcEH1FAGnXnPiX4c3tjrUviv4aXUeka83zXVm4/0TUh1KyL/AAsf74x36E7hF4E8Q6l4b18/DzxtOZr2FC+j6pJwNTtx2P8A01QcEdSBntub0ugDjPBXxGsvFNzNpGpW0mieJbPi70i74cf7cZ6SIeoI7YPQgnode8O6R4o0t9O8QafBf2j9Y5lzg+oPVT7gg1keNPAGk+NYYJLoy2WqWZ32OqWjbLi2ccghu4z/AAnj6HmuZ0bx/q/g/U7fw38WFjhklOyx8RRgC1vfQSdopPUHA+gwSAM/4RDxp8PMzeANSbxDo6jnQNXm/eRj0gn7eysMD3Nb/hX4oaF4lvm0q4E+ia7EQsuk6mnlTA/7GeHHpjnHOBmuzBDAEHIPII71geKvBHh7xpZi38RaZFdFB+6nHyywn1Rx8w9cZx6g0Ab9FeW/ZPiH8Octp8z+OvD0ef8ARrhtupQJ/svjE2OTgjJ6DFdX4R+Ifh3xqkiaNeFb2Ef6Rp9ynlXEBzghkPoe4yPegC14j8EeGvF0Jj8R6LaX/GBI6YkXjHDjDD8DXIf8Kw1/w0C/w78a39lGvK6Zq/8Aplqf9lSfmjHfIyfzr0yigDzM/EHxl4XJXx74Imnt1ODqfhxvtMX1MTYdFHXJ/Kum8M/EXwn4vAGga5a3Ex/5dmby5ge/7tsN+mK6auW8UfDrwf4qDT+INFtXmHzfbE/czL3z5ikNx15OKAOpor5/1zXk+GzeX4P+K8OoBThNE1ZDqOTn7gliBdPTHHHfip5vjz40s/DqXd/8NLy1LcG/lEy2wH98r5W4D8fxoA95qpqWrado1r9p1e/tbGDp5tzMsa/mxFeSeG7jxR8TYTNJ8T9Ls7dhlrHwzFiVV93l/eIfwrpdO+CXgy1vBe6ra3XiC/73WtXTXLH6g/KfxFADL743+EkuTZ+HzfeJr7OBbaNaPMSf97AXH0JqH/hIPip4gXGi+E9M8OQt0uNavDNJj1EcQ4Ps1eh2lla6fbrb2FtDawr92OGMIo+gHFT0AeaJ8Ltf1r5/HHxA1i93fetNKIsoP90heWHucGt7QPhb4K8MuJNK8O2azg5FxOpmlz673yR+FdbRQAAYGBRRRQAUUUUAFFFFABUc0ENzEY7iJJYz1WRQwP4GpKZLNHbwvNPIsUUalnd2AVQOpJPQUAc7qPw48F6sd1/4W0mVz1cWaKx/4EADXOXPwL8AxM9zY2d1oz4y81jqE0X48sQMfTvS6j8XYL/UJNJ+HGlT+LNSQ7Xltzss4D6vOfl/Lr61XT4Z674ukW6+KXiB7uLIZdD0tmhs074Y/ek/GgDgdSmnttSbSvhL438ZeJdSQ4MQuUubSDkffmddqjHpnp71pat8K/i14r0u2Hinxhpt+EG59LlDw28ncCQwKhb+nY17dpOj6doWnx2OjWMFjaxjCxQRhVH5dT71doA8o0iT4meD9OTT7L4feGru1iPyx6LqH2RW9wJR19zzV3/ha2s2K51/4Z+KLbAy5sYkvFX3ypHFelUUAecR/HjwKkgi1S8vtIlJx5d/p00Zz6ZCkD866HT/AIk+CtUIFj4q0iR26IbxFY/8BYg/pXSSRpLGySorowwVYZB/Cue1D4eeDtVVhf8AhbSJi3VzZRh/++gMj86AN+GeG5iEtvKksbdHjYMD+IqSvOZ/gP4BaQy2Gl3GlzHrLY300Z+mNxH6Uw/CXUbLnQfiR4stCOVS7ulu0X6KwHHtQB6TRXm3/COfFrTjmx8daRq4XoupaSIM+xMRz+NRXPiT4s6Day3WseFvDmqW9uheWSw1RrYBQMlszDgADvQB3PibxLpvhHw9dazrU/k2tuuTjlnbsqjuxPAFcZ4A8NalrGtP8QfG0JTV7uMpptg3I0y1PRR/tsDknryRxkivO08a6p458T6Z4q8UeBfEdx4Ysl83TLHTbb7Ujzg8zyfd3AY+XjH659Ej+PHgiOZYtXuNQ0aVuiajp00efyUigD0iiuW034m+CNW4sPFWku3ZHuljY/8AAWINdJbXVveQiW0njnjPAeJww/MUAS0UUUAFFFFAGZr+rjRtLM6RGe5kcQ20APM0rcKv9SewBNR6Boh0qGS4vJftWqXZD3d0R95v7q+iL0A/rVML/a3xAcvzBotuoQdvPlGSfqEA/wC+zXR1o/djykrV3CiuD+LnjfWfh/4Uh1vRrC1vIluViuvtG7EStwGG33wPxFU9U8Q/EPTvCNz4ihXwreWkFmbwCI3AMsYXdwTxyPWsyj0S4/49Zf8AcP8AKoNK/wCQPZf9e6f+giszwvq17rvgPTtW1SCO3ur6yW4eKLO1Ny5AGeehFaelf8gey/690/8AQRV/ZJ6luiq1/qNlpVm93qd3BZ26feluJAij8TxXIS/Gj4dwuVfxXYkg4+Tcw/MCoKN/xBoj6ikd7psgttWs8taz44PrG/qjdCO3UcirGh6umtaTHdrG0MgJjngb70MinDIfof6Uzw/4k0jxVpf9o+H71L203mPzUBA3DqOQPWs+FRpPj+SJPlt9ZtzNjt58WAx/FCv/AHzWi96NuxL0dzpKKKKzKCiiigAooooAKKKxvEfizR/Ctn5+sXaxkjMcK/NJJ/ur/Xp71UYuTtFajSbdkbNFcl4F8dp43GoPDYNZx2boqlpd5kDbuSMDH3emT1rrac4Spy5ZbjlFxdmFFFFQSFFFFABRRRQAUUUUAFFFFABRRRQAUUUUAFFFFABRRRQAUUUUAFFFFAHn3xysrrUPg/rFtYW8tzO4j2xQoWZvnXoBXx1/wg/ir/oXNV/8A5P8K/QaigD8+f8AhB/FX/Quar/4Byf4Uf8ACD+Kv+hc1X/wDk/wr9BqKAPz5/4QfxV/0Lmq/wDgHJ/hR/wg/ir/AKFzVf8AwDk/wr9BqKAPz5/4QfxV/wBC5qv/AIByf4Uf8IP4q/6FzVf/AADk/wAK/QaigD8+f+EH8Vf9C5qv/gHJ/hR/wg/ir/oXNV/8A5P8K/QaigD8+f8AhB/FX/Quar/4Byf4Uf8ACD+Kv+hc1X/wDk/wr9BqqWd4bm6voSP+PWcRZAxnMaP6/wC3j8KdmwPgT/hB/FX/AELmq/8AgHJ/hR/wg/ir/oXNV/8AAOT/AAr9BGDll2MoXPzArnP054p1ID8+f+EH8Vf9C5qv/gHJ/hR/wg/ir/oXNV/8A5P8K/QaigD8+f8AhB/FX/Quar/4Byf4Uf8ACD+Kv+hc1X/wDk/wr9BqKAPz5/4QfxV/0Lmq/wDgHJ/hR/wg/ir/AKFzVf8AwDk/wr9BqKAPz5/4QfxV/wBC5qv/AIByf4V0vw68IeI7P4jaJPdaDqUMKXaF5JLV1VRnqSRX3DRQAUUUUAFFFFABRRRQAUUUUAFFFFABRRRQAUUUUAFFFFABWV4i/wCQXD/1/wBn/wClMdatZXiL/kFw/wDX/Z/+lMdaU/jXqTP4WatFFFZlBTZJEhieSVgiIpZmY4AA6mnVzvxCLj4Y+KDDuEn9j3e3b1z5L4x70Ace3xg1WfRZvEuleBb698Kwl2OpfbY45XiQkNKsBGSowepHHPHNej6VqdprWkWmp6dKJrS8hWaFx/ErDI+nXpXI+D/sf/Cg9I3Y+y/8I9H5uP8Arh8/X33U34JCRfgt4bE27d9mJG7+7vbH6YoA7uiiigAooooAytI/5Cmu/wDX+v8A6TQVq1laR/yFNd/6/wBf/SaCtWtKm/yX5Ex2CiiisygooooAKKKCcDJ4FABWG+tXOpzNB4aiimVGKy38+fIQ+igcyH6EAf3s8VWBfxfNxuj0CM8YJB1Aj+UQ/wDH/wDd+90ccaRRrHEioiAKqqMBQOwFXZR33J1exjp4Zt7hxNrkr6vMDkC5A8pD/sxD5R9SCfetlEWNAkahVUYCqMAUtFS5N7jSSCiiikMCMjBrHn8M2Jma407fpd23JnssJuP+2uNr/wDAga2KKak1sJpMwjqmoaKf+KgSOaz6f2hbIQE/66x8lR/tAkeu0VtxyJLGskTK6OAyspyGB6EGnVzlzazeGLh77SoWl0tzuu7GMZMXrLEv/oSDr1HPDVpL1Fqjo6Kjt7iK7to7i2kWWGVQ6OhyGUjIIqSoKCiiigAooooA5nx34JtPG+gC0lka0v7ZxPp9/HxJaTjlXB64yBkd/qARmfDrxtd62134c8VRraeK9H+S9hAwtwnAW4j6ZRsg8dCewIrua4f4ieCbrXBaeIfC0i2fivRyZLGcnCzr/FBJ6owyOehPYE0AdxVLV9H0/XtKn03WbOK8s512yQyrlW/wPoRyKxfAnja18b6CbpIms9QtXMGoafLxJaTDgqwPOODg9/qCB09AHkhh8S/BklrQXXiXwMnLQH57zSV7lT/y0iHp2Hpgk+l6Fr2l+JtHh1TQr2K9spxlJYj+YI6gjuDgjvU9/qNlpdq11qd5b2duv3pbiVY0H1JIFeAeIPE3h/QPFUmr/BXUprzV5pVOoaFp1nJPZ3w7t8q7UbGTuU/lk5APoiuU8XfDfw94xZbq+t3s9ViwYNVsX8m6hI6ESDkgehyK4PRfip438d6td6R4W0DSdAvbLAuo9du3aePgZIhVVbAz1xjpnGa3G+GXiXX2DeN/iDqdzCeWstIjWxi/3SVyzD680AYmo+PvEXwiuo7TxxfWfifR3cLDewTRw6hEPSSEkeZgd1+pPOK1YPjlp2vSPB4D8Oa14mmTG5oIBDChPQNI5+X8RXQ6F8KPA/h11l07w5ZtOpyJ7lTPJn13SZIP0xVbxN8KdF1u/OsaNLN4c8QKD5eqaWfLcn/poowJAe4PJHGaAMxE+MHiM5ll0PwdbN2RTfXK/XP7ulX4KadqcizeOPEOt+KJByYru7MVuD7RpjH0zUA8c+LfALeV8TdLGoaSvA8R6REWVfeeEcp7kDGeADXoeja5pfiHTE1DQ7+3v7SThZoHDLnuD6Eeh5FAFbQ/CXh7w1GF0DRbHT+MFoIFViPdsZP4mtiiigDjvEPwo8G+JJ/tV3o0drfA5W9sGNtMrf3tyYyf97NYn/CKfEjwtz4V8Xw+ILNDxYeI4sybfQXCfMzfUAZ/GvTKKAPM0+MD6G6wfEfwrqnhls4N6qfarM84/wBbH0zxxg4z1rutE8R6N4ktBc6DqlpqEOAS1vKH2/UDkH2NaLosiMkihlYYZWGQR6Vw2s/B3wdqt0b20sZND1Hqt9osxtJVPXPy/KTnnJU0Ad1RXmY0f4qeE+dI1yw8Y2KD/j01WP7NcgeizLwx93p1t8aNO0+4S08e6JqnhG6bAD3sJktnb0WZBg/UgCgD0qiqmm6rp+s2a3ekX1tfW7dJbaVZFP4g4q3QAUUVHc3MFnbSXF3NHBBGu55ZXCqg9STwBQBJTJporeF5riRIooxud3YKqj1JPSvObv4t/wBs30mmfDPRp/E92h2veD91YwHj70p+916L17Go4vhbqfimaO8+KevSatg7l0exJgsoz6ED5pPqcUAS6j8XItRvZNK+G2kT+LNRQ7XmgPl2dueeXmPB6dB19c1BF8L9Y8WzLefFfXm1JA29ND01mgsYz2DYw0hHqcH6ivRtO02y0ixjstLtILO1jGEhgjCIv0AqzQBV07TLHSLCOy0qzgsrWIYSG3jCIv0A4q1RTXdI13SMqr6scCgB1FZdz4n0Gz/4/Nb063/663ca/wAzWTc/FDwLaZE3i/RsjqEvY3P/AI6TQB1VFef3Pxz+G9qSJPFFu5HaGCWTP/fKGq3/AAvnwbNj+zxq+oZ6fZdLmbP5gUAek0V5t/wuRZv+PDwB42uv9oaRtX8y1H/CyvF1wf8AiXfCzW3/AOvq6it/55oA9JorzYeLPipc/wCo+GtnZ+huddif9FFH2v40XP8AqtM8G2Q/6eLi4kI/74oA9JryXXbib4v+LJfC+lTSR+EdJmH9s3kTY+3TDkWyEfwjHzEf4Z53XtU+K+t+Kv8AhBLbXdEW8uIN+oS6VbSBdPhbjLSPyGYHgDnkcjg10Ph/4U+N9A0SDSNO+JK6fYQAhILPRIQeTkkuzFiSe5oA9XtraGztYra0iSGCFAkcca4VFAwAB2AFOkjSWNklRXRhgqwyD+Febj4Wa/cf8hH4oeJ5P+vV0t/5A0v/AApTTZf+Qh4t8YX57m41ljn8gKAOn1PwD4O1Tc+qeGdImY/elezjDf8AfWM/rXF6h8J/hNbzNcD7Po03OZbbVngI/Dfgc+3ar3/Cg/h+/wA19pt3fHu1zqM7Z/JxWDq2j/AfwdL5WoWmjm5BwLZGe7lz6FAWI/GgCrPpnhXRyf7H+OWo2AA4hm1yG7RPoh6d6ybn4kajobEW3xo0LVkX7q3uit09C0AOfr1NbFvPa6oCPh/8E7V4v4L/AFizgso/94KylnH0Natt8M/GOrhG8QeJ7LQYOC9l4XsVgI+k7fOPyoA8h8afH7xbe6Tb2llqOlJMk6zDUNFjuYs7R93E6jIOcEcg4IIwa9Y+Cfxpl+I0kui6zYiHV7S289p4ceVOgZVJ25yrZYcDI69Olcr8Vfhj4P03RrfQdBtb7UvGurTo1m8ly007gH53lLHCx7d2Tgc4PY43fgJ8KdW+H+seIbrxFFELhilrayxNuWSP77Mp64J2DnHKmgD0vwt89/4ilb77aqyH6LHGB+ldDXO6OfsXjLXbBuBceVfRD1DLsf8AJk/8eFdCSFUljgAZJrSp8X3Ex2MHx3YaXqfgLWbPXp47bT5bRxNPIcCLjIb8Dg/UVzXwQh1f/hT+l2viS22lFaO3WUcyW2fkLKenBwAe2K8+8TfFnRPEHjjydd03W7nwzpcge3tLWy3LfzqeJJdzL8in7q85PJ9K6bTPi9c+OfHug6J4S03U9OsvNefUbi+tVQtEiEiNR8wAJxk5B9KzKPWplVLN0RQqrGQABgAYqHSv+QPZf9e6f+gip7j/AI9Zf9w/yqDTAG0WzB6G3QH/AL5FX9knqeIeGNLHxx8fat4h8Tl5/DGjXJtdM03cRHKw6uwHXjBPruA6DFT+KdO0jw9+0Z4OsNK0iwjttRsXt7q0W2TYyZcq23GMgjr6CtD4ejUvhPY6t4c1fw7rF/D9vkubG90y1NwlxG4AAOD8jfL0bA561c8H+Ddb174oXPxF8Z2f9nOsX2fStMdw7wR4I3uRwGwW49WPtUFHqNrZ21jAILG3itogSRHCgRQT7CsTxH8niDwzKv3/ALe8f/ATBIT/AOgiuhrndSP23x5o9onIsYZb2X23Dy0/m/5Grp7/AH/kTLYu61rn9i+R/wASvUtQ87d/x4W/m7MY+9yMZzx9DWX/AMJz/wBSv4k/8F//ANlXU0VUZQSs43+YnGTejOW/4Tn/AKlfxJ/4L/8A7Kj/AITn/qV/En/gv/8Asq6miq56X8n4i5Z/zfgea+JfiXf6bd2MllpN7aRHf50Wp23leb93G05J45/Mda7Pw3r48RaYLsWNzZ/7M64De6nuPfird5pFhqF1b3N9axzy227yTIMhM4zx07CrlVUqUpU1GMLPuTGM1Jty0CvP/HPgzRIvD/iPXHtfPv5oGkEs7F/KIH8AP3f89uK9ArnPiEyp8PNbLEKPsrDJPc8CooSlGorPdo6abakrHB/AL/jz1z/rpD/J69frx/4BMPsuuLkbt8Jxn2evYK2x3+8S+X5F1/4jCiiiuMxCoL28g06wuL29lWK2tomllkboiKMkn6AGp64z4vlx8HfE/l7s/YHzt9O/6ZoA59/jDqseiL4nfwHfr4TYh/7R+2ReeIicCX7P129/vdOenNenWt1De2cN1aSLLBPGskUinh1YZBH1Bri9Y+xf8M/3nQWX/CMvt2j+D7NxjPfGMVf+F4kX4T+FhNu3f2Vb/e648sY/TFAGfrXxC1BPFV34d8G+GZfEeoafEkl+xvY7WG33jKLvYHLEc4x/XE2ieP7nxN4V1K80LQZH13TLj7Jc6Ld3KwMkoYBh5mCMbSSGxzjFZPwq2nxV8RN+ftH/AAkL7i2c7Ng2fh1xTPh8o/4XP8T2g3fZzcaeBnp5nkNv/X+lAFfxJ8UfGvhTSl1DWfhzDHC8yQRiPX0keSRzhVVViJJNepoWaNS67GIBK5zg+leYaqx8cfHaw0hf3mk+D4hf3Y6q95IP3Kn3VfmH4ivUaACiiigAooooAKKKKACiiigAooooAKKKKACiiigAooooAKKKKACiiigAooooAKytJ/5Cuuf9fqf+k8NatZWk/wDIV1z/AK/U/wDSeGtI7S9P1RMt0atFFFZlBRRRQAUUUUAFFFFABRRRQAUUUUAFFFFABRRRQAUUUUAFFFFABRRRQAUUUUAFFFFABWV4i/5BcP8A1/2f/pTHWrWV4i/5BcP/AF/2f/pTHWlP416kz+FmrRRRWZQVHPBFdW8lvcIJIpUKOjdGUjBB/CpKKAPLY/hBq1to8vhqy8d30HhSQsv9m/Y42mWJjlohcE5CnJH3elek6dp9rpOl22nafCsFraxLDDGvREUYA/IVZooAKKKKACiiigDK0j/kKa7/ANf6/wDpNBWrWVpH/IU13/r/AF/9JoK1a0qb/JfkTHYKKKKzKCiiigArE1svqV7BoULsqTL5166nBWAHGz6ufl+getusXw6PtMmpao3LXd28cZ9IoiY1H0JV2/4GauOnvEvXQ2URY41SNQiKAFVRgAegpaKKgoKKKKACiiigAooooAKKKKAMKyX+xNfbThxY3+6a0HaKQcyRj2P3wP8Af9BW7WN4qjYaBLeRAmbTmW9jx1JjO5gP95dy/wDAq2EdZI1dDuVgCCO4q5apMlaOwtFFY+teL/DvhxSde1uwsDjOye4VWP0XOT+AqCjYorzRvjVY6pI0Pgfw5rnid8kLNbWpht8+8r4x9cUjn4v+I8CNND8HWzZyWY31yv8A7ToA9LZgqlmIAAyST0rj9c+LPgfw+5iv/EVo84OPs9qxuJM+m2PJB+uKxh8GLTVcP448T674mbq0E90YLfPtFHjH512Gg+DfDnhiML4f0SxsDjBeGEB2+r/eP4mgDxbXPEHiK58Zf8Jz8MfBGtQ+XbsNVa/gEEOpQqMqRGW3O644Zct0GOx6Tw9F4++Jug2usv460/R9Lu03CDQLQtIOxVpZPmRgeDjPNev15F4gif4PeLZPFGkLu8KatMP7b05Dk2kpwBdRL6f3gP8ADaAbdn8EvBsd0t3rNveeIb1f+XnWbt7hj9VJC/pXdWOnWWmWwt9Ns7ezgXpFbxLGo/ADFZD+PPCMcCzSeKNGSN0Dqz38S5U9Dy1Ztz8W/AFpnzfF2lNj/nlcCT/0HNAD/Gvw707xe0N/FNLpOvWfNlq9pxNCewb++nqp9TgjNYegfETUdC1mDwt8U4YtO1OT5LLVo+LPUsejdEfplTjk9sgGWX49/DdDtj8Q+e/ZIbKdyfySsnxB8UPBHi7RZ9KvvDev65ZzjBjh0eRuf7yk4KsM8EYIzQB63RXzroHxJ8UfD5LqK48LeLNV8HW0YNtPq1iYLmyUcbGflXQdMnGPYDFdvpvxU8XeINOiv/DXw0uL60nGYp21m3jRu3XnvQB6kyhlKsAQRggjrXnus/Ca3j1OTW/AGpzeE9ZfmQ2ig2tyeuJYT8p57j1JwTUP/CQ/Fu5/1PgbR7L/AK+dXEmP++BR/wAXquu/gqxX1H2mRx/SgCK2+J+qeE549O+LOjnSznYmuWKtNYTnsSQN0ZPow9+BXpFpeW1/ZxXVhcRXNvMu6OaFw6OPUMOCK83ufCvxU1e1kttT8Y6DBbzKUkii0YTq6nqCJDgj61y9p8CfGXhexvJfBvxFkt7uYlzarZfZ7Z2/3VZgn1C+1AHu1FfOWmrNFqqaL8VPGvjfwvqkh/dMdUVLO55wDHMqYHuGxjjnNehp8EfDd1Gr3uteI9UjcAg3OsSMrA9Pu44xQB6PLPFAu6eVI19XYAfrWXc+LvDdln7Z4g0q3x1829jXH5tXIxfAT4cRtvk8Pmd/7097O/8AN8VqW3wj+H9rjyvCOltj/nrAJP8A0LNAEl18VvAVnnzvF2kHHXyrtZP/AEEmsW/+N/wweF7a78QW93G42tCLOaZX9sBCDXWWvgrwtY4+x+GtIt8dPKsIl/ktXpTpeiWT3M32TT7aFcvK22JEHueAKAPAtSvvhbdXjX3gy18VaLqTD5bjw1ZTQh/QGMgIRz0AGQcZo0/4q/Erw9LI0/h7V/EmiQpua81TSDpsqKPV1LJgDuRk131z8WbjxBdS6d8LtDm8QXCna2ozAw2MJ55Lnl+nQdexotvhRd+IrqPUPinrkuvyq29NMgzDYwnt8g5cjPVvxzQBwtx+1M11GtvovhVUu5cokt/qKRwI/uxABAz/AHl+tU4/DPxP8cXKar4v0ez1+1Lb7a0bWo47BeeD5cJO8j1LHI4Oa+g30HSJdIGlS6VZPpyrtFm1uhiA9NhGP0riLv4L6NbXUl74K1PVPCN4/J/sy4PkOf8AbhbKkewwOBQBVsrb4v29nHaaZpvgTR7SJcRwr9oIjHoAuBU/9ifF67/4+PF+gafn/n00xpcf99mozqHxY8Jf8hDTdO8bWK4zPYsLO7x3JjPyH6L/APqv6P8AGbwjqN6NP1O4uPD2p5Aax1qA2zg/U/L1460AVB4E+Itxk3/xWnAP8FrosEWPoc5o/wCFUatcH/iYfE3xc/r9mukg/kpr0eORJY1kidXRwGVlOQwPQg06gDzb/hSOiy/8hHxH4r1H3utYds/kBTk+Afw73brnRZrtv71xfzt/7PXo9FAHFW3wc+HtqQYvCenN/wBdYzJ/6ETWtbeBPCNnj7J4W0aHHdNPiB/PbW/RQBWttNsbIAWdnb24HQRRKuPyFWaKKACiiigArjPiH41m8NWdrpegwre+JtXfyNNtPQ95X9EUcn1x9SLXjj4h6B4D0S5vdWvYTcRpmGxWVfOnbsAvXr1PQCvIPAHi7VNQ1K/8VWfhDVPFHinUwR9o2/ZrKxh/hgjlk9MAkgc+p6kA9e8AeCYvBmhuk0xvdXvn+0anqDjL3Mx689doyQB2/E10d5fWmnWzXGoXUNrAv3pZ5Aij6k8V51/ZHxZ8SoP7V17SfCdsxyYdLtzc3G3P3S7naD7rViy+CfhYXi3viOTUfFF6vSbWrtpwPonC49iDQAt/8bfCcdybPQDfeJr7OBbaNatPk/7/AAuPcE1W/tz4r+JJANI8NaZ4Ws2/5eNXuPtExHqI4/un2avQtP0yx0m0W10uyt7K3X7sVvEsaj8AMVaoA8z/AOFQ3eubm8f+Nda10OctaW7/AGO1I9DGnX65Fdd4f8DeF/Cqr/wj+hWNi6jHmxwgyEe7nLH8TW9RQAVxvxA8fJ4Rtrex0y2Op+I9SPl6dpsZy0jf329EHc+31Il8eePLfwdZQQWtu2pa7qDeVpumRH553PGT6IO5qp4D8CTaLdXPiPxTcLqXirUhm5usfLbp2hiH8KDp70ASeAfAknh37RrXiK5GqeKdS+a+vj0QdoYh/Ci9PfGfQDtKKKAOf8T209vJaa/p8bS3OmlvNiQczW7Y8xR6kYDD3X3ras7y31Cyhu7OVZoJkDxyKchgamrl5rK88K3kt7o1u93pU7mS50+IfPAx6yQjuD1KfiPStF7yt1JejudRRVTTdUstYs1utNuEuIW4yp5U9wR1B9jzVuoaadmVuR3H/HrL/uH+VQaV/wAgey/690/9BFT3H/HrL/uH+VQaV/yB7L/r3T/0EVX2Sepbooqnqmr2OjWZudSuFhjzhc8s57Kqjlj7CpSbdkVsSX9/b6Zp817eyCKCBC7uew/x9qyPC9ncFLrWdSjaK91RxIYm6wRAYjj+oHJ92NQW1heeJb6LUddt2tbC3fzLPTZPvMw6Sze/ovbqeenTVb91cvUlau4UUUVmUFFFFABRRRQAVz2s+BfDviC8e61exe4lfG7/AEqVV4GB8qsAOB6V0NFVGUoO8XYabWqORh+Fng+3ffBpTxNjG5L2cH9HrrI0WKNUQYVQABnPAp1FOVSc/ibY3KUt2FFFFQSFVtR0+21bS7rTtQiE1rdwtDNGf4kYYI/I1ZooA8tj+EGrHRY/DN547vrjwpHhP7N+xxrM0QORE1wDnbxjgDjjgV1+r+F7u91Pw7NpGuXOj2WjylpbG2X93eR7QFjbkYAxx1HJ4zgjo6KAOC1b4daiPFt74i8F+KZfDt3qaIuoRGyS6hnKDCuEYjawHf8ATk52/Bng618HaXcQxXU1/e3tw11fX1xjzLmZurEDgDsAOBXRUUAct4E8FDwbZaj9ov8A+09R1S+kvby9MPleY7HgBdzYUDoMnv611NFFABRRRQAUUUUAFFFFABRRRQAUUUUAFFFFABRRRQAUUUUAFFFFABRRRQAUUUUAFZWlf8hfW/8Ar7T/ANJ4q1aytK/5DGt/9faf+iIquO0vT9UTLdGrRRRUFBRRRQAUUUUAFFFFABRRRQAUUUUAFFFFABRRRQAUUUUAFFFFABRRRQAUUUUAFFFFABWV4i/5BcP/AF/2f/pTHWrWV4i/5BcP/X/Z/wDpTHWlP416kz+FmrRRRWZQVV1PUINI0i81K8bbb2cDzyt6IilifyFWqwfHdpNf/DrxHZ2qF57jSrqKNR/EzRMAPzNAHndrf/E7W/AbeOrLxDZ2XmW731toH9mpJE8IyVRpSd+5lAORjk9u3pPhDxFF4s8HaXrsCeWt9brKY852N0Zc98MCPwrkfCXiXTYv2ddP1Z7iE21loSxSksCA8UWwoffcuMe9aPwcsJ9N+Dvhu3ukKSfYxIVIwQHYuP0YUAdtRRRQAUUUUAZWkf8AIU13/r/X/wBJoK1aytI/5Cmu/wDX+v8A6TQVq1pU3+S/ImOwUUUVmUFFFFABWN4P/wCRL0h+8lpHI31ZQx/U1s1i+Ejs8OQ2p+9ZPJaMPTy3ZB+YAP41a+F/13J+0bVFFFQUVdTF82lXQ0hoFvzEwt2uM+WsmPlLY5xn0rxSbXtb+FXxeGnaxrur+JtP1nSzLbw3LB3e8DYEcSjhNxGAAAAHGc7c17Dr/ibRvC1nBd+IdQh0+3nnFvHLMSFMhBIBPbhScnjivD/iPq+ozav4X+KEsb2+habq8cFpC0WJHtWz5lw/cb9uFHYbT1agD1Dwv4U8Q2niL/hIvEvie7u7i5tGjm0iNiLO2kZwwMag4+VQVyQSck5HSu0rE0nxJYeK7XUP+EcvPNjt28hNQiUSQtIUBzGc4fbkZ7Z49a8+8faLdeDPhZd6xL4x1yXxBaKpivjfSIlxMWACC2DGLackbdpIHfjNAHrlFZ+gTX9z4a0yfWYhDqMtpE93GBjZKUBcY9mzWhQAUUUUAV9QKDTbozKzR+S+8KpYkYOcAZJ+gr5iu/2ptQttFtdP8P6DDHLBBHE13eymTcQoBPlrjHT+8a+ltdvP7P8AD9/d9TDbu6j1IU4H4nArxD4pfAK2vdNg13wxZGTULaBFv9PhbYbxVUAvGcHEvGehDehPDV9kXU89h+Jfi3xfKya1r8zwPyILfXbPR4wPRicswxnjOa7nwp4Y1RCJvDXgHwXJOxLG6v8AWf7QkJ65LDPP0xXnmmeCZ4NFTXNImuNW0KNiJZ7W1juZLF85ZbmwlyCVPUqcY55zXU6P4ZsNX037fH4H8PeNtOQDfeeGbySxuofTzLclfn/2VA/nUjPV1g+NE6hfP8E6fH0AhjuZGX8+KX/hGfixc/674g6ZZf8AXtoqSY/77NcFpMHw3nvRYW/i7xl4H1IY/wBCvtQks3Un18wFevGN1d1D4G8b28KzeHfitdzQMNyi/wBPhu1kH+/kHHuKAH/8K68bXH/IQ+KuqP6/ZtOhg/lmj/hT80//ACEfiJ41uPVY9UESn8AtH2X4zaf/AKnUfCWroOouYJ4Hb6bPlB+tH/CXfFDT+NR+G9vfqPvTadrMY/JHG49R+RoAP+FF+FZf+Qhe69qA7i61WUg/kRU0HwH+G0ByPDMcjd2muppCfzc1D/wuCSz41zwB4vsPWRNO86If8CVv6VJb/Hj4fSTCC81ibTrg/wDLK+spoiPqSuB+dAHEx+CvDHwt8eraeI/D+nX/AIU1ucfYNSvbVJW064P/ACwkZgfkPZj0/BjXsdt4R8N2WPsfh7SrfHTyrKNcfktYt74m+H3jnQbnSLrxBo1/Z3keySA3sYfHY4J3KQcEHqCBXP8AgHxHeeFdei+H/iu9W8BQtoGrZyt9Av8AyyYjgSIMD3H4FgD0+KCKEYhiSMeiKBT6KKAEZQylWAIIwQR1rzDVfAWseC9Um8Q/Cgxqsz+Zf+G5W22136tF2ik+nHTsMH1CigDmPBXj7SPG9nL9hMlpqNqdl7pl0uy4tXHBDKe2e/T6HIHT1xfjT4cWniW8i1vSLuTQ/E9oP9F1a1GGPGNko6SIRxg9vYkHP8MfEe6t9bi8J/Ee0j0bxCVxb3Ct/ompDpuic9GPHyHnJ9eAAeiUUUUAU9V0fTtd06Sw1mxt760k+9DcRh1Pvg9D79RXnUngDxR4FZrj4Wat52nLknw5q8jSQ/SGUndGeuATjJyTXqNVr/UbLSrKS81O7htLaMZeaeQIq/iaAOO8N/FfSdW1RdE1+2uPDPiDgHTdSG3zD/0yk+7IPTGCewrs72+tNNs5LvUbqG0tohmSaeQIiD1JPAryLxZ4ntfitZyaD4P8Hp4ngDFTq+oq0FnbN0LJJw5P+4QSPUVztz8G/F+hjTNQ1SeP4h2dimZNDvLqWNYT1/c7mKvgcYccjjaewB3M/wAVb/xNcvYfCnQpNcZW2Pq92DBYQn/eOGkI/urg9xmn2fwlfW7uPUvihrU3ia7U7ksRmGxgPosQ+9j1br3Fa/gn4h+GvEaLpWnqdG1O1UJJol5F9nnt8D7ojOMgf7PbGcdK7OgCK2toLO2jt7OCO3gjG1IokCqg9ABwKloooAKKKKACqGr6FpXiCyNprmm2uoW5/wCWdzCsgHuMjg+4q/RQB5pN8G4tIke4+HXiTVfCkxO4W0UpuLMn1MMhOeffAyeKafEnxO8KMR4j8L2vieyU4+2aA5ScL6tA/wB5uvC4H9fTaKAOK8P/ABc8G+Ibn7HHqo07UAdr2GpobaZW/u4fgn2BNdrWR4g8J6B4qtfs/iLSLTUExhTPECyf7rdV/AivO9X8BQ/D+1N94R+IVx4TtlOVsdVuFuLIj+6qyHK+mQSaAPW6K8G0T4/641xc2dz4Y/4Sj7KpL6h4ZSZojj1V0yPc5x7VLoPxQ8XfEy5ktPD+q+GvChLmPyLuRp79eccRsFU/lQB7m7rGheRgqqMlicAVxGt/GPwPokxtm1qPUbzOFtNMU3Ujt/d+TIB+pFZq/BbT9UmS48c+INZ8UyjkxXdyYrcH1WKPGPpmu20Twzofhu38jQNJs9Pjxg/Z4VQt9SBk/U0AcOfHHxA8RbB4P8CNp1vJyL7xHMIQB/1xQ7/1qrqfgzxHcaTd6n8SviReWmnwxtJPbaIos4Y0A5BfBZwemCMnNerEhQSTgDkk9q8jkZvjT4s8mMn/AIQTRLjMjD7ur3K9FB7xKec9/wARgAxPhL8LtH1PWj44uNFW00wn/iS2Nyxlkdc/8fMpfOWbqo6DqOxr3cDAwKREWNFSNQqqMKqjAA9KWgAooooAKKKKACuW8deOrPwVpsRML3+rXreVp2mQcy3UnoPRRkZbt9cCpfG3jaw8E6Otzco11e3LeTYafDzLdzHoij6kZPb8hWH4E8D30Gqy+MfHMiXnii+TCovMWmxHpDEPXHVu/PuWAJPAfgW606/n8VeMZlv/ABXqC/vJBzHZRnpDEOwHc9/595RRQAUUUUAFFFFAGJqPhazvLxr+zlm0zUD1urNtrP8A76/dcf7wNQB/FuncNFp+tRDo6ubWU/UHcpP4iuioq+d7PUnlXQ5uXxHqAheO58LasjspH7rypR+Yeo7LX9Sj0+3t4PC2qPJHEqHzTFEuQAOpeuoop86ta35i5Xfc50nxbqPG2w0WI9W3G6lH0GFUH86s6b4XsrC7+3XDzahqGMfbLxt7r7KOiD2UCtmik5u1loPlXUKKKKgoKKKKACiiigAooooAKKKKACiiigAooooAKKKKACiiigAooooAKKKKACiiigAooooAKKKKACiiigAooooAKKKKACiiigAooooAKKKKACiiigAooooAKytK/wCQxrf/AF9Rn/yBHWhd3AtLOa4ZHkESFykYyzADOAO5ri/DXjrS9U8S3ltaRXbSX86vFmMYULEoJbnj7prenTnKEnFaJGc5RUkmzuaKKKwNAooooAKKKKACiiigAooooAKKKKACiiigAooooAKKKKACiiigAooooAKKKKACiiigArK8Rf8AILh/6/7P/wBKY61ayvEX/ILh/wCv+z/9KY60p/GvUmfws1aKKKzKCiiigDi5fhB4Cn1htTl8N2zXDy+cy+ZIIWf+8Yt3lk/8BrtAMDA4FFFABRRRQAUUUUAZWkf8hTXf+v8AX/0mgrVrK0j/AJCmu/8AX+v/AKTQVq1pU3+S/ImOwUUUVmUFFFFABWJbn+y/FdxbtxBqo+0QnsJkULIv4qqMPo5rbqjq+mLqtgYRI0MyMJYJl6xSLyre/uO4JHeqi1sxMvUVl6NrB1AS2t5F9l1K1wLm2z0z0dT/ABI2OD+BwQRWpSaadmCdylqejaZrUMUWsadaahHDIJY0uoFlCOOAwDA4PJ596lvtOstTsZLLUrO3vLWQYeC4iWSNh7qRg1YopDKRGneHtFdljg0/TrGFnZY0CRwxqCSQAMAAZPFeE6d8XvAniLxMfE3jbXTGtjK39j6L9jndbbHHnyFUKtM3bnCA+vI+g6KAKGhaxB4g8PafrFpHNFb39ulzEkwAcI6hhkAkZwR0Jq/RRQAUUVQ1fV4dItVklV5ppW8u3t4hl53PRVH6k9AASeBTSbdkGxT1o/2jqljoycqXW8uvaKNsqD/vSBR7hWrbrM0TTprSKa6vyr6heMJLllOVU4wsa/7KjgevJ6mtOnLsiV3PNvF/g3VdD8QyeOfhyijVSP8AiZ6TnbFqsY/9BlHOG7/mGzrHw54U+J9ovi3wVeXPhfxEhMc9xYgRzQy/xRXEXAfn1xnA5xXrVedeMPBGpadrz+Nvh3sh11V/03T2O2DVox1VvST0b16+tSUYmp+IdT0K1Gl/Gzwxba3o4OF8QWVoLiAD+9LDjdERxyo69Omas6f8LfDt5aJrPwr8V6hoMc3zK2mXhntXOP4omJBwf4cjHp6dp4N8Z6V470JrvT90csZMN7Y3C4ltZOjRyKfx+v51zmq/CWGx1J9a+G+pSeFNWbl4oFDWVz7SQngemVxjrgmgCAah8WvC3GoaXpfjOzXH76xk+x3WO5ZG+Qn2X/8AVb0341eFZrxbDxB9u8Lagf8Al21y2a3/ABD8pj3JFVLT4qXvhq9i0v4r6P8A2FO+Fi1e23S2FyfZsZjP+y2fUkcV31xaaT4j0tFu7ey1WwnUOglRJ4pAehGcgj3oAtW11b3tulxZzx3ELjKSROGVh7EcGlnt4bqFobqGOaJuqSKGU/ga88uPgpoVrcPd+DdR1XwndtkltLu2ETn/AGomyCPYY6CovM+LfhUHzYtJ8b2SfxRn7DeEDrxzH78ZPWgDptQ+G3grVGLX3hTSJHY5Mgs0Vj/wIAGuU1v9nnwFqNlMNL06TR74rmG6tbiU+U4+62wsVOD24+o61bsvjZ4dS7Wx8WWmpeFL4nb5Wr2rRox77ZBlSPc4rvrHULPVLNLvTLuC8tpBlJreUSI30YEg0AeDeA/DWsXOo33hrUvHvijRfFWlkmS2a++0W1zDn5Z4UcfdOeRk4J5x0Hcf8Ip8U7D/AI8PiLZ6io6JqGjImPbchyfrWr8RPA83iW3tdX8PzrYeKdIJl0299T3if1RuRg9M+hINn4f+OIfGuiSPLAbHWLF/s+p6dJw9rMMgjB52nBIP4dQaAMH7d8ZdO/4+NI8J6wo6fY7maByPfzOMn245o/4WL41sv+Qz8K9UTHU6ffw3efcBcflXpNFAHm3/AAu7RbX/AJDnh7xRouPvG/0hwB+Kluvaq+r/ABA+EPxD0STStZ17Tri2k6fag9u0bdmVnVSrD1H8jXqNYniK28LxWMl74rt9KFqg+ebUIoyo+pcUAeXaV4/n+HM8dnq+vQeLvCDELba1aXCT3NiOgWdUJLqP74/qFHrUniPRYdBXW5dVs00tkEi3jTqIip6ENnFeG6ppPhn4gPLafDP4Z2F1Ex2trl5E9jZx+6BNrv8AhjHXmsXXv2Z9Q0fRbW706+m15oHMl7psDfZ2ZT1NuzbhuAGPmBz+lAHp8vxP1nxdI1p8KNBfUIslW1zU1aCyj7EqDhpMegx9DVnT/hJHqN5HqfxH1e48V36nckEw8uzgPokI4PXGWzn0rmPBOk6h4m0UT+B/itrdq1tiKaw1S0huJrNhxskRsYxjGehwcV0h0v4x6b/x5+I/DOtAf9BCxktyf+/R60AejQwxW8KQ28aRRRjaiIoVVHoAOlPrzb/hJvixYf8AH54B0zVAOpsNYWL9JBR/wtfVbL/kO/DXxVbL3ezt0u1X3JUjAx3oA6Xxd4A8OeNoFXXrBXuIh+4vIT5dxAc5BSQcjB5xyPauRMnxF+HODN5njvw7H1dFC6nbp6kdJsf99H2FW4/jx4FSRY9VvL7SJWOBHqGnTRnP1CkD863LD4o+BdTIFp4s0gs3RZLtY2P4MQaALPhPx54d8bWrSaBqMc00f+utJPkngIODvjPI54z09Ca6KuI8R/D7wv46lj1eyn+x6vDzBrOkThJkPuy8OPY++CM1if8ACTeOfh0fK8Z6e/inQ4/u63pcWLiJfWeDvjuy8YHOTQB6lRWJpHjPw5r2hHWdK1qzn09RmScyhBF7OGwUPs2DXN6l8afB1pd/YtJubnxFf9rXRLdrpj75Hy/rQB39FeZ/8JJ8UfEyt/wj3hSx8N2zHC3Wu3BeUj1EMfKn2al/4VRqmvBT4/8AHOr6wmPmsrLFlbN7MqcsPfINAHR+IviT4P8ACpdNc8QWcEydbdH8yX6eWuW/Sub/AOFo6/4g2r4D8Bapexv92+1Uiyt8f3huyWH0wa6jw78PfCXhTB0HQbO1lH/Lfy98p/7aNlv1rpKAPNB4V+JviKQt4m8Z2uhWzdbPw9b/ADY/67SfMD9M1d0j4K+CtMuFu73T5Nbv85a81iZrl3PqQ3y/+O131FAEcEENtCsNtEkMSDCpGoVVHoAKwvE3gPwv4wj2+I9EtL1sYEzJtlUegkXDD6ZroaKAPMv+FbeKfDOG+Hnje7igXkaXrg+12/sqv9+MfTNA+JPirwz8nxB8D3iRL97U9CP2u3P+0U+/GPrmvTa4P4ieM77T5rTwp4PCT+KtXBWAHlbOLndcSegGDj1I74wQDltd8dwfFrVLXwV8P9WCWN5F5+r6kA0bxwZ5hjDAEu3Q8cD8ces6RpNjoOj22l6Vbrb2drGI4o0HAA/mfU964S0+BfgpfDdtp2p6aL69jzJLqu5o7mWYnLSF1OevIBJA/PMH/CD+PvCoB8E+NG1S0jHy6Z4jj84H0AnXDjjgDp/QA9OorzMfFjUvD37v4keDtT0VF+/qNkv2yz/3iycoMc4IJ/Ku10DxZoHim387w9rFnqKgZYQTBmT/AHl6r+IFAGvRRRQAVzvjbxpp3gfQTf34eeeVvKs7KEZlupT91EH8z2H5U7xn4y0vwPoD6nqzMxJ8u3to+ZLmQ9EQdyf0rmfBXg/VNT1oeOPiCobXJVIsNP6x6VCeiqO8hH3m/CgB3gTwXqU2sP428f7Z/EdypW2tQcxaXCekaD+9/eb6juc+iUUUAFFFFABRRRQAUUUUAFFFY+oeK9G024+zTXgluv8An2tlM0v/AHwgJFNRb2E2lubFFc9/wk19P/x4+GNVlHZphHAD+DNn8xUcXiXWHaTPhS8xE+x9l1CxBwD03c9RV+zl/TQuZHS0Vz3/AAmlhAQNWtNQ0r/avLVgn/fa5X9a27W8tr63WeyuIriFvuyROGU/iKlxlHdDUk9iaiiipGFFFFABRRRQAUUUUAFFFFABRRRQAUUUUAFFFFABRRRQAUUUUAFFFFABRRRQAUUUUAFFFB6UAY1rrN9d2sc8WlApIu5f9JHT8ql/tHUv+gUP/Alf8Kj0H/kAWX/XIVoUAU/7R1L/AKBQ/wDAlf8ACj+0dS/6BQ/8CV/wrMn8XWsHiL+yzY3rRrcJay3yqnkRTugdYzlt5JVk5ClfnUEjnG/QBQm1XUIIJJX0obY1LH/SV6AZ9KWPVNQliSRdKG1lDD/SV6H8Kl1L/kE3f/XB/wD0E06y/wCQfb/9cl/lQBF/aOpf9Aof+BK/4Uf2jqX/AECh/wCBK/4VcrAg8XWtx4hXSxZXqRyTSW0N86p5E00alnjX5t+QFfkqFOxsE8ZANP8AtHUv+gUP/Alf8KiudZvrS2eeXSgEQZP+kj/CtGs/Xv8AkB3P+6P5igCT+0dS/wCgUP8AwJX/AAo/tHUv+gUP/Alf8KuUUAU/7R1L/oFD/wACV/wo/tHUv+gUP/Alf8KzNK8XWurawLCOyvbcSxyy2txOiCO7SN1R2TDFhguv3wpIORkZNb9AGdcazfWyo0mlAB5FjH+kjqxwO1S/2jqX/QKH/gSv+FR6z/x723/X3D/6GK0KAKf9o6l/0Ch/4Er/AIVzPh7w3N4f1/UtSg0tT9qbECeeo8lDywHHr+gFdi7rHGzucKoJJ9BWHoHiu38QTtFHYX1kxt47uH7WiL58DkhZF2s2Adv3W2sOMqKuNSUU4p6MlxTab6Gj/aOpf9Aof+BK/wCFRTazfQSQo+lDMz7F/wBJHXBPp7Vo1n6l/wAfmm/9fP8A7TeoKJP7R1L/AKBQ/wDAlf8ACj+0dS/6BQ/8CV/wq5VbUtQt9J0u61C9Zlt7WFppSqliFUZOAOScDoOtADP7R1L/AKBQ/wDAlf8ACj+0dS/6BQ/8CV/wqtoevLrX2qOTT7zTbq0dVmtbwR713KGVsxu6kEHs3Yg4rVoAzn1m+juooG0ob5QxX/SR2xnt71L/AGjqX/QKH/gSv+FR3X/Ie0//AK5zfyWtCgCn/aOpf9Aof+BK/wCFH9o6l/0Ch/4Er/hVyigCn/aOpf8AQKH/AIEr/hUX9s332z7N/ZQ8zy/M/wCPkdM49K0az/8AmZf+3T/2egCT+0dS/wCgUP8AwJX/AAo/tHUv+gUP/Alf8KuVn6zq8ejWaTNbXF3LNKsMFtbBTJM7dFG4qo4BOWIAAPNAEn9o6l/0Ch/4Er/hR/aOpf8AQKH/AIEr/hTNF1eHXNKjvreOWFWeSN4pgA8Ukbsjo2CRlXVgcEjjgkc1foAg0/UJbu6uILi1+zvAEP8ArA+d2fQe1X6y7D/kPaj/ANc4f/Z61KACiiigAooooAKKKKACiiigArK8Rf8AILh/6/7P/wBKY61ayvEX/ILh/wCv+z/9KY60p/GvUmfws1aKKKzKCiisHxn4v0/wN4Zm1zV4bqa2idEKWsYdyWYKMAkDqe5oA3qKwJ/GOnweOrLwo8F4b69smvY5BB+6VFJBDMTkNx0x6ZxkZPCfjLT/ABjFqb6XDdxDTb6Swm+0xBC0iYyV5PHPfB9QKAN+iiigAooooAytI/5Cmu/9f6/+k0FatZWkf8hTXf8Ar/X/ANJoK1a0qb/JfkTHYKKKKzKCiiigAooooAzdV0ddQeG5t5jaX9sT5F0i5Kg9VYfxIe6/QjBANQWuumG5Sx16JLC8c7Yn3Zhuf+ubHv8A7Bw31HNbNRXNrBeW7wXkEc8LjDRyoGVh7g8ValpZk26olorE/sO60/nQNRa3j/59LtTPD/wHkMn4NgelL/aetWvF9oRnA6yafco4+u2TYR9Bn8aOW+zC/c2qKxv+Emt14n07Voj3H9nSv+qKwo/4Se1b/VWOrSHsP7MnTP8A30oo5Jdg5kbNFYv9r6rccWPh+dfR76eOFf8Ax0u3/jtIdJ1PUf8AkNal5cJ62unhogfZpCd5/wCA7KOW27C/Ymv9djt7k2OnxHUNRwD9miYDyx/ekboi/Xk9gaTTdHkivm1PVZlutRddisq4jt07pGD0GepPLYGeAAL1jp9pptuINPtoreLOdsahcn1PqferFHMkrRC3cKKKKgoKKKKAPOfG/gXUYNcHjf4eslr4lgXFzatxDqsQ6xyDpu44b2HPAK9D4I8cad440ZrqyV7W8tn8m/0+fiazlHBRx16g4OOcdiCB0tcB428D3zasvjHwE8dl4otlxLGflh1SIYzDMO54GG7YHIwCoB3N5ZWuo2ctpqFtDdW0y7ZIZ4w6OPQqeCK83uvhjq3hS4k1H4T6ydMy3mSaFfEy2E56kKPvRE+qn0HArpfA3jzT/HGmyvbxyWWpWbeVqGm3HE1pL0KkdxkHDd/YggdTQB57ovxZtRqkeh+PNNm8Ja0/EaXrA21yRwTFN91ufX1Aya9CBDAEHIPII71n61oOleI9MfT9d0+3v7R+TFOgYA+o9D7jmvPD4J8Y/D8GT4aamNV0lef+Ed1eUkIP7sExOV9lYgdyTQB6Ze2NpqVq1tqNrDd27/einjDo31B4NcFe/BPwwLpr3wxLqPhW/b/l40a6aEN6BkOVI9gBmr3hf4p6H4g1H+x9QSfQNfXAfStUXypCf+mZPEgPbHJHOK7agDzP7P8AFvwr/wAe11pPjezXACXAFjeEegYfuz9TyePevP8Axn4+j0XxPaeMIND1Twt4ngHkXtjqNuVttXt+6CVQVZxj5WOPu45wor6MrM8Q6pomk6NNceJrmzt9PxiQ3hXY3tg/ePtzQBX8JeLdJ8a+HbfWNDuFmgmUb0yN8L90cdmH/wBccEGrur61pmgac9/rd/b2FrH96W4kCL9BnqfYc18oeNNLWfXLzxn8JNJ1jSNBhjAutRt4mtYYzuwZYFUhimPvDGBycCu7h+F/ir+0bLxWmo6P8TYWhV4V1eSRMKRkeUCzR8nuw/AHoAdk3xG8R+NGMHwt0EvZk7Tr+rq0NsB6xp96T/ORVvS/hDaXF/Hqvj/VLjxbqaHcn2wbbaE8fchHyjkd/wAqhh+Mllo7R2vjzw5q3hGThBLPAZ7TPTCzRgg/kB0ru9H1/SPEFr9p0LU7TUYcAl7WZZAPrg8H2NAF6ONIYljhRY40G1UUYCj0Ap1FFAHC+MfhtHrGqL4j8LXp0DxTAuI7+FfkuB/cnTo6nAGTyMDqBiovCXxJkudYHhbx1ZDQfFCj5ImP+j3w/vwP0bP93OR05wcd/WF4u8H6H400R9P8Q2yyRLl4p1O2S3b++j/wkfke4I4oA3aK8Ls/i+vw11hvDvjLXbfxPpqj/RNYsZkluYwP+WdxGGzu7bup75ycdNb/ABF8ZeKoVl8DeBZY7OUAxajrtwLeNgejCNcsw9waAPTJI0ljZJUV0YYKsMg/hXF+LLP4ZabEz+MLPw3ASpP+lwQiQj/ZGNxP0rJ/4QDxz4hUf8Jl4/ntoW5ey8PwC2Ue3nH5yPqK2dD+EfgjQJzcW2hQXV2xy11fk3MjH1zITg/TFAHkl9YfDfXpS/w8+HGuazcniO909prG2/7+MwA/75q9onwg+JM195x8X3nhSwI+Wzh1Sa9kX2OSqfiDXv6qFUKoAAGAAOlLQB86aj+yvdy3jX9p4yFxdM/mN9t08MJHyTljvIPPYqe9TXni/wCJfwljhstW8M+Gv7IJCjUrC2kigz/t+X9wn3Qe1fQtNkjSWNo5UV0cFWVhkMD1BFAHlumfE7xreadFfD4drqdjKMpeaPrUFwr/AEXqPxq3/wALpsLXjW/CXi3SSOrXOksU+oZScinan8J/7O1KXWPhpq0nhXUZDumto132Nyf9uE8L6ZXGOwzUVj8VrnQL6HSvito58O3cr+XFqcOZNPuT6rJyY/o3QckigC7ZfHL4dXsnljxJFbyZwUuoJYSp9y6gfrXS6f4z8Matj+zPEWlXZP8ADDexufyByOtXZrPTNatEe4t7TULeRMozosqMp9M5BBrntQ+FHgLU8/avCWlAt1aC2WEn3ymDQB1wIYAg5B5BHeivNz8B/BcBJ0ddV0Y9QbDU5kwfUbmNIPhZr1h/yAvif4nhI5H9ovHejP0YDj2oA9Jorzb+wfi7Yf8AHp4z0PVsdP7Q0owbvr5R4/Cs/XPG/wATfBOi3GreKPD3hu9sbVcyy2GovBnnsJASSegGCcmgDsvHnjS28E+H/tRia81G5cQadYRjMl1O3CqAOcZOSfT3wKofDrwVdaBFd654lnW98UayRLf3HURD+GGP0Renvj2FeZ6H4h8QXHjRvHfjT4f+I75nhC6RBp8C3CWMDDOQuQS7d2IB56Dt3P8Awvbwjbf8hyDWtEHc6jpUqbT6HaG+lAHpNFcdp/xb8Aanj7N4t0tSeguJxCf/AB/FdLZavpupf8g7ULW7/wCuEyv/ACNAFyuK1/4R+DPEFwLt9JXTr9TlL7TGNrMrf3spgE89WBrtaKAPMf8AhG/id4T58NeJ7bxRZIOLLX49s4HtOnLN7tgVFd/G6Pw1ayf8LA8J6z4euVU+XhBcQTuATsSZflLHH05HNd34p8U6V4O8Pz6xrtwILaEcActI3ZFHdj6VxPhjwlqHjPXk8bfESzCuqkaPocw3JYRH+ORTw0rcHnp9QAoBW+HOnjx7qyfELxPeWV/eAY0zTbadZotKjPTOP+Wx7k8j2xger1wOs/BnwlqN41/pUFx4c1PBC32iTG1dfwX5frxn3rP/ALO+LHhIk6bqWneNbBTxb36i0uwPQSD5CfdqAPTqK84tfjTo1pdJZeN9N1LwjfMcKupW5MMh/wBiZQVI9zgcGu+0/UrHVrNbvSr23vbZ/uzW0qyIfoykigCzRRRQAUUUUAFU9V1W00awa7v5NkYIVVUbmkY9FVRyWPYCrE88VrbyT3DrHFEpd3Y8KoGSa53QrSXXL1fEmrIw3A/2bauP+PeI/wAZH99hyT2GB61cYrd7Et9EIunav4kHm63LLpentymnW0m2Vx/01kHI/wB1ce5NbmnaVYaTbiDTLOG1j/uxIBn3Pqfc1booc29OgKKQVQ0z/Xah/wBfR/8AQFq/VDTP9dqH/X0f/QFojsxvdF8gEEEZB6g1gXnhKza4a80aR9HvzyZ7QAK5/wBuP7rj6jPvW/RSUnHYGk9zA0/XrmDUI9J8SQpbXsmfs9xFnyLvH90n7reqHn0zW/VPVdLtdZ06Syv498T8gg4ZGHRlPYg8g1m+HdQuhPcaJrEnmahYgETEY+1Qn7suPXjDe496ppSV0LVOzN6iiisygooooAKKKKACiiigAooooAKKKKACiiigAooooAKKKKACiiigAooooAKKKKACg9KKD0oAx9B/5AFl/wBchWhXP6PPqa6NaiGC1aMRjaXlYEj3G2rv2jV/+fey/wC/zf8AxNAGXJ4SuH8Ry3aaki6bPex6hNZm2JkadI1RcS78BP3aEqUJyDyAcV09Zn2jV/8An3sv+/zf/E0faNX/AOfey/7/ADf/ABNAFrUv+QTd/wDXB/8A0E06y/5B9v8A9cl/lWXfz6odOuRJb2gQxNuKzMSBg/7NOtLjVRZwhLezK+WuCZmzjH+7QBs1zFl4SuLTxAty+pJJplveT39rZi2KyRzzBg5aXeQy/vZSF2AjeOTt51PtGr/8+9l/3+b/AOJo+0av/wA+9l/3+b/4mgDTrP17/kB3P+6P5imfaNX/AOfey/7/ADf/ABNUtYn1NtJnE0FqqbRkpKxPUf7NAHQUVmfaNX/597L/AL/N/wDE0faNX/597L/v83/xNAGXoPhK40jVIZrjU0urWxhmg0+BLYxtEksiufMfeRIRsVQQq8ZyCTkdPWZ9o1f/AJ97L/v83/xNH2jV/wDn3sv+/wA3/wATQA/Wf+Pe2/6+4f8A0MVoVz+qT6m0MHmwWoH2mIjbKx53jH8PSrv2jV/+fey/7/N/8TQBfnhS5t5IJRlJEKMAexGDWB4Z8M3mizCXUtUTUHhs4rG3Mdt5O2KPOC43tuc5GWG0cDCitD7Rq/8Az72X/f5v/iaPtGr/APPvZf8Af5v/AImgDTrP1L/j803/AK+f/ab0z7Rq/wDz72X/AH+b/wCJqlfz6mbmw8yC1BE/ybZWOTsbr8vpmgDoKo63pUeuaDfaXNI0SXkDwmRMbk3DG4Z4yOvPHFRfaNX/AOfey/7/ADf/ABNH2jV/+fey/wC/zf8AxNAEWhaReafLeXerX8V9fXjoZJILcwRqqLtVVQu5Hck7jknt0rYrM+0av/z72X/f5v8A4mj7Rq//AD72X/f5v/iaAH3X/Ie0/wD65zfyWtCufuJ9TOsWRaC1DhJdoErYP3c5+Wrv2jV/+fey/wC/zf8AxNAF65W4e3YWcscUxxteWMyKOecqGUnj3FFutwqv9qlikYyMUMcZQKmflByxyQOp4z1wOlUftGr/APPvZf8Af5v/AImj7Rq//PvZf9/m/wDiaANOs/8A5mX/ALdP/Z6Z9o1f/n3sv+/zf/E1S8/U/wC3s+Ra+Z9mxjzWxjd67etAHQVleINIm1e1tjZXaWl7Z3K3NtNLCZUVwCpDIGUsCrMOGB5zninfaNX/AOfey/7/ADf/ABNH2jV/+fey/wC/zf8AxNADtB0ptF0dLSS4+0zGWWeaYJsDyyyNK5C5O1dztgZOBgZPWtGsz7Rq/wDz72X/AH+b/wCJo+0av/z72X/f5v8A4mgCew/5D2o/9c4f/Z61KxdGed9Y1E3SRpJsh4jYsP4/UCtqgAooooAKKKKACiiigAooooAKyvEX/ILh/wCv+z/9KY61ayvEX/ILh/6/7P8A9KY60p/GvUmfws1aKKKzKCiignAyeBQAUV51cfGzw9Cs13DpmvXejQSGOXW7bTi9mhBwTvzkgHjIUivQLW5gvbOG6tJVmgnjWSKRDlXVhkEH0INAEtFFFABRRRQBlaR/yFNd/wCv9f8A0mgrVrK0j/kKa7/1/r/6TQVq1pU3+S/ImOwUUUVmUFFFFABRRRQAUUUUAFFVb/U7LS4BNqF1FboThTI2Cx9AOpPsKz/7eubr/kF6JfTg9JbhRbJ/4/8AP/44apRb1FdI2qKxv+Knm5/4lNp7fvbjH4/JR9n8TDn+09JPt/Z0o/Xz6fL5iv5GzRWL53iW35e0029Xv5U7wt+AZWB/Ej60HxPDbf8AIYsb3Sx3kniDRD3MkZZVHuxFHI+gcyNqimQzRXEKywSJLG4yrowIYeoIp9QUFFFFABRRRQAUUUUAcD468B3t7qsPi7wPPHp/iuyXbluItQiHWGYd+Bw3bj0BXU8C+PLLxrp86+RJp+r2L+VqOl3HEtrJ9O6nBw3f2ORXVVwfjzwFdanfw+KfBlyumeLLFcRzdI72Mf8ALGYd1OMAnpx7YAO8orkvAfj228ZWc8Fxbvpuu6efL1LS5uJLd/Uf3kPZq2te8R6P4X01r/xBqNvp9sv8c743H0UdWPsMmgCt4p8G6B4z037F4j06K7QcxyH5ZIj6o45U/Q/WvOdXu/FfwXs/th1mHxP4XVgBbatcrDfW46bY5TxLx2Iz0AA61oHx14w8dnyvhton9naY/H/CQa0hRWH96GHq/qCeOxArT0L4RaRa6kus+K7q48V64OftmpnckZ9I4vuoM9BzjsaAOasPjHqnxH1A6T8MbG3s5Qgaa91uZFaIdfkgVizkc88j1rotH+EOmDUU1fxrfXHi3V15WbUf9TF7Rw/dUfXPrxWx4t+G/hvxl5c2pWjW+oQYNvqVk/k3MBHQq4647Bsgelct/avxB+HDAa/A/jXw8vW/sott/bL6yR9JAB3HPUk9qAPUGhjeEwvGrRMuwoVBUrjGMeleTW7yfBXxStncOx8BaxP/AKNI5J/se5Y/6sntC3JB7Hrjkt6D4X8Y6D4z037b4c1GK7Qf6yMHEkJ9HQ8qfqPpWV448WeBLPR7rSvGmraf9nuYzHNZu/mSMPZFy2c8ggcHFAHWukdxCySKssUi4ZWAKsD/ADFcNq/wa8G6neG+srCXQtR/hvdFmNpIvuAvy575K9a8y8HfFXXvDfkeEtM0W88Q2lxcGHw7qOpubDzogMiNmkXDFeAMHJ4GBwK7w+G/ij4mjzr/AIssvDVu5+a10O3Ly7fQzOcqfdaAKmpW3xA+H1t9pt/Guj61pq5xD4lxbSgegnU4Y+7Y61iWv7T2lLp9y+qeGdSW5tztc2Msdzbk/wDXYEAD8DXaad8FvB9rdi91a2ufEN93utbuWumP/AT8v6V3FtY2lnZi0tLWGC2AwIYowqAem0cUAeTaH418f/EqLzfCknhvw/Y4+eV7xdQuk/4AnyqfZgK1U+DcerZfx74q1vxMz8vbvcG2tfwijIx+damufB/wVrlz9rOkLpt+G3Le6Y5tZVb+9lMAn6g1lf8ACKfEnwv83hbxhD4gtVyRY+I4iZMe1wnzMx98DP40Adfpngjwvo1i9npnh7TbeCSMxyotqh81SMEMSMsD75rhbjwv4h+Fd1LqXw9il1fw27mS88Nu2Xgzyz2rHn/gHOffIxbPxZv/AA8u34i+DNV0NV+/f2ii9tB/tF05X1wQT19K7Hw/4y8OeKoRJ4e1qzv8jJSKUb1+qH5h+IoAb4S8ZaL420ZdR0C7EyA7ZoXG2W3fuki9VP6HsSOa3a4Dxb8N5LjWD4p8C3o0LxQgO+RR/o9+P7k6dDn+91HXnAxN4O+JEes6m/hzxRZHQfFNuo82wmYbLgf89IGzh1PJxyR74zQB3NFFFABRRRQAVBe2VrqNlLZ6hbQ3VtMu2WGZA6OPQqeCKnooA8wm+GeseDrh9Q+E2r/YUJLS6DqLNLZTc5Ow/eiPuPbkCruifFmz/tNdD8d2EvhLXCcJDetm3ue26Kb7rDPHXrxzXoVZ+t6DpXiPTX0/XdPt7+1fkxToGAPqPQ+45oA0KK8sHgnxj8Pf3nw41T+2NHQ7j4d1eXlF/uwT/wAPsG47kmt3wt8VND8RagNHvkn0HX14fStTTypSf9gniQcHGOSOcCgDs5po7eCSa4kWKKNS7u5wFUDJJPYYryfTIpvjF4uj129V18E6PPnTbZ1IGp3C5BnYd0U52jv+Yp/ia9uPir4sl8FaHPJF4b05/wDioNQhOPOYdLVG/wDQj/hg+pWdnbadYw2djAlvbW6COKKMYVFAwABQBNRRRQBj6h4Q8N6rn+1PD+l3hPUz2Ubn8yK5q9+CHw5vuZfC9tE3Y28kkOD/AMAYV3tFAHm3/Ck9Ltf+QF4o8V6NjkLZ6s2z8QwOR049qy/EWh+KvAug3GsSfFu6gsrVclNS0yG5Mh7IDkMWJ4GOa9M17XtO8M6HdavrVyttZ2qb5Hb9AB3JPAHcmvO/DWg6n8R9ft/Gnje1a20u2bfoWhy9EHa4mHdyOgPT8qAOP0zwv8WvFmoaP401yPQr82ql7HStV8yHy8/dl8uMbQ56/MTjjvjHef8ACZfEyw/5Cfw0jvEHWbTtYiP5Iwya9JooA82Pxhksx/xPfAPi+wA+9KunCaJf+BK39Kmtvjt8PZ5fJuNcawnH3ob20miZfqSuP1r0Oobmztr2Py7y3iuE/uyoGH5GgDnovG3gbxDavbL4h0O/hlGHt5LqJtw90Y/zFc/d/BvwxPcHVfB15e+F7yTn7TodyY45MdjHyhXrwMVqax4M+G8xP9saJ4djbu7wwxN/30MGuHv/AAb8DbOR5bbXNP0eduS9hr5Rv++fMI/Id6AN1X+LXhIYlj0vxzYofvIRY3m33B/dnj6k81c0740+F5L1dP8AEgvPC2pdDa61bmAfUSfc2+5IyDmvO7rVfA+jn/iU/HHxHb46JJcNfIv0Hl9PasnUvHOo31m1paeNP+EztW6WuoeDiysewyACc+vWgD6YguIbq3Se1ljmhkGUkjYMrD1BHWiC4hurdJ7WWOaGRQySRsGVh6gjgivinUJvGWi6ffalpPhnVvC9owP2i401bu2tHDYX50lLDnOOCBk8dK6L9nz4n6vofiey8IzRTahpWpTbIolOXtHPJdc/wd2HYZYc5DAH0r4sH2+XS9BH3NRuM3A9YIxvcfidq/8AAq6MAAAAYA6AVz0/7z4lWat0i0qV0+plQH9BXQ1pLRJErdszPEl5qGneGNRvdFto7q/t7d5YIJc7ZGUZ28c84rz7wL418d+P/CsOuaSvhiKKR2jeGUXG+JlOCDg46YP0Ir1SvHvg9p02k/ELxza6IVn8KteB7e4Q/Itx/HGn97bnBI4+VazKOr+GvizXfFcGt/8ACRWNnaSaZqUlgps2YrI0f3zlj0yRiun0z/Xah/19H/0BauRwxQhhDGkYZizbVAyT1J96p6Z/rtQ/6+j/AOgLVx2Ynui87rGjPIwVVGSzHAArj7/4t+AtNuGgu/FWnCRDhljl8zH4rmuG+ItzqHxD+LFn8NLG6ls9Ht4BeazJC2GlXgiPPpgrx6tntVP43eFPDngf4VWd14b0iysLmx1K3e3kWEF3YbshmPLgjOQSc4qBnqfhvx/4X8X3c1t4b1iHUJoE8yRY1YbVzjPIHek8VKNPutM16P5Ws7hYZz6wSkIwP0Yq34Vo6HY2EOnwXdlptrZSXMCPIIIFjPIzg4HbNVfG6hvAms5/hs5HH1UZH6gVdP4kTL4TdoqjdXV5Bov2iwsvt90EQrb+aI9+SM/MeBgEn8KxP7f8W/8AQl/+VWL/AAqo0pSV1b70vzYnNLf8mdTRXLf2/wCLf+hL/wDKrF/hR/b/AIt/6Ev/AMqsX+FV7Cfdf+BR/wAxe0j5/c/8jqaK898V+JfFdv4auZX8PvpIUoftiajHIY/nX+EDJz0/GtDwL4j8Q61bj+2dL2wY+W9/1e//AIAev1HFW8LNU/aXVvVEqtFz5NfuOyrhfEXj2/s/GcHhbQNLjudQm2nzriQiNQV3E4HPAGSc9q7qqv8AZdh/aX9ofYbb7bt2/afJXzMYxjdjOMVjTlCLvJX/AMzoi0nqjzbxJ8RfFHgnW7e28QWGl3dtOm9Xs/MQkZwR8zHkfSvTLG8i1DT7e9tiTDcxLLGT3VgCP0NeMeKop/in8RYtP0TnTtOXypr0LlF5yzZ75xgDvjPTmvaLO0isLC3s7YbYbeJYoweyqMD9BXTiYwjCGlpdTWooqK7k1FFFcRgFFFeYfHHxrqvhXw5plh4cnW11TW71bSO4YZ8lP4mHvkqM9gT3xQB6fRXgviCTxB8HvHnhJk8W6xr2k63cfZb+HV7jztrbkBdM/dGHyAP7uCTmvb9Vvv7M0a9vzG0otbeSby16ttUtgfXFAFuivm7R/wDhMPGnwn1v4jT+ONZstStPtE9tY2U/lWiJCNxVox97IBx+Gc16J4UvNX+K/wAKdA1E+Ib3Q5pN66hJpyIks7IxQ7XIIjyV3cDvigD02ivn/wAH634j8LftJTeA38R6h4g0aSNiW1KYzyw/uPNUlj0IOF4wCG6Zxj6AoAKKKKACiiigAoPSig9KAMDRP+QHZ/8AXIVfqhon/IDs/wDrkKv0AFFYM/iy2g8Qf2WbK9ZFuEtZb5VTyIp3QOsZy28kqychSvzgEjnG9QBW1H/kF3X/AFxf/wBBNPs/+PGD/rmv8qZqP/ILuv8Ari//AKCafZ/8eMH/AFzX+VAE1FVNW1O30bR7vU7zcLe0haaTbjO1Rk9SB+ZA9SK5+fx0YNIutQPhvV2SxeVL2MPaBrXYquSxM4VgVbI2FuhBweKAOrqhrf8AyBbn/dH8xVu3lM9tFMYpIjIgYxyDDJkZwR6iqmt/8gW5/wB0fzFAF+iisfV/ESaNd28c+n3ssErxRyXcSJ5UBkkEaBizBjliBhAxHBOARkA2KK5258badb3WowLb3c7WAjXMSKRPJJJ5SxRksMt5mFJOFBOCeGxpaLrEetWTzLbXFpLDM8E1tchfMidTyDtZlPGDkEjBFAC6v/x72/8A19Q/+hir9UNX/wCPe3/6+of/AEMVfoAKKyLzxCljrttp02nXvlXLiJb4KggWQqzBOWDk4XqqlRkAkc4qf8JlatYzTQ6dqMsyXosYrTylSaeQoHG0OwCjYd3zlSADkA8UAdFVDUf+PvTv+vn/ANkal0bVYdb0mK/tkkiWQsrRTAB43Viro2CRlWUg4JHHBI5pNR/4+9O/6+f/AGRqAL9FFZXiDXh4fsTdNpt9fRoryS/ZFT9zGgyzsXZRgegJY9gcHABq0VkDxLZP4ig0eFJpZpoTMZUUeXHxkKxJzuIOcAHAwTjcudegChc/8huw/wByX/2Wr9ULn/kN2H+5L/7LV+gAooooAKof8zF/26/+z1fqh/zMX/br/wCz0AX6KKoaxqyaPZpM1tPdyyyrDDbWwUySueijcVUcAnLEAAHmgC/RVHRtWh1vSo763jlhVneN4pgA8UiOUdGwSMqysDgkccEir1AEGmf8hvUf+ucP/s9a9ZGmf8hvUf8ArnD/AOz1r0AFFFFABRRRQAUUUUAFFFFABWV4i/5BcP8A1/2f/pTHWrWV4i/5BcP/AF/2f/pTHWlP416kz+FmrRRRWZQVz/j+eW1+Gvia4t3Mc0WkXTxuvVWELEH866CoL6yh1LTrmxu13wXMTQyr6qwII/I0AcT4P0+xb9n3SrMqn2Sfw8nnDGR88GZMj6s1O+CcssvwW8NNOSWFqVBP90OwX9AK5+28BfEbT/Cj+CrHXtEOgFGto9Rlil+3R27ZBQIPkLAHAOa9M0LRrXw74fsdH04MLWxgSCLcckhRjJPqepoAv0UUUAFFFFAGVpH/ACFNd/6/1/8ASaCtWsrSP+Qprv8A1/r/AOk0FataVN/kvyJjsFFFFZlBRRRQAUUUUABIUEk4A5JPasE6ne64Snh/EFn0bU5EyG9REh+9/vn5fTdTJlfxTeSW4fbolu5SYqeb2QH5kz/zzB4P945HQHPQIqxoqIoVVGAoGAB6Vekd9ydzPsNBsNPn+0pG092Rhru5cySn23HoPYYHtWjRRUtt7jSS2CiiikMKKKKAMafw5DHI9zokraVdsdxMI/dSH/bi+6314b0Ip1lrMgvE0/WbcWd6+REVbdFc4HJjb177Tgj3HNa9VdR0621Wye1vE3RsQQVOGRhyGUjkMDyCKvmvpIm1ti1RWNpN7dW942j6xIJLpF329xjH2qIcE46B1yAwHqCODgbNS1ZjTuFFFFIYUUVkeI/FmheEdON74j1O3sIOdvmt8zn0VR8zH2ANAGvWT4h8U6J4U0433iLU7ewgHQyty59FXqx9gDXBjxd468fDZ4D0f/hHtJfprmtR/vHX1hg7+oLcH2rX8PfCTQtK1Aavrstx4m1w8tqGqt5pU/7CH5UHp1I9aAOC17/hIvib4isfEXwz0CbQbmxDCPxFqDfZzdJgjyvKwxdCcYLDj2q38KdE8OeJNUu7nxkl5qXjvTX239trjiQ2xzkNDH9zy8kEEDjI6AjPrOteJdE8N2pn13VbPTogODcTKhP0B5P0FeL+N/E+l+OtWstU+Fen61feKtOYfZdYsLIpb7c8xTNJtDIcng9MnsSCAe+AYGBUc88NtC01zKkMSjLPIwVR9Sa8X0DxX8SPH+rX+hyajo/gu+08hbu1+yvPeAED94gc7ChJ4IJxxzyCelh+Cmh3k6XPjDVNY8VTodwGp3jGJT/sxrgAexzQBZ1f40+C9NuGtLLUJNbvxwtpo8LXTufQFfl/8eqifFfxN8RFV8N+C7bQbd+l54guctj/AK4R/MD9c13uk6FpOg232fRNMtNPhPVLWBYwfrgc1foA8WuvgDd6/qV5rXibxfMms3UZXzdHs47RFJ/v4+aUfUgkd6z/AA9pw+DEka+LvBNjd6dEcDxVpduZpIx/enRsunbJXAz0Br3mkZQylWAIIwQR1oA5LW9L8N/FnwM8FtfQ3lpMd9tfWrhmtplHyupByGXPI44JB61m/D3xfqL6jc+CvGxWPxPpabhMBhNRt+izoe5/vD1/EBmtfCa2TVH1zwBqMvhLWm5kazQG2ue+JYfunnuPUnBrg/HWr6t9ms4/iFYt4a8SaU5k0jxZpytNYySf3HwNyK/AKsPfAHBAPf6K4z4a/EK18e6CzuIrfV7IiPULNJA4jfs6EZDRsBlWBI9zjNdnQAUUUUAFcb4h+E3grxLKbi90OC3vM7heWObeYN/e3JjJ+ua7KigDzL/hCPiB4Y58GeN/7TtlB26f4li84ew89cP7Y4Fc7401iXVtMFn8V/h/qmnG3bfb69obi6Fq46SK6/NGM9jnoMj09td0jXdIyqvqxwKzLrxT4fsRm913TLcDr5t5Gn8zQB5F4M+N1rpV3Fo/ivXbTWdNkYJZ+I7f5CR/Ct1CcNE3+0Rg++C1e4RyJNEksLrJG6hkdTkMD0IPcV5R4vm+B/iIyP4iv/Dk9wxJa5tblRMT6l4juP45rybUvHS/DS4ij+Evjw65pJY50W/t5JfI7/KxQDZnP3SpGf4uTQB9ZUV4N4W/aTn1G3kbWPB2o3McPD3miRNNHn0KuF2/ixrV079ovT9fvfsfhnwrq2oXR6QPLBE59fl3k0AeyUV5t/wmvxLueLP4WeSP791rsAx/wEDNH9pfGS65g0HwpYe13eTS4/74FAHpNFebf2Z8Y7r/AF/iHwtYZ/59LKWXH/fZo/4Qf4j3XN98VJIwesdpokCY/wCBZzQB6TXkfxgS08aahZeAdI0+1v8AXbgrPNeSJn+yYARmUsOQxzwvfv1GcP4haBqnhfTbeA/EHxfq2v6o/wBn03T7S7WDzn7swVeEXOScjjjI61teH/2fNFg09Z/E+p6vqWr3Khr+ZdQdUlk79MMQOgJOaAIbLQfFfwWsTF4cktfE/hreZZLC4KW17AT95kf7snqQeegA711mg/GLwPrunm4bXbXSpoztms9VlW2mib0KsefqpI96qQfAf4cQNvPhxZ3zktPdzSZ/N8UusfAz4fatpLWS6BDYNg+Xc2RMcsZ9d3OfowI9qALl18ZPh5ZgmbxZp7Y/54uZf/QQazW+PfgBmK2OpXd+w7WunTt/NBWFa6b4m+FQH27w9Y+LtAiwPtum2KRahbr6vGBiUAcZBz1JNej+E/GXh7xjpv2nwzqEN1HHgSRL8skJPZkOCvftjjigDlP+F0Wc3/IO8GeM7/PQwaMdp/EsKp6t8Y9Y0vSbjUpfhxrdvZ2675JtQmitVUe+See2OueK9K1XVbHRNKuNS1W5jtbO2QySyyHAUD/PSvMdH06++L+sW/iPxLbSWvhGzk8zSNJmXBvWHS4mH93+6vf6feAOTY/Ej4m63pvie68GW7aDABNpml32oLHFv7TyLjdIf7uQBgjAOST3nm/Gm6+5beC7BTz+8kuZWHtxxmvSQMDAooA82/4R/wCLl1/x8eN9FsP+vTSfN/8AQzR/wr3x1c/8hL4rag+eotNLgt/5Zr0migDzb/hT8txzqXxD8a3GeqpqgiQ/8BC0f8KI8Hzf8hN9Y1L1+16pM2fyIr0migDgrb4IfDi0/wBV4VtW/wCuskkn/oTGtm2+HXguzINt4S0RCP4v7PiJ/MrmukooAp2ukabZDFlp9rbj/plAqfyFXKZNNFbwPNcSJFFGpZ5HYKqgdSSegryu+8Ra78Vb2XSPAU0mmeGY3Md94jHD3GPvR2w/Qv8AX8QCbxx4vfxXd3fgHwRp9trd9MmzUbq4G6z09c/xn+J+OFHcd8EVS+GfwJg+Hvjq51ttRXUIhZrFa749rpI3+tYgcAcfLjs5B6ZPo3hfwrpHg7QotJ0C0W2to+SeryN3Z26sx9f6VsUAc7rJ+xeMdCvzxHN5tjI3oXAdP1Qj8RXRVna9pI1rRZ7LzPKlbDwyjrFIp3I34ECovDusHWNNJuEEN/bN5N5b55ilHX8D1B7gitHrFPsStHY8y+L/AMTo9M1GPwnZjVI45cHVb3T7YvJFERny4iSBvYdWz8oPc9Ma6+N+lab4NXQPhv4Y1mzvfLFtYi4slSKAnjecM24jOeRyete+UVmUQ2Uc0Vhbx3UpmnSJVkkIA3sByeOOT6VW0z/Xah/19H/0Bav1Q0z/AF2of9fR/wDQFq47MT3R5vf6VqXgz44X3jJNIvdV0fWbBbaZrCPzZbWRdvJjHJUhByM9apeJdB1v4x+KdJgvNJvNF8I6XN9ombUE8ua+k/urH1VcZGT/AHj9K9koqBiKoVQqgAAYAHauf8bsZPDh0+P/AFupTxWaD/fYbvyUMfwroa5iwb/hJPFJ1Rfm03S98Fm3aaY8SSD1AHyg+u6tKej5uxMtrdzplUKoVeABgUtFFZlBRRRQAyaCK4j8u4iSVCQSrqCMg5HB9xT6KKACvLvi744/suKPw9YzPFNdKDeTRgFooTxtAyPmIz3HH1yPUazbzw5omo3TXOoaNp91O2A0s9qjscDAySM1tQnCE1KavYunJRldnlmlfFbwp4Y8Nf2f4d0rUBLGhKGeONRLJj7zkOT/AJwK9P8AC2qXGteFdO1K8WNZ7qESOsSkKCewBJP60z/hDvDP/Qu6T/4Axf8AxNa0MMVvBHBbxpFFGoRI0UKqKBgAAdAB2rStUpTXuJ37sqcoPZD6KKK5TIK8S/aUs549K8Ma+sTy2mk6mGudi52K20gn0GUx9WFe20yeCK5geG5iSaKQbXjkUMrD0IPWgDwP4p6zpXxI+IHgDRPCF/Bqzx3hu7mSzkEiwRboySxHAO1WJB5GBkcivUNN+I2g678QdU8EQRXTahp8JedpYR5Lj5Qyg5yfvjqAOvWt3SvDmh6C0h0PRtP00y/6w2dqkO/67QM1NDo+mW+qz6nb6daRahcKEmu0gVZZVGMBnAyRwOCewoA+c/F2j/CzQfBWr3PhXxpfTLfRP9m8P2GsboJJ3G1S0KjfgHBO49Bj0FdLb+JW+Bn7O+jQX8Y/t+7jka2tJOokdi5LD0QOu4euB3r1u28IeGrPUv7Rs/D2lQX2d32qKyjWXPrvC5qfV/Dui+IFiXXtHsNTWEkxC9tUm8vOM43A4zgdPSgDyH4Jab4b0i4l1vXfFujar4z15syrHqMMkke47vLUK3LE4LY9ABwOfb6wbPwL4R068iu9P8LaLa3MLbo5oNOiR0PqGC5BreoAKKKKACiiigAoPSig9KAMDRP+QHZ/9chV+qGif8gOz/65Cr9AHNSeFLh/EUt2mpIumz3seoTWZtyZGnSNUGJd+An7tCV2E5B5AOK6WiigCtqP/ILuv+uL/wDoJp9n/wAeMH/XNf5UzUf+QXdf9cX/APQTT7P/AI8YP+ua/wAqAK+tafLquiXdjb3T2cs8RRJ0yTGexwCCR6gEEjPI61z+n+CJbTR102bULcWr6il5La2dmYLcRoFxBFHvby0LorsMsGJkGBvOOuooAKoa3/yBbn/dH8xV+qGt/wDIFuf90fzFAF+sDW9F1fUtcsLuz1WzhsrT52srmxeYSSZ/1m5ZU5A4UEEAndgkLt36KAOKn+Glit1Nc6Vf3lrLshNus91PcxxSxT+crFHlIK7gBtGON2CCxNdFoWlTaVaTC8ulu7u6ne4uJo4jEjO2BhULMVAUKMFj061p0UAUNX/497f/AK+of/QxV+qGr/8AHvb/APX1D/6GKv0AYF5omr3Pi+21RdVs/sFsoEdjNYs7Rsch5FkEqgOynbuKNtGQANz7sweD9baW5uZdcsDdnUV1G1dNMcJFIIvJYOpnJdTHkcFSCc5PSuyooAz9C0s6No8Vm8/2iXfJLNNt2iSWR2kkYLk7QXZiBk4GBk9aXUf+PvTv+vn/ANkar9UNR/4+9O/6+f8A2RqAL9YXijRdT1y2trfTdTtrOBZd9zDc2bTpdKOiNtkjIXPJGfmxtOVLK27RQBzSeCbNPEtprgubtbuNpJJ0S7uPJmkdQpYRGQqg4+7g9vSuloooAoXP/IbsP9yX/wBlq/VC5/5Ddh/uS/8AstX6AIrhblhH9kliiIcF/MiL7l7gYYYPvz9DUdlHfIp/tC5t522oAYLdohuCjceXbgtkgdhxlutWaKACqH/Mxf8Abr/7PV+qH/Mxf9uv/s9AF+srX9Im1a1tjZXSWl5Z3K3NvNJCZUDAFSGQMpYFWYcMDznPFatFAGdoOlNo2kJaST/aJTLLPNME2B5JZGkchcnau52wMnAwMnrWjRRQBBpn/Ib1H/rnD/7PWvWRpn/Ib1H/AK5w/wDs9a9ABRRRQAUUUUAFFFFABRRRQAVleIv+QXD/ANf9n/6Ux1q1leIv+QXD/wBf9n/6Ux1pT+NepM/hZq0UUVmUFFFRXd1DY2c13dOI4II2kkc9FVRkn8hQBLRXkiePviLqXhOXxro+g6INAWN7mLT7mWX7dNbrnLhh8ikgZAwePXjPpXh7W7XxL4b0/WrDcLe+t0nQN1UMM4PuOn4UAaNFFFABRRRQBlaR/wAhTXf+v9f/AEmgrVrK0j/kKa7/ANf6/wDpNBWrWlTf5L8iY7BRRRWZQUUUUAFZPiK6nisY7OxkMd5qEotoXXrHkEu//AUDMPcD1rWrFk/0nxxCrcrZWDSAf7UrhQfyjYfiaqO9yZbGpZ2kNhZQ2lqgjhhQIijsBU1FFSUFFFcN4g+Lvhrw34kh0e/W+ffcraS30NtutbaZhkRvJkDdggkDJA64oA7miuS8W/EfRvCF/bWN3BfX95O0ebfT4RI0Ku4RHkJIVFLkKMnk9M11tABRRRQAUUUUAZXiCxmutOE9gP8AT7JvtFqem5gOUJ9GGVP1q9Y3sOo6fb3tsSYbiNZUJHOCMip64hvGvh3wNpN/H4k1W3sUtL2ZIYmbMjqSJFCIPmbAkA4HFXvH0J2Z29Y3iTxdoPhGwN34i1OCyjx8qu2Xk9lUcsfoK8A8V/tM3OqzPZeEkOj2ZO0380SzXLA55SMkRp/wJqwdH8T2sWoNqhvvD9pqDn5tY8R3japeeu6OKEFI+pwMZ96go9l/4S3x148+XwPpA8O6Q/8AzG9Zj/euv96KD6dC2QfaseOP4W+AdV/tHxX4kXxL4nz81zeObydXHQJEm4R8jjuPWuUOteBdeZW8Y/EDxN4yYcvaWVlNb2rdz+7RB09c11+geM/CPh2MJ4M+Fvib/rtaaFgn6yM24/iaANn/AIWN4u8QoP8AhB/AF75TnC32uyLaRAf3vLyXYfSl/wCEI+IHiJi3i7x42mQN1svDcPk4/wC2z/P+lO/4WV4tuf8AkGfCzW5PT7XcxW3880f8JT8Vrr/j3+Hen2Oehu9bSTH/AHwKANLRfg74H0SYXC6JFqF5nLXepMbqRj/e+fIB9wBXbIixoEjUKqjAUDAFeb+Z8abr7sPguwU8/O9zKw9uOKP+Ee+Ld3/x8eOdH0//AK9NIEuP++zQBr+PfAX/AAk4ttW0S7/snxPpvzafqSD/AMhSD+KM8gg5xk8HJBj8BeP38RzXOheI7QaT4q03i908n5XHaWI/xIeD1OMjqCCcz/hXfja4/wCQj8VdUf1+y6dDb/TpmsfXvgAuqo2oJ438STa9DCUsr28u1YRdflO1QwU5I4Pfv0oA9hqlc6zplln7ZqNpb46+bOq/zNeF+BPA3g/xHdXHh7x3ZanF4tsB/pVld6pOVnX/AJ7QkMNyH8SPyJ9Ftfgl8ObTHleFbNsf89Xkl/8AQmNAGtdfEnwTZZ+0+LdFUjqov42P5A5rGufjl8N7UkSeKLdyO0MMsmf++VNblr8PPBllj7L4U0WMj+IWEWfz25rZttMsLIAWdlb24HI8qJVx+QoA4D/he3hKb/kGW+t6n6fZNKlbd9MgVFdfFUarayWsXw08YahBMpR0utJVIpAeoO5iCPqK9OooA+YZ/C/i7RvFKeKvhZ8P9W8OzxKxuLW5vIXgnj6snkkhuePlBPONoBANaelftE+Jtbngtk0jQdHknJjS51W5mSB5B95dwXCkccE8ZFfRdePfETwnH4U1e68YWGkR6toF9/yMujNGHV1HS6jU8B1yST+PGWIANdYPjPeqGbUPBtijDI+zxXEpA+rcGl/4RL4pXX/Hz8S7W0B6ra6FE35FjWXpvhbXPDmmW+tfBrX01bQZ186PQdTlLwsh7QSn5oz14bgH73TFdJ4Z+Kuka1qn9ia3bXHhvxAoGdN1MBGkz3jfpIOOMYJ9KAM//hWXie5/5CfxR8QSZ6/ZI4rb+QOKP+FK2E3/ACEfGPjLUPUXGssR7dFFek0UAecJ8BPh8W33uk3F+/8AeutQnc/+hgVqWvwf+H1of3XhLTG/66xeb/6FmuzooAxLXwV4WscfY/DWkW+OnlWES/yWteG2gtl228McS9MIgUfpUlFAHnXib4cXdrrcviv4bXceja+wzcWrL/ompAfwyoOjf7Y5z7ncMzTm8D/FO6n0bxt4Vt9O8VWw/wBLsLpfLn/34pVw0id8g/oQT6xXL+NfAGkeN7OL7aJLTUrU77LVLU7Li1ccgqw5xn+Hp9DggA5v/hWXiXw2N3w/8dX9tEo+XTdZUXlv/uqx+aMfTJ/Ol/4Tvxz4ayPG3gWS9t1Pzah4bk+0IfU+S2JAO+T2+lR6T481jwXqsHhz4rCNRM/l2HiSIbba79Fl/wCeUnr269hk+nKwZQykEEZBB60Acl4d+KfgzxQ4i0zXbZLrO02l0fImDZxt2Pgk59M1qeLvFWneDPDVzrWruRDCMJGv35pD92NR3Yn/AB6CqfjDwp4P1rTLi88ZaVYTwQRF5bqdArxoByfMGGHHoa8U8K/DDWPFzr4l8NazdaNodldibw7YauGvUcKMGUo5wgYj5cAn8gSAenfD3wpqU+qXHjrxtH/xUOoptt7UnK6ZbfwxL/tEcsevb1z6HXmf/CY/Ebwzx4s8Ex61ar96+8Nzb2x/17v85OPQgVsaB8XPBfiGb7Nb61FZXoOHstRBtplb+7h8An/dJoA7SigHIyKKACuB8c/D3wzeCbxM92/hfVLRTK+uWD+Q4A6+ZjiQHAznk9M13F3d29hZzXd9PHb20CGSWWRgqooGSST0FeUW9refGvWkv9QSW18BWUu60tXBR9XkX/lo46iIHoO/54APP/7f8R+Io9J1j4oWOpar4Dsnd4ruysxGt4Vb5Li5iDZCY9gPrzn6M0LW9I1/SYr3w9fW17ZMAEe3YFV/2cD7pHocEVfREijWONVRFAVVUYAA7AV59rnwksjqMmt+BL+bwlrrEM01iP8AR7jBziWD7rAn268nNAHodFeYQfEzWfCFxHY/FnRxp8bMEi17Tg0tlMeg3/xRE+hHPPAAr0exv7TU7GK9025hu7WZd0U8Dh0ceoI4NAFiiiigAooooAKzte1/TPDOjT6rrl5HZ2cC5eRz19gOpJ7Acmszxp460nwRpiT6kzz3dw3l2dhbjdPdP2VF69SMnoPyFcroXgXVvF2tQeKviiEeSJt+m+H1Ia3sR2Mn/PST36D8gACnBp+u/GO4S815LnRPBAIe30zOy41QdQ8xBysZ7L34Poa9Us7O206yhs7CCO2toECRQxKFVFHQADpUwGBgUUAFFFFABWFrOjXP24azoDJFqcabJI3OI7yMfwP6Efwt2+lbtFVGTi7oTVzK0fxDaauzwYe1v4R+/spxtliP07r6MMg1q1natoGn60qfboT5sXMVxExSWI+quORWaLLxRpfFjqFtq8A6R36mKUD08xAQfxWqtGWzsK7W50dUNM/12of9fR/9AWs3/hIdXg4vfCt8D62s0UwP0+YH8wKrWfiC9ikuinhnWGM05kUNHGoxtUckv7VSg7P/ADE5K51VMmmit4XmuJEiiQbnd2AVR6knpWAb7xVe/La6RZ6ap/5aXtz5rD/gEfH/AI9Sx+E1u5luPEl9LrEqHcsUihLdD6iIcH6tuNTypfEx8zeyKst3deMibXSzLa6GeJ7/AAVe6HdIu4U93/L1rprW1gsrWK2tIlhghUJHGgwFA6AVKAAAAMAdAKKUpX0WwJW1CiiioKCiiigAooooAKKKKACiiigAooooAKKKKACiiigAooooAKKKKACiiigAooooAKD0ooPSgDltInvl0e1EWnNIgjGH85Rn8DV37RqH/QLb/v8Ap/jUmg/8gCy/65CtCgDL+0ah/wBAtv8Av+n+NH2jUP8AoFt/3/T/ABrUooAw76e/OnXIfTWVTE2W85DgYPPWnWtxfizhC6YzDy1wfOTnj61o6l/yCbv/AK4P/wCgmnWX/IPt/wDrkv8AKgCl9o1D/oFt/wB/0/xo+0ah/wBAtv8Av+n+NalFAGX9o1D/AKBbf9/0/wAapavPfNpM4k05o12jLecpxyOwroaz9e/5Adz/ALo/mKAI/tGof9Atv+/6f40faNQ/6Bbf9/0/xrUooAy/tGof9Atv+/6f40faNQ/6Bbf9/wBP8a1KKAOe1Oe+MMHmacyD7TEQfOU5O8YH41d+0ah/0C2/7/p/jUms/wDHvbf9fcP/AKGK0KAMv7RqH/QLb/v+n+NH2jUP+gW3/f8AT/GtSigDL+0ah/0C2/7/AKf41Svp743Njv05lInyo85TuOxuK6Gs/Uv+PzTf+vn/ANpvQBH9o1D/AKBbf9/0/wAaPtGof9Atv+/6f41qUUAZf2jUP+gW3/f9P8aPtGof9Atv+/6f41qUUAc9cT3x1eyLacwcJLtXzl+b7ueau/aNQ/6Bbf8Af9P8akuv+Q9p/wD1zm/ktaFAGX9o1D/oFt/3/T/Gj7RqH/QLb/v+n+NalFAGX9o1D/oFt/3/AE/xql599/buf7Obf9mxs85em7rmuhrP/wCZl/7dP/Z6AI/tGof9Atv+/wCn+NH2jUP+gW3/AH/T/GtSigDL+0ah/wBAtv8Av+n+NH2jUP8AoFt/3/T/ABrUooAzNFeV9X1EzwGB9kPylg39/uK26y7D/kPaj/1zh/8AZ61KACiiigAooooAKKKKACiiigArK8Rf8guH/r/s/wD0pjrVrK8Rf8guH/r/ALP/ANKY60p/GvUmfws1aKKKzKCue+IMTz/DLxRDCpeSTR7tVUdSTCwAroaRlV1KuAysMEEZBFAHCeEb+zT9n7Srxyv2WDw8nm5OB8kGH5Hupp3wUt5Lb4L+GkmXaxtTIB/ss7MD+RFUz8EfDoWS0h1PXoNFllMr6HFqBWyJJyV2Y3bSe26vQ4IIrW3jgto0ihiQJHGi4VFAwAB2AFAD6KKKACiiigDK0j/kKa7/ANf6/wDpNBWrWVpH/IU13/r/AF/9JoK1a0qb/JfkTHYKKKKzKCiiigArGh+Tx1eZ/wCWum2+3/gMs2f/AEMVs1iawfsOuaVqZ4i3NZTt2VZcbCf+2iIv/A6uPVEy7m3RRRUFBXlf7QNlpa/BnVYXENvM86T26pHzLMH3uQB1JQSEn0yT0r067FwbGcWRQXJjbyTJ90Pj5c9eM4rh9B8Dazfwte/EzUrXVtV+xPYwrZxlYII3XbI6ggZkcfebAGOAAM5ALfwrtYX8C2WuNO15qOuwx31/dyfeklZR8vsqD5AOwX61buPEfiCfWtQsNC8LNLHYlVa71O7NpDcEruxCRHIXxnBJAGeM1zXw08A+MPCVvZaVruv2c2i6TJK1lDYiQSXG/djzmbA2ruJCDIzjk7RXXeKLTxBqmntB4S12y0qcBlkkmszcNkgbdp3gIRz1Vuo4GOQCDwJ42tvHGjXN3FaS2N1ZXb2V5aSsGMMyY3AMOGHI5rpq82+Cd7p7eGdU0i10xtOv9I1Oa21MGcz+fcg4eXzCAW3Y7gYxjpivSaACiiigAr5v+KfwSvvF2ua94q8MSNPdLeFJdPduZVWKMExsf4t275Tx2BGAD9FXl3DYWM93dPshgjaSRj2UDJqj4btZrbQYDdoUubgvczqeqvIxdl/Atj8KpL3WxdT498M/DPUb4T32hQ/22bZgl1YxNHBe2TZwfMgnRgT6bSQcEZ647jQ9ROl3i2X/AAni+F77oLDxJ4Tgt+nGfOHyge+RmvZ/Gfw3g1++TX/D94+g+KbYfuNTth/rMfwTL0kQ8Dnn6jg5WjeM7bWb5fBfxX0S0sddb5Yo7mISWepDpvhZgRk/3Tz265AkYy0HxfjtUn03VfBet2rjKO0c0e8f7JT5etS/8JN8WbFSbv4f6ZqeM/8AHjrKw/8AowGnXPwV0azuHvPBOqar4Su2OT/Ztyxhc/7cTEgj2GBxUf2n4t+Fj/pNppPjayUnMts32G8I9Sp/d++F56j0oAcPij4itFB1n4X+JYh3+wCO7x/3yRmlPxy8O23/ACGdH8SaOf4hf6RIpX67c1NY/GvwwbtLHxNHqHhW/Yf6jWrVoQT0OH5Uj3JHBrvbS8tr+1S5sbiG5gf7ssLh1b6EcGgDh7P45fDi+UGLxTbJntPFJFj/AL6UVv2fjzwjqCg2PijR589kvoify3ZrTvNI03Uc/wBoafa3WRg+fCr5HpyKwb34X+BdQJN14S0cserR2aRk/ioBoA6eGeK4jElvKkqHoyMGB/EU+vOZ/gJ8O5JvOttFksZv+elpezRn8t+B+VM/4Uxb23OkeNvGWnY+7HDq5aMHtlWU5+maANrx74Bt/GNrb3Vpctpev6e3madqkI+eFv7p/vIe6+9VfAvju51S+l8MeMbZdL8WWKbprcH93dx9poT/ABKe46g5rO/4V747tGB0r4ragqjot9pcNzn2JJFc74s+GXxO8R/Y5ZfEugT32ny+bZ34tZLWeBs/wsgPB6EEEcDjPNAHtlFeHaR8UPibF4om8J6t4X0e71u0jDiL7YbVr1B/y1iLZRgQMnGMc8DBA6dfiP4ztc/2x8KtWiCnn7DfQ3f5bcZoA9KorzU/GzTrZc6v4R8YaVgcm70dgp9cEE5HvU1t8efhzcSGJ/EP2aUHBS5tJoyPxKY/WgD0SkZQylWAIIwQR1rmbH4leCdSA+x+LNHcnojXsaN/3yxBrftNRstQTfYXlvdL/ehlVx+hoA8qKy/BTxRuXe/gHWLj5gBxoty56+0LE/QfX73ofiTwnoHjTSRZ+IdOg1C2I3Rsw+ZMj7yOOVPuDWhqWm2esaXcadqdulzaXUZimhccOpHIrzTwpqV58MvFEHgPxLcyT6LeMf8AhHNTmOTj/n0kb+8M/L6jAHUKABx0T4gfDolvC92fGOgIcjStQl23lunpFMeHAHQN7ACun8I/Erw74xle0sriSz1WLibSr9PJuoiBkjYeuO5XIHeusrmPF/w98O+NoozrNmVu4Tm3v7ZvKuICOhVxzx6HI9qAOnory0XXxC+G/wAt/HL488Prk/aIFC6jbL/tJnEwHqDk85wOK7Pwp448PeNbD7T4d1GO5Kj97AflmhPcOh5HPGeh7E0Ab9FFFABRRRQBT1XSbDXNMm07V7OG8s512yQzIGVh/j79RXmBtfEvwa+bTluvEvgdOXtfv3mlL6of+WkY9OoHpgk+t15l471zUPFniA/DvwdO0U0iB9b1OM8WFuf4Af8Ano44A9D9SADLfUP+F56+lnpjuPAemSo97MVKHVJwAywgHBCLwW9fyNevQxR28KQwIscUahURRgKAMAAeleXXnwru/Bkiax8IrgWF7DEqXOk3Uha11JVGBuyflk/2hgZ9Mk103gr4h6d4wM9lJBLpOu2XF7pF5xNCfUdN6ejDsRkDIoA66sfX/CXh/wAUweV4h0az1EBdqtPCGdB/st95fwIrYooA80b4RXGhN5nw68X6t4e28rZTP9ss+O3lyHI9M5P6VFP4t+JPg6GSXxX4Ystf06FS0moaJceW6IBks0MnU49MDivTZpo7eF5p5FiijUu7uwCqoGSST0FeSNPefG7WXt7ZprTwBYy4mlXKPrMin7inqIgRye/1+6AcufiHoXxl8YxaZrOrx6B4TszHMLC+lEM2rS5yFY52hAR90MSePUbfoG2jgitIo7NY0t1QCJYgAoXHGMcYxWbqHhPw9q2lx6dqWiWF1ZwoI4oZbdWWNQMALx8uPauLb4NQaPIZvh74l1fwpJnd9nilNzak+phkJz+frQB6XRXmY1r4q+GBjWfD2m+LLRRzc6RP9nuAPVon4Y+yVe0n40eD7+8Fjql1ceHtR43WWtwG1dc+7fL1460Ad1PBDdQPBcxJNFINrxyKGVh6EHrXm998KLrQb6bVfhTrLeHLqQ75dMlBk0+5b3j52H3XOOwFekwzxXMCTW8qSxOMo8bBlYeoI60+gDzfTfiyNM1CPR/iZpUnhbUnISO6kO+xuj6pMOF9cNjA6nNejI6SxrJGyujAMrKcgg9warappVhrenS2Gr2cF7aTDEkE8YdW/A/z7V5zJ8O/EXgaU3fwq1bNnu3SeHdWkaS2Yf8ATKQ/NGf0J6njFAHqNcN40+Io0TUU8O+F7Jtc8U3K5isYj8luP+ekzfwKM59T7da4K4+Ol94qurfwn4egt/DmvzyNDe3uo3UTwWhHXymDYlbsOBz2PWvUPBXgPSPA+nyR6eHub65O+91G5O6e6c8lmb0z0HQfXJIBmeDPh3/ZGpSeI/Fd5/bnim5H7y9dfktl/wCecCn7ijOM8E+2cV3NFFABRRRQAUUUUAFFFFABRRVTUNV0/SofN1O9t7ROzTSBc/nTSb2At0Vz3/Cb6RJ/x5LfX3va2Mrg/Q7cH8KanjayYtv03WIwjbWZtOkwp98D3q/Zz7E88e50dFYtp4w0C8nEEepwxznpDcZhc/8AAXANbWc9Khxcd0NNPYKKKKQwooooAKKKKACiiigAooooAKKKKACiiigAooooAKKKKACiiigAooooAKKKKACiiigAoPSig9KAMfQf+QBZf9chWhWfoP8AyALL/rkK0KAMiXxRpEOvpo0ly4vGYJxbyGNXKllRpQuxXKjIUsGII45GdeuQm8Nas/iacq1m2k3Opw6m8zSt9oR44kTygmzaVJiU7t4IBI2nrXX0AVtS/wCQTd/9cH/9BNOsv+Qfb/8AXJf5U3Uv+QTd/wDXB/8A0E06y/5B9v8A9cl/lQA+5uYLO1lubuaOC3hQySyysFSNQMliTwAAMkmse48Y6NbaNb6rK959huFZhMmnXDiNV+8ZAEJiA5yX24wfQ1sXLTraytaRxy3AQmKOWQojNjgFgGKgnqQDj0PSuCuPDPiW98Ex6Ldafphm3zBjHrdwkYV8lSyrABMMuwMTjYQozncQAD0EEMAQcg8gjvWfr3/IDuf90fzFXYVdII1mk82RVAZ9uNxxycdqpa9/yA7n/dH8xQBoUUUUAZGneKNI1XVJdOsbl5LiJXbDQSIkiowRzG7KFkCsQCUJAJAPWteuQ8O+G9W0/V7NtSaz+yaVbXFtaSQys8lwssiMGkUoBGQsYGAzZJJyMYrr6AM/Wf8Aj3tv+vuH/wBDFaFZ+s/8e9t/19w/+hitCgCg+t6dHraaQ9yv294WnEIUnCAgEsQML14BIJwcZwazI/H3huTT7q9GoMlvaxpM7yW0qeZG+djxhlBlVtp2sm4N2zTNb03Wr7xRYzWlvYnToreaCaZ7x0mHm7QSqCIqdoXjLjOe2OcaHwx4mXQ7yKaLSXvP7Ij0i3VbuRY5FG4NM7eUShO4ERgNjBG85yADvI5FliWSM5RwGU46g1R1L/j803/r5/8Aab1JpK3iaRbJqUUEN0kYWRLeYyoCOOGKqTx/sio9S/4/NN/6+f8A2m9AGhWVL4m0eC81C2lvkWTTYPtF38rbYUxnlsYzjnbnIBBxgjOrXJ6rpGs6h4i1BpdL0u60m5017LZLqMqSS5BOGUQkKCx2khiQPmGT8tAFpvHehLbJMXvyz3Bthbrpd0bgSBPM2mER+YPk+bJXGOa6FHDxq65AYZG5SD+IPIrzb/hANVTS7iT7LFPqVxeG4jDeJb9DZAQiJdtyFMspI3EghR82AOMn0OxhmttOtoLq4N1PFEqSTldplYAAtjtk8496AK11/wAh7T/+uc38lrQrPuv+Q9p//XOb+S1oUAFFQ3DXKiP7JFFKS4D+bKU2r3Iwpyfbj6io7KS/kU/2jbW8DbUIEFw0o3FRvHKLwGyAe45IXpQBarP/AOZl/wC3T/2etCs//mZf+3T/ANnoA0Kp6pq1no1ibvUJHSPcqKI4mld2Y4CqiAsxPoATVysbxJp19fW1lNpPkNeWF2lzHFcyNHHLgMrKzqrFflckHaeQOKAL+malaaxp0V9p8vm28udrFGQggkEFWAKkEEEEAgggjNWqyfDOmXGkaGtvemI3MlxcXUwhJKI80zzMqkgEgGQgEgE4yQM1rUAU7D/kPaj/ANc4f/Z61Ky7D/kPaj/1zh/9nrUoAKKKKACiiigAooooAKKKKACsrxF/yC4f+v8As/8A0pjrVrK8Rf8AILh/6/7P/wBKY60p/GvUmfws1aKKKzKCiivF5LiTxR8RvFmneLPGureGV0llNhZWN+LJWttmTcFsfvPXrgZ57UAe0UV5n4Ag1fxv8K/J8Q61qqZvJFs9Vs5TaXF1bI/7uTI5wwz9Rjr1PN+LvCt1pPi7wv4e8O+NPF0upapeebP9o1qWRIrSMbpGK8cngDPB5FAHuFFFFABRRRQBlaR/yFNd/wCv9f8A0mgrVrK0j/kKa7/1/r/6TQVq1pU3+S/ImOwUUUVmUFFFFABVe/sYdS0+eyugTFOhRtpwRnuD2I6g9jViijYDJ0PUJpVk07U2X+0rMAS4485P4ZV9mx+BBHatas3V9IGoiKe3lNrqFtk290oyUz1Vh/Eh7r/IgER6drfnXC6fqkX2LUwuTCxykoHVo26MPbqO4FW1fVEp20ZrUUUVBQVyJ+H0Nvrmpapo3iDWtIl1WTzbyK1khaOR8Y3BZYn2nAxlcH9K66igDH8M+FtL8JaY9lo8LKsszXE8srl5J5WOWd2PJY1sUUUAFFHTrWBcanca4zWfh6QrBuK3GpgfLGO6xZ++/bIyq98niqUWxN2FvmGvasulwndZWciyX7g8M4+ZIffnDN7AD+Kt6q2n6fbaXYpaWUflxJ0Gckk8kknkknkk8k1Zok76LYEu4Vi+KfCWi+M9HbTfEFmtzDndG2drwv2dGHKsPX88itqipGeTW/iHxH8JZotP8cyTa54WZtlt4hRGaa0BOAlyoySO28fqTgep2d5bahZxXdhcR3NtMoeKaJwyup6EEcEU+eCK5t5ILmJJYZFKPHIoZXU8EEHqK8svPCHiD4ZXkurfDRH1HQ3YyXvheWQnb3Z7Vjkq3fZ39/lAAPTb/TrLVbN7TVLO3vbZ/vQ3ESyI31VgQa4G8+CegRXTXvhC+1TwnesdxfSbpljc/wC1G2VI9hiuo8H+NdF8caSb7QrgsYzsuLaUbJrZ/wC5InVTwfY4OCa36APMc/F3wp1Gk+OLJM8j/Qbwgf8AkPp9T/WxZ/Gzw9FdpY+LbTUvCd8x2iLVrZkjY/7MoypHucV6NUF7Y2mpWrW2o2sN3bv96KeMOjfUHg0AJY6hZ6pZpd6ZdwXltIMpNbyiRG+jAkGrFedX3wT8M/a2vvDE2oeFb9sfv9GumhDY6Bk5Uj2AGagFv8W/CpH2e50rxvZL0ScCxvCPQMP3f4nJPX1oA9Morzi2+Neh2txHZ+NNN1XwlePwF1O1bynP+xKuQR7nFd7p2qWGr2a3Wk3tvfW7fdmtpVkQ/ipIoAwPHPgSx8babEsk0lhqlk/m6dqdvxLaSjkEHjIyBlc8+xAIyvBPjm+k1d/B3juOOy8UWqZSReIdTiH/AC2i98D5l7YPAwQvfVzPjjwNp3jnSEtrx5LS9tn82x1G3O2a0lHRlPpkDI747EAgA6aobmztr2Py7y3iuE/uyoGH5GuB8EeONRh1k+CviEqWviS3XNvdDiHVYh0kjPTd6r9eBggeiUAc7e/D3wbqOTe+FdGlYnJY2Me78wM1z958Cfhxe8t4aihcdGt7iWIj/vlgK9CooA82/wCFI6LB/wAgjxH4r0j0FjrDr/6EDWX4h+CGq69pTabP8RtZuLQsGWPUYI7oqw+6wb5SCPUEHr6mvXaKAPBNA1X4r23i+78GXvirS11SzQPZf2pY5XULccCRJE5Y4+8DluOpwxHZG/8AjNZYE+jeEtTA72l1NCSP+B9DW58QfA6eMtJheyuP7P13Tn+0aXqKD5reUc4PqrYwRz64OKi+Hnjd/FNlc6drdv8A2f4l0l/I1SxPG1u0ieqMOQf5jBIBj/8ACe/EKzbbqfwquGUD/WWOrwzbvouAR+dcZ4q1LQtcvf7UvfAPjnwtr0Zymt6bpuGRv9pkbEgPQ5GccZFe+0UAfPHh79oqTQNSXSvHO/UrU8R6rBZPbTLjj97AwAJ75Q8eh7eraf8AFvwBqiqbXxbpa7hwLicQH8pNprr5I0ljZJUV0YYKsMg/hXmPjH4EeGfENwdS0SGHQ9VX5laG2SS2lYdPMgYFG/IHuc0Aeg2Wu6RqTAadqtldk9BBcI/8jV+vnWXw/wCFvDsyWPxf+Hdlp8DnYniDR/N+xSHoN4jIaIn3/ICtXxR4K+HfhLwamuaDqesxLc4j02HRdYkLXkjHCpHy2eepGcDNAHe/EXxpd6GlnoHheJLvxTrJMVjATxAuPmnf0VRzz1I9jWl4D8FWvgjw6LOOQ3V/cOZ9QvnH7y6mblnJ64yeB2HvmvNvCfwU8TW1tFr2o+PNXsvE91Aq3Mp23JROCIiz5LYwM84yK6UeEvipY4Fn8SLO/Xst9osaY/4EhyaAPSq5Hxt8O9N8YiC8WWTStcszvstXtABNCw6A/wB9fVT74xmsPf8AGmxX5ovB2qqB/A1xDIT+Py0Hxl8T7HAvvhlDeKD80thrcX6IwyaADQviHqXh/WIfDHxUhjsdQlbZZazEMWeo+nPSOT1U4GfTIB9IkkSKNpJXVEQFmZjgKB1JNeTa/wCPI9Z0afS/G3wo8VTWcqnzEhsVukX/AGgysNpHJ3DBHavFp/iMjeT4WOta9P8ADtrhBJPNbgXaQgc2/mBvmjBwPXHAHGCAe0Xd3efGvV5dM0uSS18CWU2y9vUJV9WkU8xRntEO5716rZWVtptjDZWEEdvbQII4oo12qijoAK4XQfip8MLfTLXT9F8R6ZZ2kEYjhhfdAqKO3zgY/Guqs/FvhzUNv2DxBpd1u+75F7G+fyNAGvRQCGAIOQeQR3ooAKo6toml69Zm01vTrXULc/8ALO5hWQD6ZHB96vUUAeazfBXTNOne68Ca3q3hK5ZixWyuDJbuf9qFyQR7ZApovfi14WUfbtO0nxpaIOZbOT7Fdn1JVvkP0XrXplZPiXxPpPhHQ5tW1+7W1tYuMnlnbsqjqWPoKAOS0/41+FZLoWPiL7d4X1DHNrrVs0GfUh+Vx7kjNY0mr658ZbmSz8NS3Gi+CUYpc6qFKXGpAHDJCD91Oxb/AOuKfB4a1v4tX0Gq+OYH0zwtDJ5thoBJElzj7stwQeOOiD1/E6d18FNBt7hrvwdf6p4TvCcl9LumETn/AGomypHTgY6UAb8nw48ITeE4vDc2gWcmlQqRHCycoT1YP94Me7A5965Q+GfHXw7/AHngi/PifQo8f8SLVJcTwp/dgn9B2VuAB3NSl/i54VHzR6R43s0HVD9guzj25j9+5qez+Nnh6K7Sx8W2mpeE75jtEWrWzJGx/wBmUZUj3OKANXwn8T9A8V3jaYrT6XrUX+u0nUYzDcIR1wDw34fkK7GuU17wr4R+JekwzXaWuoovNrqNlMPMiPXMcqHI5wcZx0yK5Yp8RfhuT5Jl8eeHY14jchdTt1HoQP336sfYCgD1Siub8JeP/DvjW3dtDvgbmLieynHl3EDDqHjPIweMjIyOtdJQAUUUUAFQ3l5b6fZy3d7MkEES7nkc4CipWZUUs5CqoySTgAVy2nwt4uvk1i+GdJgfOnWrDiYj/lu47/7I7DnqauMb6vYlu2iHrca34mG6yZ9E0tvuzugN1OPVVPEY9zlvYVf0/wAK6PpsvnxWizXR5a6uSZZWPrvbJ/Ktiihzey0Qcq6hVDTP9dqH/X0f/QFq/VDTP9dqH/X0f/QFoWzG90T3lhaahAYb+1huYz1SWMMPyNYbeF7jSyZfCl+9ljn7FcEy2z+20nKfVT+BrpKKSk1sDimY2keIVvbttO1G3bT9VjXc1tI2RIv9+Nujr+o7gVs1m63okGt2axyM0FxC3mW11HxJA/ZlP8x0I4NQeHtXnvo57HVFWPVLFhHcqgwrg/dkX/ZYc+xyO1U0muaIk2nZmzRRRWZQUUUUAFFFFABRRRQAUUUUAFFFFABRRRQAUUUUAFFFFABRRRQAUUUUAFFFFABQelFB6UAY+g/8gCy/65CtCsDR9UEOjWsf2K7fbGBuSMEH6c1d/tkf9A++/wC/Q/xoA0qKzf7ZH/QPvv8Av0P8aP7ZH/QPvv8Av0P8aALOpf8AIJu/+uD/APoJp1l/yD7f/rkv8qzb/Vg+m3KfYbxd0TDLRDA4PXmnWmrhbKBfsN6cRqMiIYPH1oA16Kzf7ZH/AED77/v0P8aP7ZH/AED77/v0P8aANKs/Xv8AkB3P+6P5im/2yP8AoH33/fof41S1jVBLpFwn2K7Tco+Z4wAOR70Ab9FZv9sj/oH33/fof40f2yP+gfff9+h/jQBpUVm/2yP+gfff9+h/jR/bI/6B99/36H+NADtZ/wCPe2/6+4f/AEMVoVgapqglhgH2K7XbcxN80YGcODjr1q7/AGyP+gfff9+h/jQBpUVm/wBsj/oH33/fof40f2yP+gfff9+h/jQBpVn6l/x+ab/18/8AtN6b/bI/6B99/wB+h/jVK/1UPdWDfYrtdlxuw0Y+b5GGBz15oA36Kzf7aH/Phff9+h/jR/bQ/wCfC+/79D/GgDSorN/tof8APhff9+h/jR/bQ/58L7/v0P8AGgB11/yHtP8A+uc38lrQrAuNVDaxZSfYrsbElG0xjJzt6c1d/tkf9A++/wC/Q/xoA0qKzf7ZH/QPvv8Av0P8aP7ZH/QPvv8Av0P8aANKs/8A5mX/ALdP/Z6b/bI/6B99/wB+h/jVL+1B/b3m/Yrv/j227fLG773XGelAG/RWb/bI/wCgfff9+h/jR/bI/wCgfff9+h/jQBpUVm/2yP8AoH33/fof40f2yP8AoH33/fof40ATWH/Ie1H/AK5w/wDs9alYuj3H2nWNRk8qSL5IRtlXB/jraoAKKKKACiiigAooooAKKKKACsrxF/yC4f8Ar/s//SmOtWsrxF/yC4f+v+z/APSmOtKfxr1Jn8LNWiiisygrwaCLwn8QvFXipvixqUFteaVfzWOn6ddXgtVtLYAFZl5XczHJLEkcDgAiveaytT8LeH9buFuNZ0LTNQmQYWS7s45WUexYE0Acd8GtavdU8N6rHc38mp6bp2pzWmmanMPmubZMbWLfxY5G7vj2qn8M/wDisfHHiP4hTDfbSSf2Vo5PQW0R+dx7O/P4H1r01LS3itBax28SW4XYIVQBAvpt6Y9qZY2FnpdjHZ6ZaQWdrEMRwW8YjRBnPCjAHJoAsUUUUAFFFFAGVpH/ACFNd/6/1/8ASaCtWsrSP+Qprv8A1/r/AOk0FataVN/kvyJjsFFFFZlBRRRQAUUUUAFVr/TrTVLU29/As0RIYA5BUjowI5BHYjkVZooTa2AxPsuuaX/x5XK6tbj/AJYXh2TAf7MoGG+jLn1al/4Si2g41S0vtNPc3FuSg/7aJuT/AMeraoq+ZPdE2tsU7XWNMvlDWWo2lwCMgxTq2fyNWjIirlnUD1JqpdaNpd6xN5ptpcE9TLArZ/MVVHhLw4rbl0DSwfUWUf8AhR7oe8S3XiLRrM7bnVLRHJwI/OUux9Ao5J+gqufEE11xo+j3t0T0kuENtEPcmTDY/wB1WrTtrC0shiztYLcYxiKML/Kp6LxXQNTDOiXepj/ior0TQnrY2qmOE+zH7z/iQD3WtpESKNY41VEUBVVRgADsBTqKTk2NJIKKKKkYUUUUAFFFFAHB+MPht/aWrDxN4Ovf7A8Uxf8AL3GP3V2o/wCWc6DhgcAZxkcdcAUeEPiV/aWrHw14yshoHimL/l0kb91dj+/A54YHHTORz1wTXeVgeL/Bei+N9JFjrtsXMZ329zE2ya2f+/G/UHgexxyDQBv0V5TaeLvEHwxvItJ+JLvqWhSMI7LxPGhOzsqXSjlW/wBvnPvyR6lBPDdW8c9tKk0Mqh45I2DK6nkEEcEH1oAkooooAiubaC8tnt7yCOeCQYeKVAysPQg8GuD1L4LeFJrtr7QFvPDGoE5FzolwbfntlOUxyeABwcV6DRQB5kbH4teFB/oGoaX41skHEV6n2O7x2AcfIfTLU+H416Xp86WvjrRdW8JXLHaGvrcyW7k/3ZUBB+uAK9KqOe3huoHguoo5onGGjkUMrD3B60Acl4h0Pwz8VvC4S21GC58phLZalp8yvJaTDo6sp4ORyO+PUAjK8GeN9TsdeHgj4iBINfjX/Qr9Rth1aMfxp2D46r9foJtW+CvhG+umvtHhuvDeo4O280S4a2Yd/ur8v6VyXjL4bfEK/wBDOnvq+n+LrWF/NtXvY/sl/asPutFMny7sjq3X+QB7bRXinhP4y3nhaCDQPjRZXei6mg2w6jJAXhulGBklM/NyMlcr3OK9b0fXtJ8QWf2rQtStNRg4zJazLIB7HB4PsaANCiiigArgPiF4O1C4vrbxj4KIh8U6WmFjJwmoQdWt5Pr2PY+nBHf0UAYHgvxhp/jfw3FqunbonyY7m1k4ktZh96NxxyD7cjBrfry7xnot94D8Sy/EPwhbPNBIAPEWlQj/AI+oh/y3QdBInJPqMnj5s+h6LrNh4h0W11bR7hbmyu4xJFKvcf0IOQQeQQRQBeoopskiRRtJK6oiAszMcBQOpJoAoeINS0vR/D17f+IJIo9NgiLXBmXcpX02/wAWemO+cV4N4V+FWs6zdyfEHwstl4VnknNxoukXFt5sAiK7d8gOfLLjByo47DpjrrdX+NHi4Xcwb/hBNEuP9HjZcLq9yv8AGfWJT09fxIHrgGBgUAeb6b8WP7L1CLR/ibpb+F9SchI7tzvsLo+qTdF9cN07nNejI6SxrJGyujAMrKcgg9waranpdhrWnS2Gr2cN7aTDEkM6B1b8D/OvOpPh54i8DSG6+FWrZst26Tw7q0jSW7f9cpD80Z9s4J6njFAHqFBOBk1wXh34s6XqGpDRPFNrN4W8QDAaw1EhVlPrFL911PboT2B61ieIdb1L4oa/ceEPBlzJa6Dav5eua3CcbvW3hPdj0J7fTqAGuanffFvWp/C/ha6ktfC1o/l6zrEJ5umHW2hP/oTdPw4b0vStH0/RNHg0rSrSO2sbePy44EX5Qv8AXPcnrTdE0TT/AA7ottpOjWyWtlaoEiiQdB6k9yepJ5JOav0AeReKPhKdF1OfxH8P9M066Mh3Xnhy/gR7W7HcxbhiKTHTGB+GQXeFtA+FPxEt51i8I2Fhqdqdl9pclv8AZp7VuhBVccZ6MP0ORXrdcb40+HNn4ouYdX026k0TxJZ82ur2g+cf7Eg/5aJ2wf5EggGQfgJ4Ehdn0u01DSmbndZalMnPryxo/wCFQ3NpzpHxF8ZWx7JNqInjUeysv9ak8M/Ea9stbi8KfEu1j0jXmytrdof9D1MD+KNz91umVPcjoTtHotAHmg8D/EmyH/Et+KTTqAAIr7RoXz9XBzThbfGexyYr/wAIaqg7XEM8Ln6bePzr0muC8XfEOe31f/hFvAtpHrPieQfOm79xYL/z0nYdMf3ep/EZAOV174teOvBt7Z2PiLwfpd9e3z7La20zUyZZT6iPYzY98Vg6bdeJR4ubxR8T/AXiTWLyFydPtrCBJ7awX/YjDfM/+0eePXmvUvBPw7t/DN1NrOr3kmteJrwf6Xqlxyf9yNeiIOwH8sAdnQB5qfjl4dtv+Qzo/iXRz/EL7SJF2/Xbmrdn8cvhxfAGLxTbJntPFJFj/vpRXf1TvNI03Uc/2hp9rdZGD58KvkenIoAzLPx54R1BQbHxRo8+eyX0RP5bs1qzQafrFiY7iK2v7WTqjqsqN+ByDXP3vwv8C6gSbrwlo5Y9Wjs0jJ/FQDWHP8BPh3JN51tokllN/wA9LS9mjI/DfgflQA+/+Cnhdrxr/wANPf8AhXUD/wAvGi3LQA+gKcqV9gBmq4tfi14X/wCPa90nxrZp0juV+w3bD0DDMZ9MtyeD607/AIUxb23OkeNvGWnY+7HDq5aMHtlWU5+maT/hXnju0OdK+K2oKAchb7TIbnPsSSPagDkvE+u+B/EOoRv4+0TWvAXiJGxbav5TRMrgcFLiPIcY/vDA5wRWxpfjjxX4VtVuNXe38eeGV4/tzQtrXMA7GaFTg8dSvQckk8VozaF8XkgaE694U1mJhhotR0+SNX+oT/PFcHqnwv8AGK3jX2n+C9I07UAOLvwvrUlg2c9lcFQPwoA9y8N+LNC8X6YL/wAN6nb38HG7ym+aMns6n5lPsQK11ZXGVIYZIyD3HBr428RaJ8T/AAlNN4ovtKu9LntziTVIJYhIEJAAkeEhZMsRkshJ6Z9Nv9n/AOLF3pXiyXQvEd1Nc2et3O9LiUl2iunIGSeuH4B9Dg8DJoA+jvF7vdW1nocLFX1acQyMpwVhUFpT+Kjb/wACrfiiSGFIolCRooVVUYCgdBXP3P774kWCN0t9MmlX2LSIp/QV0VaS0ikSt2zN8RatJoXhvUNVhs3vns4Gm+zxsFaQKMkAn2zXFeGfiX4h8X6BBrOgeCftFlOWCMdYiVgVJBBBXIORXozKrqVcBlYYIPcV458GbS58L+PfG3g+2Uz6NZ3a3NtOjbkhZx/qiezbccdtp9azKO28AeOZvG0OrG40WbSZNLvWspY5ZhJukUfMAQB04/Ot/TP9dqH/AF9H/wBAWpNP0qx0pbhdOtY7YXM73MwjXHmSt95z7nFR6Z/rtQ/6+j/6AtXHZie6L9ULvXdJsJDHf6pZWzjqs1wiEfgTXl/xL8R654i8faf8M/B94+nS3MX2jVdQj+/BD/dU9jj89yj1rk/i98LvCfgH4c2usaZp5ub+11CAzTXkrSNdqc7kfJxg9eAOlQM99sdb0rVJWi0zU7O8kRdzJb3CyFR6kA9KyfES/wBl63pevR/KBKLG7/2opDhSf919p/E0zwf4N8L+HoF1Hwzotvpsl9AhcxZyVI3AHJ96s+OED+BdYJ/5Z2ryj6p8w/UCrp/EkTLY3qKo3erWul6N/aOpS+TboimR9pbG4gDgAnqRWJ/wsrwl/wBBb/yWl/8AiaqNGpNXjFv5Cc4R3djqaK5b/hZXhL/oLf8AktL/APE0f8LK8Jf9Bb/yWl/+Jqvq9b+R/cxe1p/zL7zqaK4jWPijodvpcsujXaXl4pXZA8MqhxuG7kqMcZrR8L+O9M8TsIYVkt7wDLQSDP5MOD+h9qbw1aMOdxdhKtTcuVM6asDxF410TwxNHb6ncP8AapVDRW0MZeRwSQMAe4I5rfrmdb8K6LceJrTxXq11JBJpsaqu+VEgADMQzZGc5f1HQVnTUHL39vI3jy394oXHxT0fTtQitNb0/VtJaUZSS8tQqkevDE4/CuzilSaFJYXDxuoZWU5DA9CK8U+I+pw/EPX9K0TwkPt8tv5jPOvCDdt7nsNuSa9d0HTDo3h6w00yeabS3SIv/eIABP0ror0oQpxltJ9DSpFRin1NCiiiuMxCiisrxJ4k0vwnoU2r65ceRaQ4BIUszsThVVRySTxigDVoridE+KWlat4gttFvtJ1vQb29Vms11iy8gXW0ZIQgkZxzg4P4121ABRXnl38adAt3uprbS9ev9Ks5WiudYs9PMlpEV+8S+QSB3IBFb2vePtC0Dw/Y6vNNLeQakUWwisYjNLds4yojUdcigDpaK4/w78StL1/xCdBuNN1bRNWMRnis9XtfJeaMdWQhmBA+ueD6GuwoAKKKKACiiigAoPSig9KAMDRP+QHZ/wDXIVfqhon/ACA7P/rkKv0AFFUn1nS4tYj0mXUrRNSlTzI7Np1Ezrz8wTO4j5TzjsfSrtAFbUf+QXdf9cX/APQTT7P/AI8YP+ua/wAqZqP/ACC7r/ri/wD6CafZ/wDHjB/1zX+VAE1FRXV1b2NpLdXs8VvbwqXkmmcIiKOpJPAHvWZL4w8NQabBqE/iLSY7K5ZlguXvoxHKVOGCsWwSD1x0oA2Koa3/AMgW5/3R/MVfqhrf/IFuf90fzFAF+iioZry2t7m3t57mGKa5YrBE8gDSkKWIUHliACTjsM0ATUVlXPinw/ZzXcN3rumQS2Sq10kt5GrW4YgAuCflBLKBnH3h61a03VtO1mz+16Pf2t/bbivnWsyypkdRuUkZoAj1f/j3t/8Ar6h/9DFX6oav/wAe9v8A9fUP/oYq/QAUVV1HVLDR7NrvVr62sbZSA09zMsaAngAsxAqE+INGF9a2R1ax+13sYltbf7SnmToQSGRc5YYB5HHBoA0Koal/x9af/wBfP/sjVfqhqX/H1p//AF8/+yNQBcooqnHrGmzavLpUWo2j6jCnmS2azqZo04+YpncB8y8kdx60AXKKzbjxHolppa6ldaxp8Ng7mNbqS6RYmYEgqHJxnKkYz2PpWirB1DIQykZBByCKAKU//Icsf9yX/wBlrRrOn/5Dlj/uS/8AstaNABRRRQAVQ/5mL/t1/wDZ6v1Q/wCZi/7df/Z6AL9FFQXt9aaZZSXmpXUNpaxDMk88gjRBnHLHgcmgCeiorW6t760iurKeK4t5lDxzQuHR1PQgjgj3qWgCDTP+Q3qP/XOH/wBnrXrI0z/kN6j/ANc4f/Z616ACiiigAooooAKKKKACiiigArK8Rf8AILh/6/7P/wBKY6t6lqdppFi15qEvk26Mqs5BOMkAdPcis/Wbq3vdDt57SaOeF76zKyRsGU/6TH3Fa04vmi+lyJNWaNqiiisizn/Evjrw34PaFPEWqx2ks4LRQhHllcDqQiAsR74q14c8U6J4u0saj4b1GK/td2wvHkFW9GUgFTyOCBV6aKzt5ZNRnjgjkjiKvcuoDLGMtgt12jk+leWfCZ7db/x3442rp/h7Vb0S2jONiNFAHEk+OwYknPsaAO88T+OPDng02a+JdTSya9cx26mN5GkIxnhASByOTxyKv65r2leGtKk1LXr+Gws4yA0szYGT0A7k+w5rwjxvaTeI/h5qnxB1eJo5dTurODSYJBzbWIuUKn2aQ/OfYqK7zxzCNV+NPw/0u8w9jH9svmhIyHljjHlk/wC6TkfjQB03hj4heFvGNzNbeHdXjurmBd8kDRvFIF4+bY6qxHI5AxyPWulrzH4hQLZfF74d6ta7Y7qW7uLKUjgyxNHnB9QDkj0LV6dQAUUUUAZWkf8AIU13/r/X/wBJoK1aytI/5Cmu/wDX+v8A6TQVq1pU3+S/ImOwUUUVmUFFFFABRRRQAUUUUAFFFFABRRRQAUUUUAFFFFABRRRQAUUUUAFFFFABRRRQBDd2lvf2ctrfQR3FvMpSSGVAyOp6gg8EV5ZP4c8RfCWeXUPAsU2t+FSS9z4deQtNa5OWe2Y5JH+wevPUnI9ZooAxfCvi7RfGejrqXh+8W5iztkQ8SQv3R16qw/8A1ZHNbVefeKvhvO+sv4q+H98uh+Jes3H+jagP7k6D1/vDnv1wRZ8GfEiHXtRk8P8AiKzbQfFNsP32m3DcTDH34W6OpAJ45HuOaAO4ooooAKKKKACiiigDA8ZeDNI8deHpdI12AvGx3QzJxJbydnQ9iPyPQ5BrxbSPBGiad4qi8KeOYJdC8QNxo/ifRZjZ/wBpIONpx8gm6ZyCScckkF/oisXxX4T0nxpoMuk67b+bC/zRuvEkL9nRv4WGev4HIJFAHG/2F8U/C4zofiPT/FVovS11qEwzgeiypwx92x1PtSp8Y49GkWH4h+GNW8LSZCm5ki+02hPTiaPIPPt3FM8M+L9U8IeIIfBPxHuPMmlO3R9dYYj1FegSQ/wzDgc9fqQW9NdFkRkkUMrDDKwyCPSgDN0TxLoniS1+0aBqtpqMeMk28yuV+oHI/GtOuF1v4N+C9YuvtkGmNo+oAllvdIkNrIpPf5flJ75INZY8M/E/wqAfDniu18TWi4xZ6/EVlx3xOnLH3bj+oB6cRkYNeRXkUnwV8Vyanao7eBNZnBvYUBI0m5Y481R2ibgEDp26KDop8YZNEPl/EXwjq/hsr968SP7ZaDnH+tjGefTB+vr12n694X8daTPb6dqOn6zZzxFJ4EkWT5DwQ6dR16ECgDciljnhSWF1kjkUMjochgeQQe4ry3xdqV58SPFEvgHw5PJDpNsR/wAJFqcJxtX/AJ9Y26b2/i9BkHuK43Utf8QfDPWG+Fui6pbyx6o8S6LqVzOPM0uKRiGjkB6kfwfUYzwB7T4O8I6d4J8NQaPpSsUTLzTPy88h+9Ix7kn8uB2oA1NN0600jTLfT9Nt0trS2jEcUUYwEUdBVmiigAoory/xT4n1Txr4in8DeAbhoFh+XW9bTlbNDwYoz3lPI9ue+SoBm+N51+L+vN4I8OwW8um2EobV9ceFZBbHr5UBP/LQ4wSOnNWLTwd4x+FVtjwDOviTQEYu+h322O4jBJLGKYAAn2YfQE16L4a8NaX4S0C30fQ7Zbe1gHAH3nbu7Hux7mtWgDj/AAj8TdA8W3MmnxvNpmtQHbPpOop5NxGcZOFP3h7j8cZrsK5zxb4C8O+NreNNfsFlmh/1F3ETHPAc5ykg5HPOOntXHr/wsX4cEBvN8e+HUOS3A1O2T8eJ8f8AfRP90UAep0VzvhLx54d8bWzSaBqKTTRj99aSDZPAc4IeM8jnjPT0NdFQBk+JfC+j+L9El0rxBZR3drJ2YfMjdmVuqsPUV55Fq/iT4QSpa+KJLnxD4MGEh1hU33OnDOAs4H30HTeP8Fr0/UtTstH02fUNUuorS0t0LyzSttVRXlrvrvxol2QG60LwHkh5D8lzrC+gHVIj+ZH5AAn1LxvrHxE1KTQPhZMIbGNguo+JWXMcIPVIB/G+O/b26123g/wXo/gjR/sGiQEFzvuLmU7prl+7u3c/oO1cReeBda+G91JrHwpX7RpzEPfeGLiUlJgOrwOclJMduc++Atdn4N8c6N4406S40iV47i3by7uxuF2XFq46q6dRzkZ6HB54NAHR0UUUAFFFFABRRRQAUUUUAFBOBk1zfi/x94f8E2ytrV5/pMv/AB72MC+ZcXB6AIg5OTxk4HvXG/8ACO+Mfig3m+MppvDHhp+V0O0kxc3K/wDTeT+EHug+nBGaAF8a+NbfxpDfeC/BOjw+K7iUCO8mkYrY2nIILyAjcwIBwp7e2K5L4PfAi/8ACnxCvdW8UCKePSyF054/uTyMoJkAPOFBxz/Fn+7Xuei6Hpnh3S4tO0OxhsbSIYSKFcD6nuT7nk1foA53VD9j8daJdNwl1DPZMfRsLIo/HY1dFWT4k0uXVtFeK0YR3kLrcWsh/hlQ5X8D0PsTU2h6vFrekxXkamNzlJoW+9DIOGQ+4NaPWKfYlaNo8++KvxU0/wAMXEHhq01iDTtUvf8AX3ro0g0+E9X2qCS5H3Vx7njrgj4w/DzwR4EfTvAV9/aupAEW8LQS7rm4f/lpK7KuSTyTnJ6CvXbrw3od9cvcXujafcTv96Wa1R2btySMmo08KeHY5FePQNLV1IKstnGCD6jisyjQsjcGwtze7PtJiXztgwu/HzYHYZzVbTP9dqH/AF9H/wBAWr9UNM/12of9fR/9AWrjsxPdHld2Y/Av7RGp+JfESyw6NrWmpDBqHls8UMq7AUcgHbnZxnjkVS8dGf4269pHhzwzHO3hqyuRdanqrxMkTkcBIywG84LdOMn2r3AjPWjp0qBjY41hiSOMbURQqgdgKwPHDk+E7i0j5lv3js419TI4X+RJ/CuhrmQ3/CQ+MlMfzafojHLdpbojGB67FJ/FvatKe/N2JltY6VFCRqi9FGBS0UVmUFFFFAFHWdIttd0qXT77f5EpUvsOCdrBsZ/CnabpNho9qLfTLWO2j7hByfqep/GrlFVzy5eW+guVXv1CsTUNf8Pya0vhnU54ZLu6QEWk8JZJAckAkjb26E1t1y3iX4d6H4p1FL+++0w3iKFE9tNtbA5HUEceuKqnyc3vtr0Ljy39486+MnhzSNAGmajolvHp91LKylLYbAQADuAHAIJ7etepeC7281HwTpV3qTM1zLbqzswwW9GP1GD+NYkfwp0KS/ju9Wu9U1l4xhV1G68wAenABx7dK7ZEWNFRFCqowFAwAPSuitWjKlGmndrqaTmnFR3FooorjMQrzX4qqlx4p+HtndNm2k19ZGjY/KzohKZ/E/rXpVcn8QvBs3jHRbRNOvv7O1XTLyO+0+6KblSVM4DDupBI/Lr0IBzvxsRUtvBl2jbLqHxVZCFgMk53ZX8cZ/Cu38WTyW3gvW54HMcsWnzujjqrCNiD+dcfB4O8X+JfEuj6j8QrzRltNEm+1Wtlo6ykTXAGFkkaQAjbyQB+ddHaaZ4jl8Va8dc1C0ufDd3DHHYWUceJIflxLvO0Zyc/xN/wHpQBjfDDT7E/AnQ7TagtZ9K/fcZB3qTJkd+WbNeVaU+74D/DzUba7k/4SqyvJ20S1W3843jCaRTEUyMJsC5fI2gZzzXcWPgP4i6F4al8H6JruiNoBEkNvf3UcpvbeFycqFX5GIBOCSPw4xf1f4W3Vja+ErnwLf29rqXhSOSK1GooXhuUkTbIJNvIJ5OR6n2wAZPhzVNR1X4y2cvxIsW0HWreykj0SwjAeCcMoMzicEh3wPucbR6mvYa87s/B/i3XfGuj6/48vNHjj0TzXs7HSFlKvI67S7vJg8DoAP8A6/olABRRRQAUUUUAFB6UUHpQBgaJ/wAgOz/65Cr9UNE/5Adn/wBchV+gDiZ9G1R/FdzF/ZrPbXOrwamupCSMJGkcEaGMru378xkDClcPnPUV21FFAFbUf+QXdf8AXF//AEE0+z/48YP+ua/ypmo/8gu6/wCuL/8AoJp9n/x4wf8AXNf5UAM1F5o9NuGto7iWYRtsS2Mfmk442+YQmfTdx6152+i+Io9NW7tbPXItWF1cyW00cmn+bh0jG67DEx8sp/1I4RRwDwfTaKAGQ+b5Ef2jZ5u0b9mdu7HOM9s1T1v/AJAtz/uj+Yq/VDW/+QLc/wC6P5igC/XMeJYLo+JPD93Y6BcX5tbppJ7qBoFMcZgmj25kkVj80obABGAe+AenooA4LwzY+J9Bu9QR7a+ubOJbycQTyWgS5nabfH5DJhxuBfcZjwWXrya6nw5pkmk6FBb3TrJeNma7lXpJO5LSEe24nA7DA7VqUUAUNX/497f/AK+of/QxV+qGr/8AHvb/APX1D/6GKv0Ac/4wsZruws57KDVJbyzuvPt20t7ZZY2MckZb/SD5ZXbIynIJ+YEDjI4608E61atodkjalG0b2U+ozrLamycwSeYVHy+fu4CDYEQjHbIPqNFABVDUv+PrT/8Ar5/9kar9UNS/4+tP/wCvn/2RqALlchJFeXXjKb7Z4Xuf7Oto5lt5Y3tjFctIg3u4MobJx5YUrjkljyNnX0UAedadaa3Zw2V43hO8YWl5qP8AxLzNaBylxK0kbqfN2YVTsYbgfmOAQOex8M6bLo3hPSNLuWV5rKxht5GQnBZIwpIzzjIrUooAoz/8hyx/3Jf/AGWtGs6f/kOWP+5L/wCy1o0ARXE0kIjMdtLcbnCkRlRsB/iO5hwPbJ9qjsrqa6UmewuLMhUbE7RkklQSPkduVPyntkcEjmrNFABVD/mYv+3X/wBnq/VD/mYv+3X/ANnoAv1heKrW8mttPubCza/axvo7l7RGRXmUBlwpchcgsGGSPu9c1u0UAYvhKwuNO8PLFeQfZ5prm5ujBuBMImnklCEgkZUOAcEjIOOMVtUUUAZsMF7Nrl99ivUtgI4t26DzN33vcYq79g1c9dax/u2i/wCNN0z/AJDeo/8AXOH/ANnrXq1NpW/RE8qZlf2dqh665J+FtH/hR/Zeonrr11+EEP8A8RWrRR7R+X3IOVGV/ZN+eviC/wDwit//AI1R/Y92eviDUj/wC3H8oq1aKPaPy+5Byoyv7GuO+uakfxiH8o6P7Ek76xqR/wC2qD+S1q0Ue0kHKjK/sLPXVNSP/bxj+Qo/sFD11HUj/wBvbD+VatFHtJdw5YnKeKPCD6p4duLSwu7p7iQpsFzeSNHw6kkgkjoCelZNj4Eg8LabFO17PcXL3tmHAYpF/wAfMf8AD3+p/SvQayvEX/ILh/6/7P8A9KY66KeIqaU76XMp0oaytrY1aKKK5Dc8t+LWn+MvEGpafo2keH5tU8LlBNqS2uoQ20t0wY4gJdgVThSSBznGRit3R11HxNpF34d8V+A20LRmtPICf2lFKsi8DywITuXjvx0rtaKAPGvH/wACdBl8ISR+DNDmbU/Ph2K2pzECMSLv4kl2/dz7+nNbPir4e3elf8Itqvw7tInu/C80xhsLq5bFxDMCJU81ySG5OCxwMn0Ar0yigDzax0XxR4w+IWkeIvFmjR+H7DQElNnY/bEuZbiaVdpdinyhVA4Gc5+pr0miigAooooAytI/5Cmu/wDX+v8A6TQVq1laR/yFNd/6/wBf/SaCtWtKm/yX5Ex2CiiisygooooAKKKKACiiigAooooAKKKKACiiigAooooAKKKKACiiigAooooAKKKKACiiigArm/GfgXRvHGnRwatG8VzbtvtL+3bZcWr9mR+o5A46HA9BXSUUAeW6f441v4f6lDoXxUZJrGVjHYeKIk2wzei3A/5Zv79D+BavUI5EljWSJ1dHAZWU5DA9CDUGoadZ6tp09hqdtFdWlwhSWGVQyuPQg15fJpfiT4QSm48NpdeIvBY5l0ln33WnDu0JPLoP7h/xagD1misnw34n0fxdosWq+Hr6O8tZONyH5kburL1Vh6GtagAooooAKKKKAMfxT4W0nxj4fn0fXrYT20w4I4eJuzo38LD1/A5BIrhvDPinVfAuu23gr4iXJuI5zs0XX24S8XtFKT92UcDnr6k4Leo1leJfDOleLtAuNH161W5tJxyD95G7Mp7MOxoA1aK8r8O+JtV+HmvW/g74g3TXVjcNs0XxBJwJx2hmPaQdiev616pQAEBgQRkHgg968e+L3hfwNpemx3kXh8DxPfSeTpSaSxt7ia4P8XyYyBnJJB/MivTPE3iXTfCPh661nWp/JtbdcnHLO3ZVHdieAK4z4f8AhrUtX1p/iD42iKaveIU06wc5GmWp+6o/22ByT15I4yRQBwrfAzxlb+Hb3zNb0vxBe6vCh1KHV4XMgkUfKYroEvuXtnC5AyCCRWh4X+L2oeAo4PCvxh06+s9Qt48wajGguEngA+85QkkgDllB6c4Oc+5Vy3j/AMEW/jbQkhWdrHVbJ/tGmajFxJazDkEEc7TgAjv9QCAC/wCH/GPh3xVD5nh3WbPUBjJSGUb1+qH5h+Irarxfw54d8J/EVrvTvF/h6DRvG+kNtvjYN9mlc9BcRsmN6sCOTnGR22k4urReO7HxVP4J+G3je+11hbsb06nGjnTRj5c3OM7z0C7eOv0AO38W+KtT8Ua9N4F+H0+y7UAavrC8ppsZ6qp7ynkADp7YJXsvCnhTSvBnh+DR9Ct/Kt4uWZuXmc9Xc92Pr+AwABXl3g/xO/wo0CPRvFPgPVdJt42LT6tZkX0U7nlpZXTBBPuDgDHbj0zw5448M+LYw3hzW7O/bG4xRyYkUepjOGH4igDeooooAKKKKAOP8W/DLQfFd0molZtK1uHmDVtOfybhD7kfeHsffBGa4/UvH3in4SCKH4hxxeIdHkby7XV7ApFdMeyyQMQGPupxjqSTXYeNviFa+FZINM0+2k1jxFe8WelW3Lv/ALbn+BB1JPoffGd4T+Ht3/ba+LfiBdR6t4kI/coo/wBH05T/AAQr6j+/1/mQDm/CVjJ8aLiPxR4tvbaXRLeXdY+HLaZZEQjo9zg/M/faen0yK9kRFjRUjUKqjCqowAPSuC8Q/CbTL3Um1zwndTeFvEIO4X2ngBJT6SxfdcHv0JPUnpWanxG8QeCJks/itpIW0J2x+IdKRpLVuePNTG6M/nnsMDNAHqFcR4x+HEWuapH4i8N3raD4pth+61GBQROMf6uZOjqcAc8jA6gYrrdN1Ox1nTob/SbuG8tJl3RzQOGVh9RVqgDz/wAJfEiWbWE8LePbIaF4nA/dof8Aj3vx03wP0Of7uc9ucHHoFYnivwfovjXRm03xBZrPFndFIPlkgf8Avo3VT/PvkcVwVv4l8RfCm4j07x9LLrPhhmCWviNELS22eAlyoyfQBx19ycKAesUVFa3Vve2sV1ZTx3FvMoeOaJw6Op6EEcEe9S0AFFFcd4w+JOl+FrpNKtYZtZ8QTj/R9IsRvlb3fH3F9z+ANAHWXV1BZWslzeTR28ESlpJZWCqgHUkngCvM7n4h6545upNM+E9mGtlJS48SX0ZFtD6iJSMyt+g4yMHNFp4A8Q+OLuPUviveILRG8y38N2LkW8fp5zDmVvbp74OK9MtbW3sbWO1soI7e3iXbHFEgVUHoAOBQByXhH4Z6P4Yu21W6aTWfEE3M+r353zMe+zPCDtgduMmuyoooAKKKKACuc1PTbzSdTk1zQIvOaUD7dYA4+0gdHTsJAP8AvocHtXR0VUZOLE1co6TrFlrVn9o0+beoO10I2vE3dWU8qR6Gr1Y2p+GbW/u/t9pNNp2pAYF5akKzD0cdHHswP4VVF54o0v5b3T4NZiH/AC2sXEUpHvG5xn6NVcqfwsV2tzo6oaZ/rtQ/6+j/AOgLWb/wmdjFxfWOq2R7iawkI/NQQfwNVLHxlpEcl4Q15IZbguipYzEsNqj+56g1Spzs9BOUbrU6yiudPiW/u/l0jw5qEpPSS8C20Y/76O7/AMdpjaBqutf8jNqIW2PXT9P3RxsPR5D8zj2G0e1TyW+J2HzdhL7WLnXbmTSfDEuFU7LvVFGUtx3VD0aT6cL39K3NM0210jTobGwj8uCEYUZyT3JJ7knkmpba1gsrWO3s4Y4IYxtSONQqqPYCpaUpaWWwJdWFFFFQUFFFFABRRRQAUUUUAFFFFABRRRQAUUUUAFFFFABRRRQAUUUUAFFFFABRRRQAUHpRQelAHKaRqtrDo9rG5l3LGAcQOR+YFXf7Zs/703/gPJ/8TU2g/wDIAsv+uQrQoAyf7Zs/703/AIDyf/E0f2zZ/wB6b/wHk/8Aia1qKAMG+1a0k0+5RWly0TAZgkHY/wCzTrXV7NbOFS02RGoOLeQ9v92tPUv+QTd/9cH/APQTTrL/AJB9v/1yX+VAFD+2bP8AvTf+A8n/AMTR/bNn/em/8B5P/ia1qKAMn+2bP+9N/wCA8n/xNUtX1W1m0mdEaXcyjGYHHcdyK6Os/Xv+QHc/7o/mKAIf7Zs/703/AIDyf/E0f2zZ/wB6b/wHk/8Aia1qKAMn+2bP+9N/4Dyf/E0f2zZ/3pv/AAHk/wDia1qKAOc1PVbWWGAIZci4iY5gccBwe4q7/bNn/em/8B5P/iam1n/j3tv+vuH/ANDFaFAGT/bNn/em/wDAeT/4mj+2bP8AvTf+A8n/AMTWtRQBk/2zZ/3pv/AeT/4mqV/qlrJcWJUy4SfccwOONjD05610dZ+pf8fmm/8AXz/7TegCt/a9p6zf+A8n/wATR/a9p6zf+A8n/wATWzRQBjf2vaes3/gPJ/8AE0f2vaes3/gPJ/8AE1s0UAc3NqlqdXs5AZdqpID+4fPO3tir39s2f96b/wAB5P8A4mprr/kPaf8A9c5v5LWhQBk/2zZ/3pv/AAHk/wDiaP7Zs/703/gPJ/8AE1rUUAZP9s2f96b/AMB5P/iapf2ra/255uZdv2bb/qHznd6YzXR1n/8AMy/9un/s9AEP9s2f96b/AMB5P/iaP7Zs/wC9N/4Dyf8AxNa1FAGT/bNn/em/8B5P/iaP7Zs/703/AIDyf/E1rUUAZmiXEdzq2oyQliuyEfMhX+92IrbrLsP+Q9qP/XOH/wBnrUoAKKKKACiiigAooooAKKKKACsrxF/yC4f+v+z/APSmOtWsrxF/yC4f+v8As/8A0pjrSn8a9SZ/CzVooorMo5rxL4i1zTL6Gy8OeE7nXJ3j815TcpbW8YyQAZGzluOgB7etVvAfj1PGi6na3OmT6Pq+kTiC/wBPncOYic7SGHDKcHB9vTBOz4l8SaZ4S8P3Os63cCC0t1yT1Z27Ko7sTwBXJfCnw/qdt/bnizxDD9l1PxRcrctZ97aFAREjf7W1iT9QOuaAC2+LlnqXxD0fw5pWk3U9jqj3McerykxRO8EZdxEpGZAOFLcDJ4zit3xp4zg8IWlkBZT6nqOpXAtrCwtyA88hGep4VQOrHpXNeNFVPjn8L1QBVUaqAAMAD7MtJ4vMf/C//h4LjkfZ9R8kHON/lDOO2cf09qANHQviJfTeMIPDHjDw1L4d1K8gaaxP2xLqG5CcuodQMMBzjHQH2z3VeZ/EkI3xP+GoTP2r+0rgpt/55+UN/wD7LXplABRRRQBlaR/yFNd/6/1/9JoK1aytI/5Cmu/9f6/+k0FataVN/kvyJjsFFFFZlBRRRQAUUUUAFFFFABRRRQAUUUUAFFFFABRRRQAUUUUAFFFFABRRRQAUUUUAFFFFABRRRQAUUUUAec+JPhze2GtTeK/hpdR6Trr/ADXVk4/0PUgP4ZE/hY9nGOSehO4angv4jWXim5m0jUbWTRPElpxd6RdnEi4/jjPSRPRh256EE9lXLeNPAGk+NYYJLoy2WqWZ32OqWjbLi2ccghu4z/CePoeaAOporzDR/H+r+D9Tt/DnxYWOCSY7LHxFFgWt76CT/nlJ65wOvQYJ9PBDAEHIPII70AFFFFABRRRQBm6/4f0vxRolxpOu2kd3Z3C4eNx0PZgeoYdiORXnOk+J7/4V6tD4Y8f3j3OhTNs0fxDN2HaC4PZgOjdCPxx6xXkXiFpPjL4ql8Lae7L4Q0icHV72M/8AH5OpyLeM+inksP8ADIBLoNrP8W/FUPivWIJI/CelyE6HZSgj7ZKDg3Mi9wMfKD/jn1ivJdC1jUfhJqlt4V8YzvdeF5mEWja6/wDy7/3ba4PbA4VumPbOz1oHIyKACiivPPHfjbUjrEfgrwEqXHia7TdNOwzFpkJ6yyHpnB4X6cHIBAOU+LjXOueO9OsfhrFM3jjTone4vbaRUW3tmU/upWPGWJBUHpn3rqvgm3h4/D+NfD8UsN4khXV0uubkXg/1nmk8k56H09OQOh8E+C9P8EaIbKyZ7i5nfzr2+mOZbuU9Xc9+SfpXKeOtA1Hwl4hf4i+C4GmnVANc0tGwL+3Uf6xfSRByPUfiGAPTq5DxD8KvBnieXz9S0K3S7yGF3aZgmDDo25MEn65re0DXtO8T6Fa6xotytzZXSB43X9QR2IPBHYitGgDzP/hBPHfhnB8E+OpL63T7uneJIvtCn289cOB2wBR/ws/xD4cG34g+BtRs4kHzalpBF7bY/vMB80Y+uT+demU2WWOCF5ZnWOONSzu5wFA5JJ7CgDA8N+PvCvi5R/wjuu2d6558lX2yj6xthh+Vc14s+IOoXmtv4R+G8Eeo6/8Adu7xxm20xTwWkbu47L/PoeN8Q6Npfxt8QeR4R0WztdLtZ9194r+zbJZmBzsgIwXOerNkD8s7+m/CXxF4Cjl/4Vh4rWKCRvMk07WrVJY5W9TKgDD04BOO/FAHV+B/h7YeDY57uWeTVNdvfmvtWueZZ2PJA67Vz0UfrXXV5kfiV4q8Nnb498B30cK/e1HQ2F5CR/eKfeQfXmum8NfEfwh4uKpoOvWlxO3S3Z/Lm/79thv0oA6emyRpLG0cqK6OCrKwyGB6ginUUAeban8J20q+m1f4X6q/hbUZPmezVd9hcn0eEghfTKjjsM0mn/FafRL6PSfippDeGrxzti1FSX0+6b/Zl52HHO1jwOpFelVXv9Ps9VsJbLU7WG7tZl2yQzoHRx7g8UASxTR3EKTQSLLFIoZHRgVYHoQR1FJcW8N3bSW91FHNBKpSSKRQyupGCCDwQR2rzOX4a654NuJL34T6ytnbsxkk8P6kWls5D1Pln70RPt19QBWhoHxa0+51RND8Y2M/hTXmO0WuoEeVMf8AplN91x6dMngZoAyLrwp4h+F11Lqfw5jk1Xw/JJ5l54ZdiWiH8T2rHkHvs5z78Y6zSviZ4T1bwrL4gj1eG2srf5bkXbeXJbP/AHHQ8huMADOe2ayvEXxUt4dXfw94IsJPE/iEcNBbHEFr23TS9FA9Pw4rjb/4C6prM0vinVdZsn8YvMtyIxZIdPyo4idCuWHbeefY0AbreIfGHxQPl+CRJ4a8NlsPrd1Fi4ul/wCmEZ+6D/eOPw6V2Hg/wDoPgizePRrZmuZjuub65bzLi4Y8ku55P0GB7Vk+DfiQmqan/wAIz4rsf+Ef8UwL81jIf3dyB/HA/R1OCcZJHPXBNd3QAUUUUAFFFFABRRRQAUUUUAFFFFABRRRQAUUUUAFFFFABRRRQAUUUUAFFFFABRRRQAUUUUAFFFFABRRRQAUUUUAFFFFABRRRQAUUUUAFFFFABQelFB6UAY+g/8gCy/wCuQrQrP0H/AJAFl/1yFaFABRXnV3phl+Iks0mlXDat/asE1nqQtXKRWIgQSIJ8bVBYTAx7gSz5wc5r0WgCtqX/ACCbv/rg/wD6CadZf8g+3/65L/Km6l/yCbv/AK4P/wCgmnWX/IPt/wDrkv8AKgCeiuR8ftbRwaTPNaahdTQajbzRizs7i5EarMjSMViVgCEBwSM4LBepB53WtE16+8WajPqlnCthf6NqVp9vtnnuJILdvJESiAQg7+N3lhiWLSkH5QpAPUKz9e/5Adz/ALo/mKw/h3E1vodzbrpdrYW0VyRbva6U+mrcrsQmQ27kuh3bly33tmRwRW5r3/IDuf8AdH8xQBoUUVw/jOPTbjxRpENxpN9JdrJFOuqw6dPcC0SOUNsR0RgjyEbW+6NmSx4QEA7iivI9Q0wPq+tvpehu1jO0Tagtnoc9j50S3cbSI6sP9Md4zN8ycbQy7T5gz3Hga0S00a6W0spLDT5L2WSxtZIGgMUJI4ETAGMFt7BSBw3SgDU1n/j3tv8Ar7h/9DFaFZ+s/wDHvbf9fcP/AKGK0KACiuE15LKb4kae0Oj3S6lbBZP7WOnTyI+UdUtlnVGWNMtuckhRkcMWYpzn9ia1a3V2fFWhQ3WnS31tcar9jaa++2jZKCfK8lTIqyGI7QG2qgGMLwAevVn6l/x+ab/18/8AtN6oeCLWSy8IWsMkElsm+ZreCVSrQwNK7QoVIBXbGUG0gFcYwMVf1L/j803/AK+f/ab0AaFFFeX+I7WK98S66dC0fUbTVl065gF7Hp86NqMjxKQouduwIoXCguMvjG0KCwB6hRXk93YaXD4e1STTNA1O10uS/tpLCxt9KuU/eoq75DbKmQvHVlwWXcOdpr1SCZbm2jnjDhJUDqJI2RgCM8qwBU+xAI70AU7r/kPaf/1zm/ktaFZ91/yHtP8A+uc38lrQoAKKhuLqO1EZkWVvMcIPKheTBPrtBwPc8D1qOy1CG/UtAlwgCo37+2khOGUMOHUc4PI6qeDgjFAFqs//AJmX/t0/9nrQrP8A+Zl/7dP/AGegDQoorzexgvLqHxJp3hnT7iNLjVo5nGqJdWS3FubeFZNszwsSWkjdScE4LEEZVqAPSKK8ZstFvTpmlQax4dnXVE0zT4tIkgt5JUsZEmfzD5mwC3bb5ZbIXIAUFttezUAU7D/kPaj/ANc4f/Z61Ky7D/kPaj/1zh/9nrUoAKKKKACiiigAooooAKKKKACsrxF/yC4f+v8As/8A0pjrVrK8Rf8AILh/6/7P/wBKY60p/GvUmfws1aKKKzKPP/Hfw51bxf4r0rWLHxQunRaWm6Cyn01bqIT5b99guoLYIAyDjbkda3PDOjeKtMvJpPEviyLXIHj2xxJpaWvltn725XbPHGK6SigDy7Vfhl4z1XxRpmuzfEOEXekNObHGgpiITLscH97hvlAHNb3iXwDN4o0TRxea5Nb+INHcTW2tW0Cowlxhj5WSNrcZXPYDNdnRQBxOgeALy28Vx+JfF3iKTxFqtrC0Fk32RbaK1VuHKxqT8xHBYnp+nbUUUAFFFFAGVpH/ACFNd/6/1/8ASaCtWsrSP+Qprv8A1/r/AOk0FataVN/kvyJjsFFFFZlBRRRQAUUUUAFFFFABRRRQAUUUUAFFFFABRRRQAUUUUAFFFFABRRRQAUUUUAFFFFABRRRQAUUUUAFFFFAFLV9H0/XtKn03WbOK8s512yQyrlW/wPoRyK8xaHxJ8GiXs1uvEvgZeWgzvvNJXuVP/LSIenYDtgk+t0UAZ+ha9pfibR4dU0K9ivbKcZSWI/mCOoI7g4I71oV5prvw81Pw7rE3if4VSxWN/Mwe+0aQ7bPUAPbpHJ1wwwPpkk73gn4h6Z4yE9p5Uul63Znbe6Rd/LPAR1IH8S/7Q9RnGaAOtoorjPiH41m8NWlrpWgwre+JtYYw6badge8r+iKOTnrj6kAGR8QPEWpa5rS/D3wVKY9Uuow+qagv3dNtj1OR/wAtGHQeh9wR23hvw5pvhPw9a6NosHk2lsuFGcsx6lmPdickmsnwB4Ji8GaG6TTG91e+f7RqeoOMvczHrz12jJAHb8TXVUAUtX0iw1/SLnS9YtY7uyuUKSwyDIYf0I6gjkHkV5jpus6n8H9Wt/D/AIsuJL3wfcyeVpWtynLWRP3bec/3R2b09gQnrdec/FHxLFcWzeBNG0+HW9f1qIoLOUboraI9Z5j/AAgdR3yBigCbxz48u7bUoPCXgeOO/wDFF+m5T1isIj1nlPTAHIHfj2B2vA/giy8FaTJDFI15qN2/nahqMw/e3cp6sT2GScDtn1JJ8w8JabJ8Atb+yeJFivNB1kxoPEKRFWtZgoHlTcnEf909B377fc0dJY1kjZXRgGVlOQQe4NADqKKKAPJNWt5fg34om8Q6ZC7+CtWmB1WyhXP9mzsQBcoo/gPRlHTjGflA9Xt7iG7tori1lSaCZA8ckbBldSMggjqCO9Jc20F7aS2t3Ck8EyGOWKRQyupGCCD1BFeLv4kb4B6pJoOppPqPha9WSfQxEwee2kzlrYgnJUlvlbtnvzgA9e1vXNN8OaPPqmt3kdnZW67pJZDwPYDqSegA5NeYxWWu/GidLnV0udD8Cq26KwyY7jVh1DSEcrH3AHX8iNDRPBOr+MtYt/FHxPRQYW8zTfDyNugsx2eXtJL9eB+g9NAwMCgCvY2NrplhDZadbx21rAgSKGJQqoo7AVYoooAK5jxJ8N/CHi3c2u6DaTzsOblE8ub6+YuG/WunooA8y/4Vv4s8NsH8BeO7xYFORpuur9rhx/dD/fQfT/8AWD4heNPDQ2+OvAlxPCv3tR8Ov9qjPqTETvRR6k16bRQByvhr4meD/FjLFouu2r3ROPskxMM4Pp5b4Y4PHAIrqq5vxP4D8JeKoXk8TaJY3RC5a4dfLkUAf89VwwH4141B/by+KF0j4E+J9Y1OzgJS8l1N1uNNtf8AZjlcEnHBwoP1PNAHtvirxjofgvSjf+Ib5LaM8RRj5pJm/uog5Y/5NedX+h+JvjVHGviCxHhnwiHEsVvNEr393joxJB8kfT5vqDmsPRdN8R+BfEkuv/EbwfqHi2/LfLrthcC8+zr6R25CmNR1zgdTjuK9P8OfFPwb4oYRaZrtut1na1pdHyJlbONux8EnPHGaAORtPAHij4VtNN8MpYdZ0eVvMuND1EqkucdYpwBz2wwwPcmup8K/FHQPE162lzGbRtdiO2bSdSXyplb/AGc8OPTBzjnArs65/wAV+BvDvjWzEHiLTY7lk/1VwuUmhPUFJB8w55xnB7g0AJ4x8EaN440oWetQHzYjvtbyE7J7V+zxv1ByAcdDgZBrjLLxlr3w3vo9H+Jzte6O7LFY+J4ojtPYJcgZ2N/tdD3zyQpg+Inw4wbOSTx54fU8wzHbqVun+y3Sb6EbjwBgc103h7xn4S+JWk3NnayRXWQY7zS76MLNH2KvE3bPfkZ78UAdXFLHPCksLrJHIoZHQ5DA8gg9xTq8nl0LxF8I5nvPBsVxr3hIsXuNCZi9xYg8l7Zjyy99h/qWHoHhfxXo3jLRI9V8PXqXVs3DAcPE3dHXqrD0P16HNAGxRRRQAUUUUAFFFFABRWLqPimzs7xrCzim1LUB1tbNdzJ/vtwqD/eIquE8W6jy0un6LEeiKhupR9Sdqg/gavke70J5l0Oiorm5fDeoGF3ufFOrO4Un915UQ6egSo7LQNSfT7e4g8U6okkkSufNEUq5IB6FKfIrXv8AmLmd9jqKK50jxbp3O6w1qIfw7Tayn6HLKT+VWdN8UWV/d/YbhJtP1DGfsd4ux291PRx7qTScHa61HzLqbNFFFQUFFFFABRRRQAUUUUAFFFFABRRRQAUUUUAFFFFABRRRQAUUUUAFFFFABRRRQAUUUUAFB6UUHpQBj6D/AMgCy/65CtCsPRdW0+HRbSOW9gR1iAZWkAINXv7b0z/n/t/+/goAvUVR/tvTP+f+3/7+Cj+29M/5/wC3/wC/goAl1L/kE3f/AFwf/wBBNOsv+Qfb/wDXJf5VQ1DWNOk025RL63ZmhcACQZJwadaazpqWMCtfW4YRqCDIOOKANSiqP9t6Z/z/ANv/AN/BR/bemf8AP/b/APfwUAXqz9e/5Adz/uj+Yp39t6Z/z/2//fwVR1nVtPm0e4jivYHdlGFWQEnkUAblFUf7b0z/AJ/7f/v4KP7b0z/n/t/+/goAvUVR/tvTP+f+3/7+Cj+29M/5/wC3/wC/goAbrP8Ax723/X3D/wChitCsPVdW0+WCAR3sDFbmJiBIDgBwSavf23pn/P8A2/8A38FAF6iqP9t6Z/z/ANv/AN/BR/bemf8AP/b/APfwUAXqz9S/4/NN/wCvn/2m9O/tvTP+f+3/AO/gqjqGrafJdaeUvYGCXG5iJB8o2MMn86ANyiqP9t6Z/wA/9v8A9/BR/bemf8/9v/38FAF6iqP9t6Z/z/2//fwUf23pn/P/AG//AH8FADbr/kPaf/1zm/ktaFYdzq2ntrVjIt7AURJQzCQYGduKvf23pn/P/b/9/BQBeoqj/bemf8/9v/38FH9t6Z/z/wBv/wB/BQBerP8A+Zl/7dP/AGenf23pn/P/AG//AH8FUf7W0/8A4SDzftsHl/Zdu7zBjO/pQBuUVR/tvTP+f+3/AO/go/tvTP8An/t/+/goAvUVR/tvTP8An/t/+/go/tvTP+f+3/7+CgB1h/yHtR/65w/+z1qVjaTcw3WtajJbSpKmyEbkbI/jrZoAKKKKACiiigAooooAKKKKACsrxF/yC4f+v+z/APSmOtWsrxF/yC4f+v8As/8A0pjrSn8a9SZ/CzVooorMoK4bxFovxCvri/utG8YWOjwx5NlaJpySiQAf8tpJMkZPXaOPeu5rzrx54iv9d1J/AHgp86rdx41O/XlNKt24LMR/y0YZCrnPfjigDV+F/jGfxv8ADbTvEGpRR29xKrrPs4TcjFSwz0B25x2ritN+IPibWvi94ba2ulg8I65NfwWdqYE3XMdtBnzy5G4BpDwARwo4552vGvhPVtI+E1j4Q+HumSXdvvS1u0juY4ZfsvLSkM5C7nPBP+2TiuM17WvE9r8Tvh0ifDuTT5NOjv4tP01dVt2+0J9nVWCuDtTYoB+br0FAHv1FIhLIpZdrEZK5zg+lLQAUUUUAZWkf8hTXf+v9f/SaCtWsrSP+Qprv/X+v/pNBWrWlTf5L8iY7BRRRWZQUUUUAFFFFABRRRQAUUUUAFFFFABRRRQAUUUUAFFFFABRRRQAUUUUAFFFFABRRRQAUUUUAFFFFABRRRQAUUUUAFcj42+Hem+MDBfRzS6Vr1l81lq9n8s0J9D/fT1U+pxjJrrqq6nqdno2l3Oo6ncJbWlrGZJpXOAqj/PSgDyyT4uan4BtbjTPijpkg1SGJmsL6xjLW+rEcALj7jnIyDgDrxkA73w78I38N3deMfGSq/ifVgNydVsIP4YE9MDqfX8Sef0Pwwfi/qEvi3x1ZN/YTxPDoekSkriJsg3D4/jYY2nPHUfwmpBc+JPgz8moNdeJfAyDCXON95pS54D/89IgO/UewABAPW6Kp6Vq2n65pcOo6Pdw3lnOu6OaFtysP6H1B5Fcx4/8AHT+Go7bSdBtf7U8T6plNPsF7essn91F6knGcfUgAZ4+8dTaFJb6B4YgXUfFWpDFnadVhXoZpT/Cg9+p/Gp/APgKHwdZ3Fze3Lanr+ot5upalLy0z/wB1fRB2H4/RngDwEPCkNzqWsXX9qeJdTPmajqL8lm/55p6IvQD27cAdlQBW1HTbPV9Nn0/U7aO6tLhCksMq5V1PY15ZZXWo/BXUI9N1mWa/8B3EgSz1B8vJpLMeIpe5izwG7dPavXKgvbK21Gxmsr+CO5trhDHLDKoZXUjBBB6igCWORJoklhdZI3UMjqchgehB7inV5BHc6j8ENTjtb5ptQ+H11LtguWzJLorseEfu0Oeh6j68Np658QNR8U6pJ4Z+FLQ3d0oAvtdOHtdPU/3T0kk9AMj64OADV8bfEVNBvYtA8N2Z1zxTdj9xp0LcQg/8tJm/gQdecZ9hzWTpfwcs9Ts7+++JE41/XtUgMU9wf9XZqeQluCPk2no2M5+prpvBfgPS/BVnL9kaW81G7O+91O6bfPdP6sx7eg6fjzXT0AeZ+BPEGpeGPEA+HfjadpryJC+jao/C6jbj+Ek/8tUHBHcD2y3plcz478E2Xjjw+bO4drW+t286wv4uJLSYcq6nrjIGR3HocEZfw78a3esNdeGvFiJa+LNH+W8hUYW5j/huI/VWBGfQnoMigDuqKKKACiiq9/qFppdjLe6lcxWtrCu6SaZwqoPcmgCxXK+MfiJoPgtY4b+WS61O4wLXS7NPNubgngBUHQe5wPx4rlZPHHif4izNZ/DK0OnaRuKT+JdQiwuO/wBniPLn3PHrjrXUeDvhxong5pLu3WS/1icf6Tq163mXExPX5j90ewx2zmgDl08HeKPiVIl58Rrh9H0QndH4bsZiDIO32iUYJ/3R+hr0rTNLsdG02HT9JtIbO0gXbHDCgVVH0FWqKACsDxH4G8MeLUI8RaHZ3z4wJZI8SgegkGGH4Gt+igDzH/hVOs+HiH+HvjjU9LjXkafqOL22/wB0BuUB9Rk0Hxt8QvCwx4y8EjV7VAS2oeGpfNOB/wBMHw3TnOQP6enUUAcboHxZ8FeI5vs1prkNteA7Ws78G2lDf3dr4yf93NTeLvht4f8AGM0d7eQy2WrQ/wCo1WwkMNzEccYcdcehzjtWl4g8G+HPFUJj8RaLZ3/GA80Q3r/uuPmX8CK43/hUl94f+f4c+MtV0JV5XT7pvttmPYI/K+mck/lQBANd8ffDldviuzbxfoEXH9radHi8hXsZYf4gO7L25JNV20XS/FVzJ46+C2vWtprfW6hTP2e+zzsuIuCjHkhsA5JPXBF//hLfiR4Y+XxV4Ni1+2XAN94bmLPj/r3f5ifpgZ+orm7i4+GnjXWv7Q8OeIpPBXi5SVMoU2cxbussb4WXPoDk+vGKAO78F/Ee28SXkmh61ZyaH4ntVzc6Vc8Fv9uJukid8j+WCe1rwbxe1+lrDbfF/R5GFowaw8b+HkJa1PUO6KNye4AKk9BwGrc8LfFK40JrTT/Ht9a32m3TCPTvFlmQbW69EmxxFJ654656ZIB67RSKwZQykEEZBB60tABXLzXt54qvJbLRrh7TSoHMdzqER+edh1jhPYDoX/AetWPE9zPcSWmgafI0VzqRbzZUPMNuuPMYehOQo929q2rOzt9PsobSziWGCFAkaKMBQK0Xuq/Ul6uxFpul2Wj2a2um2yW8K84Ucse5J6k+55q3RRUNtu7KI7j/AI9Zf9w/yqDSv+QPZf8AXun/AKCKnuP+PWX/AHD/ACqDSv8AkD2X/Xun/oIqvsk9S3VPVNIsdZszbalbrNHnK54ZD2ZWHKn3FXKKlNp3RW5zNtf3nhq+i07XbhrqwuH8uz1KT7ysekU3v6N36Hnr01V7+wttT0+ayvohLBOhR0Pcf4+9ZHhe8uAl1o2pSGW90xxGZW6zxEZjk+pHB91NW/eXN1JWjsb9FFFZlBRRRQAUUUUAFFFFABRRRQAUUUUAFFFFABRRRQAUUUUAFFFFABRRRQAUUUUAFB6UUHpQBz+iIp0O0JUE+UO1XvLT+4v5VS0T/kB2f/XIVfoAb5af3F/Kjy0/uL+VOooAq6iiDS7r5V/1L9v9k06zjT7DB8q/6te3tSaj/wAgu6/64v8A+gmn2f8Ax4wf9c1/lQBJ5af3F/Kjy0/uL+VOooAb5af3F/KqOtIo0a4wqj5R29xWhVDW/wDkC3P+6P5igC75af3F/Kjy0/uL+VOooAb5af3F/Kjy0/uL+VOooAz9WRRBb4Vf+PqHt/tir3lp/cX8qpav/wAe9v8A9fUP/oYq/QA3y0/uL+VHlp/cX8qdRQA3y0/uL+VUdRRRdaf8q/8AHx6f7DVoVQ1H/j707/r5/wDZGoAu+Wn9xfyo8tP7i/lTqKAG+Wn9xfyo8tP7i/lTqKAM+5Rf7asflX7kvb/dq95af3F/KqVz/wAhuw/3Jf8A2Wr9ADfLT+4v5UeWn9xfyp1FADfLT+4v5VR2L/wkONq4+y+n+3WhVD/mYv8At1/9noAu+Wn9xfyo8tP7i/lTqKAG+Wn9xfyo8tP7i/lTqKAINLAGtaiAAPkh6f8AA616yNM/5Deo/wDXOH/2etegAooooAKKKKACiiigAooooAKyvEX/ACC4f+v+z/8ASmOtWsrxF/yC4f8Ar/s//SmOtKfxr1Jn8LNWiiisygriNQ+DngXVNXu9TvNGka8vZTLcSR6hcx+Y56nCyAfkK7eigDI8N+FtI8I6a+n6BbPbWzymZke4kmJcgAndIzHoo4zipb3w/pmo67pms3lr5l/pPm/YpvMYeV5qhZOAcHKgDkHHbFaVFABRRRQAUUUUAZWkf8hTXf8Ar/X/ANJoK1aytI/5Cmu/9f6/+k0FataVN/kvyJjsFFFFZlBRRRQAUUUUAFFFFABRRRQAUUUUAFFFFABRRRQAUUUUAFFFFABRRRQAUUUUAFFFFABRRRQAUUUUAFFFFABRRRQAEhQSTgDkk9q8jkLfGnxZ5KZ/4QTRLjMjjpq9yvRQe8S+vf8AHi5411e+8d+JX+HvhS5aC3RQ3iDU4s/6NEf+WCHp5j9D6DPvj0TSNJsdB0e20vSrdbeztYxHFGg4AH8z6nvQBbRFjRUjUKqjCqowAPShlDKVYAgjBBHWlrkvHvj238G2MEFtbtqWu6g3labpkR+edzxk+iDuaAPO/HNq/wAK/FFrefDG5Caprs+JPCoiMkF16zKoIMRHqMA+wBB2Pgm2k6iupatqF7Ld+N5nK6wl7H5U9pg8RLGfuxjjBHXvjGB0PgPwLPo1xceI/FdwupeK9RGbm56pbp2gi/uoOnvUvjX4cWXii6h1jTLqTRPEtpza6vaDDjj7sg/5aJ2we3sSCAdnRXnfhr4jXlnrcXhT4lWkej682Ra3aH/Q9TA/iic9G6ZQ85I6E7R6JQAVFdXUFlay3V5NHb28Kl5JZWCqijqSTwBWf4l8TaT4R0ObVteu1tbWLueWduyqOrMewFeeWmh658XLqLVPGUE2keE43ElnoJJWW9xyslwR0Hon/wCsgEV9qWsfGiSbSvDby6V4KDGK91ZkxLqQ6GOAEcL2LH/EGK0trn4D3rIolvvAF7PuaTbum0eVsDLEcvET36jjv9/163t4bS2jt7WJIYYlCRxxqFVFHQADoKLi3hu7WW2uokmgmQpJHIoZXUjBBB6gigAtrmC8tYrm0mjngmQPHLGwZXUjIII4II71JXkEkV/8DtTM9v8AaL/4fXcv72LmSTRXY/eXuYST07fX7/rNpd29/Zw3djPHcW06CSKWNgyupGQQR1FAE1cR8Q/BVzrotNf8MSrZ+KtHPmWNx0WderW8nqjcj2J9Cc9vRQBy/gLxva+N9Ba4WJrLUrRzBqWnSf6y0mHBUjrgkHB7j3BA6ivJ/ila/wDCCapH8S9AuLW1vYgsGqWM0ojXVYOBtH/TVcDB64HfGDDZ694p+M9qZPDM8nhbwmzFHv8AcrX13g4ZUCkiIds5z9elAHT+LfibY6DqI0PQ7SbxD4kkH7vS7I5Mf+1K/SNee/P4c1kaf8N9W8WX0WsfFm+jv3jYSW2g2hIsrU9tw/5at7njqORXX+EvBOheCdNNnoFksRfma4c75p2/vO55J/QdgK36AGxxpDEscKLHGg2qijAUegFOoooAKKKKACiiigAooooAKKKKACsnXvCug+KLfyPEOkWeooBhTcQhmT/dbqv4EVrUUAeZSfB6XRVY/D3xZqnh9D/y4Tt9tsyPTypOeRxnJry7xP8ADbxzoX2qez8OWsqzqVuX8PHfbXa9f3tjJ1b0Me0KeRzg19PVU1PVbDRrCS91e9t7K1jGXmuJAir+JoA+SPBvxv8AEXw2kl0i902S509B8mm3buj2bEdI2Ybgn+w2cY4PJJ+hvhB8RB8R/BQ1C5WKLUreVobyGPopzlWA64KkfiD6V498ddZsfifpkF34Ls9T1OHQRNJc6hFZlbXyyFL/ALxsElducAYwSa6T9mn4e6v4f0y48T6pcTWseqwqsFhxiSMHKyuOoPJ29OCT3oA9X0cfbfGWu37ci38qxiPoAu9/zZ//AB0V0Vc94W+S/wDEUTffXVWc/Ro4yP0roa0qfF9xMdjzD4/+HrrWfhjPfabJKt3pEgvFWN2XfGOJAcdflOf+A1n6f4C8J+OfhOureG9LFtqGoaezW7reSjybjaRjJY4w4x36V23jnxRFoempp1tZjVNY1Xdb2Omj/luSMMz/AN2NQcsx7fWqnw+8L2Xwy8E6fod5qUZmnuDlpJNqvPJz5cYJzjjgdTgmsyjV8K6LL4d8AabpFzJ5k9pZLHM+4tuk2/Mcnr82a1NK/wCQPZf9e6f+gip7j/j1l/3D/KoNMO3RbM4JxbpwP90Vf2Sepxvjb4qWXhbWoPD+k6bc+IPEVwNyadZnBQHoXbnaO/TpzwOa5OT4l/E//hL4PDbeEdFs9SubU3cEFxfE70BIIDA4LDByPSj9nmyGrQ+JPGuofvdU1TU5ITI3JjjXDbR6DLf+Oj0qLxbcNrf7VnhKw03Lvo9o8126/wDLMMGOD+BX/vqoKPVPClx4iutEEvjCys7HUTIwMNnIXQJ2OT361X1IfYvHmj3acC+hlspffaPMT+T/AJmuirnfEfz+IPDMS/f+3vJ/wEQSA/8AoQq6e/3/AJEy2OiorK1rQ/7a8j/iaalp/k7v+PC48rfnH3uDnGOPqay/+EG/6mjxJ/4MP/saqMYNXcrfITlJPRHU0Vy3/CDf9TR4k/8ABh/9jR/wg3/U0eJP/Bh/9jVclL+f8Bc0/wCX8Tdu9WsLC6t7a9uo4Jbnd5KyNt34xnB6Z5HFXK808TfDW/1G7sY7HVr67iG/zpdSufN8n7uNowDzz+QrtPDegnw9pa2hv7m9x3nbIX2Udh7VVSnSjTUozu+xMZzcmnHQ1653xp4lPh3R1Fmnn6pev5FhbgZLyHjOPQZz+Q71vzzR21vJPM22OJC7tjOABkmvG9D8d+HdT8aXXiXxTqAt2g/caZaGCR/JTvISqkbj/U+1FCk5tytdL8fI66cHLW2xn/BaSab4j6nJdSGWd7GUySE5LN5seTXu9fN3w48Uad4X8U6nqeou3ltZSpCqqSZXMiMF4HGQp5PFfQHh/Vv7d8PWWqeT5H2uES+Vv3bM9s4GfyrpzCElU5raaGmIi+a5o0UUV5pzBRRXlviuz/4Tr4y2vg/VXm/4R/T9IOo3drHM0a3crybEV9pBKgDP1zQB6lRXk/hzTE+H/wAcB4Y0IzR+HtZ0lryOyeVpEt7iN8MU3E4BXqPUjsBXQfGDXdR0L4cXb6JK0GoXk0NlbzqcGJpXClgexAJwexwaAO4orxD4gfD/AEz4aeCP+Ew8G/arfXNGlglmujdSO18pkVHWUFiGB3ZPHbHTitObTrX4o/F/W9L8QiefQPDtlaeXp3nNHHNPcJ5okcKRuIX5cHj+oB65RXlfgO3m8JfFHxL4I06aY6QtlDqWmQ3EjSC03fI6KWJO3dzj29c5z7Dw9d6F+0DoEmq61dazqN5pF1Jc3M+FQEMoCxxjiNB6DPuaAPZKKKKACiiigAoPSig9KAMDRP8AkB2f/XIVfqhon/IDs/8ArkKv0AUH1m2R2UxXpKsVO2wnIyHVOCE5GWHI4Iyw4UkX6KKAK2o/8gu6/wCuL/8AoJp9n/x4wf8AXNf5UzUf+QXdf9cX/wDQTT7P/jxg/wCua/yoAmqgms20kiIsV6C5UDdYTqPmZlGSUwOUOc9AVJwGUm/RQAVQ1v8A5Atz/uj+Yq/VDW/+QLc/7o/mKAL9IzBVLHOAM8DJ/KlooAo2+r21zJCkcd4pmxt8yxmjAym/5iyALxxzjDfKfm4q9RRQBQ1f/j3t/wDr6h/9DFX6oav/AMe9v/19Q/8AoYq/QBFc3CWlrLcSrIyRIXYRRNI5AGeEUFmPsASaih1GGe6+zolyHw5y9rKifKQD8zKF/iGOeRkjIBxaooAKoaj/AMfenf8AXz/7I1X6oaj/AMfenf8AXz/7I1AF+orm5S0gMsqysoZVxFE0jckAfKoJxk8nHAyTgAmpaKAKttqEN3M0cSXKsqbyZbWSMY3MvVlAJyp464wejAm1RRQBQuf+Q3Yf7kv/ALLV+qFz/wAhuw/3Jf8A2Wr9AEVxcpbCMyLK3mOEHlwtJgn12g4HueB61HZahDfqWgS4UBUb9/bSQnDKGHDqOcHkdQeDgjFWaKACqH/Mxf8Abr/7PV+qH/Mxf9uv/s9AF+q15fw2KqZkuG3BiPItpJfuqWOdinHAOPU4AySBVmigCG2uo7oSGJZV8t9h82F48nAPG4DI56jjr6GpqKKAINM/5Deo/wDXOH/2etesjTP+Q3qP/XOH/wBnrXoAKKKKACiiigAooooAKKKKACsrxF/yC4f+v+z/APSmOtWsrxF/yC4f+v8As/8A0pjrSn8a9SZ/CzVooorMoKzPEurHQfCerauqeYdPsproJ/e8tC2P0rTrK8U6U+ueD9Z0mFgsl/YT2ysT0Lxso/nQB5LpPwssPEPwni8T6pPez+L7/TzqMer/AGuUSxSuhkjCgNgKAVGAP6Y9G+Gev3Pij4Z6FrF+d11cWo858Y3upKs34lSfxrznRPipp2j/AAog8L3kN9H4wsdP/s1NH+ySGZ5lTy0IwuNpwDnP616T8OPD8/hX4b6Ho16Atza2qiZQc7ZGyzDPfBYigDpqKKKACiiigDK0j/kKa7/1/r/6TQVq1laR/wAhTXf+v9f/AEmgrVrSpv8AJfkTHYKKKKzKCiiigAooooAKKKKACiiigAooooAKKKKACiiigAooooAKKKKACiiigAooooAKKKKACiiigAooooAKKKKACuC+IvjO+0+a18J+Dws/irVxiAHlbOLndcP6AYOPUjv0Ot498aW/gnw/9qMTXeo3LiDTrCMZe6nbhVAHOMnJPp74qh8OvBd1oEN3rniWZb3xRrBEt/cDkRD+GBPRF6e/0AoA1PBHgyw8D+HI9MsS00zMZbu7k/1l1MfvSMfc9uwroqK5vxt42sPBOjrc3KNdXty3k2Gnw8y3cx6Io+pGT2/IUAReOvHVn4K02ImF7/Vr1vK07TIOZbqT0HooyMt2+uBWZ4D8CXOnX8/ivxjMt/4r1Bf3kg5jsoz0hhHYDoT3/nH4E8DX0Oqy+MfHMiXnii9XCoOYtNiPSGIeuDy3fn3LegUAFFFFAGT4l8L6P4v0WXSvEFjHeWsg4DD5oz/eVuqsPUV5NqvjfWvgZPHpPiS4PifRJoWOlz+ai30JUcRyqT86dvMA4/Ja7Hxl8RZrLVh4W8EWa614plHMOT5Niv8Az0nYfdHI+XqePUZseDvhzb6FNcax4iuf7d8SX6FbzULhARtP/LONeiJjjA6/TgAGF4L8IT+M72z8e+Pbu11W5kTzNM063cSWdghOQRgkPJ6t2I9QMep15bqHgrXPh7fz658LVW40+RvNvvC8r4il9Xtz/wAs3/2eh98Ba6/wb450bxxp0lxpErx3Fu3l3djcLsuLVx1V06jnIz0ODzwaAOjooooAZNFHcQvDPGssUilHR1BVlIwQQeoryS4tr/4IalJe6dFPf+AbqUvc2iZeTRnY8yJ3MRPUdvr9716uc8ZeM/D/AIQ0vd4hnVmuQY4bFE8ya6J42JH/ABZzj055oA27HULTU9Pgv9PuI7m0uEEkU0bZV1PQg1wOt/FQ3erS+H/hvpx8Sa0p2yzKcWdn/tSy9D/ug84xnPFeTXHh3xVo+kTajf6fq2hfDi8vfOvdAs7vddWsJHLkbcrETyyA5xnI719C+ErPw9Z+GLMeD4rWPSZIw8DWoG1wf4iepPqTz60ActoHwsjfV4/EXj++PiXXwMp5y/6Lad8RRdBj1PPfg1k6/Z3Hwj8VT+L9Fikm8K6pMDrunxgn7JIxA+1xj0z94f8A1tvrNMmhiuIJILiNJYpFKPG6hldSMEEHqCO1ADLO8t9QsobyxnjuLadBJFLG25XUjIIPpU1eR6fNJ8F/FEej30rv4G1icjTrmQ5Gk3DEkwux/wCWbdQSeOc/xGvXKACiiigAooooAKKKKACiiigAopssscELyzOscaAszucBQOpJ7V5/qvxj0KO/fS/Cdtd+LdVUH/RtITzET3eX7qrnjIzigD0Kua8U/EPwv4OUjXdXhiuMZS0jPmTv6YjXJ59Tx71yw0D4leNCG8S61F4R01sZ0/RW33TD0ac8Kf8AdyK6Xwt8NvCvg5/O0bSoxeN9++uCZZ3J6ku2SM98YFAHMnxL8R/GTFPCfh+PwvpzYxqWvDM7D1S3HQ/72Qat6Z8HNIe8TUvG1/eeL9TXpJqb5gjOcnZCPlUexzXolFAEP2O2+xmz+zxfZihjMGwbCpGCu3pjHapgMDAoooA5wN/ZPxAcPxBrVupQ9vPiGCPqUI/74NdEc7TtxnHGazdf0gazpZgSUwXMbia2nA5hlXlW/oR3BIqPQNbOqwyW95F9l1S0IS7tSfut2ZfVG6g/1rR+9HmJWjseWy/Dv4r/APCYX/iO08W6Jb3t4PLBNoZPJiByI03odq+uOp5Oa0tD+Hnjy58e6Rrvj/xTZ6va6T5jwW1vD5QEjKVDYCqCRnqea9XorMojuP8Aj1l/3D/KoNK/5A9l/wBe6f8AoIqe4/49Zf8AcP8AKoNK/wCQPZf9e6f+gir+yT1OKtfhvqPh6/1J/BHid9GstSnNxNZTWSXKRSt95oySCufQ5Fangz4e6Z4Nlvb2Oe41LV9Qbfe6neENLMc5xxwq+w/pXWUVBQVzcLDVvH8kqfNb6NbmHPbz5cFh+CBf++qt+INbfT0jstNjFzq15lbWDPA9ZH9EXqT+A5NWND0hNF0qO0WRppCTJPO33ppGOWc/U/0rRe7G/cl6uxo0UUVmUFFFFABRRRQAVBezTW9lLLa2rXcyLlIEdVLn0yxAH41PRQB438OPCPivwv4ze/1LQ2FtdRNBI63UJ8oM6tuwHyQNvbmvZKKK2rVpVpc0kXObm7sKKKKxICvKfFeor4D+N1r4s1lZk8P6lo39nT3ccRkW2mWXepfaCQpBwD6k+nHq1FAHlfhy+Xx98aP+Er0ZZn8PaTpTWUF5JG0a3Nw77m2BgCVC8E4649RUHjTWD8UPgxe6r4Nsr1p9Pv1litriHZLI1vICwC854yQOuRjGeK9booA8T8c+PdL+KXgseEPBTXV1rGsSwx3EBtnQ2EYkV5GmJAC42kdTntmrs2r2nwv+Muvah4kM1poXiKztDBf+UzxJLbx+X5bFQSCRz+Nev0UAeYeBJm8T/EvxH47hhmi0V7OHT9OmnjaM3CJ88kgVgDt3dDjnn3rmNV+K/gif42aDrMOvwNp1rpdzDNcCOTCOzAqMbc84r3aigCG0uob6ygu7SQSQXEayxOB95WGQfyNTUUUAFFFFABQelFB6UAc7os8S6JaBpUBEQyCwq99oh/57R/8AfQqjoumWEuiWjy2Vu7tECWaJST+OKv8A9k6b/wBA+1/78r/hQAn2iH/ntH/30KPtEP8Az2j/AO+hS/2Tpv8A0D7X/vyv+FH9k6b/ANA+1/78r/hQBW1C4hOmXQEqEmF8DcPQ06zuIRYwAyx58tf4h6U3UNL09NMumSxtlZYXIIhUEHB9qfZ6Vp7WMDNYWxJjUkmFeePpQBL9oh/57R/99Cj7RD/z2j/76FL/AGTpv/QPtf8Avyv+FH9k6b/0D7X/AL8r/hQAn2iH/ntH/wB9CqOtTxNo9wFlQnaOAw9RV/8AsnTf+gfa/wDflf8ACqGtaZYxaNcPFZW6OFGGWJQRyPagC99oh/57R/8AfQo+0Q/89o/++hS/2Tpv/QPtf+/K/wCFH9k6b/0D7X/vyv8AhQAn2iH/AJ7R/wDfQo+0Q/8APaP/AL6FL/ZOm/8AQPtf+/K/4Uf2Tpv/AED7X/vyv+FAFDVZ4mggxKh/0qI8MP74q99oh/57R/8AfQqjq2mWEcFuY7K3Qm6iUlYlGQXGR0q//ZOm/wDQPtf+/K/4UAJ9oh/57R/99Cj7RD/z2j/76FL/AGTpv/QPtf8Avyv+FH9k6b/0D7X/AL8r/hQAn2iH/ntH/wB9CqOoTxG60/EqHFxk/MOPkar/APZOm/8AQPtf+/K/4VQ1DTLBLrTwllbqHuMMBEo3DYxwePagC99oh/57R/8AfQo+0Q/89o/++hS/2Tpv/QPtf+/K/wCFH9k6b/0D7X/vyv8AhQAn2iH/AJ7R/wDfQo+0Q/8APaP/AL6FL/ZOm/8AQPtf+/K/4Uf2Tpv/AED7X/vyv+FAFC5niOtWJEqYCS5O4cfdq99oh/57R/8AfQqjc6ZYLrVii2VuEZJSyiJcHG3GeKv/ANk6b/0D7X/vyv8AhQAn2iH/AJ7R/wDfQo+0Q/8APaP/AL6FL/ZOm/8AQPtf+/K/4Uf2Tpv/AED7X/vyv+FACfaIf+e0f/fQqj58X/CQZ81MfZcZ3D+/V/8AsnTf+gfa/wDflf8ACqH9mWP/AAkPl/YrfZ9l3bfKXGd/XGKAL32iH/ntH/30KPtEP/PaP/voUv8AZOm/9A+1/wC/K/4Uf2Tpv/QPtf8Avyv+FACfaIf+e0f/AH0KPtEP/PaP/voUv9k6b/0D7X/vyv8AhR/ZOm/9A+1/78r/AIUARaS6vrWolGDDZDyDn+/WxWPpUENvrWopbxJEmyE7UUKP4+wrYoAKKKKACiiigAooooAKKKKACsrxF/yC4f8Ar/s//SmOtWsrxF/yC4f+v+z/APSmOtKfxr1Jn8LNWiiisygooooAKKKKACiiigAooooAytI/5Cmu/wDX+v8A6TQVq1laR/yFNd/6/wBf/SaCtWtKm/yX5Ex2CiiisygooooAKKKKACiiigAooooAKKKKACiiigAooooAKKKKACiiigAooooAKKKKACiiigAooooAKKKKACs3xBr+neF9ButY1q4FvZ2qb5HPJPoAO5J4A9TV+aaO3gkmuJFiijUu7ucBVAyST2GK8n0uKb4x+Lo9dvUdfBOjzn+zLaQEDUrhSQZ2HdFOdo79+4oAv+A/D+o+J9f/AOFieNLdobyVCmjabJyNPtz0Yj/now5J9D26D0yiuf8AGfjLS/A+gPqerMzEny7e2j5kuZD0RB3J/SgBvjbxpp3gjQTf34aeeVvKs7KHmW6lP3UQd/c9hXOeBPBWpza0/jbx+Vn8R3K7ba1BzHpcJ/5ZoOm7B5b6+pJTwT4P1TU9bHjn4gqG1uVSLDT+selQnooH/PQj7zfhXo1ABRRVbUdSs9I06e/1S5itbS3QvLNK21UA9TQBZJwMmvL9Z8Z6z461S48NfC+VY4YW8vUvEbqTFa+qQ/8APST36D8cimbnXfjTK0Vi1zoXgRWKyXHKXOrj0TjKRH16nPfkD0/R9H0/QNJg0zR7SO0s7ddscUS4AH9T6k8mgDK8G+CNH8D6SbPSImaWU77q8mO6a6k7u7Hk9Tx0Ga6KiigAriPGPw4i1zVI/EXhu9bQfFNsP3WowKCJxj/VzJ0dTgDnkYHUDFdvRQB5/wCE/iRNNq6eFvHtkNC8Tgfu1P8Ax7346b4H6HP93Oe3ODjvJ7iG1t3nupY4YY1LPJIwVVHqSeAK84+LeteC7jTR4d1+yk13V5z/AKFpmnDfeJIRw6kcx+uT27MOK8zuNL8S6Y+jj48Pqd54TVQI/s9yJI7aTd8ovCihn4wN2T+OSAAej3vxE1nxpdy6T8JrRLiNGMdx4ivFItLc9xGOsrfQY6dQc1t+Efhlpvhy/bWdTuZ9e8RTD99q1+dzj2jXpGvoB24ziup0ldNTR7UaGtquneWDbC0C+VsPI27eMfSrlACMqupV1DKwwQRkEV5FqOlah8GNXn17wxBLe+Crp/M1TR4+W09j1ngH93+8vb6YKevUEBgQRkHgg96AKek6tYa5pNvqekXUd3ZXKb4ZojlWH9Dngg8ggg81cryfVtH1D4Q6pP4i8IWsl34TuH8zV9Dh5Noe9xbjsAPvJ0wPTBT0nRNb03xFo9vquiXcd5ZXC7o5ozwfUHuCDwQeQaADXNE0/wAR6HdaRrNstzZXcZjljbuPUHsQeQRyCAa8+8E65qHgnxHH8O/GVyZlZSfD+qycC8hX/lix7SIMD3GPbd6hXPeN/Btj448OSaZfM0EysJrS8i4ktZl+7Ih6gg/TIyKAOhorgvh54yv726uvCXjNVt/FWkr+8I4S/h6LcR+oPcDofTOB3tABRRRQAUVxviX4q+FfDN0LGW9fUtUYlU03TIzcXDMO21fun/eIrCFz8UfGw/0W3tvAmlvj97cAXN86+yfdT6HkUAd3r/ibRPC9ibzxDqdtp8ABIaeQAtjsq9WPsATXCD4neIPFjCL4aeE7i6t34GsawDbWo/2lX78g+mDWr4f+EXhrRr0alqS3HiHV8fNqGsSfaHz1+UN8q+2Bketd0BgYFAHmcfwluvEUiXXxP8SXniB8A/2bbsbayjOc42Lgvj1OCe9d/pWj6boVgtlo1hb2NqnSK3iCLn1wO/vV2igAooooAKKKKACiiigArI1nQU1OSK8tZ2sdTtx+4u4xkgd0YdGQ91P4YNa9FNNp3Qmk9zm4/FMulsLfxba/YHzhb2PLWsvvu6ofZsfU10MM8VxEstvIksbDKujBgfxFOZVdCrqGVhggjINYMvgvRzM01gk+lzMcl9PnaDJ91U7T+Iq/cfkL3kbdx/x6y/7h/lUGlf8AIHsv+vdP/QRWQ3hzVkUpb+K9QCEYxNDDIfz2CmxeGNTEKQzeKdQ8pFCqsEUMZAAx12GnaPLbm/MV3fY6Ce4htYWmuZo4YlGWeRgqj6k1zz+JrjV2MHhG1+184bUJwVtY/cHrIfZePcVPB4M0dJlnvIptSnU5EmoTNPg+wY7R+ArdVQqhVAAAwAB0pXgttR+8zL0XQYtJM1xLM97qFzg3F5MPmf0UDoqjso4FatFFQ227saVtgooopDCiiigAooooAKKKKACiiigAooooAKKKKACiiigAooooAKKKKACiiigAooooAKD0ooPSgDH0H/kAWX/XIVoVi6LqdhFolokt7bo6xAFWlUEfhmr/APa+m/8AQQtf+/y/40AcLd6YZfiJLNJpVw2rf2rBNZ6kLVykViIEEiCfG1QWEwMe4Es+cHOa9Fqp/a+m/wDQQtf+/wAv+NH9r6b/ANBC1/7/AC/40AO1L/kE3f8A1wf/ANBNOsv+Qfb/APXJf5VS1DVNPfTLpUvrZmaFwAJlJJwfen2eq6etjArX9sCI1BBmXjj60AaNec6VprD4gxzHSriLV4tSvJb7UWtHVJ7JkcQp55XbIBut8RhiVMbcDaa7v+19N/6CFr/3+X/Gj+19N/6CFr/3+X/GgC3Wfr3/ACA7n/dH8xUv9r6b/wBBC1/7/L/jVDWtTsJdGuEivbd3KjCrKpJ5HvQBtUVU/tfTf+gha/8Af5f8aP7X03/oIWv/AH+X/GgDhfBmmtB4rgnTSrmzvY7W7j1m6ltXiW6maeMxHzGGJ+FkKspbapxxuxXotVP7X03/AKCFr/3+X/Gj+19N/wCgha/9/l/xoAi1n/j3tv8Ar7h/9DFaFYuranYSQW4jvbdyLqJiFlU4AcZPWr/9r6b/ANBC1/7/AC/40ATXQlazmW2IExjYRkno2OP1rhPh1p0dremWy0i60xP7Ltor8XFq8BnvAX3sdwHmuM/NKCwbI+Zscdr/AGvpv/QQtf8Av8v+NH9r6b/0ELX/AL/L/jQBbrP1L/j803/r5/8Aab1L/a+m/wDQQtf+/wAv+NUNQ1Owe608pe27BLjLESqdo2MMnn3oA2qx/FsN7ceDdYh0sSNeSWUqwrE212YocBTkYY9jkc45FXf7X03/AKCFr/3+X/Gj+19N/wCgha/9/l/xoA53wNZ2ltNq0miaXLpWkTTRm2tpLN7QbhGBIwhZVKgnAzgZKk89a62qn9r6b/0ELX/v8v8AjR/a+m/9BC1/7/L/AI0ARXX/ACHtP/65zfyWtCsW51OxbWrF1vbcoqShmEq4GduM81f/ALX03/oIWv8A3+X/ABoAluLqO1EZkWVvMcIPKheTBPrtBwPc8D1qOy1CG/UtAlwgCo37+2khOGUMOHUc4PI6qeDgjFJ/a+m/9BC1/wC/y/40f2vpv/QQtf8Av8v+NAFus/8A5mX/ALdP/Z6l/tfTf+gha/8Af5f8aof2nY/8JD5n2232fZdu7zVxnf0zmgDarmvHNutxpNmLqykv9NS+jbULWK3acyw4Yf6pQTIA5QlQDwDwcVtf2vpv/QQtf+/y/wCNH9r6b/0ELX/v8v8AjQBleB7V7LwlBC1vJbRefcvbQSoUaK3aeRoU2kApiIoNpAK4x2roKqf2vpv/AEELX/v8v+NH9r6b/wBBC1/7/L/jQAlh/wAh7Uf+ucP/ALPWpWPpU8NxrWovbypKmyEbkYMP4+4rYoAKKKKACiiigAooooAKKKKACsrxF/yC4f8Ar/s//SmOtWsrxF/yC4f+v+z/APSmOtKfxr1Jn8LNWiiisygooooAKKKKACiiigAooooAytI/5Cmu/wDX+v8A6TQVq1laR/yFNd/6/wBf/SaCtWtKm/yX5Ex2CiiisygooooAKKKKACiiigAooooAKKKKACiiigAooooAKKKKACiiigAooooAKKKKACiiigAooooAKKK87+IPinU7vVofAngiTGv36b7u7XldMtjjMrejkH5R179xkAy/E15cfFbxZL4L0OeWHw3pz/8AFQahCcee46WiH/0I/wCGD6lZ2dtp1jDZ2MCW9tboI4ooxhUUDAAFZnhPwtpvg3w1a6Lo8ey3gX5nblpXP3nY92J5/QcCl8U+KdK8HeH59Y124EFtCOAOWkbsijux9KAI/F3i7S/BXh6bV9alKxJ8sUSDMk8h+7Gg7sf/AK54rkvBvhTVPEOvR+OviDCF1Hb/AMSrSjzHpcR6Eg9ZT3Y8j2wAGeFPC2peLvEMPjrx/bGKWMZ0XRn5XT4z0kcd5Twefu/UAL6ZQAUUVx/jj4h2XhEwadaW76t4hvvlsdJtiDJIT/E39xOvzH0PoaANXxX4u0fwZor6nr10IYs7Y41G6Sd+yIvVmP8A+vArhNP8Ka38TtQg134jQPYaJEwk0/w0HOG9Jbn+83+z29uQdTwp8PrybWk8XfESePU/EZH+j26822mr/ciX+96t/wDrPoVADURIo1jjVURQFVVGAAOwFOoooAKKK4PxP8T4LHVX8PeD7JvEniTBBtLZv3Vt2zNJ0QD0zn6ZoA7DVtX0/QtMm1HWbyGys4RmSaZwqj/E+3U15s3inxh8S5Db+BLd/D/h5+JPEF9F++mXPP2eI+vZj+hq5pHwxvNb1KLXfinqC65qCHfb6ZGCthZH/ZT+Nv8Aab9cA16QqhVCqAABgADpQBzPg/4f6F4KhkbSoGlvrjm61G6fzLi4Pcs555POBgV0dxbw3dtJb3UUc0EqlJIpFDK6kYIIPBBHapKKAPKbrwn4g+F91Lqnw4jk1TQJH8y88MyOS0f957Vj0POSnf34A7nwl4y0XxtpJv8AQrkuEbZPBKuya3fukidVP6HsTW7XA+Lvhqb7V/8AhJ/BV6NA8URjm4Rf3N6P7k6Dhgf72MjrzgYAO+orhPB/xJGqaqfDXi+y/sDxVEPmspT+7uh/z0gc8OpweMkjB64Jru6AAjIwa8o1nQNS+FeuXPirwTavd+HblvN1rQYusR73FuOgIHJXpgemNvq9FAGdoGv6b4n0O21fQ7pLqyuV3RyJ+oI6gg8EHkGtGvKdf8O6r8M9auPFvgK1a60a4fzNa8PxDg+s8A/hcDqo64/Lopvi74Gt/Ddtrc3iG1FtdLuhjBLTMe6+UMtkHg8cGgA+IfgeTxNbW2raDOun+KNJbztNvcdSOsUnqjcgg9M9xkFfBvxH07xD4ZuLzWXi0XUNLbydXtLpxH9klHByWP3TgkH8OoNYf/CZePfGR2+B/DI0TT2Ixq/iAFGZeuUgHJ9icg1yni34JX9uo8ZTXsnjLxDayrPe2V7Ciw38SjBjSNRwwH3Rk5xjHQUAdlcfGCDVrp7H4caJe+K7tX2NPCvk2cR/2p3GPyHPrVf/AIQLxr4xAf4heK2sbN/vaP4fzChGfuvKfmYdiOnoa7HwRr+h+JfCNnqPhhYorF12i3jQIbdx96NlHCsD2/EZBBrfoAw/DXgvw74PtfI8OaTbWIxhpEXMj/7znLN+JrcoooAKKKKACiiigAooooAKKKKACiiigAooooAKKKKACiiigAooooAKKKKACiiigAooooAKKKKACiiigAooooAKKKKACiiigAooooAKKKKACiiigAooooAKKKKACiiigCIWluBgW8QH+4KPstv/AM8I/wDvgVLRQBF9lt/+eEf/AHwKPstv/wA8I/8AvgVLRQBF9ltz/wAsIv8AvgUfZbf/AJ4R/wDfAqWigCL7Lb/88I/++BR9lt/+eEf/AHwKlooAi+y2/wDzwj/74FH2W3/54Rf98CpaKAIvstv/AM8I/wDvgUfZbf8A54R/98CpaKAIvstv/wA8I/8AvgUfZbf/AJ4R/wDfAqWigCI2luetvEf+ACj7Lb/88I/++BUtFAEX2W3/AOeEf/fAo+y2/wDzwj/74FS0UARfZbf/AJ4R/wDfAo+yW5xm3i46fIKlooAi+y2//PCP/vgUfZbf/nhH/wB8CpaKAIvstv8A88I/++BR9lt/+eEf/fAqWigCL7Jb5z5EX/fAo+y2/wDzwj/74FS0UARfZbf/AJ4R/wDfAo+y2/8Azwj/AO+BUtFAEX2W3/54R/8AfAo+y2//ADwi/wC+BUtFAEX2W3/54R/98Cj7Lb/88I/++BUtFAEX2W3/AOeEf/fAo+y2/wDzwj/74FS0UAMSKOLPlxqmeu1QM0+iigAooooAKKKKACiiigAooooAKyvEX/ILh/6/7P8A9KY61ayvEX/ILh/6/wCz/wDSmOtKfxr1Jn8LNWiiisygooooAKKKKACiiigAooooAytI/wCQprv/AF/r/wCk0FatZWkf8hTXf+v9f/SaCtWtKm/yX5Ex2CiiisygooooAKKKKACiiigAooooAKKKKACiiigAooooAKKKKACiiigAooooAKKKKACiiigAoorE8XeK9O8F+GrnWdWfEUIxHEp+eaQ/djUdyT/j2oAy/iF43PhLTbe20y3+3+INUc2+l2K9ZJP77eiLnJP/AOul+H3ggeENJlm1Cf7fr+pN5+qag5y00p/hB/uLnAFZXw98KajPqlx468bRj/hIdSTbb2x5XTbbnbCv+0QcsffHrnste17TvDOh3Wr61crbWdqm+R2/QAdyTwB3JoAZ4j8RaZ4U0G41jXLlbe0t1yzHqx7Ko7sTwBXA+GPDOp+PPEdv448eW7QW8B36HoknItl7TSjvIeD7fkBH4b0DU/iR4gt/Gfji1a20q2bzNC0OXog7XEy93I5APT8q9WoAKKbJIkUbSSuqIgLMzHAUDqSa8q1DxXrnxP1KfQ/hzO9hoUEhi1HxJt+96x23qf8Ab7e3BIBq+KviDez60/hP4dW0eqeIMYublj/o2mL/AHpW7t6IOf5HT8EfD6y8Iie/uriTVvEF9zfatc8ySn+6v91BgYUegz0FavhTwlo/gzRI9M0K1EMQ+aSRuZJ37u7dWY//AFhgVtUAFFFIzKilnIVVGSScACgBaxfFHi/Q/Bulm/8AEWoRWcXOxWOXlP8AdRRyx+lcfqnxRutd1OXQvhXpy67fxtsuNTlJWwsj6s/8Z/2V69s9KveGPhfa6fqieIPFt4/iTxL1+3XQ+S3/ANmGPogHY9fpQBi7fGvxWGS134L8KSDKgYXUb1fU9olP4n6g13vhjwlofg7Sl0/w7p8VnAOXKjLyH+87Hlj9TWzRQAUUUUAFFFFABRRRQBz/AIw8E6L440oWWuW5LRHfbXULbJrZ+zxv1B4HscDINcVZeL9f+Gl3FpHxNkbUNGdhHZeKIozjrgJcqM7W/wBroff5iPRdZ17SfDtgb3XdRttPtx/y0uJAgJ9BnqfYc151qHxGvPHVrcaX4A8Hya/ZXC+VLqOrR+RYFT14b5pB7AA0AeopcQy2y3EcsbwMgkWVWBUqRncD0xjnNcLrnxg8P2F82maBHdeKNXB2/YtHj87af9px8qgd+SR6V5XqXwf8U+GNJtZ9TuLjxP4dilaW/wDDOl3M0KwqTn9yCxMij+6cH8yR7T8PL7whqHhaObwDFaQ6fnDw28QjaN8crIvUN9evqRigDmRpnxP8bZ/tm/t/BOlvjNrpzCe9de4M33UPuvPtWHqPwtX4X6rb+MfAmnNrQtkK6np95iaedCctNC5GVlHcD7w/I+10UAZHhfxRpPjHQINY0C6W5tJuM9GjYdUYdmHp9D0INa9eX+JvCereCfEVx42+HVsZxOd+taAnC3y95Yh2lHJ4689SSG7jwt4p0rxjoEOr6Fcedby8MrDDwuOqOv8ACw7j8RkEGgDgfFNhd/C7xPP458OwST+H75wfEOlwrkoc/wDH3Gv94fxDvyT6r6bp2oWmrabb6hptwlzaXMYkhmjOVdSMgip3RJY2jkVXRgVZWGQQexFeSQM/wT8Uraysx8BazcYgkY5/se5Yk7Cf+eTevY+nJYA9dopFYMoZSCCMgg9aWgAooooAKKKKACiiigAooooAKKKKACiiigAooooAKKKKACiiigAooooAKKKKACiiigAooooAKKKKACiiigAooooAKKKKACiiigAooooAKKKKACiiigAooooAKKKKACiiigAooooAKKKKACiiigAooooAKK5PxH4o8SWGpyWXhnwXda2YoxJJcSXsdpCSf4UZslm9cDA9ah8MfEzSvEPgnUfEVxBPpi6Q0qala3AzJbPEMuvvx0/LrxQB2VFeWSfF/WbPQoPE2p+A7y28LTBJBqC38UkyRPjZI0AGQDkfxd69RjdZY1kjOVYBlPqDQA6iuO8EeL77xNr3iyyvYbeKPRdUNnbmFWDOgHVsk5P0xXY0AFFFV9Qu/sGmXV4Lee5NvC8vkW6b5JdoJ2ovdjjAHc0AWKK80vfirrPh+8sJfGHge60bR7+4W3S/+3xztEzfd82NR8n/AH0fz4rc8XeOpdA1zT9A0TRZdc1zUI3mitEnWBEjXq7yNwo9ODnBoA6+iuN8I+PLjXfEN/4d1/QZ9B1uxhW4a3adZ45ImOA6SKADzweB+hx2VABRRRQAUVk2N9rE3iXVLS90hbbS7dYjY34uVc3RZcuDGOU2njnr1qbX9Ql0nw1qeo26o8tpaSzorg7SyIWAOO2RQBoUVh+CtauPEngbRtZvUijuL+zjnlSEEIGZQSACScfUmtygAooooAKKKKACiiigAooooAKKKKACiiigAooooAKKKKACsrxF/wAguH/r/s//AEpjrVrK8Rf8guH/AK/7P/0pjrSn8a9SZ/CzVooorMoKKKwfGfhCw8c+GZtD1aa6htZnR2a1kCPlWDAZIIxx6UAb1FYE/g7Trjx1ZeK3mvPt9lZNZRRib90UYkksuMlueufTOcDB4T8G6f4Oi1NNLmu5RqV9JfzfaZQ5WR8ZC8Djjvk+pNAG/RRRQAUUUUAZWkf8hTXf+v8AX/0mgrVrK0j/AJCmu/8AX+v/AKTQVq1pU3+S/ImOwUUUVmUFFFFABRRRQAUUUUAFFFFABRRRQAUUUUAFFFFABRRRQAUUUUAFFFFABRRRQAUUUE4GTQBBfX1tpmnz31/Olva28Zkllc4VFAySa8w8L2Nz8UfFcPjjXoJIvD9g3/FPafLkeYR1u3X1P8Pp+GTHqEknxk8WvpFo5HgjRbgfb50bjVbhcEQqe8anBJ7/AJGvTL+/03w5oct5fyw2On2UWWY/KsaKOAB+gAoANZ1mw8P6Pc6rrFylrZWqF5ZX6Af1J6ADkk4rzXQNI1H4q65b+LfF1rJa+HbV/M0TRZf+Wp7XMy9yR90entyyaPp978YNYg8R+JbaS18I2cnmaRpMwwb1h0uJh/d/ur3+n3vWQMDAoAKpavrGn6BpM+pazdxWdnbrukmlbAHt7k9AOpNZfjLxtpHgjSVvNXkd5Zm8u1s4F3zXUnZEXueR7CuO0XwTrHjrVrfxP8Uo1SKE79O8Nqcw2o7PN/fk9jwP0ABWFrrnxodZb8XWg+Bsgx2v3LrVgD95/wC5EfTv+RHqWnadZ6Tp8NhplrFaWkChIoYVCqg9ABVkDAwKKACioL2+tdNspbvULmK1toV3STTOEVB6kngV5pceOvEXxBmksPhXALbTlbZN4lvoiIh6iBCMyN7kY/Q0AdX4w8f6H4LhiXUpnnv7ji1021XzLi4bsFQc4z3PFcinhXxh8SpPO+IU50Lw+x3J4esJf3s47C4lHb/ZH6EV03g/4baN4Rml1DdNquuXPNzq9+3mTynvgn7i+w7YyTiuvoAqaXpVhommxafpFnDZ2kIxHDCgVV/Afzq3RRQAUUUUAFFFRXN1b2VtJcXk8dvBGpZ5ZXCqgHUkngCgCWivOL34yade3r6b4A0q98XagpAJsl2W0Z/252+UfUZHvVYeDvH/AIzXf448SroVhIvzaT4f+ViD2ec5JOOCBkGgDovFHxQ8KeEpvsuo6kLjUCcJp9kpnuGOM42L0P8AvYrnzqnxN8bqRounQ+CdLkUYvNSUTXrA91hHyocdm/A+nW+GPAnhnwdEV8O6Rb2kjZ3z43zPn+9I2WP0zXQ0AcBo/wAG/DdnqH9qeIGuvFGrHk3msyedj2WM/IB6cHHrXfKoVQqgAAYAA6UtFABXnvin4b3A1p/FXw8vV0PxJ1mQj/RdRH9yZB3/ANoc8564I9CooA4rwZ8R7fxDfyaDrtnJoXii1B+0aXcn74H8cLdJEIGcj9Rye1rmvGfgPR/G9jHHqSSQXtsS1lqNs2y4tH/vIw9wOOhx9DXJ6b451rwHqVv4f+KhR7WQiOx8TwqRBcHss4/5Zv79D9BuIB6jXmfivwnrHhbX5vG3w4gEt1L82r6GDtj1JB1dB/DMOTkdfckhvS0dZEV42DKwyrKcgj1paAMLwh4v0rxt4fi1bRJi0bHZLC4xJBIOsbr2Yfr1HBrR1bSbHXdIudM1a2S6s7qMxzQv0YH+R7gjkHmuB8XeDtV8Pa9N45+HES/2mwzqmj5xFqiDqQP4ZRyQR1PqSQ3WeDvGOleN9BTU9HkbGdk9vINsttIPvRuvZh+vUcUAcV4O1a9+HniaH4e+KriW4sLgn/hHNVm/5bRj/l2c/wB9eg9eBxlRXqdYXjLwhpvjfw1Po+rKwR8PDOnD28o+7Ih7EH8xkHg1zfw+8X6kdTufBPjhlTxPpqb0nAwmpW3RZ09+zD1/EKAeg0UUUAFFFFABRRRQAUUUUAFFFFABRRRQAUUUUAFFFFABRRRQAUUUUAFFFFABRRRQAUUUUAFFFFABRRRQAUUUUAFFFFABRRRQAUUUUAFFFFABRRRQAUUUUAFFFFABRRRQAUUUUAFFFFABRRRQAUUUUAYHjPxhp/grw++pagWkkZhFaWsYzJdTH7saDuSfyHNcZ4Z8PW/gv4ReIb74i7S+svcalrUSchDMMGJcHk4wOv3ieehq54o+Guu658QofFWm+L0sXtYfKs7W40pbpLXI+Zk3SABm/vYz2zitWLwXq2q+GtX0Tx34jXX7XUYljQw6elm0A5yRhm3HO0jPTb3zQB5HPpnjTT/hxYyeJYZr74fWzJPJpazp/aKWK7TEsrBQrKAASikEAAZAHH0LYXdtf6bbXlg6va3ESSwsowGRgCpH4EV5xJ8K/Et9oo8Pav8AEW8uvD/liF7ZNNijnkiGMI0+STwME4ye9ek2dpBYWMFnaRiOC3jWKJB0VVGAPyFAHiPgzwHovjLx18Qm8SrcXtpDrjqlj9oeOHcefMKqRuboAT07VlHT9Sk+G/iuwsrie7n8AeIjd6PLOSzrFDhvLLdThC/6ewHer8KtZ03Xtc1nwx42uNJvNZvXuJV+wpPCEYcKY2bllOSHBHXBFdL4R8G6d4I8L3Nibh7z7RLLd6heXWN1zI/33btjAxj0FAHH6pqlv8RfiJ4GsbBvM021tR4luR1wcbbdT6MGZjg16vXj/wCzz4ai0/w3qWvxtM8Op3TRacZ871somYRDnpkljj6V6lrVldajoV7Zafftp11cQPHFeIm9oGIwHAyMkdeooA828cS/8LM8YWfgfRGD6fpN5He69eL92LZnZbg93Y9fTHsRSfEpJ9S+JGg2Xgh5IvG1rbtcC5LgW8NkWCv54IJdS3AVRnJzxxUnhz4XeM/CekLpuhfEK1t7cO0jZ8PRs8jk5LuxlyzH1NbniL4e3mp+I7LxNoPiObRPEFvafY5rtLVJormLO4q8TED73IweOPQYAMD4eTXmn/EzWbDx3Cx8Y3tsJ472Nw1tPZo2FSAYBQKTyrfMTyTWp8br+ew+HYMVzNb28+oW0F4bdysz27yAOseOSxHYc4zWh4Z8BXOl+KJvE3iTX5vEGtSW32SOdrdLeKCHduKpGuQMnqSSf1rG+OX2r/hF9Ga0VrcQ61bzSaokDTHTAu4/aNi9cdOcjDH1FAHH6J4X8Ba58Z/D954A0uO607T7aSe/uIllEMMylTAdzY/e7gcjk46irXhzwRpPjf4p/EFPE3n3tjZ6jGYrHz3jj8xo8eYdhBLBVAHPGTVjRfGevv4w0Wz8PeOYvHdvdXQj1CBdJSEWkGPmm86MBQRxhT1Jr0Twz4NXw54m8S6wL43B166juDEYtvkbVK4zk7s5znAoA4XS9Rl0v4yfFu/i+d7PTrKdEY8Epa7gPz/nWPpnw40vV/grL4vv7y/k8T3ulS38urLduJCWRm8sjO0x4+UrjGM16bpvgWGx8d+KPEU139pj8Qw28Ulm0WBEIo/LPzZ+bcPYY965iD4O6jBos/hpPHGoDwq4cR6YtsglRWJPlm4zuKZPKgDI4zigDpfhV/ySPwv/ANguD/0AV1tZPhXQv+EZ8I6Xof2j7V/Z9qlv52zZ5m0YztycZ9MmtagAooooAKKKKACiiigAooooAKKKKACiiigAooooAKKKKACsrxF/yC4f+v8As/8A0pjrVrK8Rf8AILh/6/7P/wBKY60p/GvUmfws1aKKKzKCiiigAooooAKKKKACiiigDK0j/kKa7/1/r/6TQVq1laR/yFNd/wCv9f8A0mgrVrSpv8l+RMdgooorMoKKKKACiiigAooooAKKKKACiiigAooooAKKKKACiiigAooooAKKKKACiiigArzHx3ruoeLfEB+Hfg64MU0iBtc1OPkWFuf+WYI/5aP0x2B+pGt8RfGl3oiWmgeF4lu/FOsEx2UJPEC/xTv6Kvv1P0NXPB/hbTPhz4RlFzdI0xDXeqapcMAZ5eryOx7DnGeg98mgDTsbPRPAvhJLeDydN0jTIMlnbCoo5LMe5J5J6kmvPLGxu/jRrEOs63DNa+CLOTfp2nyAq2puOk8o/uf3V7/nlILS8+NmtJf6gstr4Cspd1pasCj6vIp/1jjqIgeg7/nj1uONIo1jiRURAFVVGAoHQAUAKiLGipGoVVGFVRgAelcZ40+IcPh68i0LQbU614ovB/o2mwnPl5/5aTH+BB1yev05GR4k8fanr2uTeEfhgsd1qUZ2X+ruCbbTB0POMPJ6LzyO+DjovBPgLTfBVnKYHkvtUuzvv9TuTumun7kk9Bnoo/U80AZng/4dPZasfFPjW5TWvFUw/wBeR+5sl/55wKfugf3up56ZOe8orO13xBpXhnSZdS16+hsbSL70srYyfQDqSfQcmgDRrifF3xP0zw5qA0XS7afX/Ecg/daTYDc495G5Ea9yTzjnFc//AGz41+KJMfhqKbwl4Xk66tcpi9u0I/5Yp/AD/ePqCD1Fdt4S8EaF4KsDb6HZhJJOZ7qQ75rhu7O55PP4egoA5Gz+HGreMb6LV/izdpdBG8y28P2jEWdt6b/+erepPHXqK9Kt7eG1t47e1ijhhiUJHHGoVUUdAAOAKkooAKKKKACignAya4bXfi94X0m/GmadNN4g1ZjhNP0aP7RIT7kfKPfJyKAO5rE8SeMvDvhG2E3iPV7WwDDKJI+ZH/3UGWb8BXF/Z/ij43UG7ntvAuluOYrci5vnU9i/3U47jkfy3PDnwo8KeG7z7elk2paqx3PqWpyG4nZvXLcA/QCgDD/4Tzxr4wKr8PfCpsrGQZGseIMwoQf4khHzMMcg9PUVNafCBNXnjvfiVrt54ru0yy20h8mziJ/uwpgH0yevpXpNFAFexsLTTLOO0061htLaMYSGCMIij2A4FWKKKACiiigAooooAKKKKACqupabZaxps+n6paxXdpcLslhmUMrj3FWqKAPJpNO8SfB5muNBS68R+ClO6XTC2+70xe5hJ+/GP7p5H/fTV6L4d8SaR4r0WLVfD99He2cvAdDyp7qwPKsMjg81qV5z4h+HV9pmuSeKvhjcQ6VrDnfeafJkWepDqQ6j7rn++O5PQkmgD0avN/GHgnVNJ8QN44+HKpHrQH/Ex0wnbDqsY6g9lkHZvX9dfwT8RrDxZLLpl7byaP4jsxi80e6OJIyOrIf409GHYjOMjPY0Ac/4N8Z6Z420T7fpheKWJvKu7OYbZrSUfejdeoIP51n/ABC8Dnxbp9vd6Xc/2d4h0t/P0vUF6xP3RvVG6Efoehy/GvgrVLXWz41+Hhjt/EMSYu7JziHVoh/A46Bx/C34E9CN/wAD+ONN8daIbyxWS2u7dvKvtPnGJrOUdUcHnqDg45x2IIABV+H3jj/hLtNnttTtv7O8Q6W/kapp79YpOzr6o3UH8Mnqevrzz4heEdRj1KHxz4GRU8S6amJYP4NTtx96FwOrY+6euQB/dI6bwd4u03xt4bg1jSGYI/yTQvxJbyj70bjsw/Xg9DQBu0UUUAFFFFABRRRQAUUUUAFFFFABRXmfxuvrq28OWFvbyPHFcXB83acbsLwD7c5x7e1cZ8Gru4i8dLbRyuIJoJPMjz8pwMg49cjrXpU8A54Z4jm2vp6HmVMwUMUsPy7219T3+ivGvjne3S6hplmsrrbGFpCgOAzbsZPrwB9M+9HwMvbptQ1OzaV2thCsgQnIVt2Mj04J+uPaj6g/qv1jm+XzsH9oL639W5fn8r7HstFeA/GW8uZfHLW0krmCGCPy48/KMjJOPXPeuy+CN7d3Phy/guJXkhguAIdxztyuSAfToce/vRUwDhhliObe2nqFPMFUxTw/LtfX0PTKKKK809MKKKKACiiigAooooAKKKKACiiigAooooAKKKKACiiigAooooAKKKKACiiigAooooAKKKKACiiigAooooAKKKKACiiigAooooAKKKKACiiigAooooAKKKKACiiigAooooAKKKKACiiigAooooAKKKKACiiigAooooAKKKKACiiigAooooAKKKKACiiigArK8Rf8guH/AK/7P/0pjrVrK8Rf8guH/r/s/wD0pjrSn8a9SZ/CzVooorMoKKKKACiiigAooooAKKKKAMrSP+Qprv8A1/r/AOk0FatZWkf8hTXf+v8AX/0mgrVrSpv8l+RMdgooorMoKKKKACiiigAooooA+ZviDfXV3491X7VK7eTctHGGJwiqcAAduBXs/wAKru4vPh7ZPdyNKyPJGrOcnaGOBn26fhWjq3gPw1rl+17qelJNctjdIsjoWx67SM/jW1Y2NtptjFZ2ECQW8I2pGgwFFetisbTrYeNKMbNW/I8jC4GrRxM6spXTv+Z8q6pf3l3rVxd3U8jXLTMxcscg57elfRGl6heSfCmLUJJGN4NKMgkP3iwjOG+vANPu/h14UvtQe9udHjaeRi7kSOoYnkkqGA/SujSCJLdYEjUQqmwRgfKFxjGPTFPGY6lXjBRjt/VhYLAVcPObnLf+rnyZDf3kF+t7DczLdK4cTBzv3eua+srd5JLWJ5l2SMgLrjGDjkVzcPw38JW98t3FosQlVt4zI5UH/cLbfwxXUVGYYynieXkVrF5dgqmF5ud3v2CiiivLPVCiiigAooooAKKKKACuc8ceM7LwR4cfUbtGuLmRhDZ2Uf8ArLqY8Kijr9T2FautazYeHtFutV1e4W2srSMySyt2A9B3J6ADkmvO/BumXfi7XP8AhZPjWMWlvFG39h6fOQFsrfqZ3zwHYDOew/DABqeAfClxoMV/4v8AG1xHJ4j1NPNvZ3bEdlCBkQISflVcc+pHtmufVLz43ayJJBLafD6xmyikFH1qVT1I6iEEfjj1+6jz3nxu1p7a2aa08AWMuJplyj6zIp+4p6iIHqe/1+76PrGtaH4I8Nm81OeDTdMs0CIANoAAwqIo6nsAKANBmtNL08ljDaWdtHySQiRIo/IAAV5dda5rnxduZdN8GzTaR4SRzHea7grNe4OGjtx2XsXP/wBYtttF174wXUeo+LobjRfB6sHtNF3lJr/uJJyOi9wv/wCs+r21tBZ2sVtaQxwQRKEjijUKqKOAAB0FAGd4c8NaT4T0SHSdBs0tbWIfdX7zt3Zj1Zj3JrVrnvF3jnQPA+ni68QXywmTiG3Qb5pz6Ig5P8vU1xX9meM/imRJrj3PhDws5yunQti+vF/6at/yzU/3Rz69jQBqa/8AFAS6s/h34e2Q8R68OJWjb/RLL/amlHHH90c8EcGmaD8LGuNVh8Q/EbUT4l1yPmGNxizs+c4ii6Z/2j14OAea7Lw/4b0jwrpMemeH9PhsbSPpHEv3j6sTyx9ySa06AADAwKKKKACiuX8U/Efwv4OYRazqkYvGIEdjbgy3Dk9AI1yefU4Fcv8A8JD8SfGy7fC+iReEdNfpqOtDfcsueqQDhTjs/B9aAPRNU1fTtDsWvNYvrextl6y3EoRfpk158/xcuvEUptvhl4ZvvEJ3bTqNwptrJPfe3LY9AAat6V8G9DS+XUvF11eeLdUBJ8/Vn3xpnskP3VHsc4r0CONIYljhRY40G1UUYCj0AoA8z/4Vp4h8WkS/E3xTNcQMSTo2jE21qAf4Wb78g+uPr69zoHhjRPC1l9k8PaXa6fD3EEYBb3ZurH3JNatFABRRRQAUUUUAFFFFABRRRQAUUUUAFFFFABRRRQAUUUUAcr41+H+l+NIYJp3m0/V7P5rHVbRtk9s3bBHVc/wn3xg81zmj/EDVfCWrQeG/issdvNKdlj4giG20vvZ+0UnqDx16DGfTapaxo2neINJn0zWrOK9srhdskMq5B9/YjqCOQeRQBdByMivPvGngXUBra+M/h/LHZeJoFxPA/EOqRD/llKP73Aw305GAVxdviT4M8x/avEvgZSPkJ33mkp7f89Ih/wCOgdsZPpmia7pniPSYdT0O9hvrKYZSaJsg+oPcEdweRQBk+CPHGn+NtKkmto5LO/tH8m/02fiazlHVWHpwcHHOOxBA5Dxhpd98OvE8/wAQPC1rJcadc/8AIx6XCf8AWKP+XqNem9eS3qMnjLGtTxz4DvrnVU8X+BJ10/xVaptYHiHUoxj9zMO/TAbtxyMArq+BfHVj450mb9w1jqlm3kalpdwMSWsnQgg9VODg9/qCAAdBpWq2OuaTbanpNzHdWd1GJIZozkMD/I9iOoPFW68im8z4J+KPPQO3gDWJ8SIoyNFuWP3gO0LHt0B/AN64jrIivGwZWGVZTkEetAC0UUUAFFFFABRRRQAUUUUAUdX0bT9dsDZavapdW5YNsbIwR3BHIP0qlofg7QfDczzaLpyW0si7Wk3s7Y9MsSQOK26K0VSajyJu3boZulTcudxV+/Uy9c8NaR4khji1uyS6WIkx5ZlK564KkHsPyo0Pw1pHhuGSLRLJLVZSDJhmYtjpksSe5/OtSij2k+Xku7dugeyhz8/Kr9+pia54O0DxJOk+taclzLGu1ZN7I2PTKkZ61d0jRtP0KwFlpFqlrbhi2xcnJPck8k/Wr1FDqTceRt27dAVKmpc6ir9+oUUUVmaBRRRQAUUUUAFFFFABRRRQAUUUUAFFFFABRRRQAUUUUAFFFFABRRRQAUUUUAFFFFABRRRQAUUUUAFFFFABRRRQAUUUUAFFFFABRRRQAUUUUAFFFFABRRRQAUUUUAFFFFABRRRQAUUUUAFFFFABRRRQAUUUUAFFFFABRRRQAUUUUAFFFFABRRRQAUUUUAFZXiL/AJBcP/X/AGf/AKUx1q1leIv+QXD/ANf9n/6Ux1pT+NepM/hZq0UUVmUFFFFABRRRQAUUUUAFFFFAGVpH/IU13/r/AF/9JoK1aytI/wCQprv/AF/r/wCk0FataVN/kvyJjsFFFFZlBRRRQAUUUUAFFFFABRRRQAUUUUAFFFFABRRRQAUUUUAFFFFABTZJEijaSV1REBZmY4CgdSTTq8q8X6pdfEbxPN4D8O3DQaPaYPiPU4mxtXr9mRum4/xegyD0IoAqxN/wuTxQdRu28vwDoUxaFJRtXVbhM5kbP/LJPfg/nh91d3fxp1eXS9KkltPAljLsvb1CVbVpFPMUZ7RDue9V2X/hZsyeEfB4bTPAOkkQX19bfJ9uK/8ALvCf7n95+/8APe8ReM7XwqbXwP8ADrS4dQ1/yhHb2EGBDYpj/WTH+EDOcdTn3yQDX8T+L9B+HGi2llFb+Zcuog03R7FMyznoqoo6D36fU8VieH/AWp+ItZg8VfFBkuL+M77DRUbda6cOxx0eT1Y5/QY0vBHw6Tw/eSa/4juzrfiq8X/SdQmAxF/0zhX+BB046+w4q34x+I2jeEHjs5PM1LWrjAttIsR5lxKT0+UfdX/aPvjNAHVSzR28LzTyLFFGpZ3dgFUDqST0FeaXvxK1bxbfzaP8JtPS/aNtlxr14Ctlbeu3vK3sOO/IqKLwP4n+IUyXnxQvPsOlBt8XhrT5CEPOR9okBy5/2Rx9ORXpljY2um2UVnp9tFa20KhY4YUCqg9ABQByHhP4ZadoGoNrWs3MviDxHLzLqt8Msp9I16Rr6AfnXbUVkeIfFeg+FLP7V4i1W10+Lt5z/M/+6o5b8AaANemTTRW8LzXEiRRRjc7uwVVHqSeleZn4j+KPF4aP4aeFZGtmGF1rW829uOfvJH9+QdemMdxUkXwjl164W8+JniK88SSBtwsEJtrKM9sRoctj1J57igCfUvjJoz3r6Z4Ls7vxdqikDydMTMKE9C8x+RR7jNU28L/EfxoWPivxFH4W01z/AMg3QjunK+j3B6HH93IOelei6bpWn6NZLZ6RY29jbJ92G3iEaj8BVugDmfC3w88L+DlLaHpUUdyxy95NmWdz3JkbJ59Bge1dNRRQAUUUUAFFFFABRRRQAUUUUAFFFFABRRRQAUUUUAFFFFABRRRQAUUUUAFFFFABXmet/D7VPDOrT+JfhVLHaXkzeZfaHM2LPUPUgf8ALOT0IwPpzn0yigDk/BPxD0vxmk9qscmm61Z/Le6Rd/LPbsOvH8S5I+YeozjOKzvHfgO71HUofFngu4TTvFliuEkI/dX0feCYdwcYB7cegIveNfh3p/i6SDUYJ5dI8QWXNlq9pxLEf7rf305OVPqcYyaxfD/xF1DRdYh8L/FOCHTNVf5bPVYziz1LnGVY8I/qpx+GQKANTwr4s0n4laBf6Vq2nm2v4VNtq+i3Y+eEkYP1Q9mH6Gud8Lald/C7xRB4F8SXLzaFesf+Ed1OZuV/6dJD6jI2nv0HUBd7xz4Am1jUIPE3hO6XSvFdiuILrH7u6T/njMP4kPTPUVQstR0X4xeE9R8M+J7FtO1m0+S/06Q/vrOYfdmjPdecqw4IODkHkA9Iorzr4f8AivU7PWJfAfjqQnX7FC9pevwuq2w+7Kp7uAPmHJ4J6hsei0AFFFFABRRRQAUUUUAFFFFABRRRQAUUUUAFFFFABRRRQAUUUUAFFFFABRRRQAUUUUAFFFFABRRRQAUUUUAFFFFABRRRQAUUUUAFFFFABRRRQAUUUUAFFFFABRRRQAUUUUAFFFFABRRRQAUUUUAFFFFABRRRQAUUUUAFFFFABRRRQAUUUUAFFFFABRRRQAUUUUAFFFFABRRRQAUUUUAFFFFABRRRQAUUUUAFZXiL/kFw/wDX/Z/+lMdatZXiL/kFw/8AX/Z/+lMdaU/jXqTP4WatFFFZlBRRRQAUUUUAFFFFABRRRQBlaR/yFNd/6/1/9JoK1aytI/5Cmu/9f6/+k0FataVN/kvyJjsFFFFZlBRRRQAUUUUAFFV72/tdNtWub6dIIV4LOep7AepPYDk1lCTWdaG63J0azP3XkiDXTj1Cn5Y/bcGPqBVKLeomzXury1sYTLe3MNvGOrzSBFH4msv/AISrT5f+PBLvUB/etLV5EP8AwPG39amtPDmmWs32hrcXV13uro+dKf8AgTZIHsMD2rUp+6hamN/b14f9X4a1Zx65t1/9ClFH/CQyp/x8aDq0I9fKjk/SN2NbNFHMuwWfcyYPFGjzTCF71badukN2rQSH6K4BP4VrAggEcg9DUc8ENzCYrmJJo26pIoYH8DWQfDSWjF/D91JpTZz5MY327fWI8D/gO0+9HuvyDVG3RWLDrctlcLa+IoUtJHIWK7jJ+zzE9Bk8o3+y3XsTW1UuLQ07hRRRSGFFFcn8QPG8fgzRYzbW7X+s6g/2fTNPjGWuJj04/ujgk/40AZXxD8Xagl9b+DPBbhvEuprlphyunW/8U7+hx90dz+APF6VoqeJbQ+APAVzLa+E7Bz/b+vof3mozHl4o27k/xN0AwOgAbD0yxvNVfVtNt9ZWJZW87xn4uMgC572du542qDtyOPwwD0uk6fe/EXS4NA8IQXHhj4c2q+UblVKXGqAHkJnlUPUseWyc55AANE+IZ9Xx4F+DEEVnY2A8i810Jut7Je6xf89ZDzz685Ocjr9B8O+Gvhj4bnma4jt0P72/1O9kHmXD9S8jnqSScD34rAv/ABvoPgjyPBnw90Q6zq0S7Y9L03Ajg/2ppOi89Scn19aNM+GV74j1CLXPivex6xdod9vpEORY2ftt/wCWjepbI+vFAFZ/Fvij4mO1r8O4pNG0E5WTxJeREPKOh+zxnBP+8cfgRXV+Dvh5ofgqOSXT4pLrUrgf6Vqd2/mXFwe5LnoPYYH8637u9sNG08z39zb2FnCoBkmdY40HYZOAK8+ufi//AGzcPZfDTw/e+KbheDdhfIs4jnHzSvjPrgdexoA9LrivEnxY8L+Hbo6fFcyaxq54j0zSo/tE7H0IXhfxIrFPw98W+Mf3nxG8VSQWj5zoug5ghx6PKfmceoP4Gu28OeEPD/hGz+y+HNJtrCMgBjEnzvjpuc/M34k0AcSJfin42yI47XwJpUi8PJi6vmB9uFTj15FbHh/4SeFtDvv7SubebW9WYgtqOryfaZiR0I3cL+AFdvRQAAYGBRRRQAUUUUAFFFFABRRRQAUUUUAFFFFABRRRQAUUUUAFFFFABRRRQAUUUUAFFFFABRRRQAUUUUAFFFFABWZ4g8O6V4q0WbSdeso7yzmHzRuOh7Mp6qw7EcitOigDyYX3iX4PSbNYe68SeCAQI77795pa9hIB/rIx/e6j24U6virwraePLKx8YeAdXhtfEFqm/T9Ut2zHOveGXH3kPIIIypzx1B9DZQylWAIIwQR1rzDVfAes+CdTm8Q/CkoI5X8y/wDDUzbba69Wh/55SfoeOw2kApGe3+L+hvp14h8OfEDw3J5qI3D2k4xiRDzvhfAz16jr8pPVfDzxxL4otLrTNdthp3ibSHEOp2J7H+GVPVGHIP8AMYJ5mf8Asb4tW8et+E7uTw/450MkKJ02XFqwJBhnT+KInI6Ecn/aU41xfX3jC+GraRbroXxS8MIVutLkOF1GAcsg5+eNs5U5+Ukc8q1AHuVFc94J8Y2Hjjw3FqlgrQSBjFdWkv8ArLWZfvRuPUH2GRg10NABRRRQAUUUUAFFFRXF1BaRGS6njgjHVpHCgfiaAJaKwpfG/hmFsNrdm3+5IH/lmiHxt4ZnICa3ZDP9+UJ/PFX7OfYnmj3N2io4LiG5jEltNHMh6NGwYH8RUlQUFFFFABRRRQAUUUUAFFFFABRRRQAUUUUAFFFFABRRRQAUUUUAFFFFABRRRQAUUUUAFFFFABRRRQAUUUUAFFFFABRRRQAUUUUAFFFFABRRRQAUUUUAFFFFABRRRQAUUUUAFFFFABRRRQAUUUUAFFFFABRRRQAUUUUAFFFFABRRRQAUUUUAFFFFABRRRQAUUUUAFZXiL/kFw/8AX/Z/+lMdatZXiL/kFw/9f9n/AOlMdaU/jXqTP4WatFFFZlBRRRQAUUUUAFFFFABRRRQBlaR/yFNd/wCv9f8A0mgrVrK0j/kKa7/1/r/6TQVq1pU3+S/ImOwUUUVmUFFFFABVXUdRg0yzNxc7iMhEjjXc8jngKo7kn/OKtVhWCjWtcl1SX5rWyd7exXsXHyyy/XOUB7AN/eqopbsTfYlsNLluLpdU1tUe8/5YQA7ks19F9XPd+/QYFbFFFJtsErBRRRSGFFFFABRRRQAyaCK5geG4iSWJxteORQysPQg9axI5JPDMyQXDNJo8jBIZmOWtGJwEc94yeA38PQ8YI3qjngiureS3uI1lhlUo6MMhlIwQapO2j2E0SUVjaDLJayXGi3TtJLY7TDI5y0sDZ2EnuRgqT3K571qXNzBZWkt1dypDBChkkkc4VFAyST2AFKSs7AndGf4m8S6b4R8PXWs61P5Nrbrk45Z27Ko7sTwBXy9feJ73xN4jv9e1y/bS2kHkXN2nztplu3Szth/FcuM7iORls4+aqfxG+JN/8UPHEFnoUdy+m20hTTraIHzJX7zY6Bj2J4Reetb/AIL0r7DfRQ+HrG18TeJrPhZNxGk6BnksZOksueSwzyOCcUhnTWmgafH4as9U+JKReGfBdgQ2l+GWY+ZcP1Elx/FJIeTsx9cc56WJ/GvxOjWGxjn8D+Evuh9oW/vI+wQdIVx36/UVy1jqXhfTvEov726vvij43A+RbGLzbazOeif8s41z/FyRjOBXZjRviZ41w2v6tD4M0xic2Oknzbxl9HnPCnvlPy9ADQ/tL4e/BvRV09bi107OD5CEy3Vwx/iKjLsT6nj6VnDxb8QPGyhfBfh5fDmnODjVdfX94w7GOAZOe4LZB/n0nhb4aeFfCD+fpWmLJfHl7+7PnXDnud7cjPtge1dXQB5xp/wZ0ue+i1Lxzql94v1GPkNqL4t0P+xAPlA9jkV6Hb28Npbx29rDHBDEoWOONQqoB0AA4AqSigAooooAKKKKACiiigAooooAKKKKACiiigAooooAKKKKACiiigAooooAKKKKACiiigAooooAKKKKACiiigAooooAKKKKACiiigAooooA4vxp8ObXxJeRa3o93Jofie0U/ZdVtQAx4xslXpInbB7e2QfPdXnl8SatZaP4xEfhD4j6cN2j63Ef9G1DH8Kv3Vs4MZ5BbjOSte7VkeJvC2j+MNFk0rxBZR3ds/IyMNG3ZkbqrD1H06UAeHQ+JNR0TxXeeJLXTTp/iawQDxZ4cT7uoW4/5fLfsxGd2R2JycElvedE1qw8RaJa6vo9wtzZXcfmRSr3HQg+hBBBHYgivBvHHhzXPCK2ja/e3V3Yac4Oj+L4I993pZ7RXSjmWE9C2D1PXO2srwH8Rm8B+Jplv4o7fR791k1K0tm3w20jHAvbbHBt343AfdPH90EA+naKZDNFcQRz28iSxSKHSRGDK6kZBBHUEd6fQAVV1LU7PSLF7vUZ1ghXA3N3J6ADqSewHNLqOoW2ladPfX0gjggQu7f0HqT0ArE0fS7jVLyPXvEMWLjrZWTHK2SHufWQjqe3QVcYq13sS30Q1ZPEPiH5oSdA09vus6B7uQeuDlY/xyfpVm38GaJDKJrm0/tC5/5737md8+vzZA/ACt2ijnfTQOVdSu9vDBaSrBFHGNh4RQO3tUFhbQXGi2YnhjlH2dOHQH+EetW7j/j1l/3D/KoNK/5A9l/17p/6CKL+6HUzJ/BeiySmaztm024P/LfT3MDZ99vB/EGq7XHiDw9814Drunr1lhjC3UQ9Sg+WQf7uD7Gumop87+1qHKuhW0/UbTVbJLvT50uIJPuuh/MH0Psas1zOradPol5Lr2gRFiTu1CwTgXK93UdpAP8Avroe1b9je2+o2MN5ZSrLBOgeN16EGlKKtdbAn0ZPRRRUFBRRRQAUUUUAFFFFABRRRQAUUUUAFFFFABRRRQAUUUUAFFFFABRRRQAUUUUAFFFFABRRRQAUUUUAFFFFABRRRQAUUUUAFFFFABRRRQAUUUUAFFFFABRRRQAUUUUAFFFFABRRRQAUUUUAFFFFABRRRQAUUUUAFFFFABRRRQAUUUUAFFFFABRRRQAVleIv+QXD/wBf9n/6Ux1q1leIv+QXD/1/2f8A6Ux1pT+NepM/hZq0UUVmUFFFFABRRRQAUUUUAFFFFAGVpH/IU13/AK/1/wDSaCtWsrSP+Qprv/X+v/pNBWrWlTf5L8iY7BRRRWZQUUUUAZ+v30mm+H767gGZo4WMQPdyMKP++iKm0yxj0zSrWxh5S3iWME9WwMZPuetUPFf/ACA1B6G9sw30+0x5/TNbNX9gn7QVR0/W9K1aW4j0rU7O+e2bZOttcJIYm9GCk7Tx0NO1bTY9Y0e606eaeGK6jMTvbybHCng4btxxmvDNd0mfwB8fbGz8A2trpy+J9INnGgULDBKrfNLs6EqiBgP4iSO5qCj3KLWtLn1eXSoNSs5NRhj8ySzSdTMiZA3FAdwGSOcdxV2uZ8O+BfDng5mv7C2WO9+zGK71GaQmS4G4uzysTgsWySx56DoAA7/hY/gj/ocvD/8A4NIP/iqAOkoqra6nYXumrqFle29xZOpdbmKVXjZR1IYHBHHWqem+KvD2sXj2mka9pl/cpndDa3kcrrjrlVJIoA1qKKq2Gp2GqwvLpd9bXsccjRO9vMsiq46qSpOCO460AWqKKKAMXVx9k8QaPfrxvleyl90kXcv/AI/Gg/4Ea+cv2gvi8NcvJPB/hu6A023fF/cxtkXEgP8Aqxjqqnr6n2GT7d8X9J1fXPh9Lp3h6+jsb64u7eNJHBAO6VVxuHKfeB3AE4BGOcjyfwl8C/GfhCYXKaP4I1e6VtyT6lLdSlPou0J+O3PvVPVIS3PPPAngXxT4ltvK8OeH5/7PnGJru5kNvHOM/wAcv3mTI5jj9skkZr3rQvgh5mnw23jbWGvbKFtyaJpa/ZLBD/tKuGkP+0xBPfPNaCz/ABpjUKNP8EkAYASW5GKX7b8ZxwdJ8HN7i5uKkZ3ekaJpegWCWWiafb2FsnSK3jCD6nHU+5q9Xm39o/GUf8wPwmfcXc3+FH9q/GIf8y54YPsL6X/CgD0mivNv7Z+MA6+FPDrew1Fx/Sj+3Pi8Ovg/QW9hqZH9KAPSaK82/wCEg+LY6+CNFb3GrY/pR/wknxZHB8A6U3uNZX/CgD0mivNh4o+K+Ofh1p//AIPI/wDCj/hLfioOT8M7RvYa/F/hQB6TRXm3/CY/FIdfhZC3sPEMA/8AZaP+E0+J69fhMrf7viS2GP8Ax2gD0mivNv8AhOPiWPvfCRgfbxFbH/2Wj/hO/iMPvfCWfPtr1uf6UAek0V5t/wAJ/wDEAfe+E95741m3P9KP+FheOh974U6jj21SA0Aek0V5t/wsbxoPvfCrVse1/CaP+Fk+Lh9/4Wa0PTbdQmgD0mivNv8AhZnigfe+Fuv59pYj/Wj/AIWf4kH3vhf4jz7GM/1oA9Jorzb/AIWnro6/DDxRj2jT/Gj/AIWvq4+98MvFuPa2Q/8As1AHpNFebf8AC2tSH3vhn4xx7WKn/wBmo/4W7eD73w18bZ9tMB/9noA9Jorzb/hcEw+98N/HefbSAf8A2ej/AIXJ/wBU4+IH/gj/APs6APSaK82/4XNCPveAfHaj1OiH/wCLo/4XTZj73gnxso9Top/+KoA9Jorzb/hdenD7/hDxknpu0Vuf/HqP+F26QPveGfFqn0OjP/jQB6TRXm3/AAu/Qx97QPFKn0Ojv/jR/wALy8Oj72keJF9c6RJxQB6TRXm3/C9PC4+9Ya+B6nSZf8KP+F7eER96DWlHqdKl/wAKAPSaK82/4Xx4MH3zqyem7S5uf/HaP+F9+BR9651FT6HTJ/8A4mgD0mivNv8AhfngEfe1C9U+h02f/wCIo/4X/wDDrvrNwB6nTrjj/wAcoA9Jorzb/hoH4aD73iJlHqdPuf8A43Sj9oH4YsePEw/GwuR/7ToA9IorzofH34ZsOPE6fjZ3A/8AadPHx4+GpGR4oh/G2n/+IoA9Corz8fHT4bHGPFNvz6wSj/2Snj43/DgnA8VWv4xyf/E0Ad7RXCj41/DonA8V2f4q/wD8TTh8Z/h23TxZYfiWH9KAO4orih8Yvh6w48Wad+MhH9KcPi98PyMjxbpn4zUAdjJGk0TxTIskbqVdGGQwPUEdxXgPxO+A88UEup/DyPMYZpX0c4/dkg7mgJ6Ajhoj8rA47KB6gPi14AOMeLtJ59blRTx8VfAROB4v0f8AG8T/ABoA8S+AnxefSdRTwR4rZ4LdpDFYSTkg2smceQ27kKTwueVPByDkfSlveW13v+y3EU/lkK/luG2kqGAOPZgfoRXzF+0dfeBtcsbDVfDNxpt9rDT7Lm6sbyMnywvAdAcuScYYDgKQTyBVr9k7XtupeINAlkJM0Ud5CpHTadjnP/Ao/wAqAPddTX+2vGFnpbc2mnIL65Xs8hJEKn6EM34CukrnfDX7/WvEd233m1AQfQRxIAP1P510VaT0suxMe5zHjjx9pHw/062vddju2guZvIQ20O/DYyAeRjOKzb74p2umafNfah4W8UW9rAhklmfTflRR1JO7pV34neE18a/DrVdHCg3DxebbE/wyp8y/mRj6E1ifCrVB8QfgpbW2tJKWa3k0y8Jypk2jYSD6lSOfXNZlHZaPrlr4l8K2+s6esq2t7bmWITJtbaQcZFWtK/5A9l/17p/6CKba6fb6ToMOnWKeXbWlsIYlznCquBz9BTtK/wCQPZf9e6f+gir+yT1LdFeL33iLxL8VvH2o+G/Buqy6H4c0Z/K1DVLcfvp5MkFEPbkEcemT2Fcvr3w80fRPjN4e8N6hquu3un63Zv8AvJNRbzUnUk7sjgggAYx3qCj6Qrm9FX+xvFN/oo4tblft9mvZMtiVB7BiGx/t1a8KeFdP8HaINL0l7l4BI0m65mMrlm6/MfpVfXx5Pinw1dLwzXMtsfcPCzfzjFaQ1uiZdzoqKq3uqafpuz+0b62tPMzs8+ZU3Y64yeeo/Oqn/CUaB/0HNN/8C4/8aShJq6QOUVuzVorK/wCEo0D/AKDmm/8AgXH/AI0f8JRoH/Qc03/wLj/xp+zn2Yc8e5q0VymsfETQ9Iu7SP7RHewz7t8tpMsnk4xjIB6HJ/LvXQabqtjq9qLjTLqO5iPdGzj2I6g+xpypVIxUpLRiU4t2TLdY2t+LtB8OMqazqcNtIwyI+XfHrtUE/pWzXgvw3Ka58Xr2613E1yEmlRZRn94GAxj2Utj0xWtCjGopSltFHRTgpJt9D1zRfG/hzxDc/Z9I1WKefGREytGx+gYAn8K3q8O+NMaaR4x0rVNMxb3rxeYzx8EsrfKx9+34V7TYXJvNNtrpl2maFJCB2yAf60VqMYQjUjswnBKKkupYooorlMgoormPiTq9zoXwz8QalYNsubexkMTjqjEYDD3Gc/hQBp/8JRoH9sf2T/bmm/2lu2/Y/tcfnZ9Nmd2fwrUrx/Ufhf4dg/Z/mhh0q0/tKDRzerfiJRO1ysXmb/M+9ywx16cdK9A8Bapca38O/D+pXzF7m606CSZz/E5Qbm/E5P40AaGra/o+gxpJrmrWOmpIcI15cpCG+hYjNXLa5gvLZLi0mjngkG5JYnDKw9QRwa8s8H6Jp3jH4j+ONb8S2FtqUlnqA0q0iu4llS3ijQZ2hhgbi2T+Pqag8B6hY+AvEHxL0q5f7LoOg3EF/DHnKwrPEZGRB2HyjCjufWgD1C51vSrPVLfTbvU7OC/uhmC1luEWWYf7KE5boeg7UaprelaHbi41rU7PToWOBJd3CxKT6ZYgV4hLo97J428EeL/EMTR6zr+tmTyWz/odqsLeTAM9CFO5umWY+lek+Orn4f6HeWmtePorHzijW9tLeW7T4A+YhVwwB56gZPSgDrLHULPVLNLvTbuC8tpPuTW8gkRvowODVivJvgZbW8kvizWdCjS28N6nqKvpdojriMKpDvsUnZuJHynBAXp0r1mgAooooAKKKKACiiigAooooAKKKKACiiigAooooAKKKKACiiigAooooAKKKKACiiigAooooAKKKKACiiigAooooAKKKKACiiigAooooAKKKKACiiigAooooAKKKKACiiigArK8Rf8AILh/6/7P/wBKY61ayvEX/ILh/wCv+z/9KY60p/GvUmfws1aKKKzKCqup6hBpGkXmpXjbbezgeeVvREUsT+Qq1WD47tJr/wCHXiOztULz3GlXUUaj+JmiYAfmaAPO7W/+J2t+A28dWXiGzsvMt3vrbQP7NSSJ4RkqjSk79zKAcjHJ7dvSfCHiKLxZ4O0vXYE8tb63WUx5zsboy574YEfhXI+EvEumxfs66fqz3EJtrLQlilJYEB4othQ++5cY960fg5YT6b8HfDdvdIUk+xiQqRggOxcfowoA7aiiigAooooAytI/5Cmu/wDX+v8A6TQVq1laR/yFNd/6/wBf/SaCtWtKm/yX5Ex2CiiisygooooAzPElrLeeGr6K2XdcCIyQj1kX5k/8eAq7ZXcV/YW95bndDcRLLGfVWGR+hqasLRmGlalcaHL8qZa4sSf4omOWQf7jHH+6y1a1jbsTsyHxj4ovfC9rYy6f4c1LX2urnyZItPTc0K7WO88YxuCjkgfMTnjB8t8eeDfE9tHonxAFjLqnimz1WK5urKy3S+Ta9raIAZYL0JA5Lu3SvdaKgo5vSLi/8XeHdQ/t3SptIs9QV4be1m+W6WBk2lpACQrkliFHQYzzmuH8c+CfCGlaHpfhTQfDGkDWNbcWFrcNYRPNDEAPOuCxXJKR5O7OdxFeuVxehaDql18Stb8UeILbyEhQado8JkV8W4O55vlJAMjY64YBcEUAYPxj8PtZ/CG1stG8uDS9HuLaS5tGkVBcWkfBiyxAJJ2nBPJXHU1jeOdT07xprfgbTvDkNzpOpR6nFeRXWoWUlj5duindHGZFXzGOVwqbgceldn8VfCGpeLvD+njRXia80vUodQS1nfbHdeXnMbHBxnPBPH55rJ8ZaL4i+I66Hpz+H5tAt7HUor+5vb25gdlEeflhETuSxz95tuMdPQA2/F+p3Wr6pF4L8PzvDeXcfm6lexHmwtCcEg9pHwVT05b+GuZ+AT2OneDdQ09JIbfdr15FawNJ8zBNvCgnLYUe/ArutY8HeGNRmudS1Hwnpeq3zJuZpbGCSacquFXc4GTgADcQOnIFcN8F/A8/huDUX8Q+DbfStRF9LPaXpFtI/kydI1eNiy7QCMcDB470AesUUUjMFUsxAAGSSelAGNrZ+06totgvJe5N1IPSOJSc/wDfxovzrarD0POp31zrrD91Oogss/8APBSTv/4G3P8AuhK3KuWmhMe4UUUVBQUUUUAFFFFABRRRQAUUUUAFFFFABRRRQAUUUUAFFFFABRRRQAUUUUAFFFFABRRRQAUUUUAFFFFABRRRQAUUUUAFFFFABRRRQAUhUMMMAfqKWigCMwQsctEh+qimmzticm2hJ94xU1FAFY6bYtnNnbnPXMS8/pTDpGmkYOn2pHvAv+FXKKAKJ0PSSMHS7Mj3t0/wph8PaK33tIsD9bZP8K0aKAMw+GdBb72iacfraR/4Uw+FPDpOToOmE+9nH/hWtRQBjHwd4ZbOfDuknPXNjFz/AOO0w+CfCpGD4Z0cj3sIv/ia3KKAOD8YfB7wp4t0iGwXTrTSVS5SZ5rCzjjkdQCCm4DgHP6Vt+FPAnhvwTZi38OaVDakjDzY3Syf7znk/wAq6GigDnfDp+z+IfEdi3UXaXS+6yRrz+aMPwroq5rXm/sTxBZeIOlq6/Yr8/3EZsxyH2Vjg+z+1dIQGUjsR2NaT1tImPY8s8aeNrDX/EUvguy8RWWj2UI/4nWpS3iROFP/AC7wliMuw4Zh90e9atv488LaNqnhzwd4Kax1E3cnkrDYXCtHaQIpZpGK5GeOh5JJOalf4KfDuWRnk8L2ruxLMzSSEknv96tDQfhl4N8L6smp6DoNvZXiKyLMjMSARg9SazKOmuP+PWX/AHD/ACqDTATotmAcH7OmD6fKKnuP+PWX/cP8qg0r/kD2X/Xun/oIq/sk9Tx/4C32m+F/DviDR/EF7bafrFpq0z3kd1KI224UK/zEZXg81Fosc3xQ/aAj8W2KufDPhyE29pdFSFupsNkpnqMuTn0Ueteu6j4b0PWLhJ9W0bT76ZPuyXNqkjL9CwNaEMMVvCsNvGkUSDCoihVUegAqCh9c7rZ+0+L/AA7aLyY5Jrt/ZVjKA/nJXQlgqlmIAAySe1c34cJ1jV77xG3+omAtbD3hQkl/+Bvk/QLWkNLyJl2Nu90vT9S2f2jY2135ednnwq+3PXGRx0H5VU/4RfQP+gHpv/gJH/hWrRSU5JWTBxi90ZX/AAi+gf8AQD03/wABI/8ACj/hF9A/6Aem/wDgJH/hWrRT9pPuw5I9jlNZ+Heiavd2ji3isoYN/mRWkKx+dnGMkDtg/nW/puk2Gj2ot9MtY7aPuEHJ+p6n8auUU5VqkoqMnohKEU7pBXG6v8L9C1XXW1iKa/02+Z/MaWxnEZL/AN7kHB+mK7KsTxJo2qazDBFpWvzaOqlvOMMKu0oOMfMSCuOenrRSnKMtJWNotp6Ox4n460G2ufiFaeH9Alub28YLHcXFzOZnaRjk7mPZVwT0xzX0FbW6WlpFbxZ8uFFRc9cAYFc94V8BaR4TZ57USXN9KD5l5cHc7Z649M//AKya6atsTXVRRhHZfiXUqc1kugUUUVyGIVh+NdBfxR4H1jRInWOW+tJIo3borkfKT7ZxW5RQB4tL4k8V6p8MT4HHgnXIfEU9h/Zc1zNBiyUFPLab7RnBG3JwMnPHPWu3iuL3wNZeDvDGm6Fd6vbOiWNzfQHCWaxoo8xxg8McnsODznAPZUUAeTWtzq3w08feJ5Ljw3rGs6Lr1yt/a3GkW5uWilK4kR0ByuSOD06fhDo3wzn8Z6d4m1Lxil9okniTUobtLa3lQTwwwDEKyZVlzySRg9u9ev0UAeJeMfhdqS+JvCQtPE/jHUom1FhPcyXSyGxXyz+8VhHhDnjJyOcV3us+LLzwldwWFx4Y1/WrAWyBNS0+IXbu4yGEiDDA8A7sYO7tiuwooA8t+GWh6i3j/wAUeLW0Sfw5pOrLDHbabcIscsjIOZnjH3CTnjOcs2fWvUqKKACiiigAooooAKKKKACiiigAooooAKKKKACiiigAooooAKKKKACiiigAooooAKKKKACiiigAooooAKKKKACiiigAooooAKKKKACiiigAooooAKKKKACiiigAooooAKKKKACsrxF/yC4f+v8As/8A0pjrVrK8Rf8AILh/6/7P/wBKY60p/GvUmfws1aKKKzKCiiigDi5fhB4Cn1htTl8N2zXDy+cy+ZIIWf8AvGLd5ZP/AAGu0AwMDgUUUAFFFFABRRRQBlaR/wAhTXf+v9f/AEmgrVrK0j/kKa7/ANf6/wDpNBWrWlTf5L8iY7BRRRWZQUUUUAFUdV0xdTgTbIbe5gfzLe4UZaJ+mcdwQSCO4JFXqKabTug3M3S9Ue5kkstQjW31GAZliByrr0EiHuh/MHg81pVS1LSbXVY0FyrLJEd0M8TFJIW9VYcj+R7g1ni/1TRwU1a3k1G3XpfWceXA/wBuIc590zn0FVZS2Jvbc3aKq2GpWWqQGbT7qK4QHDGNs7T6EdQfY1aqWmtygooopAFFFZd74hsbS5NpEZL29HW1tE8yQf72OEHuxAppN7CbS3NSsCZ28UO9tASujK22eYf8vhB5jT/Y7M3fkDuacdNvtcO7Xf8ARrI9NOhfO/8A66uPvf7i/L6lq2440ijWOJFREAVVUYCgdABVaR9RbiqoRQqAKqjAAGABS0UVBQUUUUAFFFFABRRRQAUUUUAFFFFABRRRQAUUUUAFFFFABRRRQAUUUUAFFFFABRRRQAUUUUAFFFFABRRRQAUUUUAFFFFABRRRQAUUUUAFFFFABRRRQAUUUUAFFFFABRRRQAUUUUAFFFFAEdxbxXdtJb3MaywyqUdGGQwIwQa5myvZfCU8el6zK0mluwSx1CQ52ekMp7EdFY8EdeevVVHPbw3Vu8FzEk0Mi7XjdQVYehBq4yto9iWuqJM56UVzQ0PVtC58M3aT2Y6abfMSqD0jl5ZR7HcPpTx4wjtPl13S9Q0th1doTNF+EkeRj64p8jfw6hzW3N64/wCPWX/cP8qg0r/kD2X/AF7p/wCgis0+L/DlxayeVrdhyhwGuFU9PQmobPxf4dtNItBPrViGWBAVWdWIO0cYFPkly2sLmV9zo6CQASTgDqTXOnxcLz5dB0m/1Nj0k8kwRfi8mOPoDTDoOp64d3im7RbXr/ZlkSI29pHOGf6cD2NLkt8Wg+a+xDdXUnjOZ9P0uRk0VG23l8hx9px1hiPcdmYfQV1EUUcEKRQoqRxqFRFGAoHAAoiijghSKCNY40G1UQYCj0Ap9KUr6LYErasKKKKgoKKKKACiiigAooooAKKKKACiiigAooooAKKKKACiiigAooooAKKKKACiiigAooooAKKKKACiiigAooooAKKKKACiiigAooooAKKKKACiiigAooooAKKKKACiiigAooooAKKKKACiiigAooooAKKKKACiiigAooooAKKKKACiiigAooooAKKKKACq99ZRahaNb3G8IWVwUbaysrBlIPqCAfwqxRTTad0G5lf2XqEf+p126I7CaGJ8fkoP60fY9bH3dXtj/v2Of5SCtWir9o/L7kTyoyvs2v8AbU9O/HTn/wDj1atFFS5N7jSsFFFFSMR9xRthAbHBIyAfpWX9n1/vqenfhpz/APx6tWiqUmthNXMr7HrZ+9q9sP8AcsSP5yGj+y9Rf/Xa7dD1EMMS/wA1Y1q0U/aPy+5C5UVbDT4tPjkWJ5JHmfzJZJX3M7YC5J+igcelWqKKltt3Y0rBRRRSGFFFFABRRRQAUUUUAZ19oGl6jP593Zxm4xgXCZjlA/31w361W/sK8t/+Qfr1/EvaO42XC/m43/8Aj1bVFVzS2FyoxvsfiRfu6zp7f9dNMcn9JhR/Z+vycTa7Ag/6d9PCn/x92rZop87/AKSFyoxf+EZgn51S+v8AUT3Wa4KIf+AR7VP4g1p2dja6fbC3sLaG2hXkRwoEX8hU9FJyb3GkkFFFFSMKKKKACiiigAooooAKKKKACiiigAooooAKKKKACiiigAooooAKKKKACiiigAooooAKKKKACiiigAooooAKKKKACiiigAooooAKKKKACiiigAooooAKKKKACiiigAooooAKKKKACiiigAooooAKKKKACiiigCCaws7ht09rBKfV4wf50Q2Npbtut7WGI+qRhf5VPRTuwCiiikAUUUUAFFFFABRRRQAUUUUAFFFFABRRRQAUUUUAFFFFABRRRQAUUUUAFFFFABRRRQAUUUUAFFFFABRRRQAUUUUAFFFFABRRRQAUUUUAFFFFABRRRQAUUUUAFFFFABRRRQAUUUUAFFFFABRRRQAUUUUAFFFFABRRRQAUUUUAFFFFABRRRQAUUUUAFFFFABRRRQAUUUUAFFFFABRRRQAUUUUAFFFFABRRRQAUUUUAFFFFABRRRQAUUUUAFFFFABRRRQAUUUUAFFFFABRRRQAUUUUAFFFFABRRRQAUUUUAFFFFABRRRQAUUUUAFFFFABRRRQAUUUUAFFFFABRRRQAUUUUAFFFFABRRRQAUUUUAFFFFABRRRQAUUUUAFFFFABRRRQAUUUUAFFFFABRRRQAUUUUAFFFFABRRRQAUUUUAFFFFABRRRQAUUUUAFFFFABRRRQAUUUUAFFFFABRRRQAUUUUAFFFFABRRRQAUUUUAFFFFABRRRQAUUUUAFFFFABRRRQAUUUUAFFFFABRRRQAUUUUAFFFFABRRRQAUUUUAFFFFABRRRQAUUUUAFFFFABRRRQAUUUUAFFFFABRRRQAUUUUAFFFFABRRRQAUUUUAFFFFABRRRQAUUUUAFFFFABRRRQAUUUUAFFFFABRRRQAUUUUAFFFFABRRRQAUUUUAFFFFABRRRQAUUUUAFFFFABRRRQAUUUUAFFFFABRRRQAUUUUAFFFFABRRRQAUUUUAFFFFABRRRQAUUUUAFFFFABRRRQAUUUUAFFFFABRRRQAUUUUAFFFFABRRRQAUUUUAFFFFABRRRQAUUUUAFFFFABRRRQAUUUUAFFFFABRRRQAUUUUAFFFFABRRRQAUUUUAFFFFABRRRQAUUUUAFFFFABRRRQAUUUUAFFFFABRRRQAUUUUAFFFFABRRRQAUUUUAFFFFABRRRQB//9k=)**"
      ],
      "metadata": {
        "id": "c5XGUeQ3Tc8V"
      }
    },
    {
      "cell_type": "code",
      "source": [
        "model = keras.Sequential([\n",
        "    keras.layers.Dense(10, input_shape=(784,), activation='sigmoid')\n",
        "])\n",
        "\n",
        "model.compile(optimizer='adam',\n",
        "              loss='sparse_categorical_crossentropy',\n",
        "              metrics=['accuracy'])\n",
        "\n",
        "model.fit(X_train_flattened, y_train, epochs=5)"
      ],
      "metadata": {
        "colab": {
          "base_uri": "https://localhost:8080/"
        },
        "id": "c4d3_m0jTM-v",
        "outputId": "422339c4-206a-4b69-bc4a-8ac45858bc5f"
      },
      "execution_count": 43,
      "outputs": [
        {
          "output_type": "stream",
          "name": "stderr",
          "text": [
            "/usr/local/lib/python3.11/dist-packages/keras/src/layers/core/dense.py:87: UserWarning: Do not pass an `input_shape`/`input_dim` argument to a layer. When using Sequential models, prefer using an `Input(shape)` object as the first layer in the model instead.\n",
            "  super().__init__(activity_regularizer=activity_regularizer, **kwargs)\n"
          ]
        },
        {
          "output_type": "stream",
          "name": "stdout",
          "text": [
            "Epoch 1/5\n",
            "\u001b[1m1875/1875\u001b[0m \u001b[32m━━━━━━━━━━━━━━━━━━━━\u001b[0m\u001b[37m\u001b[0m \u001b[1m4s\u001b[0m 2ms/step - accuracy: 0.8155 - loss: 0.7150\n",
            "Epoch 2/5\n",
            "\u001b[1m1875/1875\u001b[0m \u001b[32m━━━━━━━━━━━━━━━━━━━━\u001b[0m\u001b[37m\u001b[0m \u001b[1m4s\u001b[0m 1ms/step - accuracy: 0.9157 - loss: 0.3038\n",
            "Epoch 3/5\n",
            "\u001b[1m1875/1875\u001b[0m \u001b[32m━━━━━━━━━━━━━━━━━━━━\u001b[0m\u001b[37m\u001b[0m \u001b[1m3s\u001b[0m 1ms/step - accuracy: 0.9184 - loss: 0.2869\n",
            "Epoch 4/5\n",
            "\u001b[1m1875/1875\u001b[0m \u001b[32m━━━━━━━━━━━━━━━━━━━━\u001b[0m\u001b[37m\u001b[0m \u001b[1m6s\u001b[0m 2ms/step - accuracy: 0.9236 - loss: 0.2773\n",
            "Epoch 5/5\n",
            "\u001b[1m1875/1875\u001b[0m \u001b[32m━━━━━━━━━━━━━━━━━━━━\u001b[0m\u001b[37m\u001b[0m \u001b[1m4s\u001b[0m 1ms/step - accuracy: 0.9261 - loss: 0.2647\n"
          ]
        },
        {
          "output_type": "execute_result",
          "data": {
            "text/plain": [
              "<keras.src.callbacks.history.History at 0x7f0d18f79010>"
            ]
          },
          "metadata": {},
          "execution_count": 43
        }
      ]
    },
    {
      "cell_type": "code",
      "source": [
        "model.evaluate(X_test_flattened, y_test)"
      ],
      "metadata": {
        "colab": {
          "base_uri": "https://localhost:8080/"
        },
        "id": "m0vxpq0tUE06",
        "outputId": "04f5480a-3c28-46ff-f185-dbe77cb941ca"
      },
      "execution_count": 44,
      "outputs": [
        {
          "output_type": "stream",
          "name": "stdout",
          "text": [
            "\u001b[1m313/313\u001b[0m \u001b[32m━━━━━━━━━━━━━━━━━━━━\u001b[0m\u001b[37m\u001b[0m \u001b[1m1s\u001b[0m 1ms/step - accuracy: 0.9119 - loss: 0.3048\n"
          ]
        },
        {
          "output_type": "execute_result",
          "data": {
            "text/plain": [
              "[0.26844969391822815, 0.9240000247955322]"
            ]
          },
          "metadata": {},
          "execution_count": 44
        }
      ]
    },
    {
      "cell_type": "code",
      "source": [
        "y_predicted = model.predict(X_test_flattened)\n",
        "y_predicted[0]"
      ],
      "metadata": {
        "colab": {
          "base_uri": "https://localhost:8080/"
        },
        "id": "dTdA3JrFUGst",
        "outputId": "d2df3671-f260-4f18-a230-e236647aae46"
      },
      "execution_count": 45,
      "outputs": [
        {
          "output_type": "stream",
          "name": "stdout",
          "text": [
            "\u001b[1m313/313\u001b[0m \u001b[32m━━━━━━━━━━━━━━━━━━━━\u001b[0m\u001b[37m\u001b[0m \u001b[1m1s\u001b[0m 2ms/step\n"
          ]
        },
        {
          "output_type": "execute_result",
          "data": {
            "text/plain": [
              "array([3.5092182e-02, 6.0471081e-07, 9.0411440e-02, 9.7432572e-01,\n",
              "       2.1680472e-03, 1.6448829e-01, 2.9934499e-06, 9.9978304e-01,\n",
              "       1.0613960e-01, 7.1072698e-01], dtype=float32)"
            ]
          },
          "metadata": {},
          "execution_count": 45
        }
      ]
    },
    {
      "cell_type": "code",
      "source": [
        "plt.matshow(X_test[0])"
      ],
      "metadata": {
        "colab": {
          "base_uri": "https://localhost:8080/",
          "height": 455
        },
        "id": "B03WUkLHUKWN",
        "outputId": "92730d83-aebc-4ec1-bcc2-a41ab3beb668"
      },
      "execution_count": 46,
      "outputs": [
        {
          "output_type": "execute_result",
          "data": {
            "text/plain": [
              "<matplotlib.image.AxesImage at 0x7f0d18df9f90>"
            ]
          },
          "metadata": {},
          "execution_count": 46
        },
        {
          "output_type": "display_data",
          "data": {
            "text/plain": [
              "<Figure size 480x480 with 1 Axes>"
            ],
            "image/png": "[encoded data removed]"
          },
          "metadata": {}
        }
      ]
    },
    {
      "cell_type": "code",
      "source": [
        "np.argmax(y_predicted[0])"
      ],
      "metadata": {
        "colab": {
          "base_uri": "https://localhost:8080/"
        },
        "id": "TxJcSeS3UNmS",
        "outputId": "d6916ee3-ba7b-4004-f5b6-6919c7216bba"
      },
      "execution_count": 47,
      "outputs": [
        {
          "output_type": "execute_result",
          "data": {
            "text/plain": [
              "7"
            ]
          },
          "metadata": {},
          "execution_count": 47
        }
      ]
    },
    {
      "cell_type": "code",
      "source": [
        "y_predicted_labels = [np.argmax(i) for i in y_predicted]"
      ],
      "metadata": {
        "id": "kG37qk3UUQ-I"
      },
      "execution_count": 48,
      "outputs": []
    },
    {
      "cell_type": "code",
      "source": [
        "y_predicted_labels[:5]"
      ],
      "metadata": {
        "colab": {
          "base_uri": "https://localhost:8080/"
        },
        "id": "ZaWj6pnMUUGL",
        "outputId": "9a6528cc-e77d-460e-89db-fb519c090b02"
      },
      "execution_count": 49,
      "outputs": [
        {
          "output_type": "execute_result",
          "data": {
            "text/plain": [
              "[7, 2, 1, 0, 4]"
            ]
          },
          "metadata": {},
          "execution_count": 49
        }
      ]
    },
    {
      "cell_type": "code",
      "source": [
        "cm = tf.math.confusion_matrix(labels=y_test,predictions=y_predicted_labels)\n",
        "cm"
      ],
      "metadata": {
        "colab": {
          "base_uri": "https://localhost:8080/"
        },
        "id": "jWaZVznDUWm3",
        "outputId": "da8a0021-c673-4c82-a223-023701f9c8ef"
      },
      "execution_count": 50,
      "outputs": [
        {
          "output_type": "execute_result",
          "data": {
            "text/plain": [
              "<tf.Tensor: shape=(10, 10), dtype=int32, numpy=\n",
              "array([[ 963,    0,    1,    2,    0,    5,    6,    2,    1,    0],\n",
              "       [   0, 1118,    3,    2,    0,    1,    4,    2,    5,    0],\n",
              "       [   6,    9,  927,   17,    7,    6,   12,    9,   35,    4],\n",
              "       [   3,    0,   21,  925,    0,   26,    2,   10,   14,    9],\n",
              "       [   2,    1,    5,    2,  912,    0,    8,    4,    9,   39],\n",
              "       [   7,    3,    3,   32,    7,  793,   13,    2,   26,    6],\n",
              "       [  12,    3,    7,    1,    7,   18,  906,    2,    2,    0],\n",
              "       [   1,    8,   24,   10,    9,    1,    0,  933,    1,   41],\n",
              "       [  10,   13,    8,   26,    9,   40,    9,   10,  838,   11],\n",
              "       [  11,    7,    1,   12,   22,    9,    0,   18,    4,  925]],\n",
              "      dtype=int32)>"
            ]
          },
          "metadata": {},
          "execution_count": 50
        }
      ]
    },
    {
      "cell_type": "code",
      "source": [
        "import seaborn as sn\n",
        "plt.figure(figsize = (10,7))\n",
        "sn.heatmap(cm, annot=True, fmt='d')\n",
        "plt.xlabel('Predicted')\n",
        "plt.ylabel('Truth')"
      ],
      "metadata": {
        "colab": {
          "base_uri": "https://localhost:8080/",
          "height": 637
        },
        "id": "KtwOlJNuUlyt",
        "outputId": "0c2122c9-12b8-4450-98b7-504568130496"
      },
      "execution_count": 51,
      "outputs": [
        {
          "output_type": "execute_result",
          "data": {
            "text/plain": [
              "Text(95.72222222222221, 0.5, 'Truth')"
            ]
          },
          "metadata": {},
          "execution_count": 51
        },
        {
          "output_type": "display_data",
          "data": {
            "text/plain": [
              "<Figure size 1000x700 with 2 Axes>"
            ],
            "image/png": "[encoded data removed]"
          },
          "metadata": {}
        }
      ]
    },
    {
      "cell_type": "markdown",
      "source": [
        "**Using Flatten layer so that we don't have to call .reshape on input dataset**"
      ],
      "metadata": {
        "id": "DcxKzEj1VVu0"
      }
    },
    {
      "cell_type": "code",
      "source": [
        "model = keras.Sequential([\n",
        "    keras.layers.Flatten(input_shape=(28, 28)),\n",
        "    keras.layers.Dense(100, activation='relu'),\n",
        "    keras.layers.Dense(10, activation='sigmoid')\n",
        "])\n",
        "\n",
        "model.compile(optimizer='adam',\n",
        "              loss='sparse_categorical_crossentropy',\n",
        "              metrics=['accuracy'])\n",
        "\n",
        "model.fit(X_train, y_train, epochs=10)"
      ],
      "metadata": {
        "colab": {
          "base_uri": "https://localhost:8080/"
        },
        "id": "7SZEf-kdUtjz",
        "outputId": "bb21d296-c99b-40e3-ac39-c1f96a1ff042"
      },
      "execution_count": 52,
      "outputs": [
        {
          "output_type": "stream",
          "name": "stderr",
          "text": [
            "/usr/local/lib/python3.11/dist-packages/keras/src/layers/reshaping/flatten.py:37: UserWarning: Do not pass an `input_shape`/`input_dim` argument to a layer. When using Sequential models, prefer using an `Input(shape)` object as the first layer in the model instead.\n",
            "  super().__init__(**kwargs)\n"
          ]
        },
        {
          "output_type": "stream",
          "name": "stdout",
          "text": [
            "Epoch 1/10\n",
            "\u001b[1m1875/1875\u001b[0m \u001b[32m━━━━━━━━━━━━━━━━━━━━\u001b[0m\u001b[37m\u001b[0m \u001b[1m8s\u001b[0m 3ms/step - accuracy: 0.8719 - loss: 0.4488\n",
            "Epoch 2/10\n",
            "\u001b[1m1875/1875\u001b[0m \u001b[32m━━━━━━━━━━━━━━━━━━━━\u001b[0m\u001b[37m\u001b[0m \u001b[1m5s\u001b[0m 3ms/step - accuracy: 0.9624 - loss: 0.1287\n",
            "Epoch 3/10\n",
            "\u001b[1m1875/1875\u001b[0m \u001b[32m━━━━━━━━━━━━━━━━━━━━\u001b[0m\u001b[37m\u001b[0m \u001b[1m5s\u001b[0m 3ms/step - accuracy: 0.9732 - loss: 0.0880\n",
            "Epoch 4/10\n",
            "\u001b[1m1875/1875\u001b[0m \u001b[32m━━━━━━━━━━━━━━━━━━━━\u001b[0m\u001b[37m\u001b[0m \u001b[1m7s\u001b[0m 4ms/step - accuracy: 0.9811 - loss: 0.0641\n",
            "Epoch 5/10\n",
            "\u001b[1m1875/1875\u001b[0m \u001b[32m━━━━━━━━━━━━━━━━━━━━\u001b[0m\u001b[37m\u001b[0m \u001b[1m9s\u001b[0m 3ms/step - accuracy: 0.9852 - loss: 0.0509\n",
            "Epoch 6/10\n",
            "\u001b[1m1875/1875\u001b[0m \u001b[32m━━━━━━━━━━━━━━━━━━━━\u001b[0m\u001b[37m\u001b[0m \u001b[1m10s\u001b[0m 3ms/step - accuracy: 0.9889 - loss: 0.0380\n",
            "Epoch 7/10\n",
            "\u001b[1m1875/1875\u001b[0m \u001b[32m━━━━━━━━━━━━━━━━━━━━\u001b[0m\u001b[37m\u001b[0m \u001b[1m7s\u001b[0m 4ms/step - accuracy: 0.9901 - loss: 0.0327\n",
            "Epoch 8/10\n",
            "\u001b[1m1875/1875\u001b[0m \u001b[32m━━━━━━━━━━━━━━━━━━━━\u001b[0m\u001b[37m\u001b[0m \u001b[1m5s\u001b[0m 3ms/step - accuracy: 0.9921 - loss: 0.0264\n",
            "Epoch 9/10\n",
            "\u001b[1m1875/1875\u001b[0m \u001b[32m━━━━━━━━━━━━━━━━━━━━\u001b[0m\u001b[37m\u001b[0m \u001b[1m6s\u001b[0m 3ms/step - accuracy: 0.9936 - loss: 0.0210\n",
            "Epoch 10/10\n",
            "\u001b[1m1875/1875\u001b[0m \u001b[32m━━━━━━━━━━━━━━━━━━━━\u001b[0m\u001b[37m\u001b[0m \u001b[1m6s\u001b[0m 3ms/step - accuracy: 0.9951 - loss: 0.0172\n"
          ]
        },
        {
          "output_type": "execute_result",
          "data": {
            "text/plain": [
              "<keras.src.callbacks.history.History at 0x7f0d18805790>"
            ]
          },
          "metadata": {},
          "execution_count": 52
        }
      ]
    },
    {
      "cell_type": "code",
      "source": [
        "model.evaluate(X_test,y_test)"
      ],
      "metadata": {
        "colab": {
          "base_uri": "https://localhost:8080/"
        },
        "id": "G-jX3peBVuIX",
        "outputId": "e57dec9a-e884-4b64-9a8c-737a9421b4d5"
      },
      "execution_count": 53,
      "outputs": [
        {
          "output_type": "stream",
          "name": "stdout",
          "text": [
            "\u001b[1m313/313\u001b[0m \u001b[32m━━━━━━━━━━━━━━━━━━━━\u001b[0m\u001b[37m\u001b[0m \u001b[1m1s\u001b[0m 3ms/step - accuracy: 0.9695 - loss: 0.1087\n"
          ]
        },
        {
          "output_type": "execute_result",
          "data": {
            "text/plain": [
              "[0.09317412972450256, 0.9739999771118164]"
            ]
          },
          "metadata": {},
          "execution_count": 53
        }
      ]
    }
  ]
}